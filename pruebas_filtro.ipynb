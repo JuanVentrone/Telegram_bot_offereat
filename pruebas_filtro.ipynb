{
 "metadata": {
  "language_info": {
   "codemirror_mode": {
    "name": "ipython",
    "version": 3
   },
   "file_extension": ".py",
   "mimetype": "text/x-python",
   "name": "python",
   "nbconvert_exporter": "python",
   "pygments_lexer": "ipython3",
   "version": "3.7.3-final"
  },
  "orig_nbformat": 2,
  "kernelspec": {
   "name": "python37364bitbaseconda0e883509fb914b28935ee363f9f0181b",
   "display_name": "Python 3.7.3 64-bit ('base': conda)"
  }
 },
 "nbformat": 4,
 "nbformat_minor": 2,
 "cells": [
  {
   "cell_type": "code",
   "execution_count": 1,
   "metadata": {},
   "outputs": [],
   "source": [
    "import pandas as pd"
   ]
  },
  {
   "cell_type": "code",
   "execution_count": 2,
   "metadata": {
    "tags": []
   },
   "outputs": [],
   "source": [
    "data = pd.read_csv(\"ig_scrapper/database/uni data/data.csv\")"
   ]
  },
  {
   "cell_type": "code",
   "execution_count": 3,
   "metadata": {},
   "outputs": [
    {
     "output_type": "execute_result",
     "data": {
      "text/plain": "                timestamp             user name                user url  \\\n0    18 de agosto de 2020      clubhouseexpress      /clubhouseexpress/   \n1    18 de agosto de 2020      clubhouseexpress      /clubhouseexpress/   \n2    18 de agosto de 2020      clubhouseexpress      /clubhouseexpress/   \n3    18 de agosto de 2020      clubhouseexpress      /clubhouseexpress/   \n4    18 de agosto de 2020      clubhouseexpress      /clubhouseexpress/   \n..                    ...                   ...                     ...   \n538  28 de agosto de 2020        fratellos.vzla        /fratellos.vzla/   \n539  28 de agosto de 2020          telepizza041          /telepizza041/   \n540  28 de agosto de 2020          telepizza041          /telepizza041/   \n541  28 de agosto de 2020  escueladeparrilleros  /escueladeparrilleros/   \n542  28 de agosto de 2020        condulzura.val        /condulzura.val/   \n\n                                               img url  \\\n0    https://scontent-mia3-2.cdninstagram.com/v/t51...   \n1    https://scontent-mia3-1.cdninstagram.com/v/t51...   \n2    https://scontent-mia3-2.cdninstagram.com/v/t51...   \n3    https://scontent-mia3-2.cdninstagram.com/v/t51...   \n4    https://scontent-mia3-1.cdninstagram.com/v/t51...   \n..                                                 ...   \n538  https://scontent-mia3-2.cdninstagram.com/v/t51...   \n539  https://scontent-mia3-1.cdninstagram.com/v/t51...   \n540  https://scontent-mia3-2.cdninstagram.com/v/t51...   \n541  https://scontent-mia3-1.cdninstagram.com/v/t51...   \n542  https://scontent-mia3-1.cdninstagram.com/v/t51...   \n\n                                               content  \n0    ['Empezamos la semana de la mejor manera y que...  \n1    No puedes dejar de probar el único Club House ...  \n2    🌴Club House Los Roques🌴\\n⠀⠀⠀⠀⠀⠀⠀⠀⠀⠀⠀⠀⠀⠀⠀⠀⠀⠀⠀⠀⠀...  \n3    ⛰️ Bandeja Caracas ⛰️ \\n⠀⠀⠀⠀⠀⠀⠀⠀⠀⠀⠀⠀⠀⠀⠀⠀⠀⠀⠀⠀⠀⠀...  \n4                                                  NaN  \n..                                                 ...  \n538                                                 []  \n539  ['#pizza #foodvalencia #pizzavalencia #Telepiz...  \n540  ¡La felicidad viene en una caja cuadrada y en ...  \n541  ['¡Allá nos vemos!.Reposted from @delimarketva...  \n542  ['La mejor parte del postre es cuando lo compa...  \n\n[543 rows x 5 columns]",
      "text/html": "<div>\n<style scoped>\n    .dataframe tbody tr th:only-of-type {\n        vertical-align: middle;\n    }\n\n    .dataframe tbody tr th {\n        vertical-align: top;\n    }\n\n    .dataframe thead th {\n        text-align: right;\n    }\n</style>\n<table border=\"1\" class=\"dataframe\">\n  <thead>\n    <tr style=\"text-align: right;\">\n      <th></th>\n      <th>timestamp</th>\n      <th>user name</th>\n      <th>user url</th>\n      <th>img url</th>\n      <th>content</th>\n    </tr>\n  </thead>\n  <tbody>\n    <tr>\n      <th>0</th>\n      <td>18 de agosto de 2020</td>\n      <td>clubhouseexpress</td>\n      <td>/clubhouseexpress/</td>\n      <td>https://scontent-mia3-2.cdninstagram.com/v/t51...</td>\n      <td>['Empezamos la semana de la mejor manera y que...</td>\n    </tr>\n    <tr>\n      <th>1</th>\n      <td>18 de agosto de 2020</td>\n      <td>clubhouseexpress</td>\n      <td>/clubhouseexpress/</td>\n      <td>https://scontent-mia3-1.cdninstagram.com/v/t51...</td>\n      <td>No puedes dejar de probar el único Club House ...</td>\n    </tr>\n    <tr>\n      <th>2</th>\n      <td>18 de agosto de 2020</td>\n      <td>clubhouseexpress</td>\n      <td>/clubhouseexpress/</td>\n      <td>https://scontent-mia3-2.cdninstagram.com/v/t51...</td>\n      <td>🌴Club House Los Roques🌴\\n⠀⠀⠀⠀⠀⠀⠀⠀⠀⠀⠀⠀⠀⠀⠀⠀⠀⠀⠀⠀⠀...</td>\n    </tr>\n    <tr>\n      <th>3</th>\n      <td>18 de agosto de 2020</td>\n      <td>clubhouseexpress</td>\n      <td>/clubhouseexpress/</td>\n      <td>https://scontent-mia3-2.cdninstagram.com/v/t51...</td>\n      <td>⛰️ Bandeja Caracas ⛰️ \\n⠀⠀⠀⠀⠀⠀⠀⠀⠀⠀⠀⠀⠀⠀⠀⠀⠀⠀⠀⠀⠀⠀...</td>\n    </tr>\n    <tr>\n      <th>4</th>\n      <td>18 de agosto de 2020</td>\n      <td>clubhouseexpress</td>\n      <td>/clubhouseexpress/</td>\n      <td>https://scontent-mia3-1.cdninstagram.com/v/t51...</td>\n      <td>NaN</td>\n    </tr>\n    <tr>\n      <th>...</th>\n      <td>...</td>\n      <td>...</td>\n      <td>...</td>\n      <td>...</td>\n      <td>...</td>\n    </tr>\n    <tr>\n      <th>538</th>\n      <td>28 de agosto de 2020</td>\n      <td>fratellos.vzla</td>\n      <td>/fratellos.vzla/</td>\n      <td>https://scontent-mia3-2.cdninstagram.com/v/t51...</td>\n      <td>[]</td>\n    </tr>\n    <tr>\n      <th>539</th>\n      <td>28 de agosto de 2020</td>\n      <td>telepizza041</td>\n      <td>/telepizza041/</td>\n      <td>https://scontent-mia3-1.cdninstagram.com/v/t51...</td>\n      <td>['#pizza #foodvalencia #pizzavalencia #Telepiz...</td>\n    </tr>\n    <tr>\n      <th>540</th>\n      <td>28 de agosto de 2020</td>\n      <td>telepizza041</td>\n      <td>/telepizza041/</td>\n      <td>https://scontent-mia3-2.cdninstagram.com/v/t51...</td>\n      <td>¡La felicidad viene en una caja cuadrada y en ...</td>\n    </tr>\n    <tr>\n      <th>541</th>\n      <td>28 de agosto de 2020</td>\n      <td>escueladeparrilleros</td>\n      <td>/escueladeparrilleros/</td>\n      <td>https://scontent-mia3-1.cdninstagram.com/v/t51...</td>\n      <td>['¡Allá nos vemos!.Reposted from @delimarketva...</td>\n    </tr>\n    <tr>\n      <th>542</th>\n      <td>28 de agosto de 2020</td>\n      <td>condulzura.val</td>\n      <td>/condulzura.val/</td>\n      <td>https://scontent-mia3-1.cdninstagram.com/v/t51...</td>\n      <td>['La mejor parte del postre es cuando lo compa...</td>\n    </tr>\n  </tbody>\n</table>\n<p>543 rows × 5 columns</p>\n</div>"
     },
     "metadata": {},
     "execution_count": 3
    }
   ],
   "source": [
    "data.drop( data.columns[data.columns.str.contains('unnamed', case = False )], axis = 1, inplace = True )\n",
    "data"
   ]
  },
  {
   "cell_type": "code",
   "execution_count": 4,
   "metadata": {},
   "outputs": [
    {
     "output_type": "execute_result",
     "data": {
      "text/plain": "'🌴Club House Los Roques🌴\\n⠀⠀⠀⠀⠀⠀⠀⠀⠀⠀⠀⠀⠀⠀⠀⠀⠀⠀⠀⠀⠀⠀⠀⠀\\nNuestro Club Houses Los Roques es un paraíso de sabores por los que podrás navegar y zambullirte en esta exquisita experiencia...🤤🥺\\n⠀⠀⠀⠀⠀⠀⠀⠀⠀⠀⠀⠀⠀⠀⠀⠀⠀⠀⠀⠀⠀⠀⠀⠀\\nIngredientes:🥪\\n- Jamón de Pierna.🍖\\n- Queso mozzarella.🧀\\n- Mayonesa aguacate.🥑\\n- Lechuga.🥬\\n- Huevo al omelette con camarones.🍳\\n- Camarones rebozados.🍤\\n- Papas Fritas.🍟\\n⠀⠀⠀⠀⠀⠀⠀⠀⠀⠀⠀⠀⠀⠀⠀⠀⠀⠀⠀⠀⠀⠀⠀⠀\\nPara hacer tu pedido marca nuestro número...👇\\n⠀⠀⠀⠀⠀⠀⠀⠀⠀⠀⠀⠀⠀⠀⠀⠀⠀⠀⠀⠀⠀⠀⠀⠀\\n📱 DELIVERY PICK UP: 0424-437.0329\\n⠀⠀⠀⠀⠀⠀⠀⠀⠀⠀⠀⠀⠀⠀⠀⠀⠀⠀⠀⠀⠀⠀⠀⠀\\n⠀⠀⠀⠀⠀⠀⠀⠀⠀⠀⠀⠀⠀⠀⠀⠀⠀⠀⠀⠀⠀⠀⠀⠀\\n#clubhouseexpress #delivery #pickup #clubhouse #losroques #clubhousemerida #miercoles #valencia'"
     },
     "metadata": {},
     "execution_count": 4
    }
   ],
   "source": [
    "data['content'].iloc[2]"
   ]
  },
  {
   "cell_type": "code",
   "execution_count": 5,
   "metadata": {},
   "outputs": [
    {
     "output_type": "execute_result",
     "data": {
      "text/plain": "                                                                                    timestamp  \\\nuser name            content                                                                    \nclubhouseexpress     ['Empezamos la semana de la mejor manera y que ...  18 de agosto de 2020   \n                     No puedes dejar de probar el único Club House h...  18 de agosto de 2020   \n                     🌴Club House Los Roques🌴\\n⠀⠀⠀⠀⠀⠀⠀⠀⠀⠀⠀⠀⠀⠀⠀⠀⠀⠀⠀⠀⠀⠀...  18 de agosto de 2020   \n                     ⛰️ Bandeja Caracas ⛰️ \\n⠀⠀⠀⠀⠀⠀⠀⠀⠀⠀⠀⠀⠀⠀⠀⠀⠀⠀⠀⠀⠀⠀⠀...  18 de agosto de 2020   \n                     NaN                                                 18 de agosto de 2020   \n...                                                                                       ...   \nfratellos.vzla       []                                                  28 de agosto de 2020   \ntelepizza041         ['#pizza #foodvalencia #pizzavalencia #Telepizz...  28 de agosto de 2020   \n                     ¡La felicidad viene en una caja cuadrada y en p...  28 de agosto de 2020   \nescueladeparrilleros ['¡Allá nos vemos!.Reposted from @delimarketval...  28 de agosto de 2020   \ncondulzura.val       ['La mejor parte del postre es cuando lo compar...  28 de agosto de 2020   \n\n                                                                                       user url  \\\nuser name            content                                                                      \nclubhouseexpress     ['Empezamos la semana de la mejor manera y que ...      /clubhouseexpress/   \n                     No puedes dejar de probar el único Club House h...      /clubhouseexpress/   \n                     🌴Club House Los Roques🌴\\n⠀⠀⠀⠀⠀⠀⠀⠀⠀⠀⠀⠀⠀⠀⠀⠀⠀⠀⠀⠀⠀⠀...      /clubhouseexpress/   \n                     ⛰️ Bandeja Caracas ⛰️ \\n⠀⠀⠀⠀⠀⠀⠀⠀⠀⠀⠀⠀⠀⠀⠀⠀⠀⠀⠀⠀⠀⠀⠀...      /clubhouseexpress/   \n                     NaN                                                     /clubhouseexpress/   \n...                                                                                         ...   \nfratellos.vzla       []                                                        /fratellos.vzla/   \ntelepizza041         ['#pizza #foodvalencia #pizzavalencia #Telepizz...          /telepizza041/   \n                     ¡La felicidad viene en una caja cuadrada y en p...          /telepizza041/   \nescueladeparrilleros ['¡Allá nos vemos!.Reposted from @delimarketval...  /escueladeparrilleros/   \ncondulzura.val       ['La mejor parte del postre es cuando lo compar...        /condulzura.val/   \n\n                                                                                                                   img url  \nuser name            content                                                                                                \nclubhouseexpress     ['Empezamos la semana de la mejor manera y que ...  https://scontent-mia3-2.cdninstagram.com/v/t51...  \n                     No puedes dejar de probar el único Club House h...  https://scontent-mia3-1.cdninstagram.com/v/t51...  \n                     🌴Club House Los Roques🌴\\n⠀⠀⠀⠀⠀⠀⠀⠀⠀⠀⠀⠀⠀⠀⠀⠀⠀⠀⠀⠀⠀⠀...  https://scontent-mia3-2.cdninstagram.com/v/t51...  \n                     ⛰️ Bandeja Caracas ⛰️ \\n⠀⠀⠀⠀⠀⠀⠀⠀⠀⠀⠀⠀⠀⠀⠀⠀⠀⠀⠀⠀⠀⠀⠀...  https://scontent-mia3-2.cdninstagram.com/v/t51...  \n                     NaN                                                 https://scontent-mia3-1.cdninstagram.com/v/t51...  \n...                                                                                                                    ...  \nfratellos.vzla       []                                                  https://scontent-mia3-2.cdninstagram.com/v/t51...  \ntelepizza041         ['#pizza #foodvalencia #pizzavalencia #Telepizz...  https://scontent-mia3-1.cdninstagram.com/v/t51...  \n                     ¡La felicidad viene en una caja cuadrada y en p...  https://scontent-mia3-2.cdninstagram.com/v/t51...  \nescueladeparrilleros ['¡Allá nos vemos!.Reposted from @delimarketval...  https://scontent-mia3-1.cdninstagram.com/v/t51...  \ncondulzura.val       ['La mejor parte del postre es cuando lo compar...  https://scontent-mia3-1.cdninstagram.com/v/t51...  \n\n[543 rows x 3 columns]",
      "text/html": "<div>\n<style scoped>\n    .dataframe tbody tr th:only-of-type {\n        vertical-align: middle;\n    }\n\n    .dataframe tbody tr th {\n        vertical-align: top;\n    }\n\n    .dataframe thead th {\n        text-align: right;\n    }\n</style>\n<table border=\"1\" class=\"dataframe\">\n  <thead>\n    <tr style=\"text-align: right;\">\n      <th></th>\n      <th></th>\n      <th>timestamp</th>\n      <th>user url</th>\n      <th>img url</th>\n    </tr>\n    <tr>\n      <th>user name</th>\n      <th>content</th>\n      <th></th>\n      <th></th>\n      <th></th>\n    </tr>\n  </thead>\n  <tbody>\n    <tr>\n      <th rowspan=\"5\" valign=\"top\">clubhouseexpress</th>\n      <th>['Empezamos la semana de la mejor manera y que mejor que disfrutando en nuestras casas una de estás Bandejas como lo es la Barquisimeto...🤤🥺🤭😳🔸1 Club Houses.🔸Papas Fritas. 🔸6Tequeños.🔸10 Alitas.⠀⠀⠀⠀⠀⠀⠀⠀⠀⠀⠀⠀⠀⠀⠀⠀⠀⠀⠀⠀⠀⠀⠀⠀Para hacer tu pedido marca nuestro número...👇⠀⠀⠀⠀⠀⠀⠀⠀⠀⠀⠀⠀⠀⠀⠀⠀⠀⠀⠀⠀⠀⠀⠀⠀📱 DELIVERY: 0424-437.0329⠀⠀⠀⠀⠀⠀⠀⠀⠀⠀⠀⠀⠀⠀⠀⠀⠀⠀⠀⠀⠀⠀⠀⠀#clubhouse #delivery #pickup #papasfritas #tequeños #alitas #deliveryvalencia #comidarapida #barquisimeto #alitas #alitasagridulce #alitasbbq #alitas🍗']</th>\n      <td>18 de agosto de 2020</td>\n      <td>/clubhouseexpress/</td>\n      <td>https://scontent-mia3-2.cdninstagram.com/v/t51...</td>\n    </tr>\n    <tr>\n      <th>No puedes dejar de probar el único Club House hecho con pan de tequeño en el mundo, está innovación ha dado mucho de que hablar y queremos saber tu opinión... 🤭👇\\n⠀⠀⠀⠀⠀⠀⠀⠀⠀⠀⠀⠀⠀⠀⠀⠀⠀⠀⠀⠀⠀⠀⠀⠀\\n• Jamon de pierna.\\n• Queso amarillo.\\n• Huevo.\\n• Lechuga.\\n• Papás Fritas.\\n⠀⠀⠀⠀⠀⠀⠀⠀⠀⠀⠀⠀⠀⠀⠀⠀⠀⠀⠀⠀⠀⠀⠀⠀\\nSolo queda degustarlo y saborear su delicioso sabor.🤤\\n⠀⠀⠀⠀⠀⠀⠀⠀⠀⠀⠀⠀⠀⠀⠀⠀⠀⠀⠀⠀⠀⠀⠀⠀\\n📱 DELIVERY: 0424-437.0329\\n⠀⠀⠀⠀⠀⠀⠀⠀⠀⠀⠀⠀⠀⠀⠀⠀⠀⠀⠀⠀⠀⠀⠀⠀\\n#clubhouse #delivery #tequeños #losteques #pandetequeño #venezuela #emprendedores #emprendimiento #innovacion</th>\n      <td>18 de agosto de 2020</td>\n      <td>/clubhouseexpress/</td>\n      <td>https://scontent-mia3-1.cdninstagram.com/v/t51...</td>\n    </tr>\n    <tr>\n      <th>🌴Club House Los Roques🌴\\n⠀⠀⠀⠀⠀⠀⠀⠀⠀⠀⠀⠀⠀⠀⠀⠀⠀⠀⠀⠀⠀⠀⠀⠀\\nNuestro Club Houses Los Roques es un paraíso de sabores por los que podrás navegar y zambullirte en esta exquisita experiencia...🤤🥺\\n⠀⠀⠀⠀⠀⠀⠀⠀⠀⠀⠀⠀⠀⠀⠀⠀⠀⠀⠀⠀⠀⠀⠀⠀\\nIngredientes:🥪\\n- Jamón de Pierna.🍖\\n- Queso mozzarella.🧀\\n- Mayonesa aguacate.🥑\\n- Lechuga.🥬\\n- Huevo al omelette con camarones.🍳\\n- Camarones rebozados.🍤\\n- Papas Fritas.🍟\\n⠀⠀⠀⠀⠀⠀⠀⠀⠀⠀⠀⠀⠀⠀⠀⠀⠀⠀⠀⠀⠀⠀⠀⠀\\nPara hacer tu pedido marca nuestro número...👇\\n⠀⠀⠀⠀⠀⠀⠀⠀⠀⠀⠀⠀⠀⠀⠀⠀⠀⠀⠀⠀⠀⠀⠀⠀\\n📱 DELIVERY PICK UP: 0424-437.0329\\n⠀⠀⠀⠀⠀⠀⠀⠀⠀⠀⠀⠀⠀⠀⠀⠀⠀⠀⠀⠀⠀⠀⠀⠀\\n⠀⠀⠀⠀⠀⠀⠀⠀⠀⠀⠀⠀⠀⠀⠀⠀⠀⠀⠀⠀⠀⠀⠀⠀\\n#clubhouseexpress #delivery #pickup #clubhouse #losroques #clubhousemerida #miercoles #valencia</th>\n      <td>18 de agosto de 2020</td>\n      <td>/clubhouseexpress/</td>\n      <td>https://scontent-mia3-2.cdninstagram.com/v/t51...</td>\n    </tr>\n    <tr>\n      <th>⛰️ Bandeja Caracas ⛰️ \\n⠀⠀⠀⠀⠀⠀⠀⠀⠀⠀⠀⠀⠀⠀⠀⠀⠀⠀⠀⠀⠀⠀⠀⠀\\nNuestra increíble Bandeja Caracas reluce hoy en nuestro feed, y es que es una de las favoritas de nuestros distinguidos clientes, miremos que contiene . 😮🤤\\n⠀⠀⠀⠀⠀⠀⠀⠀⠀⠀⠀⠀⠀⠀⠀⠀⠀⠀⠀⠀⠀⠀⠀⠀\\nContenido:\\n- 2 Club Houses.\\n- 12 Tequeños.\\n- 20 Alitas.\\n- Papás fritas.\\n⠀⠀⠀⠀⠀⠀⠀⠀⠀⠀⠀⠀⠀⠀⠀⠀⠀⠀⠀⠀⠀⠀⠀⠀\\nPara hacer tu pedido marca nuestro número...👇\\n⠀⠀⠀⠀⠀⠀⠀⠀⠀⠀⠀⠀⠀⠀⠀⠀⠀⠀⠀⠀⠀⠀⠀⠀\\n📱 DELIVERY PICK UP: 0424-437.0329\\n⠀⠀⠀⠀⠀⠀⠀⠀⠀⠀⠀⠀⠀⠀⠀⠀⠀⠀⠀⠀⠀⠀⠀⠀\\n⠀⠀⠀⠀⠀⠀⠀⠀⠀⠀⠀⠀⠀⠀⠀⠀⠀⠀⠀⠀⠀⠀⠀⠀\\n#clubhouseexpress #delivery #pickup #clubhouse #bandejacaracas #caracas  #valencia</th>\n      <td>18 de agosto de 2020</td>\n      <td>/clubhouseexpress/</td>\n      <td>https://scontent-mia3-2.cdninstagram.com/v/t51...</td>\n    </tr>\n    <tr>\n      <th>NaN</th>\n      <td>18 de agosto de 2020</td>\n      <td>/clubhouseexpress/</td>\n      <td>https://scontent-mia3-1.cdninstagram.com/v/t51...</td>\n    </tr>\n    <tr>\n      <th>...</th>\n      <th>...</th>\n      <td>...</td>\n      <td>...</td>\n      <td>...</td>\n    </tr>\n    <tr>\n      <th>fratellos.vzla</th>\n      <th>[]</th>\n      <td>28 de agosto de 2020</td>\n      <td>/fratellos.vzla/</td>\n      <td>https://scontent-mia3-2.cdninstagram.com/v/t51...</td>\n    </tr>\n    <tr>\n      <th rowspan=\"2\" valign=\"top\">telepizza041</th>\n      <th>['#pizza #foodvalencia #pizzavalencia #Telepizza #gourmet #valenciagourmet #deliveryvalencia #deliveryvenezuela#fastfood #ComidaRapidaValencia #sandiego #valencia #naguanagua #delivery #pizza #venezuela #pizzalover  #dinner #almuerzo #cenna #sinfiltro #picsart #instafood #food #sunday #findesemana #promfood']</th>\n      <td>28 de agosto de 2020</td>\n      <td>/telepizza041/</td>\n      <td>https://scontent-mia3-1.cdninstagram.com/v/t51...</td>\n    </tr>\n    <tr>\n      <th>¡La felicidad viene en una caja cuadrada y en pedazos triangulares!\\n¿Tú crees que ella se ve feliz? \\n¡Cuéntanos!\\n•\\n•\\n•\\nPídenos ahora a través de @ochotelolleva \\n📲: +58 4144205599</th>\n      <td>28 de agosto de 2020</td>\n      <td>/telepizza041/</td>\n      <td>https://scontent-mia3-2.cdninstagram.com/v/t51...</td>\n    </tr>\n    <tr>\n      <th>escueladeparrilleros</th>\n      <th>['¡Allá nos vemos!.Reposted from @delimarketval ¡Alístate para comer como la realeza 😎! Acércate a #DeliMarket y retira tu porción de lechón para dos (2) personas a $10 🔥El lechón lo tendremos en $7 el kg por si lo prefieres aparte 😎Desde las 12 pm de este sábado @carrasquerock estará activo frente a la parrilla ☝📍 Te esperamos en el CC EuroCenter, antes de subir el elevando de Los Colorados. Recuerda que nuestro #Pickup también estará activo para atenderte 🛒-Trabajamos de lunes a lunes de 8 am a 4 pm. Los domingos abrimos a las 9 am 📩 Escríbenos al 0424-4192918 o al privado y rápido te atendemos.#Valencia #Venezuela #Carabobo #Bodegon #Comida #SanDiegoCarabobo #ValenciaCarabobo #Eltrigal #Prebo #Mañongo #Guataparo #ElParral #LaTrigaleña #Laviña #DeliveryValencia - #regrann']</th>\n      <td>28 de agosto de 2020</td>\n      <td>/escueladeparrilleros/</td>\n      <td>https://scontent-mia3-1.cdninstagram.com/v/t51...</td>\n    </tr>\n    <tr>\n      <th>condulzura.val</th>\n      <th>['La mejor parte del postre es cuando lo comparto contigo!💗😍.y tú, ¿Con quién compartes tu postre? Etiquétalo☺️👇.No olvides que estamos de promoción‼️😏.Puedes realizar tu pedido tu pedido al dm📩 o al link de nuestro perfil📲.¡Feliz fin de semana!.#condulzuralovers#marquesas#chocolate#postres#deliveryvalencia#valencia#venezuela']</th>\n      <td>28 de agosto de 2020</td>\n      <td>/condulzura.val/</td>\n      <td>https://scontent-mia3-1.cdninstagram.com/v/t51...</td>\n    </tr>\n  </tbody>\n</table>\n<p>543 rows × 3 columns</p>\n</div>"
     },
     "metadata": {},
     "execution_count": 5
    }
   ],
   "source": [
    "data_group = data.set_index(['user name','content'])\n",
    "data_group"
   ]
  },
  {
   "cell_type": "code",
   "execution_count": 6,
   "metadata": {},
   "outputs": [],
   "source": [
    "data_group_2 = data.groupby('user name')[['content']].sum()"
   ]
  },
  {
   "cell_type": "code",
   "execution_count": 7,
   "metadata": {},
   "outputs": [
    {
     "output_type": "execute_result",
     "data": {
      "text/plain": "\"['Día de sorprender a los tuyos con un almuerzo diferente ¡ #Polloagridulce, aquí te dejamos la receta👌🏼👨🏻\\\\u200d🍳!Para el pollo necesitamos:1 suprema de pollo (cortada en dados)1 cucharada vinagre de arrozSal y pimienta blanca (al gusto)1 cuchara Salsa de soyaPara el agridulce:6 cucharadas azúcar6 cucharadas agua6 cucharadas vinagre blanco1 cucharada concentrado de tomate1/2 cucharada salsa Inglesa1 cucharada maicena,1 pizca salPara el rebozado:350 gramos harina150 gramos maicena1 huevo10 gramos polvo para hornearal gusto SalY agua fría la necesariaPreparación 🥘:1.- Primero cortamos el pollo. Y le agregamos los ingredientes para marinar. Dejarlo 30 minutos en ese líquido.2.- Mientras se marina el pollo. Comenzamos con el agridulce. Colocamos en una sartén, las 6 cucharadas de azúcar, las 6 cucharadas de vinagre y 5 cucharadas de agua. Reservamos una para poder disolver la fécula de maíz.3.- Prendemos en calor alto y revolvemos hasta que se disuelva el azúcar. En ese momento agregamos el concentrado de tomate, la salsa inglesa y la pizca de sal. Y revolvemos hasta disolver el concentrado. Por último agregamos a gusto la fécula para espesar.4.- Por último unimos todos los ingredientes para el rebozado y debe tener consistencia pesada pero no pastosa. Un poco espesa para que cubra el pollo. Retiramos el líquido de la marinada y rebozamos y freímos en abundante aceite.5.- Unimos el pollo a la salsa y decoramos con ajonjolí y cebollín y pues amigos a disfrutar😎🙌🏼.¡Servicio domicilio!📱 0414-4394222 // 0414-1423789..#carne  #domicilio #parrilladelivery #deliveryvalencia #comida #valencia #agropecuariaDonFranco  #carniceria #deliverysandiego #deliverynaguanagua #deliverycarabobo']['¿Sabes cómo hacer la mejor salsa #BBQ? Nosotros te damos la receta😎INGREDIENTES:150 g de cebolla40 g de aceite de olivaDos cucharaditas de pimentón picante100 g de whisky250 g de salsa de tomate50 g de zumo de limón100 g de vinagre de Jerez90 g de miel o melaza70 g de salsa Inglesa1/2 cdta. de salPREPARACIÓN:1.- Pela y sofríe la cebolla en aceite hasta que esté transparente. Luego agrega el pimentón, revuelve durante poco tiempo2.- Agregamos todos los demás ingredientes: el whisky, la salsa de tomate (si es casera, mucho mejor), el zumo de limón, el vinagre, la miel o melaza, la salsa Inglesa y la sal.3.- Cocemos todo 20-25 minutos sin tapar para que se reduzca y espese. Hay que remover de vez en cuando para homogeneizar y vigilar cómo va la consistencia.4.- Trituramos bien la salsa y comprobamos la consistencia; debe quedar bastante espesa. Si no estuviera bastante espesa, volveríamos a ponerla al fuego para seguir reduciéndola un poco.5.- Al final de la cocción probamos el punto de dulce, salado y ácido. Según como esté añadiremos más sal, más miel o más vinagre, pero poco a poco mientras vamos probando el resultado cada vez.¡Y listo! Así tenemos nuestra deliciosa salsa BBQ 🍗🍖👨🏻\\\\u200d🍳.¡Servicio domicilio!📱 0414-4394222 // 0414-1423789..#carne  #domicilio #parrilladelivery #deliveryvalencia #comida #valencia #agropecuariaDonFranco  #carniceria #deliverysandiego #deliverynaguanagua #deliverycarabobo']\""
     },
     "metadata": {},
     "execution_count": 7
    }
   ],
   "source": [
    "data_group_2['content'][0]"
   ]
  },
  {
   "cell_type": "code",
   "execution_count": 8,
   "metadata": {},
   "outputs": [],
   "source": [
    "import re"
   ]
  },
  {
   "cell_type": "code",
   "execution_count": 56,
   "metadata": {},
   "outputs": [],
   "source": [
    "regular = data_group_2['content'][0]"
   ]
  },
  {
   "cell_type": "code",
   "execution_count": 64,
   "metadata": {},
   "outputs": [],
   "source": [
    "hola =  re.findall(r'[0-9]+', regular)"
   ]
  },
  {
   "cell_type": "code",
   "execution_count": 66,
   "metadata": {},
   "outputs": [
    {
     "output_type": "error",
     "ename": "TypeError",
     "evalue": "expected string or bytes-like object",
     "traceback": [
      "\u001b[1;31m---------------------------------------------------------------------------\u001b[0m",
      "\u001b[1;31mTypeError\u001b[0m                                 Traceback (most recent call last)",
      "\u001b[1;32m<ipython-input-66-1347718d6a2d>\u001b[0m in \u001b[0;36m<module>\u001b[1;34m\u001b[0m\n\u001b[1;32m----> 1\u001b[1;33m \u001b[0mre\u001b[0m\u001b[1;33m.\u001b[0m\u001b[0mmatch\u001b[0m\u001b[1;33m(\u001b[0m\u001b[1;34mr'0414'\u001b[0m\u001b[1;33m,\u001b[0m\u001b[0mhola\u001b[0m\u001b[1;33m)\u001b[0m\u001b[1;33m\u001b[0m\u001b[1;33m\u001b[0m\u001b[0m\n\u001b[0m",
      "\u001b[1;32m~\\Anaconda3\\lib\\re.py\u001b[0m in \u001b[0;36mmatch\u001b[1;34m(pattern, string, flags)\u001b[0m\n\u001b[0;32m    171\u001b[0m     \"\"\"Try to apply the pattern at the start of the string, returning\n\u001b[0;32m    172\u001b[0m     a Match object, or None if no match was found.\"\"\"\n\u001b[1;32m--> 173\u001b[1;33m     \u001b[1;32mreturn\u001b[0m \u001b[0m_compile\u001b[0m\u001b[1;33m(\u001b[0m\u001b[0mpattern\u001b[0m\u001b[1;33m,\u001b[0m \u001b[0mflags\u001b[0m\u001b[1;33m)\u001b[0m\u001b[1;33m.\u001b[0m\u001b[0mmatch\u001b[0m\u001b[1;33m(\u001b[0m\u001b[0mstring\u001b[0m\u001b[1;33m)\u001b[0m\u001b[1;33m\u001b[0m\u001b[1;33m\u001b[0m\u001b[0m\n\u001b[0m\u001b[0;32m    174\u001b[0m \u001b[1;33m\u001b[0m\u001b[0m\n\u001b[0;32m    175\u001b[0m \u001b[1;32mdef\u001b[0m \u001b[0mfullmatch\u001b[0m\u001b[1;33m(\u001b[0m\u001b[0mpattern\u001b[0m\u001b[1;33m,\u001b[0m \u001b[0mstring\u001b[0m\u001b[1;33m,\u001b[0m \u001b[0mflags\u001b[0m\u001b[1;33m=\u001b[0m\u001b[1;36m0\u001b[0m\u001b[1;33m)\u001b[0m\u001b[1;33m:\u001b[0m\u001b[1;33m\u001b[0m\u001b[1;33m\u001b[0m\u001b[0m\n",
      "\u001b[1;31mTypeError\u001b[0m: expected string or bytes-like object"
     ]
    }
   ],
   "source": [
    "re.match(r'0414',hola)"
   ]
  },
  {
   "cell_type": "code",
   "execution_count": 67,
   "metadata": {},
   "outputs": [
    {
     "output_type": "execute_result",
     "data": {
      "text/plain": "['200',\n '1',\n '1',\n '1',\n '6',\n '6',\n '6',\n '1',\n '1',\n '2',\n '1',\n '1',\n '350',\n '150',\n '1',\n '10',\n '1',\n '30',\n '2',\n '6',\n '6',\n '5',\n '3',\n '4',\n '5',\n '0414',\n '4394222',\n '0414',\n '1423789',\n '150',\n '40',\n '100',\n '250',\n '50',\n '100',\n '90',\n '70',\n '1',\n '2',\n '1',\n '2',\n '3',\n '20',\n '25',\n '4',\n '5',\n '200',\n '0414',\n '4394222',\n '0414',\n '1423789']"
     },
     "metadata": {},
     "execution_count": 67
    }
   ],
   "source": [
    "hola"
   ]
  },
  {
   "cell_type": "code",
   "execution_count": 9,
   "metadata": {},
   "outputs": [
    {
     "output_type": "execute_result",
     "data": {
      "text/plain": "                timestamp             user name                user url  \\\n0    18 de agosto de 2020      clubhouseexpress      /clubhouseexpress/   \n1    18 de agosto de 2020      clubhouseexpress      /clubhouseexpress/   \n2    18 de agosto de 2020      clubhouseexpress      /clubhouseexpress/   \n3    18 de agosto de 2020      clubhouseexpress      /clubhouseexpress/   \n4    18 de agosto de 2020      clubhouseexpress      /clubhouseexpress/   \n..                    ...                   ...                     ...   \n538  28 de agosto de 2020        fratellos.vzla        /fratellos.vzla/   \n539  28 de agosto de 2020          telepizza041          /telepizza041/   \n540  28 de agosto de 2020          telepizza041          /telepizza041/   \n541  28 de agosto de 2020  escueladeparrilleros  /escueladeparrilleros/   \n542  28 de agosto de 2020        condulzura.val        /condulzura.val/   \n\n                                               img url  \\\n0    https://scontent-mia3-2.cdninstagram.com/v/t51...   \n1    https://scontent-mia3-1.cdninstagram.com/v/t51...   \n2    https://scontent-mia3-2.cdninstagram.com/v/t51...   \n3    https://scontent-mia3-2.cdninstagram.com/v/t51...   \n4    https://scontent-mia3-1.cdninstagram.com/v/t51...   \n..                                                 ...   \n538  https://scontent-mia3-2.cdninstagram.com/v/t51...   \n539  https://scontent-mia3-1.cdninstagram.com/v/t51...   \n540  https://scontent-mia3-2.cdninstagram.com/v/t51...   \n541  https://scontent-mia3-1.cdninstagram.com/v/t51...   \n542  https://scontent-mia3-1.cdninstagram.com/v/t51...   \n\n                                               content  \n0    ['Empezamos la semana de la mejor manera y que...  \n1    No puedes dejar de probar el único Club House ...  \n2    🌴Club House Los Roques🌴\\n⠀⠀⠀⠀⠀⠀⠀⠀⠀⠀⠀⠀⠀⠀⠀⠀⠀⠀⠀⠀⠀...  \n3    ⛰️ Bandeja Caracas ⛰️ \\n⠀⠀⠀⠀⠀⠀⠀⠀⠀⠀⠀⠀⠀⠀⠀⠀⠀⠀⠀⠀⠀⠀...  \n4                                                  NaN  \n..                                                 ...  \n538                                                 []  \n539  ['#pizza #foodvalencia #pizzavalencia #Telepiz...  \n540  ¡La felicidad viene en una caja cuadrada y en ...  \n541  ['¡Allá nos vemos!.Reposted from @delimarketva...  \n542  ['La mejor parte del postre es cuando lo compa...  \n\n[543 rows x 5 columns]",
      "text/html": "<div>\n<style scoped>\n    .dataframe tbody tr th:only-of-type {\n        vertical-align: middle;\n    }\n\n    .dataframe tbody tr th {\n        vertical-align: top;\n    }\n\n    .dataframe thead th {\n        text-align: right;\n    }\n</style>\n<table border=\"1\" class=\"dataframe\">\n  <thead>\n    <tr style=\"text-align: right;\">\n      <th></th>\n      <th>timestamp</th>\n      <th>user name</th>\n      <th>user url</th>\n      <th>img url</th>\n      <th>content</th>\n    </tr>\n  </thead>\n  <tbody>\n    <tr>\n      <th>0</th>\n      <td>18 de agosto de 2020</td>\n      <td>clubhouseexpress</td>\n      <td>/clubhouseexpress/</td>\n      <td>https://scontent-mia3-2.cdninstagram.com/v/t51...</td>\n      <td>['Empezamos la semana de la mejor manera y que...</td>\n    </tr>\n    <tr>\n      <th>1</th>\n      <td>18 de agosto de 2020</td>\n      <td>clubhouseexpress</td>\n      <td>/clubhouseexpress/</td>\n      <td>https://scontent-mia3-1.cdninstagram.com/v/t51...</td>\n      <td>No puedes dejar de probar el único Club House ...</td>\n    </tr>\n    <tr>\n      <th>2</th>\n      <td>18 de agosto de 2020</td>\n      <td>clubhouseexpress</td>\n      <td>/clubhouseexpress/</td>\n      <td>https://scontent-mia3-2.cdninstagram.com/v/t51...</td>\n      <td>🌴Club House Los Roques🌴\\n⠀⠀⠀⠀⠀⠀⠀⠀⠀⠀⠀⠀⠀⠀⠀⠀⠀⠀⠀⠀⠀...</td>\n    </tr>\n    <tr>\n      <th>3</th>\n      <td>18 de agosto de 2020</td>\n      <td>clubhouseexpress</td>\n      <td>/clubhouseexpress/</td>\n      <td>https://scontent-mia3-2.cdninstagram.com/v/t51...</td>\n      <td>⛰️ Bandeja Caracas ⛰️ \\n⠀⠀⠀⠀⠀⠀⠀⠀⠀⠀⠀⠀⠀⠀⠀⠀⠀⠀⠀⠀⠀⠀...</td>\n    </tr>\n    <tr>\n      <th>4</th>\n      <td>18 de agosto de 2020</td>\n      <td>clubhouseexpress</td>\n      <td>/clubhouseexpress/</td>\n      <td>https://scontent-mia3-1.cdninstagram.com/v/t51...</td>\n      <td>NaN</td>\n    </tr>\n    <tr>\n      <th>...</th>\n      <td>...</td>\n      <td>...</td>\n      <td>...</td>\n      <td>...</td>\n      <td>...</td>\n    </tr>\n    <tr>\n      <th>538</th>\n      <td>28 de agosto de 2020</td>\n      <td>fratellos.vzla</td>\n      <td>/fratellos.vzla/</td>\n      <td>https://scontent-mia3-2.cdninstagram.com/v/t51...</td>\n      <td>[]</td>\n    </tr>\n    <tr>\n      <th>539</th>\n      <td>28 de agosto de 2020</td>\n      <td>telepizza041</td>\n      <td>/telepizza041/</td>\n      <td>https://scontent-mia3-1.cdninstagram.com/v/t51...</td>\n      <td>['#pizza #foodvalencia #pizzavalencia #Telepiz...</td>\n    </tr>\n    <tr>\n      <th>540</th>\n      <td>28 de agosto de 2020</td>\n      <td>telepizza041</td>\n      <td>/telepizza041/</td>\n      <td>https://scontent-mia3-2.cdninstagram.com/v/t51...</td>\n      <td>¡La felicidad viene en una caja cuadrada y en ...</td>\n    </tr>\n    <tr>\n      <th>541</th>\n      <td>28 de agosto de 2020</td>\n      <td>escueladeparrilleros</td>\n      <td>/escueladeparrilleros/</td>\n      <td>https://scontent-mia3-1.cdninstagram.com/v/t51...</td>\n      <td>['¡Allá nos vemos!.Reposted from @delimarketva...</td>\n    </tr>\n    <tr>\n      <th>542</th>\n      <td>28 de agosto de 2020</td>\n      <td>condulzura.val</td>\n      <td>/condulzura.val/</td>\n      <td>https://scontent-mia3-1.cdninstagram.com/v/t51...</td>\n      <td>['La mejor parte del postre es cuando lo compa...</td>\n    </tr>\n  </tbody>\n</table>\n<p>543 rows × 5 columns</p>\n</div>"
     },
     "metadata": {},
     "execution_count": 9
    }
   ],
   "source": [
    "data"
   ]
  },
  {
   "cell_type": "code",
   "execution_count": 4,
   "metadata": {},
   "outputs": [],
   "source": [
    "content = data['content']"
   ]
  },
  {
   "cell_type": "code",
   "execution_count": 64,
   "metadata": {},
   "outputs": [
    {
     "output_type": "execute_result",
     "data": {
      "text/plain": "['10', '0424-437', '0329']"
     },
     "metadata": {},
     "execution_count": 64
    }
   ],
   "source": [
    "patron =re.compile(r'\\d+[-.]?\\d*$')\n",
    "patron.findall(content)"
   ]
  },
  {
   "cell_type": "code",
   "execution_count": 98,
   "metadata": {},
   "outputs": [],
   "source": [
    "patron =re.compile(r'\\d+[-. ]?\\d+[-. ]?\\d+[-. ]?\\d+')"
   ]
  },
  {
   "cell_type": "code",
   "execution_count": 92,
   "metadata": {
    "tags": []
   },
   "outputs": [
    {
     "output_type": "error",
     "ename": "TypeError",
     "evalue": "expected string or bytes-like object",
     "traceback": [
      "\u001b[1;31m---------------------------------------------------------------------------\u001b[0m",
      "\u001b[1;31mTypeError\u001b[0m                                 Traceback (most recent call last)",
      "\u001b[1;32m<ipython-input-92-ec9982ea3f8a>\u001b[0m in \u001b[0;36m<module>\u001b[1;34m\u001b[0m\n\u001b[1;32m----> 1\u001b[1;33m \u001b[0mprint\u001b[0m\u001b[1;33m(\u001b[0m\u001b[0mpatron\u001b[0m\u001b[1;33m.\u001b[0m\u001b[0mmatch\u001b[0m\u001b[1;33m(\u001b[0m\u001b[0mcontent\u001b[0m\u001b[1;33m)\u001b[0m\u001b[1;33m)\u001b[0m\u001b[1;33m\u001b[0m\u001b[1;33m\u001b[0m\u001b[0m\n\u001b[0m",
      "\u001b[1;31mTypeError\u001b[0m: expected string or bytes-like object"
     ]
    }
   ],
   "source": [
    "print(patron.match(content))"
   ]
  },
  {
   "cell_type": "code",
   "execution_count": 24,
   "metadata": {},
   "outputs": [
    {
     "output_type": "execute_result",
     "data": {
      "text/plain": "\"['Empezamos la semana de la mejor manera y que mejor que disfrutando en nuestras casas una de estás Bandejas como lo es la Barquisimeto...🤤🥺🤭😳🔸1 Club Houses.🔸Papas Fritas. 🔸6Tequeños.🔸10 Alitas.⠀⠀⠀⠀⠀⠀⠀⠀⠀⠀⠀⠀⠀⠀⠀⠀⠀⠀⠀⠀⠀⠀⠀⠀Para hacer tu pedido marca nuestro número...👇⠀⠀⠀⠀⠀⠀⠀⠀⠀⠀⠀⠀⠀⠀⠀⠀⠀⠀⠀⠀⠀⠀⠀⠀📱 DELIVERY: 0424-437.0329⠀⠀⠀⠀⠀⠀⠀⠀⠀⠀⠀⠀⠀⠀⠀⠀⠀⠀⠀⠀⠀⠀⠀⠀#clubhouse #delivery #pickup #papasfritas #tequeños #alitas #deliveryvalencia #comidarapida #barquisimeto #alitas #alitasagridulce #alitasbbq #alitas🍗']\""
     },
     "metadata": {},
     "execution_count": 24
    }
   ],
   "source": [
    "content"
   ]
  },
  {
   "cell_type": "code",
   "execution_count": 67,
   "metadata": {},
   "outputs": [],
   "source": [
    "content = [data['content'][i*10] for i in range(5)]\n"
   ]
  },
  {
   "cell_type": "code",
   "execution_count": 99,
   "metadata": {},
   "outputs": [
    {
     "output_type": "execute_result",
     "data": {
      "text/plain": "[['0424-437.0329'], ['58 424-4967669'], ['0414 4156478'], [], ['04244741045']]"
     },
     "metadata": {},
     "execution_count": 99
    }
   ],
   "source": [
    "numeros = [patron.findall(i) for i in content]\n",
    "numeros"
   ]
  },
  {
   "cell_type": "code",
   "execution_count": 70,
   "metadata": {},
   "outputs": [
    {
     "output_type": "execute_result",
     "data": {
      "text/plain": "[['0424-437.0329'],\n ['424-4967669'],\n ['100', '0414', '4156478'],\n [],\n ['04244741045']]"
     },
     "metadata": {},
     "execution_count": 70
    }
   ],
   "source": [
    "nu"
   ]
  },
  {
   "cell_type": "code",
   "execution_count": 78,
   "metadata": {},
   "outputs": [
    {
     "output_type": "execute_result",
     "data": {
      "text/plain": "'[ 𝗣𝗼𝗹𝘃𝗼𝗿𝗼𝘀𝗮 ] \\n\\nCrocante masa de azúcar y canela con topping de frutos secos relleno de la más deliciosa compota de frutas 100% natural 💛 \\n\\nHemos diseñado 3 rellenos 😍 \\n\\n✓ Manzana \\n✓ Piña con coco\\n✓ Banana\\n\\nEn su versión lista para hornear o individual, acompañado de helado es la merienda perfecta en estos días de lluvia 🌦️\\n\\nPedidos al 0414 4156478 ✌🏼\\n\\n𝐂𝐨𝐳𝐲 • 𝐅𝐫𝐞𝐬𝐡 • 𝐆𝐨𝐨𝐝\\n\\n#clientesvln #valencia #cafeteria #carabobo #deliveryvalencia'"
     },
     "metadata": {},
     "execution_count": 78
    }
   ],
   "source": [
    "content[2]"
   ]
  },
  {
   "cell_type": "code",
   "execution_count": 4,
   "metadata": {},
   "outputs": [],
   "source": [
    "import re"
   ]
  },
  {
   "cell_type": "code",
   "execution_count": 42,
   "metadata": {},
   "outputs": [],
   "source": [
    "patron =re.compile(r'\\d{3,4}[^\\w]?\\d{3}[^\\w]?\\d{2,4}[^\\w]?\\d{2}?')\n",
    "\n"
   ]
  },
  {
   "cell_type": "code",
   "execution_count": 43,
   "metadata": {},
   "outputs": [],
   "source": [
    "list_content = data['content']\n"
   ]
  },
  {
   "cell_type": "code",
   "execution_count": 64,
   "metadata": {},
   "outputs": [],
   "source": [
    "list_phone = []\n",
    "list_phone2 = [] \n",
    "for i in list_content:\n",
    "    try:\n",
    "        list_phone.append(patron.findall(i))\n",
    "    except:\n",
    "        list_phone.append(None)"
   ]
  },
  {
   "cell_type": "code",
   "execution_count": 31,
   "metadata": {},
   "outputs": [
    {
     "output_type": "execute_result",
     "data": {
      "text/plain": "'Nuestra pizza Veggy es destacada entre todas por uno de nuestros ingredientes favoritos, el tomate cherry el cual da un toque único y especial a esta deliciosa pizza.🍅\\n\\n🍕La felicidad huele a pizza.\\n\\n📲Pide a través de nuestro numero por whatsapp o descarga la APP de @ochotelolleva.\\n0414-420.55.99\\n\\n⏰Desde las 12PM hasta las 8PM\\n\\n🏍Delivery and PickUp'"
     },
     "metadata": {},
     "execution_count": 31
    }
   ],
   "source": [
    "list_content[24]"
   ]
  },
  {
   "cell_type": "code",
   "execution_count": 33,
   "metadata": {},
   "outputs": [
    {
     "output_type": "execute_result",
     "data": {
      "text/plain": "['0414-420.55.9']"
     },
     "metadata": {},
     "execution_count": 33
    }
   ],
   "source": [
    "list_phone[24]"
   ]
  },
  {
   "cell_type": "code",
   "execution_count": 56,
   "metadata": {},
   "outputs": [],
   "source": [
    "patron =  re.compile(r'\\d{3,4}[^\\w]?\\d{3}[^\\w]?\\d{2,4}[^\\w]?\\d{2}?')\n",
    "patron3 = re.compile(r'\\d\\d\\d\\d[^\\w]?\\d\\d\\d[^\\w]?\\d\\d[^\\w]?\\d\\d')"
   ]
  },
  {
   "cell_type": "code",
   "execution_count": 57,
   "metadata": {},
   "outputs": [
    {
     "output_type": "execute_result",
     "data": {
      "text/plain": "['0414-420.55.99']"
     },
     "metadata": {},
     "execution_count": 57
    }
   ],
   "source": [
    "patron3.findall(list_content[24])"
   ]
  },
  {
   "cell_type": "code",
   "execution_count": 105,
   "metadata": {},
   "outputs": [],
   "source": [
    "list_phone = []\n",
    "list_phone2 = [] \n",
    "for i in list_content:\n",
    "    try:\n",
    "        list_phone2.append(patron3.findall(i))\n",
    "    except:\n",
    "        list_phone2.append(None)"
   ]
  },
  {
   "cell_type": "code",
   "execution_count": 80,
   "metadata": {},
   "outputs": [],
   "source": [
    "list_phone.remove([])"
   ]
  },
  {
   "cell_type": "code",
   "execution_count": 96,
   "metadata": {},
   "outputs": [],
   "source": [
    "list_phone_number_1 = []\n",
    "for i in list_phone:\n",
    "    if( i != []): \n",
    "      if  i != None: list_phone_number_1.append(i)"
   ]
  },
  {
   "cell_type": "code",
   "execution_count": 107,
   "metadata": {},
   "outputs": [],
   "source": [
    "list_phone_number_2 = []\n",
    "for i in list_phone2:\n",
    "    if( i != []): \n",
    "      if  i != None: list_phone_number_2.append(i)"
   ]
  },
  {
   "cell_type": "code",
   "execution_count": 99,
   "metadata": {},
   "outputs": [
    {
     "output_type": "execute_result",
     "data": {
      "text/plain": "182"
     },
     "metadata": {},
     "execution_count": 99
    }
   ],
   "source": [
    "len(list_phone_number_1)"
   ]
  },
  {
   "cell_type": "code",
   "execution_count": 108,
   "metadata": {},
   "outputs": [
    {
     "output_type": "execute_result",
     "data": {
      "text/plain": "135"
     },
     "metadata": {},
     "execution_count": 108
    }
   ],
   "source": [
    "len(list_phone_number_2)"
   ]
  },
  {
   "cell_type": "code",
   "execution_count": 118,
   "metadata": {},
   "outputs": [],
   "source": [
    "import re"
   ]
  },
  {
   "cell_type": "code",
   "execution_count": 149,
   "metadata": {},
   "outputs": [],
   "source": [
    "def prueba_re( patron ):\n",
    "    \n",
    "    l_1 = []\n",
    "    l_2 = []\n",
    "\n",
    "    for i in list_content:\n",
    "        try:\n",
    "            l_1.append(patron.findall(i))\n",
    "        except:\n",
    "            l_1.append(None)\n",
    "\n",
    "    for i in l_1:\n",
    "        if i != []: \n",
    "            if i != None: l_2.append(i)\n",
    "    return l_2"
   ]
  },
  {
   "cell_type": "code",
   "execution_count": 150,
   "metadata": {},
   "outputs": [],
   "source": [
    "lista_phone = prueba_re(patron)"
   ]
  },
  {
   "cell_type": "code",
   "execution_count": 129,
   "metadata": {},
   "outputs": [
    {
     "output_type": "execute_result",
     "data": {
      "text/plain": "'185'"
     },
     "metadata": {},
     "execution_count": 129
    }
   ],
   "source": [
    "patron1 = re.compile(r'\\d{3,4}[^\\w]?\\d{3}[^\\w]?\\d{2,4}[^\\w]?\\d{2}?')\n",
    "'182'\n",
    "patron2 =  re.compile(r'\\d{3,4}[^\\w]?\\d{3,3}[^\\w]?\\d{2,4}[^\\w]?\\d+')\n",
    "'185'\n"
   ]
  },
  {
   "cell_type": "code",
   "execution_count": 144,
   "metadata": {},
   "outputs": [],
   "source": [
    "def get_phone( patron ):\n",
    "    \n",
    "    l_1 = []\n",
    "    flatten = []\n",
    "    for i in list_content:\n",
    "        try:\n",
    "            l_1.append(patron.findall(i))\n",
    "        except:\n",
    "            l_1.append(None)\n",
    "    \n",
    "\n",
    "    return l_1"
   ]
  },
  {
   "cell_type": "code",
   "execution_count": 145,
   "metadata": {},
   "outputs": [],
   "source": [
    "   data['telefono'] = get_phone(patron)"
   ]
  },
  {
   "cell_type": "code",
   "execution_count": 146,
   "metadata": {},
   "outputs": [
    {
     "output_type": "execute_result",
     "data": {
      "text/plain": "                timestamp             user name                user url  \\\n0    18 de agosto de 2020      clubhouseexpress      /clubhouseexpress/   \n1    18 de agosto de 2020      clubhouseexpress      /clubhouseexpress/   \n2    18 de agosto de 2020      clubhouseexpress      /clubhouseexpress/   \n3    18 de agosto de 2020      clubhouseexpress      /clubhouseexpress/   \n4    18 de agosto de 2020      clubhouseexpress      /clubhouseexpress/   \n..                    ...                   ...                     ...   \n538  28 de agosto de 2020        fratellos.vzla        /fratellos.vzla/   \n539  28 de agosto de 2020          telepizza041          /telepizza041/   \n540  28 de agosto de 2020          telepizza041          /telepizza041/   \n541  28 de agosto de 2020  escueladeparrilleros  /escueladeparrilleros/   \n542  28 de agosto de 2020        condulzura.val        /condulzura.val/   \n\n                                               img url  \\\n0    https://scontent-mia3-2.cdninstagram.com/v/t51...   \n1    https://scontent-mia3-1.cdninstagram.com/v/t51...   \n2    https://scontent-mia3-2.cdninstagram.com/v/t51...   \n3    https://scontent-mia3-2.cdninstagram.com/v/t51...   \n4    https://scontent-mia3-1.cdninstagram.com/v/t51...   \n..                                                 ...   \n538  https://scontent-mia3-2.cdninstagram.com/v/t51...   \n539  https://scontent-mia3-1.cdninstagram.com/v/t51...   \n540  https://scontent-mia3-2.cdninstagram.com/v/t51...   \n541  https://scontent-mia3-1.cdninstagram.com/v/t51...   \n542  https://scontent-mia3-1.cdninstagram.com/v/t51...   \n\n                                               content         telefono  \n0    ['Empezamos la semana de la mejor manera y que...  [0424-437.0329]  \n1    No puedes dejar de probar el único Club House ...  [0424-437.0329]  \n2    🌴Club House Los Roques🌴\\n⠀⠀⠀⠀⠀⠀⠀⠀⠀⠀⠀⠀⠀⠀⠀⠀⠀⠀⠀⠀⠀...  [0424-437.0329]  \n3    ⛰️ Bandeja Caracas ⛰️ \\n⠀⠀⠀⠀⠀⠀⠀⠀⠀⠀⠀⠀⠀⠀⠀⠀⠀⠀⠀⠀⠀⠀...  [0424-437.0329]  \n4                                                  NaN             None  \n..                                                 ...              ...  \n538                                                 []               []  \n539  ['#pizza #foodvalencia #pizzavalencia #Telepiz...               []  \n540  ¡La felicidad viene en una caja cuadrada y en ...     [4144205599]  \n541  ['¡Allá nos vemos!.Reposted from @delimarketva...   [0424-4192918]  \n542  ['La mejor parte del postre es cuando lo compa...               []  \n\n[543 rows x 6 columns]",
      "text/html": "<div>\n<style scoped>\n    .dataframe tbody tr th:only-of-type {\n        vertical-align: middle;\n    }\n\n    .dataframe tbody tr th {\n        vertical-align: top;\n    }\n\n    .dataframe thead th {\n        text-align: right;\n    }\n</style>\n<table border=\"1\" class=\"dataframe\">\n  <thead>\n    <tr style=\"text-align: right;\">\n      <th></th>\n      <th>timestamp</th>\n      <th>user name</th>\n      <th>user url</th>\n      <th>img url</th>\n      <th>content</th>\n      <th>telefono</th>\n    </tr>\n  </thead>\n  <tbody>\n    <tr>\n      <th>0</th>\n      <td>18 de agosto de 2020</td>\n      <td>clubhouseexpress</td>\n      <td>/clubhouseexpress/</td>\n      <td>https://scontent-mia3-2.cdninstagram.com/v/t51...</td>\n      <td>['Empezamos la semana de la mejor manera y que...</td>\n      <td>[0424-437.0329]</td>\n    </tr>\n    <tr>\n      <th>1</th>\n      <td>18 de agosto de 2020</td>\n      <td>clubhouseexpress</td>\n      <td>/clubhouseexpress/</td>\n      <td>https://scontent-mia3-1.cdninstagram.com/v/t51...</td>\n      <td>No puedes dejar de probar el único Club House ...</td>\n      <td>[0424-437.0329]</td>\n    </tr>\n    <tr>\n      <th>2</th>\n      <td>18 de agosto de 2020</td>\n      <td>clubhouseexpress</td>\n      <td>/clubhouseexpress/</td>\n      <td>https://scontent-mia3-2.cdninstagram.com/v/t51...</td>\n      <td>🌴Club House Los Roques🌴\\n⠀⠀⠀⠀⠀⠀⠀⠀⠀⠀⠀⠀⠀⠀⠀⠀⠀⠀⠀⠀⠀...</td>\n      <td>[0424-437.0329]</td>\n    </tr>\n    <tr>\n      <th>3</th>\n      <td>18 de agosto de 2020</td>\n      <td>clubhouseexpress</td>\n      <td>/clubhouseexpress/</td>\n      <td>https://scontent-mia3-2.cdninstagram.com/v/t51...</td>\n      <td>⛰️ Bandeja Caracas ⛰️ \\n⠀⠀⠀⠀⠀⠀⠀⠀⠀⠀⠀⠀⠀⠀⠀⠀⠀⠀⠀⠀⠀⠀...</td>\n      <td>[0424-437.0329]</td>\n    </tr>\n    <tr>\n      <th>4</th>\n      <td>18 de agosto de 2020</td>\n      <td>clubhouseexpress</td>\n      <td>/clubhouseexpress/</td>\n      <td>https://scontent-mia3-1.cdninstagram.com/v/t51...</td>\n      <td>NaN</td>\n      <td>None</td>\n    </tr>\n    <tr>\n      <th>...</th>\n      <td>...</td>\n      <td>...</td>\n      <td>...</td>\n      <td>...</td>\n      <td>...</td>\n      <td>...</td>\n    </tr>\n    <tr>\n      <th>538</th>\n      <td>28 de agosto de 2020</td>\n      <td>fratellos.vzla</td>\n      <td>/fratellos.vzla/</td>\n      <td>https://scontent-mia3-2.cdninstagram.com/v/t51...</td>\n      <td>[]</td>\n      <td>[]</td>\n    </tr>\n    <tr>\n      <th>539</th>\n      <td>28 de agosto de 2020</td>\n      <td>telepizza041</td>\n      <td>/telepizza041/</td>\n      <td>https://scontent-mia3-1.cdninstagram.com/v/t51...</td>\n      <td>['#pizza #foodvalencia #pizzavalencia #Telepiz...</td>\n      <td>[]</td>\n    </tr>\n    <tr>\n      <th>540</th>\n      <td>28 de agosto de 2020</td>\n      <td>telepizza041</td>\n      <td>/telepizza041/</td>\n      <td>https://scontent-mia3-2.cdninstagram.com/v/t51...</td>\n      <td>¡La felicidad viene en una caja cuadrada y en ...</td>\n      <td>[4144205599]</td>\n    </tr>\n    <tr>\n      <th>541</th>\n      <td>28 de agosto de 2020</td>\n      <td>escueladeparrilleros</td>\n      <td>/escueladeparrilleros/</td>\n      <td>https://scontent-mia3-1.cdninstagram.com/v/t51...</td>\n      <td>['¡Allá nos vemos!.Reposted from @delimarketva...</td>\n      <td>[0424-4192918]</td>\n    </tr>\n    <tr>\n      <th>542</th>\n      <td>28 de agosto de 2020</td>\n      <td>condulzura.val</td>\n      <td>/condulzura.val/</td>\n      <td>https://scontent-mia3-1.cdninstagram.com/v/t51...</td>\n      <td>['La mejor parte del postre es cuando lo compa...</td>\n      <td>[]</td>\n    </tr>\n  </tbody>\n</table>\n<p>543 rows × 6 columns</p>\n</div>"
     },
     "metadata": {},
     "execution_count": 146
    }
   ],
   "source": [
    "data"
   ]
  },
  {
   "cell_type": "code",
   "execution_count": 171,
   "metadata": {
    "tags": []
   },
   "outputs": [],
   "source": [
    "lista_prueba = []\n",
    "contador = 0\n",
    "for i in range(len(lista_phone)):\n",
    "    if len(lista_phone[i]) == 1:\n",
    "        lista_prueba.append(lista_phone[i][0])\n",
    "    else: \n",
    "        lista_prueba.append(lista_phone[i])\n",
    "\n",
    "\n"
   ]
  },
  {
   "cell_type": "code",
   "execution_count": 167,
   "metadata": {},
   "outputs": [
    {
     "output_type": "execute_result",
     "data": {
      "text/plain": "1"
     },
     "metadata": {},
     "execution_count": 167
    }
   ],
   "source": [
    "len(lista_phone[3])"
   ]
  },
  {
   "cell_type": "code",
   "execution_count": 174,
   "metadata": {},
   "outputs": [
    {
     "output_type": "execute_result",
     "data": {
      "text/plain": "'BAKLAWA DE MEREY 😍\\n\\nLos mejores dulces de la gastronomía árabe aquí en @delicioussweetvzla\\n\\nTrabajando con:\\nDelivery🛵\\nPick up 🚗\\n.\\n.\\n.\\nNúmero de contacto📲:\\n0424-4187680 \\n.\\n.\\nHorarios🕖 Domingos, Lunes y Martes de 10am a 6pm. \\n.\\n.\\nDe Miércoles a Sábados de 10am a 8:00pm . .\\n.\\n.\\n.\\n.\\n.\\n\\n#delicioussweetvzla #comidaarabe #comidaarabevalencia #deliveryvalencia #knaffe #knafe #carabobo #shawarma #dulcesarabes #panarabe #delicious #delivery #dulcearabe #concurso #arabesdevenezuela #dulcesarabes\\n#maracay #valencia #shawarmas #naguanagua #sandiego #guacara #guataparo #eltrigal #elparral #guaparo'"
     },
     "metadata": {},
     "execution_count": 174
    }
   ],
   "source": [
    "list_content[50]"
   ]
  },
  {
   "cell_type": "code",
   "execution_count": 175,
   "metadata": {},
   "outputs": [
    {
     "output_type": "execute_result",
     "data": {
      "text/plain": "'747864366'"
     },
     "metadata": {},
     "execution_count": 175
    }
   ],
   "source": [
    "lista_prueba[50]"
   ]
  },
  {
   "cell_type": "code",
   "execution_count": null,
   "metadata": {},
   "outputs": [],
   "source": [
    "0424-4187680"
   ]
  },
  {
   "cell_type": "code",
   "execution_count": 176,
   "metadata": {},
   "outputs": [
    {
     "output_type": "execute_result",
     "data": {
      "text/plain": "['0424-4187680']"
     },
     "metadata": {},
     "execution_count": 176
    }
   ],
   "source": [
    "patron2 =  re.compile(r'\\d{3,4}[^\\w]?\\d{3,3}[^\\w]?\\d{2,4}[^\\w]?\\d+')\n",
    "patron.findall(list_content[50])"
   ]
  },
  {
   "cell_type": "code",
   "execution_count": 196,
   "metadata": {},
   "outputs": [
    {
     "output_type": "execute_result",
     "data": {
      "text/plain": "                   timestamp  user name     user url  \\\n161  3 de septiembre de 2020  empak2.es  /empak2.es/   \n162  3 de septiembre de 2020  empak2.es  /empak2.es/   \n163  3 de septiembre de 2020  empak2.es  /empak2.es/   \n\n                                               img url  \\\n161  https://scontent-mia3-1.cdninstagram.com/v/t51...   \n162  https://scontent-mia3-2.cdninstagram.com/v/t51...   \n163  https://scontent-mia3-1.cdninstagram.com/v/t51...   \n\n                                               content       telefono  \n161  ['LASAÑA 🤤No solo es el plato favorito de Garf...  ['747864366']  \n162  ['LASAÑA 🤤No solo es el plato favorito de Garf...  ['747864366']  \n163  ['LASAÑA 🤤No solo es el plato favorito de Garf...  ['747864366']  ",
      "text/html": "<div>\n<style scoped>\n    .dataframe tbody tr th:only-of-type {\n        vertical-align: middle;\n    }\n\n    .dataframe tbody tr th {\n        vertical-align: top;\n    }\n\n    .dataframe thead th {\n        text-align: right;\n    }\n</style>\n<table border=\"1\" class=\"dataframe\">\n  <thead>\n    <tr style=\"text-align: right;\">\n      <th></th>\n      <th>timestamp</th>\n      <th>user name</th>\n      <th>user url</th>\n      <th>img url</th>\n      <th>content</th>\n      <th>telefono</th>\n    </tr>\n  </thead>\n  <tbody>\n    <tr>\n      <th>161</th>\n      <td>3 de septiembre de 2020</td>\n      <td>empak2.es</td>\n      <td>/empak2.es/</td>\n      <td>https://scontent-mia3-1.cdninstagram.com/v/t51...</td>\n      <td>['LASAÑA 🤤No solo es el plato favorito de Garf...</td>\n      <td>['747864366']</td>\n    </tr>\n    <tr>\n      <th>162</th>\n      <td>3 de septiembre de 2020</td>\n      <td>empak2.es</td>\n      <td>/empak2.es/</td>\n      <td>https://scontent-mia3-2.cdninstagram.com/v/t51...</td>\n      <td>['LASAÑA 🤤No solo es el plato favorito de Garf...</td>\n      <td>['747864366']</td>\n    </tr>\n    <tr>\n      <th>163</th>\n      <td>3 de septiembre de 2020</td>\n      <td>empak2.es</td>\n      <td>/empak2.es/</td>\n      <td>https://scontent-mia3-1.cdninstagram.com/v/t51...</td>\n      <td>['LASAÑA 🤤No solo es el plato favorito de Garf...</td>\n      <td>['747864366']</td>\n    </tr>\n  </tbody>\n</table>\n</div>"
     },
     "metadata": {},
     "execution_count": 196
    }
   ],
   "source": [
    "data.loc[data['telefono'] == \"['747864366']\"]"
   ]
  },
  {
   "cell_type": "code",
   "execution_count": 195,
   "metadata": {
    "tags": []
   },
   "outputs": [],
   "source": [
    "data['telefono'] = data['telefono'].astype(str)"
   ]
  },
  {
   "cell_type": "code",
   "execution_count": 197,
   "metadata": {},
   "outputs": [
    {
     "output_type": "execute_result",
     "data": {
      "text/plain": "\"['LASAÑA 🤤No solo es el plato favorito de Garfield, en @empak2.es son cada vez más los tipos de lasaña que podemos encontrar, tenemos de pollo, carne e incluso hasta plátano, versiones refrigeradas en las que se promete una calidad aún mayor.Arma tu menú semanal e incluye la lasaña que quieras✅Pide tu bandeja de lasaña o por porción ¡ nosotros lo hacemos por ti ! ..Contáctanos al 747864366O al Dm ✅..@empak2.es @empak2.es @empak2.es ..#lasañaenvalencia #lasañadeplatano #lasañadecarne #lasañadeverduras #empacadoalvacio #deliverypaterna #deliveryvalencia #foodingvalencia #valenciafood #venezolanosenvalencia #valenciaespaña']\""
     },
     "metadata": {},
     "execution_count": 197
    }
   ],
   "source": [
    "list_content[161]"
   ]
  },
  {
   "cell_type": "code",
   "execution_count": null,
   "metadata": {},
   "outputs": [],
   "source": []
  },
  {
   "cell_type": "code",
   "execution_count": 202,
   "metadata": {},
   "outputs": [],
   "source": [
    "compile = re.compile(r'españa')"
   ]
  },
  {
   "cell_type": "code",
   "execution_count": 229,
   "metadata": {},
   "outputs": [
    {
     "output_type": "execute_result",
     "data": {
      "text/plain": "True"
     },
     "metadata": {},
     "execution_count": 229
    }
   ],
   "source": [
    "bool(compile.findall(list_content[161]))"
   ]
  },
  {
   "cell_type": "code",
   "execution_count": 231,
   "metadata": {},
   "outputs": [],
   "source": [
    "contador = 0\n",
    "for i in range(len(list_content)):\n",
    "    try:\n",
    "        if bool(compile.findall(i)): contador += 1\n",
    "    except:\n",
    "        pass\n",
    "    \n"
   ]
  },
  {
   "cell_type": "code",
   "execution_count": 232,
   "metadata": {},
   "outputs": [
    {
     "output_type": "execute_result",
     "data": {
      "text/plain": "0"
     },
     "metadata": {},
     "execution_count": 232
    }
   ],
   "source": [
    "contador"
   ]
  },
  {
   "cell_type": "code",
   "execution_count": 233,
   "metadata": {},
   "outputs": [],
   "source": [
    "contador = 0\n",
    "for i in range(len(list_content)):\n",
    "    try:\n",
    "        if bool(compile.findall(list_content[i])): data.drop(data.index[i], inplace=True)\n",
    "    except:\n",
    "        pass"
   ]
  },
  {
   "cell_type": "code",
   "execution_count": 234,
   "metadata": {},
   "outputs": [
    {
     "output_type": "execute_result",
     "data": {
      "text/plain": "536"
     },
     "metadata": {},
     "execution_count": 234
    }
   ],
   "source": [
    "len(data)"
   ]
  },
  {
   "cell_type": "code",
   "execution_count": 221,
   "metadata": {},
   "outputs": [],
   "source": [
    "datos = data.copy(deep=True)"
   ]
  },
  {
   "cell_type": "code",
   "execution_count": 223,
   "metadata": {},
   "outputs": [],
   "source": [
    "datos.drop(datos.index[100],inplace=True)"
   ]
  },
  {
   "cell_type": "code",
   "execution_count": 224,
   "metadata": {},
   "outputs": [
    {
     "output_type": "execute_result",
     "data": {
      "text/plain": "                timestamp             user name                user url  \\\n0    18 de agosto de 2020      clubhouseexpress      /clubhouseexpress/   \n1    18 de agosto de 2020      clubhouseexpress      /clubhouseexpress/   \n2    18 de agosto de 2020      clubhouseexpress      /clubhouseexpress/   \n3    18 de agosto de 2020      clubhouseexpress      /clubhouseexpress/   \n4    18 de agosto de 2020      clubhouseexpress      /clubhouseexpress/   \n..                    ...                   ...                     ...   \n538  28 de agosto de 2020        fratellos.vzla        /fratellos.vzla/   \n539  28 de agosto de 2020          telepizza041          /telepizza041/   \n540  28 de agosto de 2020          telepizza041          /telepizza041/   \n541  28 de agosto de 2020  escueladeparrilleros  /escueladeparrilleros/   \n542  28 de agosto de 2020        condulzura.val        /condulzura.val/   \n\n                                               img url  \\\n0    https://scontent-mia3-2.cdninstagram.com/v/t51...   \n1    https://scontent-mia3-1.cdninstagram.com/v/t51...   \n2    https://scontent-mia3-2.cdninstagram.com/v/t51...   \n3    https://scontent-mia3-2.cdninstagram.com/v/t51...   \n4    https://scontent-mia3-1.cdninstagram.com/v/t51...   \n..                                                 ...   \n538  https://scontent-mia3-2.cdninstagram.com/v/t51...   \n539  https://scontent-mia3-1.cdninstagram.com/v/t51...   \n540  https://scontent-mia3-2.cdninstagram.com/v/t51...   \n541  https://scontent-mia3-1.cdninstagram.com/v/t51...   \n542  https://scontent-mia3-1.cdninstagram.com/v/t51...   \n\n                                               content           telefono  \n0    ['Empezamos la semana de la mejor manera y que...  ['0424-437.0329']  \n1    No puedes dejar de probar el único Club House ...  ['0424-437.0329']  \n2    🌴Club House Los Roques🌴\\n⠀⠀⠀⠀⠀⠀⠀⠀⠀⠀⠀⠀⠀⠀⠀⠀⠀⠀⠀⠀⠀...  ['0424-437.0329']  \n3    ⛰️ Bandeja Caracas ⛰️ \\n⠀⠀⠀⠀⠀⠀⠀⠀⠀⠀⠀⠀⠀⠀⠀⠀⠀⠀⠀⠀⠀⠀...  ['0424-437.0329']  \n4                                                  NaN               None  \n..                                                 ...                ...  \n538                                                 []                 []  \n539  ['#pizza #foodvalencia #pizzavalencia #Telepiz...                 []  \n540  ¡La felicidad viene en una caja cuadrada y en ...     ['4144205599']  \n541  ['¡Allá nos vemos!.Reposted from @delimarketva...   ['0424-4192918']  \n542  ['La mejor parte del postre es cuando lo compa...                 []  \n\n[542 rows x 6 columns]",
      "text/html": "<div>\n<style scoped>\n    .dataframe tbody tr th:only-of-type {\n        vertical-align: middle;\n    }\n\n    .dataframe tbody tr th {\n        vertical-align: top;\n    }\n\n    .dataframe thead th {\n        text-align: right;\n    }\n</style>\n<table border=\"1\" class=\"dataframe\">\n  <thead>\n    <tr style=\"text-align: right;\">\n      <th></th>\n      <th>timestamp</th>\n      <th>user name</th>\n      <th>user url</th>\n      <th>img url</th>\n      <th>content</th>\n      <th>telefono</th>\n    </tr>\n  </thead>\n  <tbody>\n    <tr>\n      <th>0</th>\n      <td>18 de agosto de 2020</td>\n      <td>clubhouseexpress</td>\n      <td>/clubhouseexpress/</td>\n      <td>https://scontent-mia3-2.cdninstagram.com/v/t51...</td>\n      <td>['Empezamos la semana de la mejor manera y que...</td>\n      <td>['0424-437.0329']</td>\n    </tr>\n    <tr>\n      <th>1</th>\n      <td>18 de agosto de 2020</td>\n      <td>clubhouseexpress</td>\n      <td>/clubhouseexpress/</td>\n      <td>https://scontent-mia3-1.cdninstagram.com/v/t51...</td>\n      <td>No puedes dejar de probar el único Club House ...</td>\n      <td>['0424-437.0329']</td>\n    </tr>\n    <tr>\n      <th>2</th>\n      <td>18 de agosto de 2020</td>\n      <td>clubhouseexpress</td>\n      <td>/clubhouseexpress/</td>\n      <td>https://scontent-mia3-2.cdninstagram.com/v/t51...</td>\n      <td>🌴Club House Los Roques🌴\\n⠀⠀⠀⠀⠀⠀⠀⠀⠀⠀⠀⠀⠀⠀⠀⠀⠀⠀⠀⠀⠀...</td>\n      <td>['0424-437.0329']</td>\n    </tr>\n    <tr>\n      <th>3</th>\n      <td>18 de agosto de 2020</td>\n      <td>clubhouseexpress</td>\n      <td>/clubhouseexpress/</td>\n      <td>https://scontent-mia3-2.cdninstagram.com/v/t51...</td>\n      <td>⛰️ Bandeja Caracas ⛰️ \\n⠀⠀⠀⠀⠀⠀⠀⠀⠀⠀⠀⠀⠀⠀⠀⠀⠀⠀⠀⠀⠀⠀...</td>\n      <td>['0424-437.0329']</td>\n    </tr>\n    <tr>\n      <th>4</th>\n      <td>18 de agosto de 2020</td>\n      <td>clubhouseexpress</td>\n      <td>/clubhouseexpress/</td>\n      <td>https://scontent-mia3-1.cdninstagram.com/v/t51...</td>\n      <td>NaN</td>\n      <td>None</td>\n    </tr>\n    <tr>\n      <th>...</th>\n      <td>...</td>\n      <td>...</td>\n      <td>...</td>\n      <td>...</td>\n      <td>...</td>\n      <td>...</td>\n    </tr>\n    <tr>\n      <th>538</th>\n      <td>28 de agosto de 2020</td>\n      <td>fratellos.vzla</td>\n      <td>/fratellos.vzla/</td>\n      <td>https://scontent-mia3-2.cdninstagram.com/v/t51...</td>\n      <td>[]</td>\n      <td>[]</td>\n    </tr>\n    <tr>\n      <th>539</th>\n      <td>28 de agosto de 2020</td>\n      <td>telepizza041</td>\n      <td>/telepizza041/</td>\n      <td>https://scontent-mia3-1.cdninstagram.com/v/t51...</td>\n      <td>['#pizza #foodvalencia #pizzavalencia #Telepiz...</td>\n      <td>[]</td>\n    </tr>\n    <tr>\n      <th>540</th>\n      <td>28 de agosto de 2020</td>\n      <td>telepizza041</td>\n      <td>/telepizza041/</td>\n      <td>https://scontent-mia3-2.cdninstagram.com/v/t51...</td>\n      <td>¡La felicidad viene en una caja cuadrada y en ...</td>\n      <td>['4144205599']</td>\n    </tr>\n    <tr>\n      <th>541</th>\n      <td>28 de agosto de 2020</td>\n      <td>escueladeparrilleros</td>\n      <td>/escueladeparrilleros/</td>\n      <td>https://scontent-mia3-1.cdninstagram.com/v/t51...</td>\n      <td>['¡Allá nos vemos!.Reposted from @delimarketva...</td>\n      <td>['0424-4192918']</td>\n    </tr>\n    <tr>\n      <th>542</th>\n      <td>28 de agosto de 2020</td>\n      <td>condulzura.val</td>\n      <td>/condulzura.val/</td>\n      <td>https://scontent-mia3-1.cdninstagram.com/v/t51...</td>\n      <td>['La mejor parte del postre es cuando lo compa...</td>\n      <td>[]</td>\n    </tr>\n  </tbody>\n</table>\n<p>542 rows × 6 columns</p>\n</div>"
     },
     "metadata": {},
     "execution_count": 224
    }
   ],
   "source": [
    "datos"
   ]
  },
  {
   "cell_type": "code",
   "execution_count": 235,
   "metadata": {},
   "outputs": [
    {
     "output_type": "execute_result",
     "data": {
      "text/plain": "                timestamp             user name                user url  \\\n0    18 de agosto de 2020      clubhouseexpress      /clubhouseexpress/   \n1    18 de agosto de 2020      clubhouseexpress      /clubhouseexpress/   \n2    18 de agosto de 2020      clubhouseexpress      /clubhouseexpress/   \n3    18 de agosto de 2020      clubhouseexpress      /clubhouseexpress/   \n4    18 de agosto de 2020      clubhouseexpress      /clubhouseexpress/   \n..                    ...                   ...                     ...   \n538  28 de agosto de 2020        fratellos.vzla        /fratellos.vzla/   \n539  28 de agosto de 2020          telepizza041          /telepizza041/   \n540  28 de agosto de 2020          telepizza041          /telepizza041/   \n541  28 de agosto de 2020  escueladeparrilleros  /escueladeparrilleros/   \n542  28 de agosto de 2020        condulzura.val        /condulzura.val/   \n\n                                               img url  \\\n0    https://scontent-mia3-2.cdninstagram.com/v/t51...   \n1    https://scontent-mia3-1.cdninstagram.com/v/t51...   \n2    https://scontent-mia3-2.cdninstagram.com/v/t51...   \n3    https://scontent-mia3-2.cdninstagram.com/v/t51...   \n4    https://scontent-mia3-1.cdninstagram.com/v/t51...   \n..                                                 ...   \n538  https://scontent-mia3-2.cdninstagram.com/v/t51...   \n539  https://scontent-mia3-1.cdninstagram.com/v/t51...   \n540  https://scontent-mia3-2.cdninstagram.com/v/t51...   \n541  https://scontent-mia3-1.cdninstagram.com/v/t51...   \n542  https://scontent-mia3-1.cdninstagram.com/v/t51...   \n\n                                               content           telefono  \n0    ['Empezamos la semana de la mejor manera y que...  ['0424-437.0329']  \n1    No puedes dejar de probar el único Club House ...  ['0424-437.0329']  \n2    🌴Club House Los Roques🌴\\n⠀⠀⠀⠀⠀⠀⠀⠀⠀⠀⠀⠀⠀⠀⠀⠀⠀⠀⠀⠀⠀...  ['0424-437.0329']  \n3    ⛰️ Bandeja Caracas ⛰️ \\n⠀⠀⠀⠀⠀⠀⠀⠀⠀⠀⠀⠀⠀⠀⠀⠀⠀⠀⠀⠀⠀⠀...  ['0424-437.0329']  \n4                                                  NaN               None  \n..                                                 ...                ...  \n538                                                 []                 []  \n539  ['#pizza #foodvalencia #pizzavalencia #Telepiz...                 []  \n540  ¡La felicidad viene en una caja cuadrada y en ...     ['4144205599']  \n541  ['¡Allá nos vemos!.Reposted from @delimarketva...   ['0424-4192918']  \n542  ['La mejor parte del postre es cuando lo compa...                 []  \n\n[536 rows x 6 columns]",
      "text/html": "<div>\n<style scoped>\n    .dataframe tbody tr th:only-of-type {\n        vertical-align: middle;\n    }\n\n    .dataframe tbody tr th {\n        vertical-align: top;\n    }\n\n    .dataframe thead th {\n        text-align: right;\n    }\n</style>\n<table border=\"1\" class=\"dataframe\">\n  <thead>\n    <tr style=\"text-align: right;\">\n      <th></th>\n      <th>timestamp</th>\n      <th>user name</th>\n      <th>user url</th>\n      <th>img url</th>\n      <th>content</th>\n      <th>telefono</th>\n    </tr>\n  </thead>\n  <tbody>\n    <tr>\n      <th>0</th>\n      <td>18 de agosto de 2020</td>\n      <td>clubhouseexpress</td>\n      <td>/clubhouseexpress/</td>\n      <td>https://scontent-mia3-2.cdninstagram.com/v/t51...</td>\n      <td>['Empezamos la semana de la mejor manera y que...</td>\n      <td>['0424-437.0329']</td>\n    </tr>\n    <tr>\n      <th>1</th>\n      <td>18 de agosto de 2020</td>\n      <td>clubhouseexpress</td>\n      <td>/clubhouseexpress/</td>\n      <td>https://scontent-mia3-1.cdninstagram.com/v/t51...</td>\n      <td>No puedes dejar de probar el único Club House ...</td>\n      <td>['0424-437.0329']</td>\n    </tr>\n    <tr>\n      <th>2</th>\n      <td>18 de agosto de 2020</td>\n      <td>clubhouseexpress</td>\n      <td>/clubhouseexpress/</td>\n      <td>https://scontent-mia3-2.cdninstagram.com/v/t51...</td>\n      <td>🌴Club House Los Roques🌴\\n⠀⠀⠀⠀⠀⠀⠀⠀⠀⠀⠀⠀⠀⠀⠀⠀⠀⠀⠀⠀⠀...</td>\n      <td>['0424-437.0329']</td>\n    </tr>\n    <tr>\n      <th>3</th>\n      <td>18 de agosto de 2020</td>\n      <td>clubhouseexpress</td>\n      <td>/clubhouseexpress/</td>\n      <td>https://scontent-mia3-2.cdninstagram.com/v/t51...</td>\n      <td>⛰️ Bandeja Caracas ⛰️ \\n⠀⠀⠀⠀⠀⠀⠀⠀⠀⠀⠀⠀⠀⠀⠀⠀⠀⠀⠀⠀⠀⠀...</td>\n      <td>['0424-437.0329']</td>\n    </tr>\n    <tr>\n      <th>4</th>\n      <td>18 de agosto de 2020</td>\n      <td>clubhouseexpress</td>\n      <td>/clubhouseexpress/</td>\n      <td>https://scontent-mia3-1.cdninstagram.com/v/t51...</td>\n      <td>NaN</td>\n      <td>None</td>\n    </tr>\n    <tr>\n      <th>...</th>\n      <td>...</td>\n      <td>...</td>\n      <td>...</td>\n      <td>...</td>\n      <td>...</td>\n      <td>...</td>\n    </tr>\n    <tr>\n      <th>538</th>\n      <td>28 de agosto de 2020</td>\n      <td>fratellos.vzla</td>\n      <td>/fratellos.vzla/</td>\n      <td>https://scontent-mia3-2.cdninstagram.com/v/t51...</td>\n      <td>[]</td>\n      <td>[]</td>\n    </tr>\n    <tr>\n      <th>539</th>\n      <td>28 de agosto de 2020</td>\n      <td>telepizza041</td>\n      <td>/telepizza041/</td>\n      <td>https://scontent-mia3-1.cdninstagram.com/v/t51...</td>\n      <td>['#pizza #foodvalencia #pizzavalencia #Telepiz...</td>\n      <td>[]</td>\n    </tr>\n    <tr>\n      <th>540</th>\n      <td>28 de agosto de 2020</td>\n      <td>telepizza041</td>\n      <td>/telepizza041/</td>\n      <td>https://scontent-mia3-2.cdninstagram.com/v/t51...</td>\n      <td>¡La felicidad viene en una caja cuadrada y en ...</td>\n      <td>['4144205599']</td>\n    </tr>\n    <tr>\n      <th>541</th>\n      <td>28 de agosto de 2020</td>\n      <td>escueladeparrilleros</td>\n      <td>/escueladeparrilleros/</td>\n      <td>https://scontent-mia3-1.cdninstagram.com/v/t51...</td>\n      <td>['¡Allá nos vemos!.Reposted from @delimarketva...</td>\n      <td>['0424-4192918']</td>\n    </tr>\n    <tr>\n      <th>542</th>\n      <td>28 de agosto de 2020</td>\n      <td>condulzura.val</td>\n      <td>/condulzura.val/</td>\n      <td>https://scontent-mia3-1.cdninstagram.com/v/t51...</td>\n      <td>['La mejor parte del postre es cuando lo compa...</td>\n      <td>[]</td>\n    </tr>\n  </tbody>\n</table>\n<p>536 rows × 6 columns</p>\n</div>"
     },
     "metadata": {},
     "execution_count": 235
    }
   ],
   "source": [
    "data"
   ]
  },
  {
   "source": [
    "# Definiendo las funciones \n",
    "___________________________"
   ],
   "cell_type": "markdown",
   "metadata": {}
  },
  {
   "cell_type": "code",
   "execution_count": 241,
   "metadata": {},
   "outputs": [],
   "source": [
    "def get_phone( patron ):\n",
    "    \n",
    "    l_1 = []\n",
    "    flatten = []\n",
    "    for i in list_content:\n",
    "        try:\n",
    "            temp = patron.findall(i)\n",
    "            if len(temp) == 1:\n",
    "                l_1.append(temp[0])\n",
    "            else:\n",
    "                l_1.append(temp)\n",
    "\n",
    "        except:\n",
    "            l_1.append(None)\n",
    "            \n",
    "    return l_1"
   ]
  },
  {
   "cell_type": "code",
   "execution_count": null,
   "metadata": {},
   "outputs": [],
   "source": [
    "# Filtro Pais \n",
    "\n",
    "contador = 0\n",
    "for i in range(len(list_content)):\n",
    "    try:\n",
    "        if bool(compile.findall(list_content[i])): data.drop(data.index[i], inplace=True)\n",
    "    except:\n",
    "        pass\n"
   ]
  },
  {
   "cell_type": "code",
   "execution_count": 242,
   "metadata": {},
   "outputs": [],
   "source": [
    "list_content = data['content']"
   ]
  },
  {
   "cell_type": "code",
   "execution_count": 245,
   "metadata": {},
   "outputs": [],
   "source": [
    "data['telefono'] = get_phone( patron )"
   ]
  },
  {
   "cell_type": "code",
   "execution_count": 246,
   "metadata": {},
   "outputs": [
    {
     "output_type": "execute_result",
     "data": {
      "text/plain": "                timestamp             user name                user url  \\\n0    18 de agosto de 2020      clubhouseexpress      /clubhouseexpress/   \n1    18 de agosto de 2020      clubhouseexpress      /clubhouseexpress/   \n2    18 de agosto de 2020      clubhouseexpress      /clubhouseexpress/   \n3    18 de agosto de 2020      clubhouseexpress      /clubhouseexpress/   \n4    18 de agosto de 2020      clubhouseexpress      /clubhouseexpress/   \n..                    ...                   ...                     ...   \n538  28 de agosto de 2020        fratellos.vzla        /fratellos.vzla/   \n539  28 de agosto de 2020          telepizza041          /telepizza041/   \n540  28 de agosto de 2020          telepizza041          /telepizza041/   \n541  28 de agosto de 2020  escueladeparrilleros  /escueladeparrilleros/   \n542  28 de agosto de 2020        condulzura.val        /condulzura.val/   \n\n                                               img url  \\\n0    https://scontent-mia3-2.cdninstagram.com/v/t51...   \n1    https://scontent-mia3-1.cdninstagram.com/v/t51...   \n2    https://scontent-mia3-2.cdninstagram.com/v/t51...   \n3    https://scontent-mia3-2.cdninstagram.com/v/t51...   \n4    https://scontent-mia3-1.cdninstagram.com/v/t51...   \n..                                                 ...   \n538  https://scontent-mia3-2.cdninstagram.com/v/t51...   \n539  https://scontent-mia3-1.cdninstagram.com/v/t51...   \n540  https://scontent-mia3-2.cdninstagram.com/v/t51...   \n541  https://scontent-mia3-1.cdninstagram.com/v/t51...   \n542  https://scontent-mia3-1.cdninstagram.com/v/t51...   \n\n                                               content       telefono  \n0    ['Empezamos la semana de la mejor manera y que...  0424-437.0329  \n1    No puedes dejar de probar el único Club House ...  0424-437.0329  \n2    🌴Club House Los Roques🌴\\n⠀⠀⠀⠀⠀⠀⠀⠀⠀⠀⠀⠀⠀⠀⠀⠀⠀⠀⠀⠀⠀...  0424-437.0329  \n3    ⛰️ Bandeja Caracas ⛰️ \\n⠀⠀⠀⠀⠀⠀⠀⠀⠀⠀⠀⠀⠀⠀⠀⠀⠀⠀⠀⠀⠀⠀...  0424-437.0329  \n4                                                  NaN           None  \n..                                                 ...            ...  \n538                                                 []             []  \n539  ['#pizza #foodvalencia #pizzavalencia #Telepiz...             []  \n540  ¡La felicidad viene en una caja cuadrada y en ...     4144205599  \n541  ['¡Allá nos vemos!.Reposted from @delimarketva...   0424-4192918  \n542  ['La mejor parte del postre es cuando lo compa...             []  \n\n[536 rows x 6 columns]",
      "text/html": "<div>\n<style scoped>\n    .dataframe tbody tr th:only-of-type {\n        vertical-align: middle;\n    }\n\n    .dataframe tbody tr th {\n        vertical-align: top;\n    }\n\n    .dataframe thead th {\n        text-align: right;\n    }\n</style>\n<table border=\"1\" class=\"dataframe\">\n  <thead>\n    <tr style=\"text-align: right;\">\n      <th></th>\n      <th>timestamp</th>\n      <th>user name</th>\n      <th>user url</th>\n      <th>img url</th>\n      <th>content</th>\n      <th>telefono</th>\n    </tr>\n  </thead>\n  <tbody>\n    <tr>\n      <th>0</th>\n      <td>18 de agosto de 2020</td>\n      <td>clubhouseexpress</td>\n      <td>/clubhouseexpress/</td>\n      <td>https://scontent-mia3-2.cdninstagram.com/v/t51...</td>\n      <td>['Empezamos la semana de la mejor manera y que...</td>\n      <td>0424-437.0329</td>\n    </tr>\n    <tr>\n      <th>1</th>\n      <td>18 de agosto de 2020</td>\n      <td>clubhouseexpress</td>\n      <td>/clubhouseexpress/</td>\n      <td>https://scontent-mia3-1.cdninstagram.com/v/t51...</td>\n      <td>No puedes dejar de probar el único Club House ...</td>\n      <td>0424-437.0329</td>\n    </tr>\n    <tr>\n      <th>2</th>\n      <td>18 de agosto de 2020</td>\n      <td>clubhouseexpress</td>\n      <td>/clubhouseexpress/</td>\n      <td>https://scontent-mia3-2.cdninstagram.com/v/t51...</td>\n      <td>🌴Club House Los Roques🌴\\n⠀⠀⠀⠀⠀⠀⠀⠀⠀⠀⠀⠀⠀⠀⠀⠀⠀⠀⠀⠀⠀...</td>\n      <td>0424-437.0329</td>\n    </tr>\n    <tr>\n      <th>3</th>\n      <td>18 de agosto de 2020</td>\n      <td>clubhouseexpress</td>\n      <td>/clubhouseexpress/</td>\n      <td>https://scontent-mia3-2.cdninstagram.com/v/t51...</td>\n      <td>⛰️ Bandeja Caracas ⛰️ \\n⠀⠀⠀⠀⠀⠀⠀⠀⠀⠀⠀⠀⠀⠀⠀⠀⠀⠀⠀⠀⠀⠀...</td>\n      <td>0424-437.0329</td>\n    </tr>\n    <tr>\n      <th>4</th>\n      <td>18 de agosto de 2020</td>\n      <td>clubhouseexpress</td>\n      <td>/clubhouseexpress/</td>\n      <td>https://scontent-mia3-1.cdninstagram.com/v/t51...</td>\n      <td>NaN</td>\n      <td>None</td>\n    </tr>\n    <tr>\n      <th>...</th>\n      <td>...</td>\n      <td>...</td>\n      <td>...</td>\n      <td>...</td>\n      <td>...</td>\n      <td>...</td>\n    </tr>\n    <tr>\n      <th>538</th>\n      <td>28 de agosto de 2020</td>\n      <td>fratellos.vzla</td>\n      <td>/fratellos.vzla/</td>\n      <td>https://scontent-mia3-2.cdninstagram.com/v/t51...</td>\n      <td>[]</td>\n      <td>[]</td>\n    </tr>\n    <tr>\n      <th>539</th>\n      <td>28 de agosto de 2020</td>\n      <td>telepizza041</td>\n      <td>/telepizza041/</td>\n      <td>https://scontent-mia3-1.cdninstagram.com/v/t51...</td>\n      <td>['#pizza #foodvalencia #pizzavalencia #Telepiz...</td>\n      <td>[]</td>\n    </tr>\n    <tr>\n      <th>540</th>\n      <td>28 de agosto de 2020</td>\n      <td>telepizza041</td>\n      <td>/telepizza041/</td>\n      <td>https://scontent-mia3-2.cdninstagram.com/v/t51...</td>\n      <td>¡La felicidad viene en una caja cuadrada y en ...</td>\n      <td>4144205599</td>\n    </tr>\n    <tr>\n      <th>541</th>\n      <td>28 de agosto de 2020</td>\n      <td>escueladeparrilleros</td>\n      <td>/escueladeparrilleros/</td>\n      <td>https://scontent-mia3-1.cdninstagram.com/v/t51...</td>\n      <td>['¡Allá nos vemos!.Reposted from @delimarketva...</td>\n      <td>0424-4192918</td>\n    </tr>\n    <tr>\n      <th>542</th>\n      <td>28 de agosto de 2020</td>\n      <td>condulzura.val</td>\n      <td>/condulzura.val/</td>\n      <td>https://scontent-mia3-1.cdninstagram.com/v/t51...</td>\n      <td>['La mejor parte del postre es cuando lo compa...</td>\n      <td>[]</td>\n    </tr>\n  </tbody>\n</table>\n<p>536 rows × 6 columns</p>\n</div>"
     },
     "metadata": {},
     "execution_count": 246
    }
   ],
   "source": [
    "data"
   ]
  },
  {
   "cell_type": "code",
   "execution_count": 247,
   "metadata": {},
   "outputs": [],
   "source": [
    "datos = data.copy(deep=True)"
   ]
  },
  {
   "cell_type": "code",
   "execution_count": 259,
   "metadata": {},
   "outputs": [],
   "source": [
    "import numpy as np\n",
    "datos['telefono'] = datos['telefono'].replace([], np.nan)"
   ]
  },
  {
   "cell_type": "code",
   "execution_count": 265,
   "metadata": {},
   "outputs": [],
   "source": [
    "datos = datos[['telefono', 'content']].astype(str)"
   ]
  },
  {
   "cell_type": "code",
   "execution_count": 267,
   "metadata": {},
   "outputs": [],
   "source": [
    "datos = datos.replace('None', '')"
   ]
  },
  {
   "cell_type": "code",
   "execution_count": 268,
   "metadata": {},
   "outputs": [],
   "source": [
    "datos = datos.replace('[]', '')"
   ]
  },
  {
   "cell_type": "code",
   "execution_count": 271,
   "metadata": {},
   "outputs": [],
   "source": [
    "datos = datos.replace(np.nan, '')"
   ]
  },
  {
   "cell_type": "code",
   "execution_count": 272,
   "metadata": {},
   "outputs": [
    {
     "output_type": "execute_result",
     "data": {
      "text/plain": "                timestamp             user name                user url  \\\n0    18 de agosto de 2020      clubhouseexpress      /clubhouseexpress/   \n1    18 de agosto de 2020      clubhouseexpress      /clubhouseexpress/   \n2    18 de agosto de 2020      clubhouseexpress      /clubhouseexpress/   \n3    18 de agosto de 2020      clubhouseexpress      /clubhouseexpress/   \n4    18 de agosto de 2020      clubhouseexpress      /clubhouseexpress/   \n..                    ...                   ...                     ...   \n538  28 de agosto de 2020        fratellos.vzla        /fratellos.vzla/   \n539  28 de agosto de 2020          telepizza041          /telepizza041/   \n540  28 de agosto de 2020          telepizza041          /telepizza041/   \n541  28 de agosto de 2020  escueladeparrilleros  /escueladeparrilleros/   \n542  28 de agosto de 2020        condulzura.val        /condulzura.val/   \n\n                                               img url  \\\n0    https://scontent-mia3-2.cdninstagram.com/v/t51...   \n1    https://scontent-mia3-1.cdninstagram.com/v/t51...   \n2    https://scontent-mia3-2.cdninstagram.com/v/t51...   \n3    https://scontent-mia3-2.cdninstagram.com/v/t51...   \n4    https://scontent-mia3-1.cdninstagram.com/v/t51...   \n..                                                 ...   \n538  https://scontent-mia3-2.cdninstagram.com/v/t51...   \n539  https://scontent-mia3-1.cdninstagram.com/v/t51...   \n540  https://scontent-mia3-2.cdninstagram.com/v/t51...   \n541  https://scontent-mia3-1.cdninstagram.com/v/t51...   \n542  https://scontent-mia3-1.cdninstagram.com/v/t51...   \n\n                                               content       telefono  \n0    ['Empezamos la semana de la mejor manera y que...  0424-437.0329  \n1    No puedes dejar de probar el único Club House ...  0424-437.0329  \n2    🌴Club House Los Roques🌴\\n⠀⠀⠀⠀⠀⠀⠀⠀⠀⠀⠀⠀⠀⠀⠀⠀⠀⠀⠀⠀⠀...  0424-437.0329  \n3    ⛰️ Bandeja Caracas ⛰️ \\n⠀⠀⠀⠀⠀⠀⠀⠀⠀⠀⠀⠀⠀⠀⠀⠀⠀⠀⠀⠀⠀⠀...  0424-437.0329  \n4                                                                      \n..                                                 ...            ...  \n538                                                                    \n539  ['#pizza #foodvalencia #pizzavalencia #Telepiz...                 \n540  ¡La felicidad viene en una caja cuadrada y en ...     4144205599  \n541  ['¡Allá nos vemos!.Reposted from @delimarketva...   0424-4192918  \n542  ['La mejor parte del postre es cuando lo compa...                 \n\n[536 rows x 6 columns]",
      "text/html": "<div>\n<style scoped>\n    .dataframe tbody tr th:only-of-type {\n        vertical-align: middle;\n    }\n\n    .dataframe tbody tr th {\n        vertical-align: top;\n    }\n\n    .dataframe thead th {\n        text-align: right;\n    }\n</style>\n<table border=\"1\" class=\"dataframe\">\n  <thead>\n    <tr style=\"text-align: right;\">\n      <th></th>\n      <th>timestamp</th>\n      <th>user name</th>\n      <th>user url</th>\n      <th>img url</th>\n      <th>content</th>\n      <th>telefono</th>\n    </tr>\n  </thead>\n  <tbody>\n    <tr>\n      <th>0</th>\n      <td>18 de agosto de 2020</td>\n      <td>clubhouseexpress</td>\n      <td>/clubhouseexpress/</td>\n      <td>https://scontent-mia3-2.cdninstagram.com/v/t51...</td>\n      <td>['Empezamos la semana de la mejor manera y que...</td>\n      <td>0424-437.0329</td>\n    </tr>\n    <tr>\n      <th>1</th>\n      <td>18 de agosto de 2020</td>\n      <td>clubhouseexpress</td>\n      <td>/clubhouseexpress/</td>\n      <td>https://scontent-mia3-1.cdninstagram.com/v/t51...</td>\n      <td>No puedes dejar de probar el único Club House ...</td>\n      <td>0424-437.0329</td>\n    </tr>\n    <tr>\n      <th>2</th>\n      <td>18 de agosto de 2020</td>\n      <td>clubhouseexpress</td>\n      <td>/clubhouseexpress/</td>\n      <td>https://scontent-mia3-2.cdninstagram.com/v/t51...</td>\n      <td>🌴Club House Los Roques🌴\\n⠀⠀⠀⠀⠀⠀⠀⠀⠀⠀⠀⠀⠀⠀⠀⠀⠀⠀⠀⠀⠀...</td>\n      <td>0424-437.0329</td>\n    </tr>\n    <tr>\n      <th>3</th>\n      <td>18 de agosto de 2020</td>\n      <td>clubhouseexpress</td>\n      <td>/clubhouseexpress/</td>\n      <td>https://scontent-mia3-2.cdninstagram.com/v/t51...</td>\n      <td>⛰️ Bandeja Caracas ⛰️ \\n⠀⠀⠀⠀⠀⠀⠀⠀⠀⠀⠀⠀⠀⠀⠀⠀⠀⠀⠀⠀⠀⠀...</td>\n      <td>0424-437.0329</td>\n    </tr>\n    <tr>\n      <th>4</th>\n      <td>18 de agosto de 2020</td>\n      <td>clubhouseexpress</td>\n      <td>/clubhouseexpress/</td>\n      <td>https://scontent-mia3-1.cdninstagram.com/v/t51...</td>\n      <td></td>\n      <td></td>\n    </tr>\n    <tr>\n      <th>...</th>\n      <td>...</td>\n      <td>...</td>\n      <td>...</td>\n      <td>...</td>\n      <td>...</td>\n      <td>...</td>\n    </tr>\n    <tr>\n      <th>538</th>\n      <td>28 de agosto de 2020</td>\n      <td>fratellos.vzla</td>\n      <td>/fratellos.vzla/</td>\n      <td>https://scontent-mia3-2.cdninstagram.com/v/t51...</td>\n      <td></td>\n      <td></td>\n    </tr>\n    <tr>\n      <th>539</th>\n      <td>28 de agosto de 2020</td>\n      <td>telepizza041</td>\n      <td>/telepizza041/</td>\n      <td>https://scontent-mia3-1.cdninstagram.com/v/t51...</td>\n      <td>['#pizza #foodvalencia #pizzavalencia #Telepiz...</td>\n      <td></td>\n    </tr>\n    <tr>\n      <th>540</th>\n      <td>28 de agosto de 2020</td>\n      <td>telepizza041</td>\n      <td>/telepizza041/</td>\n      <td>https://scontent-mia3-2.cdninstagram.com/v/t51...</td>\n      <td>¡La felicidad viene en una caja cuadrada y en ...</td>\n      <td>4144205599</td>\n    </tr>\n    <tr>\n      <th>541</th>\n      <td>28 de agosto de 2020</td>\n      <td>escueladeparrilleros</td>\n      <td>/escueladeparrilleros/</td>\n      <td>https://scontent-mia3-1.cdninstagram.com/v/t51...</td>\n      <td>['¡Allá nos vemos!.Reposted from @delimarketva...</td>\n      <td>0424-4192918</td>\n    </tr>\n    <tr>\n      <th>542</th>\n      <td>28 de agosto de 2020</td>\n      <td>condulzura.val</td>\n      <td>/condulzura.val/</td>\n      <td>https://scontent-mia3-1.cdninstagram.com/v/t51...</td>\n      <td>['La mejor parte del postre es cuando lo compa...</td>\n      <td></td>\n    </tr>\n  </tbody>\n</table>\n<p>536 rows × 6 columns</p>\n</div>"
     },
     "metadata": {},
     "execution_count": 272
    }
   ],
   "source": [
    "datos"
   ]
  },
  {
   "cell_type": "code",
   "execution_count": 273,
   "metadata": {},
   "outputs": [],
   "source": [
    "#  GUardando el avance \n",
    "datos.to_csv(\"ig_scrapper/database/uni data/data.csv\")"
   ]
  },
  {
   "cell_type": "code",
   "execution_count": 276,
   "metadata": {},
   "outputs": [
    {
     "output_type": "execute_result",
     "data": {
      "text/plain": "0      ['Empezamos la semana de la mejor manera y que...\n1      No puedes dejar de probar el único Club House ...\n2      🌴Club House Los Roques🌴\\n⠀⠀⠀⠀⠀⠀⠀⠀⠀⠀⠀⠀⠀⠀⠀⠀⠀⠀⠀⠀⠀...\n3      ⛰️ Bandeja Caracas ⛰️ \\n⠀⠀⠀⠀⠀⠀⠀⠀⠀⠀⠀⠀⠀⠀⠀⠀⠀⠀⠀⠀⠀⠀...\n4                                                       \n                             ...                        \n538                                                     \n539    ['#pizza #foodvalencia #pizzavalencia #Telepiz...\n540    ¡La felicidad viene en una caja cuadrada y en ...\n541    ['¡Allá nos vemos!.Reposted from @delimarketva...\n542    ['La mejor parte del postre es cuando lo compa...\nName: content, Length: 536, dtype: object"
     },
     "metadata": {},
     "execution_count": 276
    }
   ],
   "source": [
    "datos['content']"
   ]
  },
  {
   "cell_type": "code",
   "execution_count": 277,
   "metadata": {},
   "outputs": [],
   "source": [
    "datos['user name'] = datos['user name'].astype(str)"
   ]
  },
  {
   "cell_type": "code",
   "execution_count": 280,
   "metadata": {},
   "outputs": [
    {
     "output_type": "execute_result",
     "data": {
      "text/plain": "              timestamp         user name            user url  \\\n0  18 de agosto de 2020  clubhouseexpress  /clubhouseexpress/   \n1  18 de agosto de 2020  clubhouseexpress  /clubhouseexpress/   \n2  18 de agosto de 2020  clubhouseexpress  /clubhouseexpress/   \n3  18 de agosto de 2020  clubhouseexpress  /clubhouseexpress/   \n4  18 de agosto de 2020  clubhouseexpress  /clubhouseexpress/   \n5  18 de agosto de 2020  clubhouseexpress  /clubhouseexpress/   \n6  18 de agosto de 2020  clubhouseexpress  /clubhouseexpress/   \n\n                                             img url  \\\n0  https://scontent-mia3-2.cdninstagram.com/v/t51...   \n1  https://scontent-mia3-1.cdninstagram.com/v/t51...   \n2  https://scontent-mia3-2.cdninstagram.com/v/t51...   \n3  https://scontent-mia3-2.cdninstagram.com/v/t51...   \n4  https://scontent-mia3-1.cdninstagram.com/v/t51...   \n5  https://scontent-mia3-2.cdninstagram.com/v/t51...   \n6  https://scontent-mia3-2.cdninstagram.com/v/t51...   \n\n                                             content       telefono  \n0  ['Empezamos la semana de la mejor manera y que...  0424-437.0329  \n1  No puedes dejar de probar el único Club House ...  0424-437.0329  \n2  🌴Club House Los Roques🌴\\n⠀⠀⠀⠀⠀⠀⠀⠀⠀⠀⠀⠀⠀⠀⠀⠀⠀⠀⠀⠀⠀...  0424-437.0329  \n3  ⛰️ Bandeja Caracas ⛰️ \\n⠀⠀⠀⠀⠀⠀⠀⠀⠀⠀⠀⠀⠀⠀⠀⠀⠀⠀⠀⠀⠀⠀...  0424-437.0329  \n4                                                                    \n5  ⛰️ Club House Mérida ⛰️ \\n⠀⠀⠀⠀⠀⠀⠀⠀⠀⠀⠀⠀⠀⠀⠀⠀⠀⠀⠀⠀...  0424-437.0329  \n6  🙌¡ACTIVOS!🙌\\n⠀⠀⠀⠀⠀⠀⠀⠀⠀⠀⠀⠀⠀⠀⠀⠀⠀⠀⠀⠀⠀⠀⠀⠀\\nDisfrut...  0424-437.0329  ",
      "text/html": "<div>\n<style scoped>\n    .dataframe tbody tr th:only-of-type {\n        vertical-align: middle;\n    }\n\n    .dataframe tbody tr th {\n        vertical-align: top;\n    }\n\n    .dataframe thead th {\n        text-align: right;\n    }\n</style>\n<table border=\"1\" class=\"dataframe\">\n  <thead>\n    <tr style=\"text-align: right;\">\n      <th></th>\n      <th>timestamp</th>\n      <th>user name</th>\n      <th>user url</th>\n      <th>img url</th>\n      <th>content</th>\n      <th>telefono</th>\n    </tr>\n  </thead>\n  <tbody>\n    <tr>\n      <th>0</th>\n      <td>18 de agosto de 2020</td>\n      <td>clubhouseexpress</td>\n      <td>/clubhouseexpress/</td>\n      <td>https://scontent-mia3-2.cdninstagram.com/v/t51...</td>\n      <td>['Empezamos la semana de la mejor manera y que...</td>\n      <td>0424-437.0329</td>\n    </tr>\n    <tr>\n      <th>1</th>\n      <td>18 de agosto de 2020</td>\n      <td>clubhouseexpress</td>\n      <td>/clubhouseexpress/</td>\n      <td>https://scontent-mia3-1.cdninstagram.com/v/t51...</td>\n      <td>No puedes dejar de probar el único Club House ...</td>\n      <td>0424-437.0329</td>\n    </tr>\n    <tr>\n      <th>2</th>\n      <td>18 de agosto de 2020</td>\n      <td>clubhouseexpress</td>\n      <td>/clubhouseexpress/</td>\n      <td>https://scontent-mia3-2.cdninstagram.com/v/t51...</td>\n      <td>🌴Club House Los Roques🌴\\n⠀⠀⠀⠀⠀⠀⠀⠀⠀⠀⠀⠀⠀⠀⠀⠀⠀⠀⠀⠀⠀...</td>\n      <td>0424-437.0329</td>\n    </tr>\n    <tr>\n      <th>3</th>\n      <td>18 de agosto de 2020</td>\n      <td>clubhouseexpress</td>\n      <td>/clubhouseexpress/</td>\n      <td>https://scontent-mia3-2.cdninstagram.com/v/t51...</td>\n      <td>⛰️ Bandeja Caracas ⛰️ \\n⠀⠀⠀⠀⠀⠀⠀⠀⠀⠀⠀⠀⠀⠀⠀⠀⠀⠀⠀⠀⠀⠀...</td>\n      <td>0424-437.0329</td>\n    </tr>\n    <tr>\n      <th>4</th>\n      <td>18 de agosto de 2020</td>\n      <td>clubhouseexpress</td>\n      <td>/clubhouseexpress/</td>\n      <td>https://scontent-mia3-1.cdninstagram.com/v/t51...</td>\n      <td></td>\n      <td></td>\n    </tr>\n    <tr>\n      <th>5</th>\n      <td>18 de agosto de 2020</td>\n      <td>clubhouseexpress</td>\n      <td>/clubhouseexpress/</td>\n      <td>https://scontent-mia3-2.cdninstagram.com/v/t51...</td>\n      <td>⛰️ Club House Mérida ⛰️ \\n⠀⠀⠀⠀⠀⠀⠀⠀⠀⠀⠀⠀⠀⠀⠀⠀⠀⠀⠀⠀...</td>\n      <td>0424-437.0329</td>\n    </tr>\n    <tr>\n      <th>6</th>\n      <td>18 de agosto de 2020</td>\n      <td>clubhouseexpress</td>\n      <td>/clubhouseexpress/</td>\n      <td>https://scontent-mia3-2.cdninstagram.com/v/t51...</td>\n      <td>🙌¡ACTIVOS!🙌\\n⠀⠀⠀⠀⠀⠀⠀⠀⠀⠀⠀⠀⠀⠀⠀⠀⠀⠀⠀⠀⠀⠀⠀⠀\\nDisfrut...</td>\n      <td>0424-437.0329</td>\n    </tr>\n  </tbody>\n</table>\n</div>"
     },
     "metadata": {},
     "execution_count": 280
    }
   ],
   "source": [
    "datos.loc[datos['user name'] == 'clubhouseexpress']"
   ]
  },
  {
   "source": [
    "## Continuacion precio y completar telefono\n",
    "__________________________"
   ],
   "cell_type": "markdown",
   "metadata": {}
  },
  {
   "cell_type": "code",
   "execution_count": 1,
   "metadata": {},
   "outputs": [],
   "source": [
    "import pandas as pd \n",
    "import re \n",
    "import numpy as np"
   ]
  },
  {
   "cell_type": "code",
   "execution_count": 2,
   "metadata": {},
   "outputs": [],
   "source": [
    "data = pd.read_csv(\"ig_scrapper/database/uni data/data.csv\")\n",
    "datos = data.copy(deep=True)"
   ]
  },
  {
   "cell_type": "code",
   "execution_count": null,
   "metadata": {},
   "outputs": [],
   "source": []
  }
 ]
}