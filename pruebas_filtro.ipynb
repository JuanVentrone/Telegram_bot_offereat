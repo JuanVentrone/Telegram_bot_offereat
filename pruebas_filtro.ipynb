{
 "metadata": {
  "language_info": {
   "codemirror_mode": {
    "name": "ipython",
    "version": 3
   },
   "file_extension": ".py",
   "mimetype": "text/x-python",
   "name": "python",
   "nbconvert_exporter": "python",
   "pygments_lexer": "ipython3",
   "version": "3.7.3-final"
  },
  "orig_nbformat": 2,
  "kernelspec": {
   "name": "python37364bitbaseconda0e883509fb914b28935ee363f9f0181b",
   "display_name": "Python 3.7.3 64-bit ('base': conda)"
  }
 },
 "nbformat": 4,
 "nbformat_minor": 2,
 "cells": [
  {
   "cell_type": "code",
   "execution_count": 1,
   "metadata": {},
   "outputs": [],
   "source": [
    "import pandas as pd"
   ]
  },
  {
   "cell_type": "code",
   "execution_count": 2,
   "metadata": {
    "tags": []
   },
   "outputs": [],
   "source": [
    "data = pd.read_csv(\"ig_scrapper/database/uni data/data.csv\")"
   ]
  },
  {
   "cell_type": "code",
   "execution_count": 3,
   "metadata": {},
   "outputs": [
    {
     "output_type": "execute_result",
     "data": {
      "text/plain": "                timestamp             user name                user url  \\\n0    18 de agosto de 2020      clubhouseexpress      /clubhouseexpress/   \n1    18 de agosto de 2020      clubhouseexpress      /clubhouseexpress/   \n2    18 de agosto de 2020      clubhouseexpress      /clubhouseexpress/   \n3    18 de agosto de 2020      clubhouseexpress      /clubhouseexpress/   \n4    18 de agosto de 2020      clubhouseexpress      /clubhouseexpress/   \n..                    ...                   ...                     ...   \n538  28 de agosto de 2020        fratellos.vzla        /fratellos.vzla/   \n539  28 de agosto de 2020          telepizza041          /telepizza041/   \n540  28 de agosto de 2020          telepizza041          /telepizza041/   \n541  28 de agosto de 2020  escueladeparrilleros  /escueladeparrilleros/   \n542  28 de agosto de 2020        condulzura.val        /condulzura.val/   \n\n                                               img url  \\\n0    https://scontent-mia3-2.cdninstagram.com/v/t51...   \n1    https://scontent-mia3-1.cdninstagram.com/v/t51...   \n2    https://scontent-mia3-2.cdninstagram.com/v/t51...   \n3    https://scontent-mia3-2.cdninstagram.com/v/t51...   \n4    https://scontent-mia3-1.cdninstagram.com/v/t51...   \n..                                                 ...   \n538  https://scontent-mia3-2.cdninstagram.com/v/t51...   \n539  https://scontent-mia3-1.cdninstagram.com/v/t51...   \n540  https://scontent-mia3-2.cdninstagram.com/v/t51...   \n541  https://scontent-mia3-1.cdninstagram.com/v/t51...   \n542  https://scontent-mia3-1.cdninstagram.com/v/t51...   \n\n                                               content  \n0    ['Empezamos la semana de la mejor manera y que...  \n1    No puedes dejar de probar el único Club House ...  \n2    🌴Club House Los Roques🌴\\n⠀⠀⠀⠀⠀⠀⠀⠀⠀⠀⠀⠀⠀⠀⠀⠀⠀⠀⠀⠀⠀...  \n3    ⛰️ Bandeja Caracas ⛰️ \\n⠀⠀⠀⠀⠀⠀⠀⠀⠀⠀⠀⠀⠀⠀⠀⠀⠀⠀⠀⠀⠀⠀...  \n4                                                  NaN  \n..                                                 ...  \n538                                                 []  \n539  ['#pizza #foodvalencia #pizzavalencia #Telepiz...  \n540  ¡La felicidad viene en una caja cuadrada y en ...  \n541  ['¡Allá nos vemos!.Reposted from @delimarketva...  \n542  ['La mejor parte del postre es cuando lo compa...  \n\n[543 rows x 5 columns]",
      "text/html": "<div>\n<style scoped>\n    .dataframe tbody tr th:only-of-type {\n        vertical-align: middle;\n    }\n\n    .dataframe tbody tr th {\n        vertical-align: top;\n    }\n\n    .dataframe thead th {\n        text-align: right;\n    }\n</style>\n<table border=\"1\" class=\"dataframe\">\n  <thead>\n    <tr style=\"text-align: right;\">\n      <th></th>\n      <th>timestamp</th>\n      <th>user name</th>\n      <th>user url</th>\n      <th>img url</th>\n      <th>content</th>\n    </tr>\n  </thead>\n  <tbody>\n    <tr>\n      <th>0</th>\n      <td>18 de agosto de 2020</td>\n      <td>clubhouseexpress</td>\n      <td>/clubhouseexpress/</td>\n      <td>https://scontent-mia3-2.cdninstagram.com/v/t51...</td>\n      <td>['Empezamos la semana de la mejor manera y que...</td>\n    </tr>\n    <tr>\n      <th>1</th>\n      <td>18 de agosto de 2020</td>\n      <td>clubhouseexpress</td>\n      <td>/clubhouseexpress/</td>\n      <td>https://scontent-mia3-1.cdninstagram.com/v/t51...</td>\n      <td>No puedes dejar de probar el único Club House ...</td>\n    </tr>\n    <tr>\n      <th>2</th>\n      <td>18 de agosto de 2020</td>\n      <td>clubhouseexpress</td>\n      <td>/clubhouseexpress/</td>\n      <td>https://scontent-mia3-2.cdninstagram.com/v/t51...</td>\n      <td>🌴Club House Los Roques🌴\\n⠀⠀⠀⠀⠀⠀⠀⠀⠀⠀⠀⠀⠀⠀⠀⠀⠀⠀⠀⠀⠀...</td>\n    </tr>\n    <tr>\n      <th>3</th>\n      <td>18 de agosto de 2020</td>\n      <td>clubhouseexpress</td>\n      <td>/clubhouseexpress/</td>\n      <td>https://scontent-mia3-2.cdninstagram.com/v/t51...</td>\n      <td>⛰️ Bandeja Caracas ⛰️ \\n⠀⠀⠀⠀⠀⠀⠀⠀⠀⠀⠀⠀⠀⠀⠀⠀⠀⠀⠀⠀⠀⠀...</td>\n    </tr>\n    <tr>\n      <th>4</th>\n      <td>18 de agosto de 2020</td>\n      <td>clubhouseexpress</td>\n      <td>/clubhouseexpress/</td>\n      <td>https://scontent-mia3-1.cdninstagram.com/v/t51...</td>\n      <td>NaN</td>\n    </tr>\n    <tr>\n      <th>...</th>\n      <td>...</td>\n      <td>...</td>\n      <td>...</td>\n      <td>...</td>\n      <td>...</td>\n    </tr>\n    <tr>\n      <th>538</th>\n      <td>28 de agosto de 2020</td>\n      <td>fratellos.vzla</td>\n      <td>/fratellos.vzla/</td>\n      <td>https://scontent-mia3-2.cdninstagram.com/v/t51...</td>\n      <td>[]</td>\n    </tr>\n    <tr>\n      <th>539</th>\n      <td>28 de agosto de 2020</td>\n      <td>telepizza041</td>\n      <td>/telepizza041/</td>\n      <td>https://scontent-mia3-1.cdninstagram.com/v/t51...</td>\n      <td>['#pizza #foodvalencia #pizzavalencia #Telepiz...</td>\n    </tr>\n    <tr>\n      <th>540</th>\n      <td>28 de agosto de 2020</td>\n      <td>telepizza041</td>\n      <td>/telepizza041/</td>\n      <td>https://scontent-mia3-2.cdninstagram.com/v/t51...</td>\n      <td>¡La felicidad viene en una caja cuadrada y en ...</td>\n    </tr>\n    <tr>\n      <th>541</th>\n      <td>28 de agosto de 2020</td>\n      <td>escueladeparrilleros</td>\n      <td>/escueladeparrilleros/</td>\n      <td>https://scontent-mia3-1.cdninstagram.com/v/t51...</td>\n      <td>['¡Allá nos vemos!.Reposted from @delimarketva...</td>\n    </tr>\n    <tr>\n      <th>542</th>\n      <td>28 de agosto de 2020</td>\n      <td>condulzura.val</td>\n      <td>/condulzura.val/</td>\n      <td>https://scontent-mia3-1.cdninstagram.com/v/t51...</td>\n      <td>['La mejor parte del postre es cuando lo compa...</td>\n    </tr>\n  </tbody>\n</table>\n<p>543 rows × 5 columns</p>\n</div>"
     },
     "metadata": {},
     "execution_count": 3
    }
   ],
   "source": [
    "data.drop( data.columns[data.columns.str.contains('unnamed', case = False )], axis = 1, inplace = True )\n",
    "data"
   ]
  },
  {
   "cell_type": "code",
   "execution_count": 4,
   "metadata": {},
   "outputs": [
    {
     "output_type": "execute_result",
     "data": {
      "text/plain": "'🌴Club House Los Roques🌴\\n⠀⠀⠀⠀⠀⠀⠀⠀⠀⠀⠀⠀⠀⠀⠀⠀⠀⠀⠀⠀⠀⠀⠀⠀\\nNuestro Club Houses Los Roques es un paraíso de sabores por los que podrás navegar y zambullirte en esta exquisita experiencia...🤤🥺\\n⠀⠀⠀⠀⠀⠀⠀⠀⠀⠀⠀⠀⠀⠀⠀⠀⠀⠀⠀⠀⠀⠀⠀⠀\\nIngredientes:🥪\\n- Jamón de Pierna.🍖\\n- Queso mozzarella.🧀\\n- Mayonesa aguacate.🥑\\n- Lechuga.🥬\\n- Huevo al omelette con camarones.🍳\\n- Camarones rebozados.🍤\\n- Papas Fritas.🍟\\n⠀⠀⠀⠀⠀⠀⠀⠀⠀⠀⠀⠀⠀⠀⠀⠀⠀⠀⠀⠀⠀⠀⠀⠀\\nPara hacer tu pedido marca nuestro número...👇\\n⠀⠀⠀⠀⠀⠀⠀⠀⠀⠀⠀⠀⠀⠀⠀⠀⠀⠀⠀⠀⠀⠀⠀⠀\\n📱 DELIVERY PICK UP: 0424-437.0329\\n⠀⠀⠀⠀⠀⠀⠀⠀⠀⠀⠀⠀⠀⠀⠀⠀⠀⠀⠀⠀⠀⠀⠀⠀\\n⠀⠀⠀⠀⠀⠀⠀⠀⠀⠀⠀⠀⠀⠀⠀⠀⠀⠀⠀⠀⠀⠀⠀⠀\\n#clubhouseexpress #delivery #pickup #clubhouse #losroques #clubhousemerida #miercoles #valencia'"
     },
     "metadata": {},
     "execution_count": 4
    }
   ],
   "source": [
    "data['content'].iloc[2]"
   ]
  },
  {
   "cell_type": "code",
   "execution_count": 5,
   "metadata": {},
   "outputs": [
    {
     "output_type": "execute_result",
     "data": {
      "text/plain": "                                                                                    timestamp  \\\nuser name            content                                                                    \nclubhouseexpress     ['Empezamos la semana de la mejor manera y que ...  18 de agosto de 2020   \n                     No puedes dejar de probar el único Club House h...  18 de agosto de 2020   \n                     🌴Club House Los Roques🌴\\n⠀⠀⠀⠀⠀⠀⠀⠀⠀⠀⠀⠀⠀⠀⠀⠀⠀⠀⠀⠀⠀⠀...  18 de agosto de 2020   \n                     ⛰️ Bandeja Caracas ⛰️ \\n⠀⠀⠀⠀⠀⠀⠀⠀⠀⠀⠀⠀⠀⠀⠀⠀⠀⠀⠀⠀⠀⠀⠀...  18 de agosto de 2020   \n                     NaN                                                 18 de agosto de 2020   \n...                                                                                       ...   \nfratellos.vzla       []                                                  28 de agosto de 2020   \ntelepizza041         ['#pizza #foodvalencia #pizzavalencia #Telepizz...  28 de agosto de 2020   \n                     ¡La felicidad viene en una caja cuadrada y en p...  28 de agosto de 2020   \nescueladeparrilleros ['¡Allá nos vemos!.Reposted from @delimarketval...  28 de agosto de 2020   \ncondulzura.val       ['La mejor parte del postre es cuando lo compar...  28 de agosto de 2020   \n\n                                                                                       user url  \\\nuser name            content                                                                      \nclubhouseexpress     ['Empezamos la semana de la mejor manera y que ...      /clubhouseexpress/   \n                     No puedes dejar de probar el único Club House h...      /clubhouseexpress/   \n                     🌴Club House Los Roques🌴\\n⠀⠀⠀⠀⠀⠀⠀⠀⠀⠀⠀⠀⠀⠀⠀⠀⠀⠀⠀⠀⠀⠀...      /clubhouseexpress/   \n                     ⛰️ Bandeja Caracas ⛰️ \\n⠀⠀⠀⠀⠀⠀⠀⠀⠀⠀⠀⠀⠀⠀⠀⠀⠀⠀⠀⠀⠀⠀⠀...      /clubhouseexpress/   \n                     NaN                                                     /clubhouseexpress/   \n...                                                                                         ...   \nfratellos.vzla       []                                                        /fratellos.vzla/   \ntelepizza041         ['#pizza #foodvalencia #pizzavalencia #Telepizz...          /telepizza041/   \n                     ¡La felicidad viene en una caja cuadrada y en p...          /telepizza041/   \nescueladeparrilleros ['¡Allá nos vemos!.Reposted from @delimarketval...  /escueladeparrilleros/   \ncondulzura.val       ['La mejor parte del postre es cuando lo compar...        /condulzura.val/   \n\n                                                                                                                   img url  \nuser name            content                                                                                                \nclubhouseexpress     ['Empezamos la semana de la mejor manera y que ...  https://scontent-mia3-2.cdninstagram.com/v/t51...  \n                     No puedes dejar de probar el único Club House h...  https://scontent-mia3-1.cdninstagram.com/v/t51...  \n                     🌴Club House Los Roques🌴\\n⠀⠀⠀⠀⠀⠀⠀⠀⠀⠀⠀⠀⠀⠀⠀⠀⠀⠀⠀⠀⠀⠀...  https://scontent-mia3-2.cdninstagram.com/v/t51...  \n                     ⛰️ Bandeja Caracas ⛰️ \\n⠀⠀⠀⠀⠀⠀⠀⠀⠀⠀⠀⠀⠀⠀⠀⠀⠀⠀⠀⠀⠀⠀⠀...  https://scontent-mia3-2.cdninstagram.com/v/t51...  \n                     NaN                                                 https://scontent-mia3-1.cdninstagram.com/v/t51...  \n...                                                                                                                    ...  \nfratellos.vzla       []                                                  https://scontent-mia3-2.cdninstagram.com/v/t51...  \ntelepizza041         ['#pizza #foodvalencia #pizzavalencia #Telepizz...  https://scontent-mia3-1.cdninstagram.com/v/t51...  \n                     ¡La felicidad viene en una caja cuadrada y en p...  https://scontent-mia3-2.cdninstagram.com/v/t51...  \nescueladeparrilleros ['¡Allá nos vemos!.Reposted from @delimarketval...  https://scontent-mia3-1.cdninstagram.com/v/t51...  \ncondulzura.val       ['La mejor parte del postre es cuando lo compar...  https://scontent-mia3-1.cdninstagram.com/v/t51...  \n\n[543 rows x 3 columns]",
      "text/html": "<div>\n<style scoped>\n    .dataframe tbody tr th:only-of-type {\n        vertical-align: middle;\n    }\n\n    .dataframe tbody tr th {\n        vertical-align: top;\n    }\n\n    .dataframe thead th {\n        text-align: right;\n    }\n</style>\n<table border=\"1\" class=\"dataframe\">\n  <thead>\n    <tr style=\"text-align: right;\">\n      <th></th>\n      <th></th>\n      <th>timestamp</th>\n      <th>user url</th>\n      <th>img url</th>\n    </tr>\n    <tr>\n      <th>user name</th>\n      <th>content</th>\n      <th></th>\n      <th></th>\n      <th></th>\n    </tr>\n  </thead>\n  <tbody>\n    <tr>\n      <th rowspan=\"5\" valign=\"top\">clubhouseexpress</th>\n      <th>['Empezamos la semana de la mejor manera y que mejor que disfrutando en nuestras casas una de estás Bandejas como lo es la Barquisimeto...🤤🥺🤭😳🔸1 Club Houses.🔸Papas Fritas. 🔸6Tequeños.🔸10 Alitas.⠀⠀⠀⠀⠀⠀⠀⠀⠀⠀⠀⠀⠀⠀⠀⠀⠀⠀⠀⠀⠀⠀⠀⠀Para hacer tu pedido marca nuestro número...👇⠀⠀⠀⠀⠀⠀⠀⠀⠀⠀⠀⠀⠀⠀⠀⠀⠀⠀⠀⠀⠀⠀⠀⠀📱 DELIVERY: 0424-437.0329⠀⠀⠀⠀⠀⠀⠀⠀⠀⠀⠀⠀⠀⠀⠀⠀⠀⠀⠀⠀⠀⠀⠀⠀#clubhouse #delivery #pickup #papasfritas #tequeños #alitas #deliveryvalencia #comidarapida #barquisimeto #alitas #alitasagridulce #alitasbbq #alitas🍗']</th>\n      <td>18 de agosto de 2020</td>\n      <td>/clubhouseexpress/</td>\n      <td>https://scontent-mia3-2.cdninstagram.com/v/t51...</td>\n    </tr>\n    <tr>\n      <th>No puedes dejar de probar el único Club House hecho con pan de tequeño en el mundo, está innovación ha dado mucho de que hablar y queremos saber tu opinión... 🤭👇\\n⠀⠀⠀⠀⠀⠀⠀⠀⠀⠀⠀⠀⠀⠀⠀⠀⠀⠀⠀⠀⠀⠀⠀⠀\\n• Jamon de pierna.\\n• Queso amarillo.\\n• Huevo.\\n• Lechuga.\\n• Papás Fritas.\\n⠀⠀⠀⠀⠀⠀⠀⠀⠀⠀⠀⠀⠀⠀⠀⠀⠀⠀⠀⠀⠀⠀⠀⠀\\nSolo queda degustarlo y saborear su delicioso sabor.🤤\\n⠀⠀⠀⠀⠀⠀⠀⠀⠀⠀⠀⠀⠀⠀⠀⠀⠀⠀⠀⠀⠀⠀⠀⠀\\n📱 DELIVERY: 0424-437.0329\\n⠀⠀⠀⠀⠀⠀⠀⠀⠀⠀⠀⠀⠀⠀⠀⠀⠀⠀⠀⠀⠀⠀⠀⠀\\n#clubhouse #delivery #tequeños #losteques #pandetequeño #venezuela #emprendedores #emprendimiento #innovacion</th>\n      <td>18 de agosto de 2020</td>\n      <td>/clubhouseexpress/</td>\n      <td>https://scontent-mia3-1.cdninstagram.com/v/t51...</td>\n    </tr>\n    <tr>\n      <th>🌴Club House Los Roques🌴\\n⠀⠀⠀⠀⠀⠀⠀⠀⠀⠀⠀⠀⠀⠀⠀⠀⠀⠀⠀⠀⠀⠀⠀⠀\\nNuestro Club Houses Los Roques es un paraíso de sabores por los que podrás navegar y zambullirte en esta exquisita experiencia...🤤🥺\\n⠀⠀⠀⠀⠀⠀⠀⠀⠀⠀⠀⠀⠀⠀⠀⠀⠀⠀⠀⠀⠀⠀⠀⠀\\nIngredientes:🥪\\n- Jamón de Pierna.🍖\\n- Queso mozzarella.🧀\\n- Mayonesa aguacate.🥑\\n- Lechuga.🥬\\n- Huevo al omelette con camarones.🍳\\n- Camarones rebozados.🍤\\n- Papas Fritas.🍟\\n⠀⠀⠀⠀⠀⠀⠀⠀⠀⠀⠀⠀⠀⠀⠀⠀⠀⠀⠀⠀⠀⠀⠀⠀\\nPara hacer tu pedido marca nuestro número...👇\\n⠀⠀⠀⠀⠀⠀⠀⠀⠀⠀⠀⠀⠀⠀⠀⠀⠀⠀⠀⠀⠀⠀⠀⠀\\n📱 DELIVERY PICK UP: 0424-437.0329\\n⠀⠀⠀⠀⠀⠀⠀⠀⠀⠀⠀⠀⠀⠀⠀⠀⠀⠀⠀⠀⠀⠀⠀⠀\\n⠀⠀⠀⠀⠀⠀⠀⠀⠀⠀⠀⠀⠀⠀⠀⠀⠀⠀⠀⠀⠀⠀⠀⠀\\n#clubhouseexpress #delivery #pickup #clubhouse #losroques #clubhousemerida #miercoles #valencia</th>\n      <td>18 de agosto de 2020</td>\n      <td>/clubhouseexpress/</td>\n      <td>https://scontent-mia3-2.cdninstagram.com/v/t51...</td>\n    </tr>\n    <tr>\n      <th>⛰️ Bandeja Caracas ⛰️ \\n⠀⠀⠀⠀⠀⠀⠀⠀⠀⠀⠀⠀⠀⠀⠀⠀⠀⠀⠀⠀⠀⠀⠀⠀\\nNuestra increíble Bandeja Caracas reluce hoy en nuestro feed, y es que es una de las favoritas de nuestros distinguidos clientes, miremos que contiene . 😮🤤\\n⠀⠀⠀⠀⠀⠀⠀⠀⠀⠀⠀⠀⠀⠀⠀⠀⠀⠀⠀⠀⠀⠀⠀⠀\\nContenido:\\n- 2 Club Houses.\\n- 12 Tequeños.\\n- 20 Alitas.\\n- Papás fritas.\\n⠀⠀⠀⠀⠀⠀⠀⠀⠀⠀⠀⠀⠀⠀⠀⠀⠀⠀⠀⠀⠀⠀⠀⠀\\nPara hacer tu pedido marca nuestro número...👇\\n⠀⠀⠀⠀⠀⠀⠀⠀⠀⠀⠀⠀⠀⠀⠀⠀⠀⠀⠀⠀⠀⠀⠀⠀\\n📱 DELIVERY PICK UP: 0424-437.0329\\n⠀⠀⠀⠀⠀⠀⠀⠀⠀⠀⠀⠀⠀⠀⠀⠀⠀⠀⠀⠀⠀⠀⠀⠀\\n⠀⠀⠀⠀⠀⠀⠀⠀⠀⠀⠀⠀⠀⠀⠀⠀⠀⠀⠀⠀⠀⠀⠀⠀\\n#clubhouseexpress #delivery #pickup #clubhouse #bandejacaracas #caracas  #valencia</th>\n      <td>18 de agosto de 2020</td>\n      <td>/clubhouseexpress/</td>\n      <td>https://scontent-mia3-2.cdninstagram.com/v/t51...</td>\n    </tr>\n    <tr>\n      <th>NaN</th>\n      <td>18 de agosto de 2020</td>\n      <td>/clubhouseexpress/</td>\n      <td>https://scontent-mia3-1.cdninstagram.com/v/t51...</td>\n    </tr>\n    <tr>\n      <th>...</th>\n      <th>...</th>\n      <td>...</td>\n      <td>...</td>\n      <td>...</td>\n    </tr>\n    <tr>\n      <th>fratellos.vzla</th>\n      <th>[]</th>\n      <td>28 de agosto de 2020</td>\n      <td>/fratellos.vzla/</td>\n      <td>https://scontent-mia3-2.cdninstagram.com/v/t51...</td>\n    </tr>\n    <tr>\n      <th rowspan=\"2\" valign=\"top\">telepizza041</th>\n      <th>['#pizza #foodvalencia #pizzavalencia #Telepizza #gourmet #valenciagourmet #deliveryvalencia #deliveryvenezuela#fastfood #ComidaRapidaValencia #sandiego #valencia #naguanagua #delivery #pizza #venezuela #pizzalover  #dinner #almuerzo #cenna #sinfiltro #picsart #instafood #food #sunday #findesemana #promfood']</th>\n      <td>28 de agosto de 2020</td>\n      <td>/telepizza041/</td>\n      <td>https://scontent-mia3-1.cdninstagram.com/v/t51...</td>\n    </tr>\n    <tr>\n      <th>¡La felicidad viene en una caja cuadrada y en pedazos triangulares!\\n¿Tú crees que ella se ve feliz? \\n¡Cuéntanos!\\n•\\n•\\n•\\nPídenos ahora a través de @ochotelolleva \\n📲: +58 4144205599</th>\n      <td>28 de agosto de 2020</td>\n      <td>/telepizza041/</td>\n      <td>https://scontent-mia3-2.cdninstagram.com/v/t51...</td>\n    </tr>\n    <tr>\n      <th>escueladeparrilleros</th>\n      <th>['¡Allá nos vemos!.Reposted from @delimarketval ¡Alístate para comer como la realeza 😎! Acércate a #DeliMarket y retira tu porción de lechón para dos (2) personas a $10 🔥El lechón lo tendremos en $7 el kg por si lo prefieres aparte 😎Desde las 12 pm de este sábado @carrasquerock estará activo frente a la parrilla ☝📍 Te esperamos en el CC EuroCenter, antes de subir el elevando de Los Colorados. Recuerda que nuestro #Pickup también estará activo para atenderte 🛒-Trabajamos de lunes a lunes de 8 am a 4 pm. Los domingos abrimos a las 9 am 📩 Escríbenos al 0424-4192918 o al privado y rápido te atendemos.#Valencia #Venezuela #Carabobo #Bodegon #Comida #SanDiegoCarabobo #ValenciaCarabobo #Eltrigal #Prebo #Mañongo #Guataparo #ElParral #LaTrigaleña #Laviña #DeliveryValencia - #regrann']</th>\n      <td>28 de agosto de 2020</td>\n      <td>/escueladeparrilleros/</td>\n      <td>https://scontent-mia3-1.cdninstagram.com/v/t51...</td>\n    </tr>\n    <tr>\n      <th>condulzura.val</th>\n      <th>['La mejor parte del postre es cuando lo comparto contigo!💗😍.y tú, ¿Con quién compartes tu postre? Etiquétalo☺️👇.No olvides que estamos de promoción‼️😏.Puedes realizar tu pedido tu pedido al dm📩 o al link de nuestro perfil📲.¡Feliz fin de semana!.#condulzuralovers#marquesas#chocolate#postres#deliveryvalencia#valencia#venezuela']</th>\n      <td>28 de agosto de 2020</td>\n      <td>/condulzura.val/</td>\n      <td>https://scontent-mia3-1.cdninstagram.com/v/t51...</td>\n    </tr>\n  </tbody>\n</table>\n<p>543 rows × 3 columns</p>\n</div>"
     },
     "metadata": {},
     "execution_count": 5
    }
   ],
   "source": [
    "data_group = data.set_index(['user name','content'])\n",
    "data_group"
   ]
  },
  {
   "cell_type": "code",
   "execution_count": 6,
   "metadata": {},
   "outputs": [],
   "source": [
    "data_group_2 = data.groupby('user name')[['content']].sum()"
   ]
  },
  {
   "cell_type": "code",
   "execution_count": 7,
   "metadata": {},
   "outputs": [
    {
     "output_type": "execute_result",
     "data": {
      "text/plain": "\"['Día de sorprender a los tuyos con un almuerzo diferente ¡ #Polloagridulce, aquí te dejamos la receta👌🏼👨🏻\\\\u200d🍳!Para el pollo necesitamos:1 suprema de pollo (cortada en dados)1 cucharada vinagre de arrozSal y pimienta blanca (al gusto)1 cuchara Salsa de soyaPara el agridulce:6 cucharadas azúcar6 cucharadas agua6 cucharadas vinagre blanco1 cucharada concentrado de tomate1/2 cucharada salsa Inglesa1 cucharada maicena,1 pizca salPara el rebozado:350 gramos harina150 gramos maicena1 huevo10 gramos polvo para hornearal gusto SalY agua fría la necesariaPreparación 🥘:1.- Primero cortamos el pollo. Y le agregamos los ingredientes para marinar. Dejarlo 30 minutos en ese líquido.2.- Mientras se marina el pollo. Comenzamos con el agridulce. Colocamos en una sartén, las 6 cucharadas de azúcar, las 6 cucharadas de vinagre y 5 cucharadas de agua. Reservamos una para poder disolver la fécula de maíz.3.- Prendemos en calor alto y revolvemos hasta que se disuelva el azúcar. En ese momento agregamos el concentrado de tomate, la salsa inglesa y la pizca de sal. Y revolvemos hasta disolver el concentrado. Por último agregamos a gusto la fécula para espesar.4.- Por último unimos todos los ingredientes para el rebozado y debe tener consistencia pesada pero no pastosa. Un poco espesa para que cubra el pollo. Retiramos el líquido de la marinada y rebozamos y freímos en abundante aceite.5.- Unimos el pollo a la salsa y decoramos con ajonjolí y cebollín y pues amigos a disfrutar😎🙌🏼.¡Servicio domicilio!📱 0414-4394222 // 0414-1423789..#carne  #domicilio #parrilladelivery #deliveryvalencia #comida #valencia #agropecuariaDonFranco  #carniceria #deliverysandiego #deliverynaguanagua #deliverycarabobo']['¿Sabes cómo hacer la mejor salsa #BBQ? Nosotros te damos la receta😎INGREDIENTES:150 g de cebolla40 g de aceite de olivaDos cucharaditas de pimentón picante100 g de whisky250 g de salsa de tomate50 g de zumo de limón100 g de vinagre de Jerez90 g de miel o melaza70 g de salsa Inglesa1/2 cdta. de salPREPARACIÓN:1.- Pela y sofríe la cebolla en aceite hasta que esté transparente. Luego agrega el pimentón, revuelve durante poco tiempo2.- Agregamos todos los demás ingredientes: el whisky, la salsa de tomate (si es casera, mucho mejor), el zumo de limón, el vinagre, la miel o melaza, la salsa Inglesa y la sal.3.- Cocemos todo 20-25 minutos sin tapar para que se reduzca y espese. Hay que remover de vez en cuando para homogeneizar y vigilar cómo va la consistencia.4.- Trituramos bien la salsa y comprobamos la consistencia; debe quedar bastante espesa. Si no estuviera bastante espesa, volveríamos a ponerla al fuego para seguir reduciéndola un poco.5.- Al final de la cocción probamos el punto de dulce, salado y ácido. Según como esté añadiremos más sal, más miel o más vinagre, pero poco a poco mientras vamos probando el resultado cada vez.¡Y listo! Así tenemos nuestra deliciosa salsa BBQ 🍗🍖👨🏻\\\\u200d🍳.¡Servicio domicilio!📱 0414-4394222 // 0414-1423789..#carne  #domicilio #parrilladelivery #deliveryvalencia #comida #valencia #agropecuariaDonFranco  #carniceria #deliverysandiego #deliverynaguanagua #deliverycarabobo']\""
     },
     "metadata": {},
     "execution_count": 7
    }
   ],
   "source": [
    "data_group_2['content'][0]"
   ]
  },
  {
   "cell_type": "code",
   "execution_count": 8,
   "metadata": {},
   "outputs": [],
   "source": [
    "import re"
   ]
  },
  {
   "cell_type": "code",
   "execution_count": 56,
   "metadata": {},
   "outputs": [],
   "source": [
    "regular = data_group_2['content'][0]"
   ]
  },
  {
   "cell_type": "code",
   "execution_count": 64,
   "metadata": {},
   "outputs": [],
   "source": [
    "hola =  re.findall(r'[0-9]+', regular)"
   ]
  },
  {
   "cell_type": "code",
   "execution_count": 66,
   "metadata": {},
   "outputs": [
    {
     "output_type": "error",
     "ename": "TypeError",
     "evalue": "expected string or bytes-like object",
     "traceback": [
      "\u001b[1;31m---------------------------------------------------------------------------\u001b[0m",
      "\u001b[1;31mTypeError\u001b[0m                                 Traceback (most recent call last)",
      "\u001b[1;32m<ipython-input-66-1347718d6a2d>\u001b[0m in \u001b[0;36m<module>\u001b[1;34m\u001b[0m\n\u001b[1;32m----> 1\u001b[1;33m \u001b[0mre\u001b[0m\u001b[1;33m.\u001b[0m\u001b[0mmatch\u001b[0m\u001b[1;33m(\u001b[0m\u001b[1;34mr'0414'\u001b[0m\u001b[1;33m,\u001b[0m\u001b[0mhola\u001b[0m\u001b[1;33m)\u001b[0m\u001b[1;33m\u001b[0m\u001b[1;33m\u001b[0m\u001b[0m\n\u001b[0m",
      "\u001b[1;32m~\\Anaconda3\\lib\\re.py\u001b[0m in \u001b[0;36mmatch\u001b[1;34m(pattern, string, flags)\u001b[0m\n\u001b[0;32m    171\u001b[0m     \"\"\"Try to apply the pattern at the start of the string, returning\n\u001b[0;32m    172\u001b[0m     a Match object, or None if no match was found.\"\"\"\n\u001b[1;32m--> 173\u001b[1;33m     \u001b[1;32mreturn\u001b[0m \u001b[0m_compile\u001b[0m\u001b[1;33m(\u001b[0m\u001b[0mpattern\u001b[0m\u001b[1;33m,\u001b[0m \u001b[0mflags\u001b[0m\u001b[1;33m)\u001b[0m\u001b[1;33m.\u001b[0m\u001b[0mmatch\u001b[0m\u001b[1;33m(\u001b[0m\u001b[0mstring\u001b[0m\u001b[1;33m)\u001b[0m\u001b[1;33m\u001b[0m\u001b[1;33m\u001b[0m\u001b[0m\n\u001b[0m\u001b[0;32m    174\u001b[0m \u001b[1;33m\u001b[0m\u001b[0m\n\u001b[0;32m    175\u001b[0m \u001b[1;32mdef\u001b[0m \u001b[0mfullmatch\u001b[0m\u001b[1;33m(\u001b[0m\u001b[0mpattern\u001b[0m\u001b[1;33m,\u001b[0m \u001b[0mstring\u001b[0m\u001b[1;33m,\u001b[0m \u001b[0mflags\u001b[0m\u001b[1;33m=\u001b[0m\u001b[1;36m0\u001b[0m\u001b[1;33m)\u001b[0m\u001b[1;33m:\u001b[0m\u001b[1;33m\u001b[0m\u001b[1;33m\u001b[0m\u001b[0m\n",
      "\u001b[1;31mTypeError\u001b[0m: expected string or bytes-like object"
     ]
    }
   ],
   "source": [
    "re.match(r'0414',hola)"
   ]
  },
  {
   "cell_type": "code",
   "execution_count": 67,
   "metadata": {},
   "outputs": [
    {
     "output_type": "execute_result",
     "data": {
      "text/plain": "['200',\n '1',\n '1',\n '1',\n '6',\n '6',\n '6',\n '1',\n '1',\n '2',\n '1',\n '1',\n '350',\n '150',\n '1',\n '10',\n '1',\n '30',\n '2',\n '6',\n '6',\n '5',\n '3',\n '4',\n '5',\n '0414',\n '4394222',\n '0414',\n '1423789',\n '150',\n '40',\n '100',\n '250',\n '50',\n '100',\n '90',\n '70',\n '1',\n '2',\n '1',\n '2',\n '3',\n '20',\n '25',\n '4',\n '5',\n '200',\n '0414',\n '4394222',\n '0414',\n '1423789']"
     },
     "metadata": {},
     "execution_count": 67
    }
   ],
   "source": [
    "hola"
   ]
  },
  {
   "cell_type": "code",
   "execution_count": 9,
   "metadata": {},
   "outputs": [
    {
     "output_type": "execute_result",
     "data": {
      "text/plain": "                timestamp             user name                user url  \\\n0    18 de agosto de 2020      clubhouseexpress      /clubhouseexpress/   \n1    18 de agosto de 2020      clubhouseexpress      /clubhouseexpress/   \n2    18 de agosto de 2020      clubhouseexpress      /clubhouseexpress/   \n3    18 de agosto de 2020      clubhouseexpress      /clubhouseexpress/   \n4    18 de agosto de 2020      clubhouseexpress      /clubhouseexpress/   \n..                    ...                   ...                     ...   \n538  28 de agosto de 2020        fratellos.vzla        /fratellos.vzla/   \n539  28 de agosto de 2020          telepizza041          /telepizza041/   \n540  28 de agosto de 2020          telepizza041          /telepizza041/   \n541  28 de agosto de 2020  escueladeparrilleros  /escueladeparrilleros/   \n542  28 de agosto de 2020        condulzura.val        /condulzura.val/   \n\n                                               img url  \\\n0    https://scontent-mia3-2.cdninstagram.com/v/t51...   \n1    https://scontent-mia3-1.cdninstagram.com/v/t51...   \n2    https://scontent-mia3-2.cdninstagram.com/v/t51...   \n3    https://scontent-mia3-2.cdninstagram.com/v/t51...   \n4    https://scontent-mia3-1.cdninstagram.com/v/t51...   \n..                                                 ...   \n538  https://scontent-mia3-2.cdninstagram.com/v/t51...   \n539  https://scontent-mia3-1.cdninstagram.com/v/t51...   \n540  https://scontent-mia3-2.cdninstagram.com/v/t51...   \n541  https://scontent-mia3-1.cdninstagram.com/v/t51...   \n542  https://scontent-mia3-1.cdninstagram.com/v/t51...   \n\n                                               content  \n0    ['Empezamos la semana de la mejor manera y que...  \n1    No puedes dejar de probar el único Club House ...  \n2    🌴Club House Los Roques🌴\\n⠀⠀⠀⠀⠀⠀⠀⠀⠀⠀⠀⠀⠀⠀⠀⠀⠀⠀⠀⠀⠀...  \n3    ⛰️ Bandeja Caracas ⛰️ \\n⠀⠀⠀⠀⠀⠀⠀⠀⠀⠀⠀⠀⠀⠀⠀⠀⠀⠀⠀⠀⠀⠀...  \n4                                                  NaN  \n..                                                 ...  \n538                                                 []  \n539  ['#pizza #foodvalencia #pizzavalencia #Telepiz...  \n540  ¡La felicidad viene en una caja cuadrada y en ...  \n541  ['¡Allá nos vemos!.Reposted from @delimarketva...  \n542  ['La mejor parte del postre es cuando lo compa...  \n\n[543 rows x 5 columns]",
      "text/html": "<div>\n<style scoped>\n    .dataframe tbody tr th:only-of-type {\n        vertical-align: middle;\n    }\n\n    .dataframe tbody tr th {\n        vertical-align: top;\n    }\n\n    .dataframe thead th {\n        text-align: right;\n    }\n</style>\n<table border=\"1\" class=\"dataframe\">\n  <thead>\n    <tr style=\"text-align: right;\">\n      <th></th>\n      <th>timestamp</th>\n      <th>user name</th>\n      <th>user url</th>\n      <th>img url</th>\n      <th>content</th>\n    </tr>\n  </thead>\n  <tbody>\n    <tr>\n      <th>0</th>\n      <td>18 de agosto de 2020</td>\n      <td>clubhouseexpress</td>\n      <td>/clubhouseexpress/</td>\n      <td>https://scontent-mia3-2.cdninstagram.com/v/t51...</td>\n      <td>['Empezamos la semana de la mejor manera y que...</td>\n    </tr>\n    <tr>\n      <th>1</th>\n      <td>18 de agosto de 2020</td>\n      <td>clubhouseexpress</td>\n      <td>/clubhouseexpress/</td>\n      <td>https://scontent-mia3-1.cdninstagram.com/v/t51...</td>\n      <td>No puedes dejar de probar el único Club House ...</td>\n    </tr>\n    <tr>\n      <th>2</th>\n      <td>18 de agosto de 2020</td>\n      <td>clubhouseexpress</td>\n      <td>/clubhouseexpress/</td>\n      <td>https://scontent-mia3-2.cdninstagram.com/v/t51...</td>\n      <td>🌴Club House Los Roques🌴\\n⠀⠀⠀⠀⠀⠀⠀⠀⠀⠀⠀⠀⠀⠀⠀⠀⠀⠀⠀⠀⠀...</td>\n    </tr>\n    <tr>\n      <th>3</th>\n      <td>18 de agosto de 2020</td>\n      <td>clubhouseexpress</td>\n      <td>/clubhouseexpress/</td>\n      <td>https://scontent-mia3-2.cdninstagram.com/v/t51...</td>\n      <td>⛰️ Bandeja Caracas ⛰️ \\n⠀⠀⠀⠀⠀⠀⠀⠀⠀⠀⠀⠀⠀⠀⠀⠀⠀⠀⠀⠀⠀⠀...</td>\n    </tr>\n    <tr>\n      <th>4</th>\n      <td>18 de agosto de 2020</td>\n      <td>clubhouseexpress</td>\n      <td>/clubhouseexpress/</td>\n      <td>https://scontent-mia3-1.cdninstagram.com/v/t51...</td>\n      <td>NaN</td>\n    </tr>\n    <tr>\n      <th>...</th>\n      <td>...</td>\n      <td>...</td>\n      <td>...</td>\n      <td>...</td>\n      <td>...</td>\n    </tr>\n    <tr>\n      <th>538</th>\n      <td>28 de agosto de 2020</td>\n      <td>fratellos.vzla</td>\n      <td>/fratellos.vzla/</td>\n      <td>https://scontent-mia3-2.cdninstagram.com/v/t51...</td>\n      <td>[]</td>\n    </tr>\n    <tr>\n      <th>539</th>\n      <td>28 de agosto de 2020</td>\n      <td>telepizza041</td>\n      <td>/telepizza041/</td>\n      <td>https://scontent-mia3-1.cdninstagram.com/v/t51...</td>\n      <td>['#pizza #foodvalencia #pizzavalencia #Telepiz...</td>\n    </tr>\n    <tr>\n      <th>540</th>\n      <td>28 de agosto de 2020</td>\n      <td>telepizza041</td>\n      <td>/telepizza041/</td>\n      <td>https://scontent-mia3-2.cdninstagram.com/v/t51...</td>\n      <td>¡La felicidad viene en una caja cuadrada y en ...</td>\n    </tr>\n    <tr>\n      <th>541</th>\n      <td>28 de agosto de 2020</td>\n      <td>escueladeparrilleros</td>\n      <td>/escueladeparrilleros/</td>\n      <td>https://scontent-mia3-1.cdninstagram.com/v/t51...</td>\n      <td>['¡Allá nos vemos!.Reposted from @delimarketva...</td>\n    </tr>\n    <tr>\n      <th>542</th>\n      <td>28 de agosto de 2020</td>\n      <td>condulzura.val</td>\n      <td>/condulzura.val/</td>\n      <td>https://scontent-mia3-1.cdninstagram.com/v/t51...</td>\n      <td>['La mejor parte del postre es cuando lo compa...</td>\n    </tr>\n  </tbody>\n</table>\n<p>543 rows × 5 columns</p>\n</div>"
     },
     "metadata": {},
     "execution_count": 9
    }
   ],
   "source": [
    "data"
   ]
  },
  {
   "cell_type": "code",
   "execution_count": 4,
   "metadata": {},
   "outputs": [],
   "source": [
    "content = data['content']"
   ]
  },
  {
   "cell_type": "code",
   "execution_count": 64,
   "metadata": {},
   "outputs": [
    {
     "output_type": "execute_result",
     "data": {
      "text/plain": "['10', '0424-437', '0329']"
     },
     "metadata": {},
     "execution_count": 64
    }
   ],
   "source": [
    "patron =re.compile(r'\\d+[-.]?\\d*$')\n",
    "patron.findall(content)"
   ]
  },
  {
   "cell_type": "code",
   "execution_count": 98,
   "metadata": {},
   "outputs": [],
   "source": [
    "patron =re.compile(r'\\d+[-. ]?\\d+[-. ]?\\d+[-. ]?\\d+')"
   ]
  },
  {
   "cell_type": "code",
   "execution_count": 92,
   "metadata": {
    "tags": []
   },
   "outputs": [
    {
     "output_type": "error",
     "ename": "TypeError",
     "evalue": "expected string or bytes-like object",
     "traceback": [
      "\u001b[1;31m---------------------------------------------------------------------------\u001b[0m",
      "\u001b[1;31mTypeError\u001b[0m                                 Traceback (most recent call last)",
      "\u001b[1;32m<ipython-input-92-ec9982ea3f8a>\u001b[0m in \u001b[0;36m<module>\u001b[1;34m\u001b[0m\n\u001b[1;32m----> 1\u001b[1;33m \u001b[0mprint\u001b[0m\u001b[1;33m(\u001b[0m\u001b[0mpatron\u001b[0m\u001b[1;33m.\u001b[0m\u001b[0mmatch\u001b[0m\u001b[1;33m(\u001b[0m\u001b[0mcontent\u001b[0m\u001b[1;33m)\u001b[0m\u001b[1;33m)\u001b[0m\u001b[1;33m\u001b[0m\u001b[1;33m\u001b[0m\u001b[0m\n\u001b[0m",
      "\u001b[1;31mTypeError\u001b[0m: expected string or bytes-like object"
     ]
    }
   ],
   "source": [
    "print(patron.match(content))"
   ]
  },
  {
   "cell_type": "code",
   "execution_count": 24,
   "metadata": {},
   "outputs": [
    {
     "output_type": "execute_result",
     "data": {
      "text/plain": "\"['Empezamos la semana de la mejor manera y que mejor que disfrutando en nuestras casas una de estás Bandejas como lo es la Barquisimeto...🤤🥺🤭😳🔸1 Club Houses.🔸Papas Fritas. 🔸6Tequeños.🔸10 Alitas.⠀⠀⠀⠀⠀⠀⠀⠀⠀⠀⠀⠀⠀⠀⠀⠀⠀⠀⠀⠀⠀⠀⠀⠀Para hacer tu pedido marca nuestro número...👇⠀⠀⠀⠀⠀⠀⠀⠀⠀⠀⠀⠀⠀⠀⠀⠀⠀⠀⠀⠀⠀⠀⠀⠀📱 DELIVERY: 0424-437.0329⠀⠀⠀⠀⠀⠀⠀⠀⠀⠀⠀⠀⠀⠀⠀⠀⠀⠀⠀⠀⠀⠀⠀⠀#clubhouse #delivery #pickup #papasfritas #tequeños #alitas #deliveryvalencia #comidarapida #barquisimeto #alitas #alitasagridulce #alitasbbq #alitas🍗']\""
     },
     "metadata": {},
     "execution_count": 24
    }
   ],
   "source": [
    "content"
   ]
  },
  {
   "cell_type": "code",
   "execution_count": 67,
   "metadata": {},
   "outputs": [],
   "source": [
    "content = [data['content'][i*10] for i in range(5)]\n"
   ]
  },
  {
   "cell_type": "code",
   "execution_count": 99,
   "metadata": {},
   "outputs": [
    {
     "output_type": "execute_result",
     "data": {
      "text/plain": "[['0424-437.0329'], ['58 424-4967669'], ['0414 4156478'], [], ['04244741045']]"
     },
     "metadata": {},
     "execution_count": 99
    }
   ],
   "source": [
    "numeros = [patron.findall(i) for i in content]\n",
    "numeros"
   ]
  },
  {
   "cell_type": "code",
   "execution_count": 70,
   "metadata": {},
   "outputs": [
    {
     "output_type": "execute_result",
     "data": {
      "text/plain": "[['0424-437.0329'],\n ['424-4967669'],\n ['100', '0414', '4156478'],\n [],\n ['04244741045']]"
     },
     "metadata": {},
     "execution_count": 70
    }
   ],
   "source": [
    "nu"
   ]
  },
  {
   "cell_type": "code",
   "execution_count": 78,
   "metadata": {},
   "outputs": [
    {
     "output_type": "execute_result",
     "data": {
      "text/plain": "'[ 𝗣𝗼𝗹𝘃𝗼𝗿𝗼𝘀𝗮 ] \\n\\nCrocante masa de azúcar y canela con topping de frutos secos relleno de la más deliciosa compota de frutas 100% natural 💛 \\n\\nHemos diseñado 3 rellenos 😍 \\n\\n✓ Manzana \\n✓ Piña con coco\\n✓ Banana\\n\\nEn su versión lista para hornear o individual, acompañado de helado es la merienda perfecta en estos días de lluvia 🌦️\\n\\nPedidos al 0414 4156478 ✌🏼\\n\\n𝐂𝐨𝐳𝐲 • 𝐅𝐫𝐞𝐬𝐡 • 𝐆𝐨𝐨𝐝\\n\\n#clientesvln #valencia #cafeteria #carabobo #deliveryvalencia'"
     },
     "metadata": {},
     "execution_count": 78
    }
   ],
   "source": [
    "content[2]"
   ]
  },
  {
   "cell_type": "code",
   "execution_count": 4,
   "metadata": {},
   "outputs": [],
   "source": [
    "import re"
   ]
  },
  {
   "cell_type": "code",
   "execution_count": 42,
   "metadata": {},
   "outputs": [],
   "source": [
    "patron =re.compile(r'\\d{3,4}[^\\w]?\\d{3}[^\\w]?\\d{2,4}[^\\w]?\\d{2}?')\n",
    "\n"
   ]
  },
  {
   "cell_type": "code",
   "execution_count": 43,
   "metadata": {},
   "outputs": [],
   "source": [
    "list_content = data['content']\n"
   ]
  },
  {
   "cell_type": "code",
   "execution_count": 64,
   "metadata": {},
   "outputs": [],
   "source": [
    "list_phone = []\n",
    "list_phone2 = [] \n",
    "for i in list_content:\n",
    "    try:\n",
    "        list_phone.append(patron.findall(i))\n",
    "    except:\n",
    "        list_phone.append(None)"
   ]
  },
  {
   "cell_type": "code",
   "execution_count": 31,
   "metadata": {},
   "outputs": [
    {
     "output_type": "execute_result",
     "data": {
      "text/plain": "'Nuestra pizza Veggy es destacada entre todas por uno de nuestros ingredientes favoritos, el tomate cherry el cual da un toque único y especial a esta deliciosa pizza.🍅\\n\\n🍕La felicidad huele a pizza.\\n\\n📲Pide a través de nuestro numero por whatsapp o descarga la APP de @ochotelolleva.\\n0414-420.55.99\\n\\n⏰Desde las 12PM hasta las 8PM\\n\\n🏍Delivery and PickUp'"
     },
     "metadata": {},
     "execution_count": 31
    }
   ],
   "source": [
    "list_content[24]"
   ]
  },
  {
   "cell_type": "code",
   "execution_count": 33,
   "metadata": {},
   "outputs": [
    {
     "output_type": "execute_result",
     "data": {
      "text/plain": "['0414-420.55.9']"
     },
     "metadata": {},
     "execution_count": 33
    }
   ],
   "source": [
    "list_phone[24]"
   ]
  },
  {
   "cell_type": "code",
   "execution_count": 56,
   "metadata": {},
   "outputs": [],
   "source": [
    "patron =  re.compile(r'\\d{3,4}[^\\w]?\\d{3}[^\\w]?\\d{2,4}[^\\w]?\\d{2}?')\n",
    "patron3 = re.compile(r'\\d\\d\\d\\d[^\\w]?\\d\\d\\d[^\\w]?\\d\\d[^\\w]?\\d\\d')"
   ]
  },
  {
   "cell_type": "code",
   "execution_count": 57,
   "metadata": {},
   "outputs": [
    {
     "output_type": "execute_result",
     "data": {
      "text/plain": "['0414-420.55.99']"
     },
     "metadata": {},
     "execution_count": 57
    }
   ],
   "source": [
    "patron3.findall(list_content[24])"
   ]
  },
  {
   "cell_type": "code",
   "execution_count": 105,
   "metadata": {},
   "outputs": [],
   "source": [
    "list_phone = []\n",
    "list_phone2 = [] \n",
    "for i in list_content:\n",
    "    try:\n",
    "        list_phone2.append(patron3.findall(i))\n",
    "    except:\n",
    "        list_phone2.append(None)"
   ]
  },
  {
   "cell_type": "code",
   "execution_count": 80,
   "metadata": {},
   "outputs": [],
   "source": [
    "list_phone.remove([])"
   ]
  },
  {
   "cell_type": "code",
   "execution_count": 96,
   "metadata": {},
   "outputs": [],
   "source": [
    "list_phone_number_1 = []\n",
    "for i in list_phone:\n",
    "    if( i != []): \n",
    "      if  i != None: list_phone_number_1.append(i)"
   ]
  },
  {
   "cell_type": "code",
   "execution_count": 107,
   "metadata": {},
   "outputs": [],
   "source": [
    "list_phone_number_2 = []\n",
    "for i in list_phone2:\n",
    "    if( i != []): \n",
    "      if  i != None: list_phone_number_2.append(i)"
   ]
  },
  {
   "cell_type": "code",
   "execution_count": 99,
   "metadata": {},
   "outputs": [
    {
     "output_type": "execute_result",
     "data": {
      "text/plain": "182"
     },
     "metadata": {},
     "execution_count": 99
    }
   ],
   "source": [
    "len(list_phone_number_1)"
   ]
  },
  {
   "cell_type": "code",
   "execution_count": 108,
   "metadata": {},
   "outputs": [
    {
     "output_type": "execute_result",
     "data": {
      "text/plain": "135"
     },
     "metadata": {},
     "execution_count": 108
    }
   ],
   "source": [
    "len(list_phone_number_2)"
   ]
  },
  {
   "cell_type": "code",
   "execution_count": 118,
   "metadata": {},
   "outputs": [],
   "source": [
    "import re"
   ]
  },
  {
   "cell_type": "code",
   "execution_count": 149,
   "metadata": {},
   "outputs": [],
   "source": [
    "def prueba_re( patron ):\n",
    "    \n",
    "    l_1 = []\n",
    "    l_2 = []\n",
    "\n",
    "    for i in list_content:\n",
    "        try:\n",
    "            l_1.append(patron.findall(i))\n",
    "        except:\n",
    "            l_1.append(None)\n",
    "\n",
    "    for i in l_1:\n",
    "        if i != []: \n",
    "            if i != None: l_2.append(i)\n",
    "    return l_2"
   ]
  },
  {
   "cell_type": "code",
   "execution_count": 150,
   "metadata": {},
   "outputs": [],
   "source": [
    "lista_phone = prueba_re(patron)"
   ]
  },
  {
   "cell_type": "code",
   "execution_count": 129,
   "metadata": {},
   "outputs": [
    {
     "output_type": "execute_result",
     "data": {
      "text/plain": "'185'"
     },
     "metadata": {},
     "execution_count": 129
    }
   ],
   "source": [
    "patron1 = re.compile(r'\\d{3,4}[^\\w]?\\d{3}[^\\w]?\\d{2,4}[^\\w]?\\d{2}?')\n",
    "'182'\n",
    "patron2 =  re.compile(r'\\d{3,4}[^\\w]?\\d{3,3}[^\\w]?\\d{2,4}[^\\w]?\\d+')\n",
    "'185'\n"
   ]
  },
  {
   "cell_type": "code",
   "execution_count": 144,
   "metadata": {},
   "outputs": [],
   "source": [
    "def get_phone( patron ):\n",
    "    \n",
    "    l_1 = []\n",
    "    flatten = []\n",
    "    for i in list_content:\n",
    "        try:\n",
    "            l_1.append(patron.findall(i))\n",
    "        except:\n",
    "            l_1.append(None)\n",
    "    \n",
    "\n",
    "    return l_1"
   ]
  },
  {
   "cell_type": "code",
   "execution_count": 145,
   "metadata": {},
   "outputs": [],
   "source": [
    "   data['telefono'] = get_phone(patron)"
   ]
  },
  {
   "cell_type": "code",
   "execution_count": 146,
   "metadata": {},
   "outputs": [
    {
     "output_type": "execute_result",
     "data": {
      "text/plain": "                timestamp             user name                user url  \\\n0    18 de agosto de 2020      clubhouseexpress      /clubhouseexpress/   \n1    18 de agosto de 2020      clubhouseexpress      /clubhouseexpress/   \n2    18 de agosto de 2020      clubhouseexpress      /clubhouseexpress/   \n3    18 de agosto de 2020      clubhouseexpress      /clubhouseexpress/   \n4    18 de agosto de 2020      clubhouseexpress      /clubhouseexpress/   \n..                    ...                   ...                     ...   \n538  28 de agosto de 2020        fratellos.vzla        /fratellos.vzla/   \n539  28 de agosto de 2020          telepizza041          /telepizza041/   \n540  28 de agosto de 2020          telepizza041          /telepizza041/   \n541  28 de agosto de 2020  escueladeparrilleros  /escueladeparrilleros/   \n542  28 de agosto de 2020        condulzura.val        /condulzura.val/   \n\n                                               img url  \\\n0    https://scontent-mia3-2.cdninstagram.com/v/t51...   \n1    https://scontent-mia3-1.cdninstagram.com/v/t51...   \n2    https://scontent-mia3-2.cdninstagram.com/v/t51...   \n3    https://scontent-mia3-2.cdninstagram.com/v/t51...   \n4    https://scontent-mia3-1.cdninstagram.com/v/t51...   \n..                                                 ...   \n538  https://scontent-mia3-2.cdninstagram.com/v/t51...   \n539  https://scontent-mia3-1.cdninstagram.com/v/t51...   \n540  https://scontent-mia3-2.cdninstagram.com/v/t51...   \n541  https://scontent-mia3-1.cdninstagram.com/v/t51...   \n542  https://scontent-mia3-1.cdninstagram.com/v/t51...   \n\n                                               content         telefono  \n0    ['Empezamos la semana de la mejor manera y que...  [0424-437.0329]  \n1    No puedes dejar de probar el único Club House ...  [0424-437.0329]  \n2    🌴Club House Los Roques🌴\\n⠀⠀⠀⠀⠀⠀⠀⠀⠀⠀⠀⠀⠀⠀⠀⠀⠀⠀⠀⠀⠀...  [0424-437.0329]  \n3    ⛰️ Bandeja Caracas ⛰️ \\n⠀⠀⠀⠀⠀⠀⠀⠀⠀⠀⠀⠀⠀⠀⠀⠀⠀⠀⠀⠀⠀⠀...  [0424-437.0329]  \n4                                                  NaN             None  \n..                                                 ...              ...  \n538                                                 []               []  \n539  ['#pizza #foodvalencia #pizzavalencia #Telepiz...               []  \n540  ¡La felicidad viene en una caja cuadrada y en ...     [4144205599]  \n541  ['¡Allá nos vemos!.Reposted from @delimarketva...   [0424-4192918]  \n542  ['La mejor parte del postre es cuando lo compa...               []  \n\n[543 rows x 6 columns]",
      "text/html": "<div>\n<style scoped>\n    .dataframe tbody tr th:only-of-type {\n        vertical-align: middle;\n    }\n\n    .dataframe tbody tr th {\n        vertical-align: top;\n    }\n\n    .dataframe thead th {\n        text-align: right;\n    }\n</style>\n<table border=\"1\" class=\"dataframe\">\n  <thead>\n    <tr style=\"text-align: right;\">\n      <th></th>\n      <th>timestamp</th>\n      <th>user name</th>\n      <th>user url</th>\n      <th>img url</th>\n      <th>content</th>\n      <th>telefono</th>\n    </tr>\n  </thead>\n  <tbody>\n    <tr>\n      <th>0</th>\n      <td>18 de agosto de 2020</td>\n      <td>clubhouseexpress</td>\n      <td>/clubhouseexpress/</td>\n      <td>https://scontent-mia3-2.cdninstagram.com/v/t51...</td>\n      <td>['Empezamos la semana de la mejor manera y que...</td>\n      <td>[0424-437.0329]</td>\n    </tr>\n    <tr>\n      <th>1</th>\n      <td>18 de agosto de 2020</td>\n      <td>clubhouseexpress</td>\n      <td>/clubhouseexpress/</td>\n      <td>https://scontent-mia3-1.cdninstagram.com/v/t51...</td>\n      <td>No puedes dejar de probar el único Club House ...</td>\n      <td>[0424-437.0329]</td>\n    </tr>\n    <tr>\n      <th>2</th>\n      <td>18 de agosto de 2020</td>\n      <td>clubhouseexpress</td>\n      <td>/clubhouseexpress/</td>\n      <td>https://scontent-mia3-2.cdninstagram.com/v/t51...</td>\n      <td>🌴Club House Los Roques🌴\\n⠀⠀⠀⠀⠀⠀⠀⠀⠀⠀⠀⠀⠀⠀⠀⠀⠀⠀⠀⠀⠀...</td>\n      <td>[0424-437.0329]</td>\n    </tr>\n    <tr>\n      <th>3</th>\n      <td>18 de agosto de 2020</td>\n      <td>clubhouseexpress</td>\n      <td>/clubhouseexpress/</td>\n      <td>https://scontent-mia3-2.cdninstagram.com/v/t51...</td>\n      <td>⛰️ Bandeja Caracas ⛰️ \\n⠀⠀⠀⠀⠀⠀⠀⠀⠀⠀⠀⠀⠀⠀⠀⠀⠀⠀⠀⠀⠀⠀...</td>\n      <td>[0424-437.0329]</td>\n    </tr>\n    <tr>\n      <th>4</th>\n      <td>18 de agosto de 2020</td>\n      <td>clubhouseexpress</td>\n      <td>/clubhouseexpress/</td>\n      <td>https://scontent-mia3-1.cdninstagram.com/v/t51...</td>\n      <td>NaN</td>\n      <td>None</td>\n    </tr>\n    <tr>\n      <th>...</th>\n      <td>...</td>\n      <td>...</td>\n      <td>...</td>\n      <td>...</td>\n      <td>...</td>\n      <td>...</td>\n    </tr>\n    <tr>\n      <th>538</th>\n      <td>28 de agosto de 2020</td>\n      <td>fratellos.vzla</td>\n      <td>/fratellos.vzla/</td>\n      <td>https://scontent-mia3-2.cdninstagram.com/v/t51...</td>\n      <td>[]</td>\n      <td>[]</td>\n    </tr>\n    <tr>\n      <th>539</th>\n      <td>28 de agosto de 2020</td>\n      <td>telepizza041</td>\n      <td>/telepizza041/</td>\n      <td>https://scontent-mia3-1.cdninstagram.com/v/t51...</td>\n      <td>['#pizza #foodvalencia #pizzavalencia #Telepiz...</td>\n      <td>[]</td>\n    </tr>\n    <tr>\n      <th>540</th>\n      <td>28 de agosto de 2020</td>\n      <td>telepizza041</td>\n      <td>/telepizza041/</td>\n      <td>https://scontent-mia3-2.cdninstagram.com/v/t51...</td>\n      <td>¡La felicidad viene en una caja cuadrada y en ...</td>\n      <td>[4144205599]</td>\n    </tr>\n    <tr>\n      <th>541</th>\n      <td>28 de agosto de 2020</td>\n      <td>escueladeparrilleros</td>\n      <td>/escueladeparrilleros/</td>\n      <td>https://scontent-mia3-1.cdninstagram.com/v/t51...</td>\n      <td>['¡Allá nos vemos!.Reposted from @delimarketva...</td>\n      <td>[0424-4192918]</td>\n    </tr>\n    <tr>\n      <th>542</th>\n      <td>28 de agosto de 2020</td>\n      <td>condulzura.val</td>\n      <td>/condulzura.val/</td>\n      <td>https://scontent-mia3-1.cdninstagram.com/v/t51...</td>\n      <td>['La mejor parte del postre es cuando lo compa...</td>\n      <td>[]</td>\n    </tr>\n  </tbody>\n</table>\n<p>543 rows × 6 columns</p>\n</div>"
     },
     "metadata": {},
     "execution_count": 146
    }
   ],
   "source": [
    "data"
   ]
  },
  {
   "cell_type": "code",
   "execution_count": 171,
   "metadata": {
    "tags": []
   },
   "outputs": [],
   "source": [
    "lista_prueba = []\n",
    "contador = 0\n",
    "for i in range(len(lista_phone)):\n",
    "    if len(lista_phone[i]) == 1:\n",
    "        lista_prueba.append(lista_phone[i][0])\n",
    "    else: \n",
    "        lista_prueba.append(lista_phone[i])\n",
    "\n",
    "\n"
   ]
  },
  {
   "cell_type": "code",
   "execution_count": 167,
   "metadata": {},
   "outputs": [
    {
     "output_type": "execute_result",
     "data": {
      "text/plain": "1"
     },
     "metadata": {},
     "execution_count": 167
    }
   ],
   "source": [
    "len(lista_phone[3])"
   ]
  },
  {
   "cell_type": "code",
   "execution_count": 174,
   "metadata": {},
   "outputs": [
    {
     "output_type": "execute_result",
     "data": {
      "text/plain": "'BAKLAWA DE MEREY 😍\\n\\nLos mejores dulces de la gastronomía árabe aquí en @delicioussweetvzla\\n\\nTrabajando con:\\nDelivery🛵\\nPick up 🚗\\n.\\n.\\n.\\nNúmero de contacto📲:\\n0424-4187680 \\n.\\n.\\nHorarios🕖 Domingos, Lunes y Martes de 10am a 6pm. \\n.\\n.\\nDe Miércoles a Sábados de 10am a 8:00pm . .\\n.\\n.\\n.\\n.\\n.\\n\\n#delicioussweetvzla #comidaarabe #comidaarabevalencia #deliveryvalencia #knaffe #knafe #carabobo #shawarma #dulcesarabes #panarabe #delicious #delivery #dulcearabe #concurso #arabesdevenezuela #dulcesarabes\\n#maracay #valencia #shawarmas #naguanagua #sandiego #guacara #guataparo #eltrigal #elparral #guaparo'"
     },
     "metadata": {},
     "execution_count": 174
    }
   ],
   "source": [
    "list_content[50]"
   ]
  },
  {
   "cell_type": "code",
   "execution_count": 175,
   "metadata": {},
   "outputs": [
    {
     "output_type": "execute_result",
     "data": {
      "text/plain": "'747864366'"
     },
     "metadata": {},
     "execution_count": 175
    }
   ],
   "source": [
    "lista_prueba[50]"
   ]
  },
  {
   "cell_type": "code",
   "execution_count": null,
   "metadata": {},
   "outputs": [],
   "source": [
    "0424-4187680"
   ]
  },
  {
   "cell_type": "code",
   "execution_count": 176,
   "metadata": {},
   "outputs": [
    {
     "output_type": "execute_result",
     "data": {
      "text/plain": "['0424-4187680']"
     },
     "metadata": {},
     "execution_count": 176
    }
   ],
   "source": [
    "patron2 =  re.compile(r'\\d{3,4}[^\\w]?\\d{3,3}[^\\w]?\\d{2,4}[^\\w]?\\d+')\n",
    "patron.findall(list_content[50])"
   ]
  },
  {
   "cell_type": "code",
   "execution_count": 196,
   "metadata": {},
   "outputs": [
    {
     "output_type": "execute_result",
     "data": {
      "text/plain": "                   timestamp  user name     user url  \\\n161  3 de septiembre de 2020  empak2.es  /empak2.es/   \n162  3 de septiembre de 2020  empak2.es  /empak2.es/   \n163  3 de septiembre de 2020  empak2.es  /empak2.es/   \n\n                                               img url  \\\n161  https://scontent-mia3-1.cdninstagram.com/v/t51...   \n162  https://scontent-mia3-2.cdninstagram.com/v/t51...   \n163  https://scontent-mia3-1.cdninstagram.com/v/t51...   \n\n                                               content       telefono  \n161  ['LASAÑA 🤤No solo es el plato favorito de Garf...  ['747864366']  \n162  ['LASAÑA 🤤No solo es el plato favorito de Garf...  ['747864366']  \n163  ['LASAÑA 🤤No solo es el plato favorito de Garf...  ['747864366']  ",
      "text/html": "<div>\n<style scoped>\n    .dataframe tbody tr th:only-of-type {\n        vertical-align: middle;\n    }\n\n    .dataframe tbody tr th {\n        vertical-align: top;\n    }\n\n    .dataframe thead th {\n        text-align: right;\n    }\n</style>\n<table border=\"1\" class=\"dataframe\">\n  <thead>\n    <tr style=\"text-align: right;\">\n      <th></th>\n      <th>timestamp</th>\n      <th>user name</th>\n      <th>user url</th>\n      <th>img url</th>\n      <th>content</th>\n      <th>telefono</th>\n    </tr>\n  </thead>\n  <tbody>\n    <tr>\n      <th>161</th>\n      <td>3 de septiembre de 2020</td>\n      <td>empak2.es</td>\n      <td>/empak2.es/</td>\n      <td>https://scontent-mia3-1.cdninstagram.com/v/t51...</td>\n      <td>['LASAÑA 🤤No solo es el plato favorito de Garf...</td>\n      <td>['747864366']</td>\n    </tr>\n    <tr>\n      <th>162</th>\n      <td>3 de septiembre de 2020</td>\n      <td>empak2.es</td>\n      <td>/empak2.es/</td>\n      <td>https://scontent-mia3-2.cdninstagram.com/v/t51...</td>\n      <td>['LASAÑA 🤤No solo es el plato favorito de Garf...</td>\n      <td>['747864366']</td>\n    </tr>\n    <tr>\n      <th>163</th>\n      <td>3 de septiembre de 2020</td>\n      <td>empak2.es</td>\n      <td>/empak2.es/</td>\n      <td>https://scontent-mia3-1.cdninstagram.com/v/t51...</td>\n      <td>['LASAÑA 🤤No solo es el plato favorito de Garf...</td>\n      <td>['747864366']</td>\n    </tr>\n  </tbody>\n</table>\n</div>"
     },
     "metadata": {},
     "execution_count": 196
    }
   ],
   "source": [
    "data.loc[data['telefono'] == \"['747864366']\"]"
   ]
  },
  {
   "cell_type": "code",
   "execution_count": 195,
   "metadata": {
    "tags": []
   },
   "outputs": [],
   "source": [
    "data['telefono'] = data['telefono'].astype(str)"
   ]
  },
  {
   "cell_type": "code",
   "execution_count": 197,
   "metadata": {},
   "outputs": [
    {
     "output_type": "execute_result",
     "data": {
      "text/plain": "\"['LASAÑA 🤤No solo es el plato favorito de Garfield, en @empak2.es son cada vez más los tipos de lasaña que podemos encontrar, tenemos de pollo, carne e incluso hasta plátano, versiones refrigeradas en las que se promete una calidad aún mayor.Arma tu menú semanal e incluye la lasaña que quieras✅Pide tu bandeja de lasaña o por porción ¡ nosotros lo hacemos por ti ! ..Contáctanos al 747864366O al Dm ✅..@empak2.es @empak2.es @empak2.es ..#lasañaenvalencia #lasañadeplatano #lasañadecarne #lasañadeverduras #empacadoalvacio #deliverypaterna #deliveryvalencia #foodingvalencia #valenciafood #venezolanosenvalencia #valenciaespaña']\""
     },
     "metadata": {},
     "execution_count": 197
    }
   ],
   "source": [
    "list_content[161]"
   ]
  },
  {
   "cell_type": "code",
   "execution_count": null,
   "metadata": {},
   "outputs": [],
   "source": []
  },
  {
   "cell_type": "code",
   "execution_count": 202,
   "metadata": {},
   "outputs": [],
   "source": [
    "compile = re.compile(r'españa')"
   ]
  },
  {
   "cell_type": "code",
   "execution_count": 229,
   "metadata": {},
   "outputs": [
    {
     "output_type": "execute_result",
     "data": {
      "text/plain": "True"
     },
     "metadata": {},
     "execution_count": 229
    }
   ],
   "source": [
    "bool(compile.findall(list_content[161]))"
   ]
  },
  {
   "cell_type": "code",
   "execution_count": 231,
   "metadata": {},
   "outputs": [],
   "source": [
    "contador = 0\n",
    "for i in range(len(list_content)):\n",
    "    try:\n",
    "        if bool(compile.findall(i)): contador += 1\n",
    "    except:\n",
    "        pass\n",
    "    \n"
   ]
  },
  {
   "cell_type": "code",
   "execution_count": 232,
   "metadata": {},
   "outputs": [
    {
     "output_type": "execute_result",
     "data": {
      "text/plain": "0"
     },
     "metadata": {},
     "execution_count": 232
    }
   ],
   "source": [
    "contador"
   ]
  },
  {
   "cell_type": "code",
   "execution_count": 233,
   "metadata": {},
   "outputs": [],
   "source": [
    "contador = 0\n",
    "for i in range(len(list_content)):\n",
    "    try:\n",
    "        if bool(compile.findall(list_content[i])): data.drop(data.index[i], inplace=True)\n",
    "    except:\n",
    "        pass"
   ]
  },
  {
   "cell_type": "code",
   "execution_count": 234,
   "metadata": {},
   "outputs": [
    {
     "output_type": "execute_result",
     "data": {
      "text/plain": "536"
     },
     "metadata": {},
     "execution_count": 234
    }
   ],
   "source": [
    "len(data)"
   ]
  },
  {
   "cell_type": "code",
   "execution_count": 221,
   "metadata": {},
   "outputs": [],
   "source": [
    "datos = data.copy(deep=True)"
   ]
  },
  {
   "cell_type": "code",
   "execution_count": 223,
   "metadata": {},
   "outputs": [],
   "source": [
    "datos.drop(datos.index[100],inplace=True)"
   ]
  },
  {
   "cell_type": "code",
   "execution_count": 224,
   "metadata": {},
   "outputs": [
    {
     "output_type": "execute_result",
     "data": {
      "text/plain": "                timestamp             user name                user url  \\\n0    18 de agosto de 2020      clubhouseexpress      /clubhouseexpress/   \n1    18 de agosto de 2020      clubhouseexpress      /clubhouseexpress/   \n2    18 de agosto de 2020      clubhouseexpress      /clubhouseexpress/   \n3    18 de agosto de 2020      clubhouseexpress      /clubhouseexpress/   \n4    18 de agosto de 2020      clubhouseexpress      /clubhouseexpress/   \n..                    ...                   ...                     ...   \n538  28 de agosto de 2020        fratellos.vzla        /fratellos.vzla/   \n539  28 de agosto de 2020          telepizza041          /telepizza041/   \n540  28 de agosto de 2020          telepizza041          /telepizza041/   \n541  28 de agosto de 2020  escueladeparrilleros  /escueladeparrilleros/   \n542  28 de agosto de 2020        condulzura.val        /condulzura.val/   \n\n                                               img url  \\\n0    https://scontent-mia3-2.cdninstagram.com/v/t51...   \n1    https://scontent-mia3-1.cdninstagram.com/v/t51...   \n2    https://scontent-mia3-2.cdninstagram.com/v/t51...   \n3    https://scontent-mia3-2.cdninstagram.com/v/t51...   \n4    https://scontent-mia3-1.cdninstagram.com/v/t51...   \n..                                                 ...   \n538  https://scontent-mia3-2.cdninstagram.com/v/t51...   \n539  https://scontent-mia3-1.cdninstagram.com/v/t51...   \n540  https://scontent-mia3-2.cdninstagram.com/v/t51...   \n541  https://scontent-mia3-1.cdninstagram.com/v/t51...   \n542  https://scontent-mia3-1.cdninstagram.com/v/t51...   \n\n                                               content           telefono  \n0    ['Empezamos la semana de la mejor manera y que...  ['0424-437.0329']  \n1    No puedes dejar de probar el único Club House ...  ['0424-437.0329']  \n2    🌴Club House Los Roques🌴\\n⠀⠀⠀⠀⠀⠀⠀⠀⠀⠀⠀⠀⠀⠀⠀⠀⠀⠀⠀⠀⠀...  ['0424-437.0329']  \n3    ⛰️ Bandeja Caracas ⛰️ \\n⠀⠀⠀⠀⠀⠀⠀⠀⠀⠀⠀⠀⠀⠀⠀⠀⠀⠀⠀⠀⠀⠀...  ['0424-437.0329']  \n4                                                  NaN               None  \n..                                                 ...                ...  \n538                                                 []                 []  \n539  ['#pizza #foodvalencia #pizzavalencia #Telepiz...                 []  \n540  ¡La felicidad viene en una caja cuadrada y en ...     ['4144205599']  \n541  ['¡Allá nos vemos!.Reposted from @delimarketva...   ['0424-4192918']  \n542  ['La mejor parte del postre es cuando lo compa...                 []  \n\n[542 rows x 6 columns]",
      "text/html": "<div>\n<style scoped>\n    .dataframe tbody tr th:only-of-type {\n        vertical-align: middle;\n    }\n\n    .dataframe tbody tr th {\n        vertical-align: top;\n    }\n\n    .dataframe thead th {\n        text-align: right;\n    }\n</style>\n<table border=\"1\" class=\"dataframe\">\n  <thead>\n    <tr style=\"text-align: right;\">\n      <th></th>\n      <th>timestamp</th>\n      <th>user name</th>\n      <th>user url</th>\n      <th>img url</th>\n      <th>content</th>\n      <th>telefono</th>\n    </tr>\n  </thead>\n  <tbody>\n    <tr>\n      <th>0</th>\n      <td>18 de agosto de 2020</td>\n      <td>clubhouseexpress</td>\n      <td>/clubhouseexpress/</td>\n      <td>https://scontent-mia3-2.cdninstagram.com/v/t51...</td>\n      <td>['Empezamos la semana de la mejor manera y que...</td>\n      <td>['0424-437.0329']</td>\n    </tr>\n    <tr>\n      <th>1</th>\n      <td>18 de agosto de 2020</td>\n      <td>clubhouseexpress</td>\n      <td>/clubhouseexpress/</td>\n      <td>https://scontent-mia3-1.cdninstagram.com/v/t51...</td>\n      <td>No puedes dejar de probar el único Club House ...</td>\n      <td>['0424-437.0329']</td>\n    </tr>\n    <tr>\n      <th>2</th>\n      <td>18 de agosto de 2020</td>\n      <td>clubhouseexpress</td>\n      <td>/clubhouseexpress/</td>\n      <td>https://scontent-mia3-2.cdninstagram.com/v/t51...</td>\n      <td>🌴Club House Los Roques🌴\\n⠀⠀⠀⠀⠀⠀⠀⠀⠀⠀⠀⠀⠀⠀⠀⠀⠀⠀⠀⠀⠀...</td>\n      <td>['0424-437.0329']</td>\n    </tr>\n    <tr>\n      <th>3</th>\n      <td>18 de agosto de 2020</td>\n      <td>clubhouseexpress</td>\n      <td>/clubhouseexpress/</td>\n      <td>https://scontent-mia3-2.cdninstagram.com/v/t51...</td>\n      <td>⛰️ Bandeja Caracas ⛰️ \\n⠀⠀⠀⠀⠀⠀⠀⠀⠀⠀⠀⠀⠀⠀⠀⠀⠀⠀⠀⠀⠀⠀...</td>\n      <td>['0424-437.0329']</td>\n    </tr>\n    <tr>\n      <th>4</th>\n      <td>18 de agosto de 2020</td>\n      <td>clubhouseexpress</td>\n      <td>/clubhouseexpress/</td>\n      <td>https://scontent-mia3-1.cdninstagram.com/v/t51...</td>\n      <td>NaN</td>\n      <td>None</td>\n    </tr>\n    <tr>\n      <th>...</th>\n      <td>...</td>\n      <td>...</td>\n      <td>...</td>\n      <td>...</td>\n      <td>...</td>\n      <td>...</td>\n    </tr>\n    <tr>\n      <th>538</th>\n      <td>28 de agosto de 2020</td>\n      <td>fratellos.vzla</td>\n      <td>/fratellos.vzla/</td>\n      <td>https://scontent-mia3-2.cdninstagram.com/v/t51...</td>\n      <td>[]</td>\n      <td>[]</td>\n    </tr>\n    <tr>\n      <th>539</th>\n      <td>28 de agosto de 2020</td>\n      <td>telepizza041</td>\n      <td>/telepizza041/</td>\n      <td>https://scontent-mia3-1.cdninstagram.com/v/t51...</td>\n      <td>['#pizza #foodvalencia #pizzavalencia #Telepiz...</td>\n      <td>[]</td>\n    </tr>\n    <tr>\n      <th>540</th>\n      <td>28 de agosto de 2020</td>\n      <td>telepizza041</td>\n      <td>/telepizza041/</td>\n      <td>https://scontent-mia3-2.cdninstagram.com/v/t51...</td>\n      <td>¡La felicidad viene en una caja cuadrada y en ...</td>\n      <td>['4144205599']</td>\n    </tr>\n    <tr>\n      <th>541</th>\n      <td>28 de agosto de 2020</td>\n      <td>escueladeparrilleros</td>\n      <td>/escueladeparrilleros/</td>\n      <td>https://scontent-mia3-1.cdninstagram.com/v/t51...</td>\n      <td>['¡Allá nos vemos!.Reposted from @delimarketva...</td>\n      <td>['0424-4192918']</td>\n    </tr>\n    <tr>\n      <th>542</th>\n      <td>28 de agosto de 2020</td>\n      <td>condulzura.val</td>\n      <td>/condulzura.val/</td>\n      <td>https://scontent-mia3-1.cdninstagram.com/v/t51...</td>\n      <td>['La mejor parte del postre es cuando lo compa...</td>\n      <td>[]</td>\n    </tr>\n  </tbody>\n</table>\n<p>542 rows × 6 columns</p>\n</div>"
     },
     "metadata": {},
     "execution_count": 224
    }
   ],
   "source": [
    "datos"
   ]
  },
  {
   "cell_type": "code",
   "execution_count": 235,
   "metadata": {},
   "outputs": [
    {
     "output_type": "execute_result",
     "data": {
      "text/plain": "                timestamp             user name                user url  \\\n0    18 de agosto de 2020      clubhouseexpress      /clubhouseexpress/   \n1    18 de agosto de 2020      clubhouseexpress      /clubhouseexpress/   \n2    18 de agosto de 2020      clubhouseexpress      /clubhouseexpress/   \n3    18 de agosto de 2020      clubhouseexpress      /clubhouseexpress/   \n4    18 de agosto de 2020      clubhouseexpress      /clubhouseexpress/   \n..                    ...                   ...                     ...   \n538  28 de agosto de 2020        fratellos.vzla        /fratellos.vzla/   \n539  28 de agosto de 2020          telepizza041          /telepizza041/   \n540  28 de agosto de 2020          telepizza041          /telepizza041/   \n541  28 de agosto de 2020  escueladeparrilleros  /escueladeparrilleros/   \n542  28 de agosto de 2020        condulzura.val        /condulzura.val/   \n\n                                               img url  \\\n0    https://scontent-mia3-2.cdninstagram.com/v/t51...   \n1    https://scontent-mia3-1.cdninstagram.com/v/t51...   \n2    https://scontent-mia3-2.cdninstagram.com/v/t51...   \n3    https://scontent-mia3-2.cdninstagram.com/v/t51...   \n4    https://scontent-mia3-1.cdninstagram.com/v/t51...   \n..                                                 ...   \n538  https://scontent-mia3-2.cdninstagram.com/v/t51...   \n539  https://scontent-mia3-1.cdninstagram.com/v/t51...   \n540  https://scontent-mia3-2.cdninstagram.com/v/t51...   \n541  https://scontent-mia3-1.cdninstagram.com/v/t51...   \n542  https://scontent-mia3-1.cdninstagram.com/v/t51...   \n\n                                               content           telefono  \n0    ['Empezamos la semana de la mejor manera y que...  ['0424-437.0329']  \n1    No puedes dejar de probar el único Club House ...  ['0424-437.0329']  \n2    🌴Club House Los Roques🌴\\n⠀⠀⠀⠀⠀⠀⠀⠀⠀⠀⠀⠀⠀⠀⠀⠀⠀⠀⠀⠀⠀...  ['0424-437.0329']  \n3    ⛰️ Bandeja Caracas ⛰️ \\n⠀⠀⠀⠀⠀⠀⠀⠀⠀⠀⠀⠀⠀⠀⠀⠀⠀⠀⠀⠀⠀⠀...  ['0424-437.0329']  \n4                                                  NaN               None  \n..                                                 ...                ...  \n538                                                 []                 []  \n539  ['#pizza #foodvalencia #pizzavalencia #Telepiz...                 []  \n540  ¡La felicidad viene en una caja cuadrada y en ...     ['4144205599']  \n541  ['¡Allá nos vemos!.Reposted from @delimarketva...   ['0424-4192918']  \n542  ['La mejor parte del postre es cuando lo compa...                 []  \n\n[536 rows x 6 columns]",
      "text/html": "<div>\n<style scoped>\n    .dataframe tbody tr th:only-of-type {\n        vertical-align: middle;\n    }\n\n    .dataframe tbody tr th {\n        vertical-align: top;\n    }\n\n    .dataframe thead th {\n        text-align: right;\n    }\n</style>\n<table border=\"1\" class=\"dataframe\">\n  <thead>\n    <tr style=\"text-align: right;\">\n      <th></th>\n      <th>timestamp</th>\n      <th>user name</th>\n      <th>user url</th>\n      <th>img url</th>\n      <th>content</th>\n      <th>telefono</th>\n    </tr>\n  </thead>\n  <tbody>\n    <tr>\n      <th>0</th>\n      <td>18 de agosto de 2020</td>\n      <td>clubhouseexpress</td>\n      <td>/clubhouseexpress/</td>\n      <td>https://scontent-mia3-2.cdninstagram.com/v/t51...</td>\n      <td>['Empezamos la semana de la mejor manera y que...</td>\n      <td>['0424-437.0329']</td>\n    </tr>\n    <tr>\n      <th>1</th>\n      <td>18 de agosto de 2020</td>\n      <td>clubhouseexpress</td>\n      <td>/clubhouseexpress/</td>\n      <td>https://scontent-mia3-1.cdninstagram.com/v/t51...</td>\n      <td>No puedes dejar de probar el único Club House ...</td>\n      <td>['0424-437.0329']</td>\n    </tr>\n    <tr>\n      <th>2</th>\n      <td>18 de agosto de 2020</td>\n      <td>clubhouseexpress</td>\n      <td>/clubhouseexpress/</td>\n      <td>https://scontent-mia3-2.cdninstagram.com/v/t51...</td>\n      <td>🌴Club House Los Roques🌴\\n⠀⠀⠀⠀⠀⠀⠀⠀⠀⠀⠀⠀⠀⠀⠀⠀⠀⠀⠀⠀⠀...</td>\n      <td>['0424-437.0329']</td>\n    </tr>\n    <tr>\n      <th>3</th>\n      <td>18 de agosto de 2020</td>\n      <td>clubhouseexpress</td>\n      <td>/clubhouseexpress/</td>\n      <td>https://scontent-mia3-2.cdninstagram.com/v/t51...</td>\n      <td>⛰️ Bandeja Caracas ⛰️ \\n⠀⠀⠀⠀⠀⠀⠀⠀⠀⠀⠀⠀⠀⠀⠀⠀⠀⠀⠀⠀⠀⠀...</td>\n      <td>['0424-437.0329']</td>\n    </tr>\n    <tr>\n      <th>4</th>\n      <td>18 de agosto de 2020</td>\n      <td>clubhouseexpress</td>\n      <td>/clubhouseexpress/</td>\n      <td>https://scontent-mia3-1.cdninstagram.com/v/t51...</td>\n      <td>NaN</td>\n      <td>None</td>\n    </tr>\n    <tr>\n      <th>...</th>\n      <td>...</td>\n      <td>...</td>\n      <td>...</td>\n      <td>...</td>\n      <td>...</td>\n      <td>...</td>\n    </tr>\n    <tr>\n      <th>538</th>\n      <td>28 de agosto de 2020</td>\n      <td>fratellos.vzla</td>\n      <td>/fratellos.vzla/</td>\n      <td>https://scontent-mia3-2.cdninstagram.com/v/t51...</td>\n      <td>[]</td>\n      <td>[]</td>\n    </tr>\n    <tr>\n      <th>539</th>\n      <td>28 de agosto de 2020</td>\n      <td>telepizza041</td>\n      <td>/telepizza041/</td>\n      <td>https://scontent-mia3-1.cdninstagram.com/v/t51...</td>\n      <td>['#pizza #foodvalencia #pizzavalencia #Telepiz...</td>\n      <td>[]</td>\n    </tr>\n    <tr>\n      <th>540</th>\n      <td>28 de agosto de 2020</td>\n      <td>telepizza041</td>\n      <td>/telepizza041/</td>\n      <td>https://scontent-mia3-2.cdninstagram.com/v/t51...</td>\n      <td>¡La felicidad viene en una caja cuadrada y en ...</td>\n      <td>['4144205599']</td>\n    </tr>\n    <tr>\n      <th>541</th>\n      <td>28 de agosto de 2020</td>\n      <td>escueladeparrilleros</td>\n      <td>/escueladeparrilleros/</td>\n      <td>https://scontent-mia3-1.cdninstagram.com/v/t51...</td>\n      <td>['¡Allá nos vemos!.Reposted from @delimarketva...</td>\n      <td>['0424-4192918']</td>\n    </tr>\n    <tr>\n      <th>542</th>\n      <td>28 de agosto de 2020</td>\n      <td>condulzura.val</td>\n      <td>/condulzura.val/</td>\n      <td>https://scontent-mia3-1.cdninstagram.com/v/t51...</td>\n      <td>['La mejor parte del postre es cuando lo compa...</td>\n      <td>[]</td>\n    </tr>\n  </tbody>\n</table>\n<p>536 rows × 6 columns</p>\n</div>"
     },
     "metadata": {},
     "execution_count": 235
    }
   ],
   "source": [
    "data"
   ]
  },
  {
   "source": [
    "# Definiendo las funciones \n",
    "___________________________"
   ],
   "cell_type": "markdown",
   "metadata": {}
  },
  {
   "cell_type": "code",
   "execution_count": 10,
   "metadata": {},
   "outputs": [],
   "source": [
    "def get_phone( patron ):\n",
    "    \n",
    "    l_1 = []\n",
    "    flatten = []\n",
    "    for i in list_content:\n",
    "        try:\n",
    "            temp = patron.findall(i)\n",
    "            if len(temp) == 1:\n",
    "                l_1.append(temp[0])\n",
    "            else:\n",
    "                l_1.append(temp)\n",
    "\n",
    "        except:\n",
    "            l_1.append(None)\n",
    "            \n",
    "    return l_1"
   ]
  },
  {
   "cell_type": "code",
   "execution_count": null,
   "metadata": {},
   "outputs": [],
   "source": [
    "# Filtro Pais \n",
    "\n",
    "contador = 0\n",
    "for i in range(len(list_content)):\n",
    "    try:\n",
    "        if bool(compile.findall(list_content[i])): data.drop(data.index[i], inplace=True)\n",
    "    except:\n",
    "        pass\n"
   ]
  },
  {
   "cell_type": "code",
   "execution_count": 242,
   "metadata": {},
   "outputs": [],
   "source": [
    "list_content = data['content']"
   ]
  },
  {
   "cell_type": "code",
   "execution_count": 245,
   "metadata": {},
   "outputs": [],
   "source": [
    "data['telefono'] = get_phone( patron )"
   ]
  },
  {
   "cell_type": "code",
   "execution_count": 246,
   "metadata": {},
   "outputs": [
    {
     "output_type": "execute_result",
     "data": {
      "text/plain": "                timestamp             user name                user url  \\\n0    18 de agosto de 2020      clubhouseexpress      /clubhouseexpress/   \n1    18 de agosto de 2020      clubhouseexpress      /clubhouseexpress/   \n2    18 de agosto de 2020      clubhouseexpress      /clubhouseexpress/   \n3    18 de agosto de 2020      clubhouseexpress      /clubhouseexpress/   \n4    18 de agosto de 2020      clubhouseexpress      /clubhouseexpress/   \n..                    ...                   ...                     ...   \n538  28 de agosto de 2020        fratellos.vzla        /fratellos.vzla/   \n539  28 de agosto de 2020          telepizza041          /telepizza041/   \n540  28 de agosto de 2020          telepizza041          /telepizza041/   \n541  28 de agosto de 2020  escueladeparrilleros  /escueladeparrilleros/   \n542  28 de agosto de 2020        condulzura.val        /condulzura.val/   \n\n                                               img url  \\\n0    https://scontent-mia3-2.cdninstagram.com/v/t51...   \n1    https://scontent-mia3-1.cdninstagram.com/v/t51...   \n2    https://scontent-mia3-2.cdninstagram.com/v/t51...   \n3    https://scontent-mia3-2.cdninstagram.com/v/t51...   \n4    https://scontent-mia3-1.cdninstagram.com/v/t51...   \n..                                                 ...   \n538  https://scontent-mia3-2.cdninstagram.com/v/t51...   \n539  https://scontent-mia3-1.cdninstagram.com/v/t51...   \n540  https://scontent-mia3-2.cdninstagram.com/v/t51...   \n541  https://scontent-mia3-1.cdninstagram.com/v/t51...   \n542  https://scontent-mia3-1.cdninstagram.com/v/t51...   \n\n                                               content       telefono  \n0    ['Empezamos la semana de la mejor manera y que...  0424-437.0329  \n1    No puedes dejar de probar el único Club House ...  0424-437.0329  \n2    🌴Club House Los Roques🌴\\n⠀⠀⠀⠀⠀⠀⠀⠀⠀⠀⠀⠀⠀⠀⠀⠀⠀⠀⠀⠀⠀...  0424-437.0329  \n3    ⛰️ Bandeja Caracas ⛰️ \\n⠀⠀⠀⠀⠀⠀⠀⠀⠀⠀⠀⠀⠀⠀⠀⠀⠀⠀⠀⠀⠀⠀...  0424-437.0329  \n4                                                  NaN           None  \n..                                                 ...            ...  \n538                                                 []             []  \n539  ['#pizza #foodvalencia #pizzavalencia #Telepiz...             []  \n540  ¡La felicidad viene en una caja cuadrada y en ...     4144205599  \n541  ['¡Allá nos vemos!.Reposted from @delimarketva...   0424-4192918  \n542  ['La mejor parte del postre es cuando lo compa...             []  \n\n[536 rows x 6 columns]",
      "text/html": "<div>\n<style scoped>\n    .dataframe tbody tr th:only-of-type {\n        vertical-align: middle;\n    }\n\n    .dataframe tbody tr th {\n        vertical-align: top;\n    }\n\n    .dataframe thead th {\n        text-align: right;\n    }\n</style>\n<table border=\"1\" class=\"dataframe\">\n  <thead>\n    <tr style=\"text-align: right;\">\n      <th></th>\n      <th>timestamp</th>\n      <th>user name</th>\n      <th>user url</th>\n      <th>img url</th>\n      <th>content</th>\n      <th>telefono</th>\n    </tr>\n  </thead>\n  <tbody>\n    <tr>\n      <th>0</th>\n      <td>18 de agosto de 2020</td>\n      <td>clubhouseexpress</td>\n      <td>/clubhouseexpress/</td>\n      <td>https://scontent-mia3-2.cdninstagram.com/v/t51...</td>\n      <td>['Empezamos la semana de la mejor manera y que...</td>\n      <td>0424-437.0329</td>\n    </tr>\n    <tr>\n      <th>1</th>\n      <td>18 de agosto de 2020</td>\n      <td>clubhouseexpress</td>\n      <td>/clubhouseexpress/</td>\n      <td>https://scontent-mia3-1.cdninstagram.com/v/t51...</td>\n      <td>No puedes dejar de probar el único Club House ...</td>\n      <td>0424-437.0329</td>\n    </tr>\n    <tr>\n      <th>2</th>\n      <td>18 de agosto de 2020</td>\n      <td>clubhouseexpress</td>\n      <td>/clubhouseexpress/</td>\n      <td>https://scontent-mia3-2.cdninstagram.com/v/t51...</td>\n      <td>🌴Club House Los Roques🌴\\n⠀⠀⠀⠀⠀⠀⠀⠀⠀⠀⠀⠀⠀⠀⠀⠀⠀⠀⠀⠀⠀...</td>\n      <td>0424-437.0329</td>\n    </tr>\n    <tr>\n      <th>3</th>\n      <td>18 de agosto de 2020</td>\n      <td>clubhouseexpress</td>\n      <td>/clubhouseexpress/</td>\n      <td>https://scontent-mia3-2.cdninstagram.com/v/t51...</td>\n      <td>⛰️ Bandeja Caracas ⛰️ \\n⠀⠀⠀⠀⠀⠀⠀⠀⠀⠀⠀⠀⠀⠀⠀⠀⠀⠀⠀⠀⠀⠀...</td>\n      <td>0424-437.0329</td>\n    </tr>\n    <tr>\n      <th>4</th>\n      <td>18 de agosto de 2020</td>\n      <td>clubhouseexpress</td>\n      <td>/clubhouseexpress/</td>\n      <td>https://scontent-mia3-1.cdninstagram.com/v/t51...</td>\n      <td>NaN</td>\n      <td>None</td>\n    </tr>\n    <tr>\n      <th>...</th>\n      <td>...</td>\n      <td>...</td>\n      <td>...</td>\n      <td>...</td>\n      <td>...</td>\n      <td>...</td>\n    </tr>\n    <tr>\n      <th>538</th>\n      <td>28 de agosto de 2020</td>\n      <td>fratellos.vzla</td>\n      <td>/fratellos.vzla/</td>\n      <td>https://scontent-mia3-2.cdninstagram.com/v/t51...</td>\n      <td>[]</td>\n      <td>[]</td>\n    </tr>\n    <tr>\n      <th>539</th>\n      <td>28 de agosto de 2020</td>\n      <td>telepizza041</td>\n      <td>/telepizza041/</td>\n      <td>https://scontent-mia3-1.cdninstagram.com/v/t51...</td>\n      <td>['#pizza #foodvalencia #pizzavalencia #Telepiz...</td>\n      <td>[]</td>\n    </tr>\n    <tr>\n      <th>540</th>\n      <td>28 de agosto de 2020</td>\n      <td>telepizza041</td>\n      <td>/telepizza041/</td>\n      <td>https://scontent-mia3-2.cdninstagram.com/v/t51...</td>\n      <td>¡La felicidad viene en una caja cuadrada y en ...</td>\n      <td>4144205599</td>\n    </tr>\n    <tr>\n      <th>541</th>\n      <td>28 de agosto de 2020</td>\n      <td>escueladeparrilleros</td>\n      <td>/escueladeparrilleros/</td>\n      <td>https://scontent-mia3-1.cdninstagram.com/v/t51...</td>\n      <td>['¡Allá nos vemos!.Reposted from @delimarketva...</td>\n      <td>0424-4192918</td>\n    </tr>\n    <tr>\n      <th>542</th>\n      <td>28 de agosto de 2020</td>\n      <td>condulzura.val</td>\n      <td>/condulzura.val/</td>\n      <td>https://scontent-mia3-1.cdninstagram.com/v/t51...</td>\n      <td>['La mejor parte del postre es cuando lo compa...</td>\n      <td>[]</td>\n    </tr>\n  </tbody>\n</table>\n<p>536 rows × 6 columns</p>\n</div>"
     },
     "metadata": {},
     "execution_count": 246
    }
   ],
   "source": [
    "data"
   ]
  },
  {
   "cell_type": "code",
   "execution_count": 247,
   "metadata": {},
   "outputs": [],
   "source": [
    "datos = data.copy(deep=True)"
   ]
  },
  {
   "cell_type": "code",
   "execution_count": 259,
   "metadata": {},
   "outputs": [],
   "source": [
    "import numpy as np\n",
    "datos['telefono'] = datos['telefono'].replace([], np.nan)"
   ]
  },
  {
   "cell_type": "code",
   "execution_count": 265,
   "metadata": {},
   "outputs": [],
   "source": [
    "datos = datos[['telefono', 'content']].astype(str)"
   ]
  },
  {
   "cell_type": "code",
   "execution_count": 267,
   "metadata": {},
   "outputs": [],
   "source": [
    "datos = datos.replace('None', '')"
   ]
  },
  {
   "cell_type": "code",
   "execution_count": 268,
   "metadata": {},
   "outputs": [],
   "source": [
    "datos = datos.replace('[]', '')"
   ]
  },
  {
   "cell_type": "code",
   "execution_count": 271,
   "metadata": {},
   "outputs": [],
   "source": [
    "datos = datos.replace(np.nan, '')"
   ]
  },
  {
   "cell_type": "code",
   "execution_count": 272,
   "metadata": {},
   "outputs": [
    {
     "output_type": "execute_result",
     "data": {
      "text/plain": "                timestamp             user name                user url  \\\n0    18 de agosto de 2020      clubhouseexpress      /clubhouseexpress/   \n1    18 de agosto de 2020      clubhouseexpress      /clubhouseexpress/   \n2    18 de agosto de 2020      clubhouseexpress      /clubhouseexpress/   \n3    18 de agosto de 2020      clubhouseexpress      /clubhouseexpress/   \n4    18 de agosto de 2020      clubhouseexpress      /clubhouseexpress/   \n..                    ...                   ...                     ...   \n538  28 de agosto de 2020        fratellos.vzla        /fratellos.vzla/   \n539  28 de agosto de 2020          telepizza041          /telepizza041/   \n540  28 de agosto de 2020          telepizza041          /telepizza041/   \n541  28 de agosto de 2020  escueladeparrilleros  /escueladeparrilleros/   \n542  28 de agosto de 2020        condulzura.val        /condulzura.val/   \n\n                                               img url  \\\n0    https://scontent-mia3-2.cdninstagram.com/v/t51...   \n1    https://scontent-mia3-1.cdninstagram.com/v/t51...   \n2    https://scontent-mia3-2.cdninstagram.com/v/t51...   \n3    https://scontent-mia3-2.cdninstagram.com/v/t51...   \n4    https://scontent-mia3-1.cdninstagram.com/v/t51...   \n..                                                 ...   \n538  https://scontent-mia3-2.cdninstagram.com/v/t51...   \n539  https://scontent-mia3-1.cdninstagram.com/v/t51...   \n540  https://scontent-mia3-2.cdninstagram.com/v/t51...   \n541  https://scontent-mia3-1.cdninstagram.com/v/t51...   \n542  https://scontent-mia3-1.cdninstagram.com/v/t51...   \n\n                                               content       telefono  \n0    ['Empezamos la semana de la mejor manera y que...  0424-437.0329  \n1    No puedes dejar de probar el único Club House ...  0424-437.0329  \n2    🌴Club House Los Roques🌴\\n⠀⠀⠀⠀⠀⠀⠀⠀⠀⠀⠀⠀⠀⠀⠀⠀⠀⠀⠀⠀⠀...  0424-437.0329  \n3    ⛰️ Bandeja Caracas ⛰️ \\n⠀⠀⠀⠀⠀⠀⠀⠀⠀⠀⠀⠀⠀⠀⠀⠀⠀⠀⠀⠀⠀⠀...  0424-437.0329  \n4                                                                      \n..                                                 ...            ...  \n538                                                                    \n539  ['#pizza #foodvalencia #pizzavalencia #Telepiz...                 \n540  ¡La felicidad viene en una caja cuadrada y en ...     4144205599  \n541  ['¡Allá nos vemos!.Reposted from @delimarketva...   0424-4192918  \n542  ['La mejor parte del postre es cuando lo compa...                 \n\n[536 rows x 6 columns]",
      "text/html": "<div>\n<style scoped>\n    .dataframe tbody tr th:only-of-type {\n        vertical-align: middle;\n    }\n\n    .dataframe tbody tr th {\n        vertical-align: top;\n    }\n\n    .dataframe thead th {\n        text-align: right;\n    }\n</style>\n<table border=\"1\" class=\"dataframe\">\n  <thead>\n    <tr style=\"text-align: right;\">\n      <th></th>\n      <th>timestamp</th>\n      <th>user name</th>\n      <th>user url</th>\n      <th>img url</th>\n      <th>content</th>\n      <th>telefono</th>\n    </tr>\n  </thead>\n  <tbody>\n    <tr>\n      <th>0</th>\n      <td>18 de agosto de 2020</td>\n      <td>clubhouseexpress</td>\n      <td>/clubhouseexpress/</td>\n      <td>https://scontent-mia3-2.cdninstagram.com/v/t51...</td>\n      <td>['Empezamos la semana de la mejor manera y que...</td>\n      <td>0424-437.0329</td>\n    </tr>\n    <tr>\n      <th>1</th>\n      <td>18 de agosto de 2020</td>\n      <td>clubhouseexpress</td>\n      <td>/clubhouseexpress/</td>\n      <td>https://scontent-mia3-1.cdninstagram.com/v/t51...</td>\n      <td>No puedes dejar de probar el único Club House ...</td>\n      <td>0424-437.0329</td>\n    </tr>\n    <tr>\n      <th>2</th>\n      <td>18 de agosto de 2020</td>\n      <td>clubhouseexpress</td>\n      <td>/clubhouseexpress/</td>\n      <td>https://scontent-mia3-2.cdninstagram.com/v/t51...</td>\n      <td>🌴Club House Los Roques🌴\\n⠀⠀⠀⠀⠀⠀⠀⠀⠀⠀⠀⠀⠀⠀⠀⠀⠀⠀⠀⠀⠀...</td>\n      <td>0424-437.0329</td>\n    </tr>\n    <tr>\n      <th>3</th>\n      <td>18 de agosto de 2020</td>\n      <td>clubhouseexpress</td>\n      <td>/clubhouseexpress/</td>\n      <td>https://scontent-mia3-2.cdninstagram.com/v/t51...</td>\n      <td>⛰️ Bandeja Caracas ⛰️ \\n⠀⠀⠀⠀⠀⠀⠀⠀⠀⠀⠀⠀⠀⠀⠀⠀⠀⠀⠀⠀⠀⠀...</td>\n      <td>0424-437.0329</td>\n    </tr>\n    <tr>\n      <th>4</th>\n      <td>18 de agosto de 2020</td>\n      <td>clubhouseexpress</td>\n      <td>/clubhouseexpress/</td>\n      <td>https://scontent-mia3-1.cdninstagram.com/v/t51...</td>\n      <td></td>\n      <td></td>\n    </tr>\n    <tr>\n      <th>...</th>\n      <td>...</td>\n      <td>...</td>\n      <td>...</td>\n      <td>...</td>\n      <td>...</td>\n      <td>...</td>\n    </tr>\n    <tr>\n      <th>538</th>\n      <td>28 de agosto de 2020</td>\n      <td>fratellos.vzla</td>\n      <td>/fratellos.vzla/</td>\n      <td>https://scontent-mia3-2.cdninstagram.com/v/t51...</td>\n      <td></td>\n      <td></td>\n    </tr>\n    <tr>\n      <th>539</th>\n      <td>28 de agosto de 2020</td>\n      <td>telepizza041</td>\n      <td>/telepizza041/</td>\n      <td>https://scontent-mia3-1.cdninstagram.com/v/t51...</td>\n      <td>['#pizza #foodvalencia #pizzavalencia #Telepiz...</td>\n      <td></td>\n    </tr>\n    <tr>\n      <th>540</th>\n      <td>28 de agosto de 2020</td>\n      <td>telepizza041</td>\n      <td>/telepizza041/</td>\n      <td>https://scontent-mia3-2.cdninstagram.com/v/t51...</td>\n      <td>¡La felicidad viene en una caja cuadrada y en ...</td>\n      <td>4144205599</td>\n    </tr>\n    <tr>\n      <th>541</th>\n      <td>28 de agosto de 2020</td>\n      <td>escueladeparrilleros</td>\n      <td>/escueladeparrilleros/</td>\n      <td>https://scontent-mia3-1.cdninstagram.com/v/t51...</td>\n      <td>['¡Allá nos vemos!.Reposted from @delimarketva...</td>\n      <td>0424-4192918</td>\n    </tr>\n    <tr>\n      <th>542</th>\n      <td>28 de agosto de 2020</td>\n      <td>condulzura.val</td>\n      <td>/condulzura.val/</td>\n      <td>https://scontent-mia3-1.cdninstagram.com/v/t51...</td>\n      <td>['La mejor parte del postre es cuando lo compa...</td>\n      <td></td>\n    </tr>\n  </tbody>\n</table>\n<p>536 rows × 6 columns</p>\n</div>"
     },
     "metadata": {},
     "execution_count": 272
    }
   ],
   "source": [
    "datos"
   ]
  },
  {
   "cell_type": "code",
   "execution_count": 273,
   "metadata": {},
   "outputs": [],
   "source": [
    "#  GUardando el avance \n",
    "datos.to_csv(\"ig_scrapper/database/uni data/data.csv\")"
   ]
  },
  {
   "cell_type": "code",
   "execution_count": 276,
   "metadata": {},
   "outputs": [
    {
     "output_type": "execute_result",
     "data": {
      "text/plain": "0      ['Empezamos la semana de la mejor manera y que...\n1      No puedes dejar de probar el único Club House ...\n2      🌴Club House Los Roques🌴\\n⠀⠀⠀⠀⠀⠀⠀⠀⠀⠀⠀⠀⠀⠀⠀⠀⠀⠀⠀⠀⠀...\n3      ⛰️ Bandeja Caracas ⛰️ \\n⠀⠀⠀⠀⠀⠀⠀⠀⠀⠀⠀⠀⠀⠀⠀⠀⠀⠀⠀⠀⠀⠀...\n4                                                       \n                             ...                        \n538                                                     \n539    ['#pizza #foodvalencia #pizzavalencia #Telepiz...\n540    ¡La felicidad viene en una caja cuadrada y en ...\n541    ['¡Allá nos vemos!.Reposted from @delimarketva...\n542    ['La mejor parte del postre es cuando lo compa...\nName: content, Length: 536, dtype: object"
     },
     "metadata": {},
     "execution_count": 276
    }
   ],
   "source": [
    "datos['content']"
   ]
  },
  {
   "cell_type": "code",
   "execution_count": 277,
   "metadata": {},
   "outputs": [],
   "source": [
    "datos['user name'] = datos['user name'].astype(str)"
   ]
  },
  {
   "cell_type": "code",
   "execution_count": 280,
   "metadata": {},
   "outputs": [
    {
     "output_type": "execute_result",
     "data": {
      "text/plain": "              timestamp         user name            user url  \\\n0  18 de agosto de 2020  clubhouseexpress  /clubhouseexpress/   \n1  18 de agosto de 2020  clubhouseexpress  /clubhouseexpress/   \n2  18 de agosto de 2020  clubhouseexpress  /clubhouseexpress/   \n3  18 de agosto de 2020  clubhouseexpress  /clubhouseexpress/   \n4  18 de agosto de 2020  clubhouseexpress  /clubhouseexpress/   \n5  18 de agosto de 2020  clubhouseexpress  /clubhouseexpress/   \n6  18 de agosto de 2020  clubhouseexpress  /clubhouseexpress/   \n\n                                             img url  \\\n0  https://scontent-mia3-2.cdninstagram.com/v/t51...   \n1  https://scontent-mia3-1.cdninstagram.com/v/t51...   \n2  https://scontent-mia3-2.cdninstagram.com/v/t51...   \n3  https://scontent-mia3-2.cdninstagram.com/v/t51...   \n4  https://scontent-mia3-1.cdninstagram.com/v/t51...   \n5  https://scontent-mia3-2.cdninstagram.com/v/t51...   \n6  https://scontent-mia3-2.cdninstagram.com/v/t51...   \n\n                                             content       telefono  \n0  ['Empezamos la semana de la mejor manera y que...  0424-437.0329  \n1  No puedes dejar de probar el único Club House ...  0424-437.0329  \n2  🌴Club House Los Roques🌴\\n⠀⠀⠀⠀⠀⠀⠀⠀⠀⠀⠀⠀⠀⠀⠀⠀⠀⠀⠀⠀⠀...  0424-437.0329  \n3  ⛰️ Bandeja Caracas ⛰️ \\n⠀⠀⠀⠀⠀⠀⠀⠀⠀⠀⠀⠀⠀⠀⠀⠀⠀⠀⠀⠀⠀⠀...  0424-437.0329  \n4                                                                    \n5  ⛰️ Club House Mérida ⛰️ \\n⠀⠀⠀⠀⠀⠀⠀⠀⠀⠀⠀⠀⠀⠀⠀⠀⠀⠀⠀⠀...  0424-437.0329  \n6  🙌¡ACTIVOS!🙌\\n⠀⠀⠀⠀⠀⠀⠀⠀⠀⠀⠀⠀⠀⠀⠀⠀⠀⠀⠀⠀⠀⠀⠀⠀\\nDisfrut...  0424-437.0329  ",
      "text/html": "<div>\n<style scoped>\n    .dataframe tbody tr th:only-of-type {\n        vertical-align: middle;\n    }\n\n    .dataframe tbody tr th {\n        vertical-align: top;\n    }\n\n    .dataframe thead th {\n        text-align: right;\n    }\n</style>\n<table border=\"1\" class=\"dataframe\">\n  <thead>\n    <tr style=\"text-align: right;\">\n      <th></th>\n      <th>timestamp</th>\n      <th>user name</th>\n      <th>user url</th>\n      <th>img url</th>\n      <th>content</th>\n      <th>telefono</th>\n    </tr>\n  </thead>\n  <tbody>\n    <tr>\n      <th>0</th>\n      <td>18 de agosto de 2020</td>\n      <td>clubhouseexpress</td>\n      <td>/clubhouseexpress/</td>\n      <td>https://scontent-mia3-2.cdninstagram.com/v/t51...</td>\n      <td>['Empezamos la semana de la mejor manera y que...</td>\n      <td>0424-437.0329</td>\n    </tr>\n    <tr>\n      <th>1</th>\n      <td>18 de agosto de 2020</td>\n      <td>clubhouseexpress</td>\n      <td>/clubhouseexpress/</td>\n      <td>https://scontent-mia3-1.cdninstagram.com/v/t51...</td>\n      <td>No puedes dejar de probar el único Club House ...</td>\n      <td>0424-437.0329</td>\n    </tr>\n    <tr>\n      <th>2</th>\n      <td>18 de agosto de 2020</td>\n      <td>clubhouseexpress</td>\n      <td>/clubhouseexpress/</td>\n      <td>https://scontent-mia3-2.cdninstagram.com/v/t51...</td>\n      <td>🌴Club House Los Roques🌴\\n⠀⠀⠀⠀⠀⠀⠀⠀⠀⠀⠀⠀⠀⠀⠀⠀⠀⠀⠀⠀⠀...</td>\n      <td>0424-437.0329</td>\n    </tr>\n    <tr>\n      <th>3</th>\n      <td>18 de agosto de 2020</td>\n      <td>clubhouseexpress</td>\n      <td>/clubhouseexpress/</td>\n      <td>https://scontent-mia3-2.cdninstagram.com/v/t51...</td>\n      <td>⛰️ Bandeja Caracas ⛰️ \\n⠀⠀⠀⠀⠀⠀⠀⠀⠀⠀⠀⠀⠀⠀⠀⠀⠀⠀⠀⠀⠀⠀...</td>\n      <td>0424-437.0329</td>\n    </tr>\n    <tr>\n      <th>4</th>\n      <td>18 de agosto de 2020</td>\n      <td>clubhouseexpress</td>\n      <td>/clubhouseexpress/</td>\n      <td>https://scontent-mia3-1.cdninstagram.com/v/t51...</td>\n      <td></td>\n      <td></td>\n    </tr>\n    <tr>\n      <th>5</th>\n      <td>18 de agosto de 2020</td>\n      <td>clubhouseexpress</td>\n      <td>/clubhouseexpress/</td>\n      <td>https://scontent-mia3-2.cdninstagram.com/v/t51...</td>\n      <td>⛰️ Club House Mérida ⛰️ \\n⠀⠀⠀⠀⠀⠀⠀⠀⠀⠀⠀⠀⠀⠀⠀⠀⠀⠀⠀⠀...</td>\n      <td>0424-437.0329</td>\n    </tr>\n    <tr>\n      <th>6</th>\n      <td>18 de agosto de 2020</td>\n      <td>clubhouseexpress</td>\n      <td>/clubhouseexpress/</td>\n      <td>https://scontent-mia3-2.cdninstagram.com/v/t51...</td>\n      <td>🙌¡ACTIVOS!🙌\\n⠀⠀⠀⠀⠀⠀⠀⠀⠀⠀⠀⠀⠀⠀⠀⠀⠀⠀⠀⠀⠀⠀⠀⠀\\nDisfrut...</td>\n      <td>0424-437.0329</td>\n    </tr>\n  </tbody>\n</table>\n</div>"
     },
     "metadata": {},
     "execution_count": 280
    }
   ],
   "source": [
    "datos.loc[datos['user name'] == 'clubhouseexpress']"
   ]
  },
  {
   "source": [
    "## Continuacion precio y completar telefono\n",
    "__________________________"
   ],
   "cell_type": "markdown",
   "metadata": {}
  },
  {
   "cell_type": "code",
   "execution_count": 1,
   "metadata": {},
   "outputs": [],
   "source": [
    "import pandas as pd \n",
    "import re \n",
    "import numpy as np"
   ]
  },
  {
   "cell_type": "code",
   "execution_count": 2,
   "metadata": {},
   "outputs": [],
   "source": [
    "data = pd.read_csv(\"ig_scrapper/database/uni data/data.csv\")\n",
    "# datos = data.copy(deep=True)"
   ]
  },
  {
   "cell_type": "code",
   "execution_count": 3,
   "metadata": {},
   "outputs": [
    {
     "output_type": "execute_result",
     "data": {
      "text/plain": "(536, 7)"
     },
     "metadata": {},
     "execution_count": 3
    }
   ],
   "source": [
    "data.shape"
   ]
  },
  {
   "cell_type": "code",
   "execution_count": 4,
   "metadata": {},
   "outputs": [],
   "source": [
    "data_phone = pd.read_csv(\"ig_scrapper/database/uni data/data_telefono.csv\")"
   ]
  },
  {
   "cell_type": "code",
   "execution_count": 5,
   "metadata": {},
   "outputs": [
    {
     "output_type": "execute_result",
     "data": {
      "text/plain": "(292, 8)"
     },
     "metadata": {},
     "execution_count": 5
    }
   ],
   "source": [
    "data_phone.shape"
   ]
  },
  {
   "cell_type": "code",
   "execution_count": 8,
   "metadata": {},
   "outputs": [],
   "source": [
    "data.drop(['telefono'],axis=1,inplace=True)"
   ]
  },
  {
   "cell_type": "code",
   "execution_count": 5,
   "metadata": {},
   "outputs": [],
   "source": [
    "data_temp = data[['user name', 'telefono']]"
   ]
  },
  {
   "cell_type": "code",
   "execution_count": 7,
   "metadata": {},
   "outputs": [],
   "source": [
    "data_temp = data_temp.dropna()"
   ]
  },
  {
   "cell_type": "code",
   "execution_count": 8,
   "metadata": {},
   "outputs": [],
   "source": [
    "data_temp = data_temp.drop_duplicates()"
   ]
  },
  {
   "cell_type": "code",
   "execution_count": 22,
   "metadata": {},
   "outputs": [],
   "source": [
    "data_quepasa = pd.merge(data, data_temp, how = 'left', on = 'user name')"
   ]
  },
  {
   "cell_type": "code",
   "execution_count": 21,
   "metadata": {},
   "outputs": [
    {
     "output_type": "execute_result",
     "data": {
      "text/plain": "(536, 6)"
     },
     "metadata": {},
     "execution_count": 21
    }
   ],
   "source": [
    "data.shape"
   ]
  },
  {
   "cell_type": "code",
   "execution_count": 11,
   "metadata": {},
   "outputs": [
    {
     "output_type": "execute_result",
     "data": {
      "text/plain": "     Unnamed: 0             timestamp          user name             user url  \\\n0             0  18 de agosto de 2020   clubhouseexpress   /clubhouseexpress/   \n1             1  18 de agosto de 2020   clubhouseexpress   /clubhouseexpress/   \n2             2  18 de agosto de 2020   clubhouseexpress   /clubhouseexpress/   \n3             3  18 de agosto de 2020   clubhouseexpress   /clubhouseexpress/   \n4             4  18 de agosto de 2020   clubhouseexpress   /clubhouseexpress/   \n..          ...                   ...                ...                  ...   \n660         514  29 de agosto de 2020         maxrodfish         /maxrodfish/   \n661         516  29 de agosto de 2020     concursos_vzla     /concursos_vzla/   \n662         524  29 de agosto de 2020          focaccias          /focaccias/   \n663         527  29 de agosto de 2020  mandarin.sandiego  /mandarin.sandiego/   \n664         529  29 de agosto de 2020    carniceriadorta    /carniceriadorta/   \n\n                                               img url  \\\n0    https://scontent-mia3-2.cdninstagram.com/v/t51...   \n1    https://scontent-mia3-1.cdninstagram.com/v/t51...   \n2    https://scontent-mia3-2.cdninstagram.com/v/t51...   \n3    https://scontent-mia3-2.cdninstagram.com/v/t51...   \n4    https://scontent-mia3-1.cdninstagram.com/v/t51...   \n..                                                 ...   \n660  https://scontent-mia3-2.cdninstagram.com/v/t51...   \n661  https://scontent-mia3-1.cdninstagram.com/v/t51...   \n662  https://scontent-mia3-1.cdninstagram.com/v/t51...   \n663  https://scontent-mia3-2.cdninstagram.com/v/t51...   \n664  https://scontent-mia3-1.cdninstagram.com/v/t51...   \n\n                                               content  \\\n0    ['Empezamos la semana de la mejor manera y que...   \n1    No puedes dejar de probar el único Club House ...   \n2    🌴Club House Los Roques🌴\\n⠀⠀⠀⠀⠀⠀⠀⠀⠀⠀⠀⠀⠀⠀⠀⠀⠀⠀⠀⠀⠀...   \n3    ⛰️ Bandeja Caracas ⛰️ \\n⠀⠀⠀⠀⠀⠀⠀⠀⠀⠀⠀⠀⠀⠀⠀⠀⠀⠀⠀⠀⠀⠀...   \n4                                                  NaN   \n..                                                 ...   \n660  ['Todos nuestros pescados son envasados al vac...   \n661  ['#Repost @bodegonpaladar with @make_repost・・・...   \n662  ['🗣¡Promoción!.Sábado de Pasticho😍 saliendo de...   \n663  ['UNO DE LOS MÁS FAMOSOS: Pollo en Salsa Agri...   \n664  ['.....#venezuela #carabobo #venta #deliverygr...   \n\n                         telefono_x                      telefono_y  \n0                     0424-437.0329                   0424-437.0329  \n1                     0424-437.0329                   0424-437.0329  \n2                     0424-437.0329                   0424-437.0329  \n3                     0424-437.0329                   0424-437.0329  \n4                               NaN                   0424-437.0329  \n..                              ...                             ...  \n660                    0414-3432147                    0414-3432147  \n661                             NaN                             NaN  \n662  ['04124104408', '02418436012']  ['04124104408', '02418436012']  \n663                             NaN                             NaN  \n664                             NaN                             NaN  \n\n[665 rows x 8 columns]",
      "text/html": "<div>\n<style scoped>\n    .dataframe tbody tr th:only-of-type {\n        vertical-align: middle;\n    }\n\n    .dataframe tbody tr th {\n        vertical-align: top;\n    }\n\n    .dataframe thead th {\n        text-align: right;\n    }\n</style>\n<table border=\"1\" class=\"dataframe\">\n  <thead>\n    <tr style=\"text-align: right;\">\n      <th></th>\n      <th>Unnamed: 0</th>\n      <th>timestamp</th>\n      <th>user name</th>\n      <th>user url</th>\n      <th>img url</th>\n      <th>content</th>\n      <th>telefono_x</th>\n      <th>telefono_y</th>\n    </tr>\n  </thead>\n  <tbody>\n    <tr>\n      <th>0</th>\n      <td>0</td>\n      <td>18 de agosto de 2020</td>\n      <td>clubhouseexpress</td>\n      <td>/clubhouseexpress/</td>\n      <td>https://scontent-mia3-2.cdninstagram.com/v/t51...</td>\n      <td>['Empezamos la semana de la mejor manera y que...</td>\n      <td>0424-437.0329</td>\n      <td>0424-437.0329</td>\n    </tr>\n    <tr>\n      <th>1</th>\n      <td>1</td>\n      <td>18 de agosto de 2020</td>\n      <td>clubhouseexpress</td>\n      <td>/clubhouseexpress/</td>\n      <td>https://scontent-mia3-1.cdninstagram.com/v/t51...</td>\n      <td>No puedes dejar de probar el único Club House ...</td>\n      <td>0424-437.0329</td>\n      <td>0424-437.0329</td>\n    </tr>\n    <tr>\n      <th>2</th>\n      <td>2</td>\n      <td>18 de agosto de 2020</td>\n      <td>clubhouseexpress</td>\n      <td>/clubhouseexpress/</td>\n      <td>https://scontent-mia3-2.cdninstagram.com/v/t51...</td>\n      <td>🌴Club House Los Roques🌴\\n⠀⠀⠀⠀⠀⠀⠀⠀⠀⠀⠀⠀⠀⠀⠀⠀⠀⠀⠀⠀⠀...</td>\n      <td>0424-437.0329</td>\n      <td>0424-437.0329</td>\n    </tr>\n    <tr>\n      <th>3</th>\n      <td>3</td>\n      <td>18 de agosto de 2020</td>\n      <td>clubhouseexpress</td>\n      <td>/clubhouseexpress/</td>\n      <td>https://scontent-mia3-2.cdninstagram.com/v/t51...</td>\n      <td>⛰️ Bandeja Caracas ⛰️ \\n⠀⠀⠀⠀⠀⠀⠀⠀⠀⠀⠀⠀⠀⠀⠀⠀⠀⠀⠀⠀⠀⠀...</td>\n      <td>0424-437.0329</td>\n      <td>0424-437.0329</td>\n    </tr>\n    <tr>\n      <th>4</th>\n      <td>4</td>\n      <td>18 de agosto de 2020</td>\n      <td>clubhouseexpress</td>\n      <td>/clubhouseexpress/</td>\n      <td>https://scontent-mia3-1.cdninstagram.com/v/t51...</td>\n      <td>NaN</td>\n      <td>NaN</td>\n      <td>0424-437.0329</td>\n    </tr>\n    <tr>\n      <th>...</th>\n      <td>...</td>\n      <td>...</td>\n      <td>...</td>\n      <td>...</td>\n      <td>...</td>\n      <td>...</td>\n      <td>...</td>\n      <td>...</td>\n    </tr>\n    <tr>\n      <th>660</th>\n      <td>514</td>\n      <td>29 de agosto de 2020</td>\n      <td>maxrodfish</td>\n      <td>/maxrodfish/</td>\n      <td>https://scontent-mia3-2.cdninstagram.com/v/t51...</td>\n      <td>['Todos nuestros pescados son envasados al vac...</td>\n      <td>0414-3432147</td>\n      <td>0414-3432147</td>\n    </tr>\n    <tr>\n      <th>661</th>\n      <td>516</td>\n      <td>29 de agosto de 2020</td>\n      <td>concursos_vzla</td>\n      <td>/concursos_vzla/</td>\n      <td>https://scontent-mia3-1.cdninstagram.com/v/t51...</td>\n      <td>['#Repost @bodegonpaladar with @make_repost・・・...</td>\n      <td>NaN</td>\n      <td>NaN</td>\n    </tr>\n    <tr>\n      <th>662</th>\n      <td>524</td>\n      <td>29 de agosto de 2020</td>\n      <td>focaccias</td>\n      <td>/focaccias/</td>\n      <td>https://scontent-mia3-1.cdninstagram.com/v/t51...</td>\n      <td>['🗣¡Promoción!.Sábado de Pasticho😍 saliendo de...</td>\n      <td>['04124104408', '02418436012']</td>\n      <td>['04124104408', '02418436012']</td>\n    </tr>\n    <tr>\n      <th>663</th>\n      <td>527</td>\n      <td>29 de agosto de 2020</td>\n      <td>mandarin.sandiego</td>\n      <td>/mandarin.sandiego/</td>\n      <td>https://scontent-mia3-2.cdninstagram.com/v/t51...</td>\n      <td>['UNO DE LOS MÁS FAMOSOS: Pollo en Salsa Agri...</td>\n      <td>NaN</td>\n      <td>NaN</td>\n    </tr>\n    <tr>\n      <th>664</th>\n      <td>529</td>\n      <td>29 de agosto de 2020</td>\n      <td>carniceriadorta</td>\n      <td>/carniceriadorta/</td>\n      <td>https://scontent-mia3-1.cdninstagram.com/v/t51...</td>\n      <td>['.....#venezuela #carabobo #venta #deliverygr...</td>\n      <td>NaN</td>\n      <td>NaN</td>\n    </tr>\n  </tbody>\n</table>\n<p>665 rows × 8 columns</p>\n</div>"
     },
     "metadata": {},
     "execution_count": 11
    }
   ],
   "source": [
    "data_quepasa.drop_duplicates()"
   ]
  },
  {
   "cell_type": "code",
   "execution_count": 16,
   "metadata": {},
   "outputs": [
    {
     "output_type": "execute_result",
     "data": {
      "text/plain": "                user name                        telefono\n0        clubhouseexpress                   0424-437.0329\n7       laollaexpress.val                     424-4967669\n15          sweetsugar.ve                    0414.4156478\n20          sweetsugar.ve                    0414 4156478\n23           telepizza041                  0414-420.55.99\n..                    ...                             ...\n500           maryzerdeli                    0414-4191503\n502           guguspizzas                    0412)4592251\n507            maxrodfish                    0414-3432147\n517             focaccias  ['04124104408', '02418436012']\n534  escueladeparrilleros                    0424-4192918\n\n[65 rows x 2 columns]",
      "text/html": "<div>\n<style scoped>\n    .dataframe tbody tr th:only-of-type {\n        vertical-align: middle;\n    }\n\n    .dataframe tbody tr th {\n        vertical-align: top;\n    }\n\n    .dataframe thead th {\n        text-align: right;\n    }\n</style>\n<table border=\"1\" class=\"dataframe\">\n  <thead>\n    <tr style=\"text-align: right;\">\n      <th></th>\n      <th>user name</th>\n      <th>telefono</th>\n    </tr>\n  </thead>\n  <tbody>\n    <tr>\n      <th>0</th>\n      <td>clubhouseexpress</td>\n      <td>0424-437.0329</td>\n    </tr>\n    <tr>\n      <th>7</th>\n      <td>laollaexpress.val</td>\n      <td>424-4967669</td>\n    </tr>\n    <tr>\n      <th>15</th>\n      <td>sweetsugar.ve</td>\n      <td>0414.4156478</td>\n    </tr>\n    <tr>\n      <th>20</th>\n      <td>sweetsugar.ve</td>\n      <td>0414 4156478</td>\n    </tr>\n    <tr>\n      <th>23</th>\n      <td>telepizza041</td>\n      <td>0414-420.55.99</td>\n    </tr>\n    <tr>\n      <th>...</th>\n      <td>...</td>\n      <td>...</td>\n    </tr>\n    <tr>\n      <th>500</th>\n      <td>maryzerdeli</td>\n      <td>0414-4191503</td>\n    </tr>\n    <tr>\n      <th>502</th>\n      <td>guguspizzas</td>\n      <td>0412)4592251</td>\n    </tr>\n    <tr>\n      <th>507</th>\n      <td>maxrodfish</td>\n      <td>0414-3432147</td>\n    </tr>\n    <tr>\n      <th>517</th>\n      <td>focaccias</td>\n      <td>['04124104408', '02418436012']</td>\n    </tr>\n    <tr>\n      <th>534</th>\n      <td>escueladeparrilleros</td>\n      <td>0424-4192918</td>\n    </tr>\n  </tbody>\n</table>\n<p>65 rows × 2 columns</p>\n</div>"
     },
     "metadata": {},
     "execution_count": 16
    }
   ],
   "source": [
    "data_temp"
   ]
  },
  {
   "cell_type": "code",
   "execution_count": 19,
   "metadata": {},
   "outputs": [],
   "source": [
    "data = data.drop(['telefono'],axis=1)"
   ]
  },
  {
   "cell_type": "code",
   "execution_count": 25,
   "metadata": {},
   "outputs": [
    {
     "output_type": "execute_result",
     "data": {
      "text/plain": "     Unnamed: 0                timestamp             user name  \\\n481         374  1 de septiembre de 2020            zoeslunchs   \n524         406     21 de agosto de 2020          dibosfingers   \n490         380  1 de septiembre de 2020          valenciamenu   \n87           69  4 de septiembre de 2020        valenciaoferta   \n358         271  4 de septiembre de 2020        valenciaoferta   \n270         211  2 de septiembre de 2020        restcasiquiare   \n22           18     26 de agosto de 2020         sweetsugar.ve   \n363         272  4 de septiembre de 2020        valenciaoferta   \n292         234  4 de septiembre de 2020            foodprime_   \n314         254  4 de septiembre de 2020           pizzeria007   \n578         460     30 de agosto de 2020     rapifood_valencia   \n582         464     30 de agosto de 2020      cometodovalencia   \n166         129  3 de septiembre de 2020      dulcedeleite.val   \n632         512     29 de agosto de 2020           guguspizzas   \n50           36     18 de agosto de 2020   sommelier.venezuela   \n663         541     28 de agosto de 2020  escueladeparrilleros   \n222         174  2 de septiembre de 2020          valenciamenu   \n545         427     31 de agosto de 2020     bodegaespresso.ve   \n91           72  4 de septiembre de 2020        fratellos.vzla   \n413         313  4 de septiembre de 2020            dgourmetam   \n\n                   user url  \\\n481            /zoeslunchs/   \n524          /dibosfingers/   \n490          /valenciamenu/   \n87         /valenciaoferta/   \n358        /valenciaoferta/   \n270        /restcasiquiare/   \n22          /sweetsugar.ve/   \n363        /valenciaoferta/   \n292            /foodprime_/   \n314           /pizzeria007/   \n578     /rapifood_valencia/   \n582      /cometodovalencia/   \n166      /dulcedeleite.val/   \n632           /guguspizzas/   \n50    /sommelier.venezuela/   \n663  /escueladeparrilleros/   \n222          /valenciamenu/   \n545     /bodegaespresso.ve/   \n91         /fratellos.vzla/   \n413            /dgourmetam/   \n\n                                               img url  \\\n481  https://scontent-mia3-1.cdninstagram.com/v/t51...   \n524  https://scontent-mia3-2.cdninstagram.com/v/t51...   \n490  https://scontent-mia3-1.cdninstagram.com/v/t51...   \n87   https://scontent-mia3-2.cdninstagram.com/v/t51...   \n358  https://scontent-mia3-2.cdninstagram.com/v/t51...   \n270  https://scontent-mia3-2.cdninstagram.com/v/t51...   \n22   https://scontent-mia3-1.cdninstagram.com/v/t51...   \n363  https://scontent-mia3-2.cdninstagram.com/v/t51...   \n292  https://scontent-mia3-1.cdninstagram.com/v/t51...   \n314  https://scontent-mia3-1.cdninstagram.com/v/t51...   \n578  https://scontent-mia3-2.cdninstagram.com/v/t51...   \n582  https://scontent-mia3-2.cdninstagram.com/v/t51...   \n166  https://scontent-mia3-1.cdninstagram.com/v/t51...   \n632  https://scontent-mia3-1.cdninstagram.com/v/t51...   \n50   https://scontent-mia3-2.cdninstagram.com/v/t51...   \n663  https://scontent-mia3-1.cdninstagram.com/v/t51...   \n222  https://scontent-mia3-1.cdninstagram.com/v/t51...   \n545  https://scontent-mia3-2.cdninstagram.com/v/t51...   \n91   https://scontent-mia3-1.cdninstagram.com/v/t51...   \n413  https://scontent-mia3-1.cdninstagram.com/v/t51...   \n\n                                               content  \\\n481  Nuestra rica Parchita Frappe es la mejor compa...   \n524                                                NaN   \n490  ['#BuenProvecho #ValenciaMenu #ComidaParaLleva...   \n87   ['Buenas tardes Valencia. Te invitamos a visit...   \n358  Que les parece este Outfit de @multimodasval @...   \n270  ['Es un placer para ti; y para nosotros, que d...   \n22   Cafecito para llevar ? Si señor✌🏼\\n\\nY con min...   \n363  Buenos días☀️.\\nYa vistes los hermosos anillos...   \n292  Sabemos que te ENCANTAN #kraftsingles y que so...   \n314  Te llevamos a #casa tu pizza #ideal recién #sa...   \n578  En @rapifood_valencia entendemos que todos som...   \n582  ['Sabes cuando realmente te ama?Cuando te preg...   \n166                                                NaN   \n632  ['Nueva promo !!!!!!! #mañongo #lagranja  #las...   \n50   Tablas de queso🧀💛\\n-\\n-\\nPide la tuya para est...   \n663  ['¡Allá nos vemos!.Reposted from @delimarketva...   \n222  ['#BuenProvecho #ValenciaMenu #ComidaParaLleva...   \n545  ['Nuestra nueva creación: Tapa mixta 🤤😍Su base...   \n91   Nuestros días preferidos son los \\nmiércoles🤟🏼...   \n413                                                NaN   \n\n                             telefono  \n481                               NaN  \n524                               NaN  \n490                      584127425893  \n87                     0412-437.62.26  \n358                    0414-942.90.13  \n270                       414-3403784  \n22                       0414.4156478  \n363                    0424-460.12.90  \n292                               NaN  \n314    ['04144369559', '02418246110']  \n578                       424-4206354  \n582                               NaN  \n166                       04244228784  \n632                      0412)4592251  \n50                                NaN  \n663                      0424-4192918  \n222                       04128835329  \n545                     0414 582 0071  \n91   ['0424 4369291', '0424 4273837']  \n413                               NaN  ",
      "text/html": "<div>\n<style scoped>\n    .dataframe tbody tr th:only-of-type {\n        vertical-align: middle;\n    }\n\n    .dataframe tbody tr th {\n        vertical-align: top;\n    }\n\n    .dataframe thead th {\n        text-align: right;\n    }\n</style>\n<table border=\"1\" class=\"dataframe\">\n  <thead>\n    <tr style=\"text-align: right;\">\n      <th></th>\n      <th>Unnamed: 0</th>\n      <th>timestamp</th>\n      <th>user name</th>\n      <th>user url</th>\n      <th>img url</th>\n      <th>content</th>\n      <th>telefono</th>\n    </tr>\n  </thead>\n  <tbody>\n    <tr>\n      <th>481</th>\n      <td>374</td>\n      <td>1 de septiembre de 2020</td>\n      <td>zoeslunchs</td>\n      <td>/zoeslunchs/</td>\n      <td>https://scontent-mia3-1.cdninstagram.com/v/t51...</td>\n      <td>Nuestra rica Parchita Frappe es la mejor compa...</td>\n      <td>NaN</td>\n    </tr>\n    <tr>\n      <th>524</th>\n      <td>406</td>\n      <td>21 de agosto de 2020</td>\n      <td>dibosfingers</td>\n      <td>/dibosfingers/</td>\n      <td>https://scontent-mia3-2.cdninstagram.com/v/t51...</td>\n      <td>NaN</td>\n      <td>NaN</td>\n    </tr>\n    <tr>\n      <th>490</th>\n      <td>380</td>\n      <td>1 de septiembre de 2020</td>\n      <td>valenciamenu</td>\n      <td>/valenciamenu/</td>\n      <td>https://scontent-mia3-1.cdninstagram.com/v/t51...</td>\n      <td>['#BuenProvecho #ValenciaMenu #ComidaParaLleva...</td>\n      <td>584127425893</td>\n    </tr>\n    <tr>\n      <th>87</th>\n      <td>69</td>\n      <td>4 de septiembre de 2020</td>\n      <td>valenciaoferta</td>\n      <td>/valenciaoferta/</td>\n      <td>https://scontent-mia3-2.cdninstagram.com/v/t51...</td>\n      <td>['Buenas tardes Valencia. Te invitamos a visit...</td>\n      <td>0412-437.62.26</td>\n    </tr>\n    <tr>\n      <th>358</th>\n      <td>271</td>\n      <td>4 de septiembre de 2020</td>\n      <td>valenciaoferta</td>\n      <td>/valenciaoferta/</td>\n      <td>https://scontent-mia3-2.cdninstagram.com/v/t51...</td>\n      <td>Que les parece este Outfit de @multimodasval @...</td>\n      <td>0414-942.90.13</td>\n    </tr>\n    <tr>\n      <th>270</th>\n      <td>211</td>\n      <td>2 de septiembre de 2020</td>\n      <td>restcasiquiare</td>\n      <td>/restcasiquiare/</td>\n      <td>https://scontent-mia3-2.cdninstagram.com/v/t51...</td>\n      <td>['Es un placer para ti; y para nosotros, que d...</td>\n      <td>414-3403784</td>\n    </tr>\n    <tr>\n      <th>22</th>\n      <td>18</td>\n      <td>26 de agosto de 2020</td>\n      <td>sweetsugar.ve</td>\n      <td>/sweetsugar.ve/</td>\n      <td>https://scontent-mia3-1.cdninstagram.com/v/t51...</td>\n      <td>Cafecito para llevar ? Si señor✌🏼\\n\\nY con min...</td>\n      <td>0414.4156478</td>\n    </tr>\n    <tr>\n      <th>363</th>\n      <td>272</td>\n      <td>4 de septiembre de 2020</td>\n      <td>valenciaoferta</td>\n      <td>/valenciaoferta/</td>\n      <td>https://scontent-mia3-2.cdninstagram.com/v/t51...</td>\n      <td>Buenos días☀️.\\nYa vistes los hermosos anillos...</td>\n      <td>0424-460.12.90</td>\n    </tr>\n    <tr>\n      <th>292</th>\n      <td>234</td>\n      <td>4 de septiembre de 2020</td>\n      <td>foodprime_</td>\n      <td>/foodprime_/</td>\n      <td>https://scontent-mia3-1.cdninstagram.com/v/t51...</td>\n      <td>Sabemos que te ENCANTAN #kraftsingles y que so...</td>\n      <td>NaN</td>\n    </tr>\n    <tr>\n      <th>314</th>\n      <td>254</td>\n      <td>4 de septiembre de 2020</td>\n      <td>pizzeria007</td>\n      <td>/pizzeria007/</td>\n      <td>https://scontent-mia3-1.cdninstagram.com/v/t51...</td>\n      <td>Te llevamos a #casa tu pizza #ideal recién #sa...</td>\n      <td>['04144369559', '02418246110']</td>\n    </tr>\n    <tr>\n      <th>578</th>\n      <td>460</td>\n      <td>30 de agosto de 2020</td>\n      <td>rapifood_valencia</td>\n      <td>/rapifood_valencia/</td>\n      <td>https://scontent-mia3-2.cdninstagram.com/v/t51...</td>\n      <td>En @rapifood_valencia entendemos que todos som...</td>\n      <td>424-4206354</td>\n    </tr>\n    <tr>\n      <th>582</th>\n      <td>464</td>\n      <td>30 de agosto de 2020</td>\n      <td>cometodovalencia</td>\n      <td>/cometodovalencia/</td>\n      <td>https://scontent-mia3-2.cdninstagram.com/v/t51...</td>\n      <td>['Sabes cuando realmente te ama?Cuando te preg...</td>\n      <td>NaN</td>\n    </tr>\n    <tr>\n      <th>166</th>\n      <td>129</td>\n      <td>3 de septiembre de 2020</td>\n      <td>dulcedeleite.val</td>\n      <td>/dulcedeleite.val/</td>\n      <td>https://scontent-mia3-1.cdninstagram.com/v/t51...</td>\n      <td>NaN</td>\n      <td>04244228784</td>\n    </tr>\n    <tr>\n      <th>632</th>\n      <td>512</td>\n      <td>29 de agosto de 2020</td>\n      <td>guguspizzas</td>\n      <td>/guguspizzas/</td>\n      <td>https://scontent-mia3-1.cdninstagram.com/v/t51...</td>\n      <td>['Nueva promo !!!!!!! #mañongo #lagranja  #las...</td>\n      <td>0412)4592251</td>\n    </tr>\n    <tr>\n      <th>50</th>\n      <td>36</td>\n      <td>18 de agosto de 2020</td>\n      <td>sommelier.venezuela</td>\n      <td>/sommelier.venezuela/</td>\n      <td>https://scontent-mia3-2.cdninstagram.com/v/t51...</td>\n      <td>Tablas de queso🧀💛\\n-\\n-\\nPide la tuya para est...</td>\n      <td>NaN</td>\n    </tr>\n    <tr>\n      <th>663</th>\n      <td>541</td>\n      <td>28 de agosto de 2020</td>\n      <td>escueladeparrilleros</td>\n      <td>/escueladeparrilleros/</td>\n      <td>https://scontent-mia3-1.cdninstagram.com/v/t51...</td>\n      <td>['¡Allá nos vemos!.Reposted from @delimarketva...</td>\n      <td>0424-4192918</td>\n    </tr>\n    <tr>\n      <th>222</th>\n      <td>174</td>\n      <td>2 de septiembre de 2020</td>\n      <td>valenciamenu</td>\n      <td>/valenciamenu/</td>\n      <td>https://scontent-mia3-1.cdninstagram.com/v/t51...</td>\n      <td>['#BuenProvecho #ValenciaMenu #ComidaParaLleva...</td>\n      <td>04128835329</td>\n    </tr>\n    <tr>\n      <th>545</th>\n      <td>427</td>\n      <td>31 de agosto de 2020</td>\n      <td>bodegaespresso.ve</td>\n      <td>/bodegaespresso.ve/</td>\n      <td>https://scontent-mia3-2.cdninstagram.com/v/t51...</td>\n      <td>['Nuestra nueva creación: Tapa mixta 🤤😍Su base...</td>\n      <td>0414 582 0071</td>\n    </tr>\n    <tr>\n      <th>91</th>\n      <td>72</td>\n      <td>4 de septiembre de 2020</td>\n      <td>fratellos.vzla</td>\n      <td>/fratellos.vzla/</td>\n      <td>https://scontent-mia3-1.cdninstagram.com/v/t51...</td>\n      <td>Nuestros días preferidos son los \\nmiércoles🤟🏼...</td>\n      <td>['0424 4369291', '0424 4273837']</td>\n    </tr>\n    <tr>\n      <th>413</th>\n      <td>313</td>\n      <td>4 de septiembre de 2020</td>\n      <td>dgourmetam</td>\n      <td>/dgourmetam/</td>\n      <td>https://scontent-mia3-1.cdninstagram.com/v/t51...</td>\n      <td>NaN</td>\n      <td>NaN</td>\n    </tr>\n  </tbody>\n</table>\n</div>"
     },
     "metadata": {},
     "execution_count": 25
    }
   ],
   "source": [
    "data_quepasa.sample(20)"
   ]
  },
  {
   "cell_type": "code",
   "execution_count": 27,
   "metadata": {},
   "outputs": [
    {
     "output_type": "execute_result",
     "data": {
      "text/plain": "     Unnamed: 0             timestamp             user name  \\\n0             0  18 de agosto de 2020      clubhouseexpress   \n1             1  18 de agosto de 2020      clubhouseexpress   \n2             2  18 de agosto de 2020      clubhouseexpress   \n3             3  18 de agosto de 2020      clubhouseexpress   \n4             4  18 de agosto de 2020      clubhouseexpress   \n..          ...                   ...                   ...   \n658         538  28 de agosto de 2020        fratellos.vzla   \n659         539  28 de agosto de 2020          telepizza041   \n661         540  28 de agosto de 2020          telepizza041   \n663         541  28 de agosto de 2020  escueladeparrilleros   \n664         542  28 de agosto de 2020        condulzura.val   \n\n                   user url  \\\n0        /clubhouseexpress/   \n1        /clubhouseexpress/   \n2        /clubhouseexpress/   \n3        /clubhouseexpress/   \n4        /clubhouseexpress/   \n..                      ...   \n658        /fratellos.vzla/   \n659          /telepizza041/   \n661          /telepizza041/   \n663  /escueladeparrilleros/   \n664        /condulzura.val/   \n\n                                               img url  \\\n0    https://scontent-mia3-2.cdninstagram.com/v/t51...   \n1    https://scontent-mia3-1.cdninstagram.com/v/t51...   \n2    https://scontent-mia3-2.cdninstagram.com/v/t51...   \n3    https://scontent-mia3-2.cdninstagram.com/v/t51...   \n4    https://scontent-mia3-1.cdninstagram.com/v/t51...   \n..                                                 ...   \n658  https://scontent-mia3-2.cdninstagram.com/v/t51...   \n659  https://scontent-mia3-1.cdninstagram.com/v/t51...   \n661  https://scontent-mia3-2.cdninstagram.com/v/t51...   \n663  https://scontent-mia3-1.cdninstagram.com/v/t51...   \n664  https://scontent-mia3-1.cdninstagram.com/v/t51...   \n\n                                               content  \\\n0    ['Empezamos la semana de la mejor manera y que...   \n1    No puedes dejar de probar el único Club House ...   \n2    🌴Club House Los Roques🌴\\n⠀⠀⠀⠀⠀⠀⠀⠀⠀⠀⠀⠀⠀⠀⠀⠀⠀⠀⠀⠀⠀...   \n3    ⛰️ Bandeja Caracas ⛰️ \\n⠀⠀⠀⠀⠀⠀⠀⠀⠀⠀⠀⠀⠀⠀⠀⠀⠀⠀⠀⠀⠀⠀...   \n4                                                  NaN   \n..                                                 ...   \n658                                                NaN   \n659  ['#pizza #foodvalencia #pizzavalencia #Telepiz...   \n661  ¡La felicidad viene en una caja cuadrada y en ...   \n663  ['¡Allá nos vemos!.Reposted from @delimarketva...   \n664  ['La mejor parte del postre es cuando lo compa...   \n\n                             telefono  \n0                       0424-437.0329  \n1                       0424-437.0329  \n2                       0424-437.0329  \n3                       0424-437.0329  \n4                       0424-437.0329  \n..                                ...  \n658  ['0424 4369291', '0424 4273837']  \n659                    0414-420.55.99  \n661                    0414-420.55.99  \n663                      0424-4192918  \n664                               NaN  \n\n[536 rows x 7 columns]",
      "text/html": "<div>\n<style scoped>\n    .dataframe tbody tr th:only-of-type {\n        vertical-align: middle;\n    }\n\n    .dataframe tbody tr th {\n        vertical-align: top;\n    }\n\n    .dataframe thead th {\n        text-align: right;\n    }\n</style>\n<table border=\"1\" class=\"dataframe\">\n  <thead>\n    <tr style=\"text-align: right;\">\n      <th></th>\n      <th>Unnamed: 0</th>\n      <th>timestamp</th>\n      <th>user name</th>\n      <th>user url</th>\n      <th>img url</th>\n      <th>content</th>\n      <th>telefono</th>\n    </tr>\n  </thead>\n  <tbody>\n    <tr>\n      <th>0</th>\n      <td>0</td>\n      <td>18 de agosto de 2020</td>\n      <td>clubhouseexpress</td>\n      <td>/clubhouseexpress/</td>\n      <td>https://scontent-mia3-2.cdninstagram.com/v/t51...</td>\n      <td>['Empezamos la semana de la mejor manera y que...</td>\n      <td>0424-437.0329</td>\n    </tr>\n    <tr>\n      <th>1</th>\n      <td>1</td>\n      <td>18 de agosto de 2020</td>\n      <td>clubhouseexpress</td>\n      <td>/clubhouseexpress/</td>\n      <td>https://scontent-mia3-1.cdninstagram.com/v/t51...</td>\n      <td>No puedes dejar de probar el único Club House ...</td>\n      <td>0424-437.0329</td>\n    </tr>\n    <tr>\n      <th>2</th>\n      <td>2</td>\n      <td>18 de agosto de 2020</td>\n      <td>clubhouseexpress</td>\n      <td>/clubhouseexpress/</td>\n      <td>https://scontent-mia3-2.cdninstagram.com/v/t51...</td>\n      <td>🌴Club House Los Roques🌴\\n⠀⠀⠀⠀⠀⠀⠀⠀⠀⠀⠀⠀⠀⠀⠀⠀⠀⠀⠀⠀⠀...</td>\n      <td>0424-437.0329</td>\n    </tr>\n    <tr>\n      <th>3</th>\n      <td>3</td>\n      <td>18 de agosto de 2020</td>\n      <td>clubhouseexpress</td>\n      <td>/clubhouseexpress/</td>\n      <td>https://scontent-mia3-2.cdninstagram.com/v/t51...</td>\n      <td>⛰️ Bandeja Caracas ⛰️ \\n⠀⠀⠀⠀⠀⠀⠀⠀⠀⠀⠀⠀⠀⠀⠀⠀⠀⠀⠀⠀⠀⠀...</td>\n      <td>0424-437.0329</td>\n    </tr>\n    <tr>\n      <th>4</th>\n      <td>4</td>\n      <td>18 de agosto de 2020</td>\n      <td>clubhouseexpress</td>\n      <td>/clubhouseexpress/</td>\n      <td>https://scontent-mia3-1.cdninstagram.com/v/t51...</td>\n      <td>NaN</td>\n      <td>0424-437.0329</td>\n    </tr>\n    <tr>\n      <th>...</th>\n      <td>...</td>\n      <td>...</td>\n      <td>...</td>\n      <td>...</td>\n      <td>...</td>\n      <td>...</td>\n      <td>...</td>\n    </tr>\n    <tr>\n      <th>658</th>\n      <td>538</td>\n      <td>28 de agosto de 2020</td>\n      <td>fratellos.vzla</td>\n      <td>/fratellos.vzla/</td>\n      <td>https://scontent-mia3-2.cdninstagram.com/v/t51...</td>\n      <td>NaN</td>\n      <td>['0424 4369291', '0424 4273837']</td>\n    </tr>\n    <tr>\n      <th>659</th>\n      <td>539</td>\n      <td>28 de agosto de 2020</td>\n      <td>telepizza041</td>\n      <td>/telepizza041/</td>\n      <td>https://scontent-mia3-1.cdninstagram.com/v/t51...</td>\n      <td>['#pizza #foodvalencia #pizzavalencia #Telepiz...</td>\n      <td>0414-420.55.99</td>\n    </tr>\n    <tr>\n      <th>661</th>\n      <td>540</td>\n      <td>28 de agosto de 2020</td>\n      <td>telepizza041</td>\n      <td>/telepizza041/</td>\n      <td>https://scontent-mia3-2.cdninstagram.com/v/t51...</td>\n      <td>¡La felicidad viene en una caja cuadrada y en ...</td>\n      <td>0414-420.55.99</td>\n    </tr>\n    <tr>\n      <th>663</th>\n      <td>541</td>\n      <td>28 de agosto de 2020</td>\n      <td>escueladeparrilleros</td>\n      <td>/escueladeparrilleros/</td>\n      <td>https://scontent-mia3-1.cdninstagram.com/v/t51...</td>\n      <td>['¡Allá nos vemos!.Reposted from @delimarketva...</td>\n      <td>0424-4192918</td>\n    </tr>\n    <tr>\n      <th>664</th>\n      <td>542</td>\n      <td>28 de agosto de 2020</td>\n      <td>condulzura.val</td>\n      <td>/condulzura.val/</td>\n      <td>https://scontent-mia3-1.cdninstagram.com/v/t51...</td>\n      <td>['La mejor parte del postre es cuando lo compa...</td>\n      <td>NaN</td>\n    </tr>\n  </tbody>\n</table>\n<p>536 rows × 7 columns</p>\n</div>"
     },
     "metadata": {},
     "execution_count": 27
    }
   ],
   "source": [
    "data_quepasa.drop_duplicates('img url')"
   ]
  },
  {
   "cell_type": "code",
   "execution_count": 28,
   "metadata": {},
   "outputs": [
    {
     "output_type": "execute_result",
     "data": {
      "text/plain": "(536, 6)"
     },
     "metadata": {},
     "execution_count": 28
    }
   ],
   "source": [
    "data.shape"
   ]
  },
  {
   "cell_type": "code",
   "execution_count": 29,
   "metadata": {},
   "outputs": [],
   "source": [
    "data_quepasa.to_csv(\"ig_scrapper/database/uni data/data_telefono.csv\")"
   ]
  },
  {
   "cell_type": "code",
   "execution_count": 30,
   "metadata": {},
   "outputs": [],
   "source": [
    "data = data_quepasa.copy(deep=True)"
   ]
  },
  {
   "source": [
    "## Ahora vamos a ver si tiene precio \n",
    "_____________________________________"
   ],
   "cell_type": "markdown",
   "metadata": {}
  },
  {
   "cell_type": "code",
   "execution_count": 56,
   "metadata": {},
   "outputs": [
    {
     "output_type": "execute_result",
     "data": {
      "text/plain": "'CAJA DE HUEVOS \\nPor CAJA\\nPresentación: 12 cartones\\nPor tanto solo 24$\\n\\n🚚 Contamos con Servicio de Delivery. Consulte costo para delivery \\n\\nRealiza con nosotros y pedido a través del 📲+58 (414) 0434374\\n\\nSomos 𝗧𝗶𝗲𝗻𝗱𝗮 𝗙𝗶𝘀𝗶𝗰𝗮\\nTenemos delivery 🚛\\nViveres en general al 𝗠𝗮𝘆𝗼𝗿 𝘆 𝗗𝗲𝘁𝗮𝗹 calidad y Buenos Precios 💯\\n.\\n.\\n.\\n.\\n#loscaobos #valencia #viveres #preciosalmayor #almayor #harinadetrigo #buenosprecios #productosdecalidad #harina #aldetal #valencia  #carabobo #deliveryvalencia #distribuidora #viveres #abasto #minimarket #ofertas #porbulto #porcajas #supermercados #minimercados'"
     },
     "metadata": {},
     "execution_count": 56
    }
   ],
   "source": [
    "data['content'][200]"
   ]
  },
  {
   "cell_type": "code",
   "execution_count": 46,
   "metadata": {},
   "outputs": [],
   "source": [
    "list_content = data['content']"
   ]
  },
  {
   "cell_type": "code",
   "execution_count": 57,
   "metadata": {},
   "outputs": [],
   "source": [
    "def get_patron( patron ):\n",
    "    \n",
    "    l_1 = []\n",
    "    for i in list_content:\n",
    "        try:\n",
    "            temp = patron.findall(i) \n",
    "            if len(temp) == 1:\n",
    "                l_1.append(temp[0])\n",
    "            else:\n",
    "                l_1.append(temp)\n",
    "\n",
    "        except:\n",
    "            l_1.append(np.nan)\n",
    "            \n",
    "    return l_1"
   ]
  },
  {
   "cell_type": "code",
   "execution_count": 58,
   "metadata": {},
   "outputs": [],
   "source": [
    "price = get_price( patron_price )"
   ]
  },
  {
   "cell_type": "code",
   "execution_count": null,
   "metadata": {},
   "outputs": [],
   "source": [
    "re.compile(r'\\d{3,4}[^\\w]?\\d{3,3}[^\\w]?\\d{2,4}[^\\w]?\\d+')"
   ]
  },
  {
   "cell_type": "code",
   "execution_count": 107,
   "metadata": {},
   "outputs": [],
   "source": [
    "patron_price = re.compile(r'\\$\\d+|\\$\\d+')"
   ]
  },
  {
   "cell_type": "code",
   "execution_count": 114,
   "metadata": {},
   "outputs": [
    {
     "output_type": "execute_result",
     "data": {
      "text/plain": "[]"
     },
     "metadata": {},
     "execution_count": 114
    }
   ],
   "source": [
    "patron_price.findall(data['content'][350])"
   ]
  },
  {
   "cell_type": "code",
   "execution_count": 109,
   "metadata": {},
   "outputs": [
    {
     "output_type": "execute_result",
     "data": {
      "text/plain": "'¡NO TE OLVIDES DE NUESTRO MAGNÍFICO SOOSHERRITO!\\n\\nUn espectacular roll relleno de pollo empanizado, lechuga, ensalada de cangrejo, aguacate, pepino y de topping salsa Fuji ❗❕\\n\\nAtrévete a probar esta delicia. \\n\\n2 X $6 \\n4 X $10\\n.\\n.\\n.\\n.\\n.\\n.\\n.\\n.\\n.\\n.\\n.\\n.\\n#sushi #sushidelivery #soosherrito #deliveryvalencia #promocion'"
     },
     "metadata": {},
     "execution_count": 109
    }
   ],
   "source": [
    "data['content'][300]"
   ]
  },
  {
   "cell_type": "code",
   "execution_count": 111,
   "metadata": {},
   "outputs": [],
   "source": [
    "price = get_price( patron_price )"
   ]
  },
  {
   "cell_type": "code",
   "execution_count": 115,
   "metadata": {},
   "outputs": [],
   "source": [
    "data['price'] = price"
   ]
  },
  {
   "cell_type": "code",
   "execution_count": 117,
   "metadata": {},
   "outputs": [],
   "source": [
    "data.to_csv(\"ig_scrapper/database/uni data/data_finito.csv\")"
   ]
  },
  {
   "cell_type": "code",
   "execution_count": 128,
   "metadata": {},
   "outputs": [
    {
     "output_type": "execute_result",
     "data": {
      "text/plain": "335    https://scontent-mia3-1.cdninstagram.com/v/t51...\n615    https://scontent-mia3-2.cdninstagram.com/v/t51...\n397    https://scontent-mia3-2.cdninstagram.com/v/t51...\n169    https://scontent-mia3-2.cdninstagram.com/v/t51...\n644    https://scontent-mia3-1.cdninstagram.com/v/t51...\n313    https://scontent-mia3-1.cdninstagram.com/v/t51...\n424    https://scontent-mia3-1.cdninstagram.com/v/t51...\n209    https://scontent-mia3-1.cdninstagram.com/v/t51...\n15     https://scontent-mia3-2.cdninstagram.com/v/t51...\n3      https://scontent-mia3-2.cdninstagram.com/v/t51...\nName: img url, dtype: object"
     },
     "metadata": {},
     "execution_count": 128
    }
   ],
   "source": [
    "data['img url'].sample(10)"
   ]
  },
  {
   "cell_type": "code",
   "execution_count": 138,
   "metadata": {},
   "outputs": [
    {
     "output_type": "execute_result",
     "data": {
      "text/plain": "'https://scontent-mia3-1.cdninstagram.com/v/t51.2885-15/sh0.08/e35/s640x640/119041904_215230066785712_3073433097305284747_n.jpg?_nc_ht=scontent-mia3-1.cdninstagram.com&_nc_cat=104&_nc_ohc=U0FZS5FEtXQAX-L38w7&oh=883b6884b21d2b670051cebc980dc3ec&oe=5F848492'"
     },
     "metadata": {},
     "execution_count": 138
    }
   ],
   "source": [
    "data['img url'][313]"
   ]
  },
  {
   "cell_type": "code",
   "execution_count": 139,
   "metadata": {},
   "outputs": [
    {
     "output_type": "execute_result",
     "data": {
      "text/plain": "'Te llevamos a #casa tu pizza #ideal recién #salida del #horno ¡Pídela #ahora !🍕🔥\\n𝑪𝑶𝑵𝑻𝑨𝑪𝑻𝑨𝑵𝑶𝑺\\n📱04144369559\\n📞02418246110\\n#pizza #pizzeria #lamejorpizza #slices #ingredientes #contornos #delicias #pizzalover #thebestpizza #rebanadas #paticho #pizzaburguer #valencia #venezuela #comida #restaurant #food #foodie #007 #delivery #deliveryvalencia #deliveryvalenciavenezuela #telollevamosacasa #quedateencasa'"
     },
     "metadata": {},
     "execution_count": 139
    }
   ],
   "source": [
    "data['content'][313]"
   ]
  },
  {
   "cell_type": "code",
   "execution_count": 120,
   "metadata": {},
   "outputs": [
    {
     "output_type": "execute_result",
     "data": {
      "text/plain": "     Unnamed: 0             timestamp             user name  \\\n0             0  18 de agosto de 2020      clubhouseexpress   \n1             1  18 de agosto de 2020      clubhouseexpress   \n2             2  18 de agosto de 2020      clubhouseexpress   \n3             3  18 de agosto de 2020      clubhouseexpress   \n4             4  18 de agosto de 2020      clubhouseexpress   \n..          ...                   ...                   ...   \n660         539  28 de agosto de 2020          telepizza041   \n661         540  28 de agosto de 2020          telepizza041   \n662         540  28 de agosto de 2020          telepizza041   \n663         541  28 de agosto de 2020  escueladeparrilleros   \n664         542  28 de agosto de 2020        condulzura.val   \n\n                   user url  \\\n0        /clubhouseexpress/   \n1        /clubhouseexpress/   \n2        /clubhouseexpress/   \n3        /clubhouseexpress/   \n4        /clubhouseexpress/   \n..                      ...   \n660          /telepizza041/   \n661          /telepizza041/   \n662          /telepizza041/   \n663  /escueladeparrilleros/   \n664        /condulzura.val/   \n\n                                               img url  \\\n0    https://scontent-mia3-2.cdninstagram.com/v/t51...   \n1    https://scontent-mia3-1.cdninstagram.com/v/t51...   \n2    https://scontent-mia3-2.cdninstagram.com/v/t51...   \n3    https://scontent-mia3-2.cdninstagram.com/v/t51...   \n4    https://scontent-mia3-1.cdninstagram.com/v/t51...   \n..                                                 ...   \n660  https://scontent-mia3-1.cdninstagram.com/v/t51...   \n661  https://scontent-mia3-2.cdninstagram.com/v/t51...   \n662  https://scontent-mia3-2.cdninstagram.com/v/t51...   \n663  https://scontent-mia3-1.cdninstagram.com/v/t51...   \n664  https://scontent-mia3-1.cdninstagram.com/v/t51...   \n\n                                               content        telefono  \\\n0    ['Empezamos la semana de la mejor manera y que...   0424-437.0329   \n1    No puedes dejar de probar el único Club House ...   0424-437.0329   \n2    🌴Club House Los Roques🌴\\n⠀⠀⠀⠀⠀⠀⠀⠀⠀⠀⠀⠀⠀⠀⠀⠀⠀⠀⠀⠀⠀...   0424-437.0329   \n3    ⛰️ Bandeja Caracas ⛰️ \\n⠀⠀⠀⠀⠀⠀⠀⠀⠀⠀⠀⠀⠀⠀⠀⠀⠀⠀⠀⠀⠀⠀...   0424-437.0329   \n4                                                  NaN   0424-437.0329   \n..                                                 ...             ...   \n660  ['#pizza #foodvalencia #pizzavalencia #Telepiz...      4144205599   \n661  ¡La felicidad viene en una caja cuadrada y en ...  0414-420.55.99   \n662  ¡La felicidad viene en una caja cuadrada y en ...      4144205599   \n663  ['¡Allá nos vemos!.Reposted from @delimarketva...    0424-4192918   \n664  ['La mejor parte del postre es cuando lo compa...             NaN   \n\n         price  \n0           []  \n1           []  \n2           []  \n3           []  \n4          NaN  \n..         ...  \n660         []  \n661         []  \n662         []  \n663  [$10, $7]  \n664         []  \n\n[665 rows x 8 columns]",
      "text/html": "<div>\n<style scoped>\n    .dataframe tbody tr th:only-of-type {\n        vertical-align: middle;\n    }\n\n    .dataframe tbody tr th {\n        vertical-align: top;\n    }\n\n    .dataframe thead th {\n        text-align: right;\n    }\n</style>\n<table border=\"1\" class=\"dataframe\">\n  <thead>\n    <tr style=\"text-align: right;\">\n      <th></th>\n      <th>Unnamed: 0</th>\n      <th>timestamp</th>\n      <th>user name</th>\n      <th>user url</th>\n      <th>img url</th>\n      <th>content</th>\n      <th>telefono</th>\n      <th>price</th>\n    </tr>\n  </thead>\n  <tbody>\n    <tr>\n      <th>0</th>\n      <td>0</td>\n      <td>18 de agosto de 2020</td>\n      <td>clubhouseexpress</td>\n      <td>/clubhouseexpress/</td>\n      <td>https://scontent-mia3-2.cdninstagram.com/v/t51...</td>\n      <td>['Empezamos la semana de la mejor manera y que...</td>\n      <td>0424-437.0329</td>\n      <td>[]</td>\n    </tr>\n    <tr>\n      <th>1</th>\n      <td>1</td>\n      <td>18 de agosto de 2020</td>\n      <td>clubhouseexpress</td>\n      <td>/clubhouseexpress/</td>\n      <td>https://scontent-mia3-1.cdninstagram.com/v/t51...</td>\n      <td>No puedes dejar de probar el único Club House ...</td>\n      <td>0424-437.0329</td>\n      <td>[]</td>\n    </tr>\n    <tr>\n      <th>2</th>\n      <td>2</td>\n      <td>18 de agosto de 2020</td>\n      <td>clubhouseexpress</td>\n      <td>/clubhouseexpress/</td>\n      <td>https://scontent-mia3-2.cdninstagram.com/v/t51...</td>\n      <td>🌴Club House Los Roques🌴\\n⠀⠀⠀⠀⠀⠀⠀⠀⠀⠀⠀⠀⠀⠀⠀⠀⠀⠀⠀⠀⠀...</td>\n      <td>0424-437.0329</td>\n      <td>[]</td>\n    </tr>\n    <tr>\n      <th>3</th>\n      <td>3</td>\n      <td>18 de agosto de 2020</td>\n      <td>clubhouseexpress</td>\n      <td>/clubhouseexpress/</td>\n      <td>https://scontent-mia3-2.cdninstagram.com/v/t51...</td>\n      <td>⛰️ Bandeja Caracas ⛰️ \\n⠀⠀⠀⠀⠀⠀⠀⠀⠀⠀⠀⠀⠀⠀⠀⠀⠀⠀⠀⠀⠀⠀...</td>\n      <td>0424-437.0329</td>\n      <td>[]</td>\n    </tr>\n    <tr>\n      <th>4</th>\n      <td>4</td>\n      <td>18 de agosto de 2020</td>\n      <td>clubhouseexpress</td>\n      <td>/clubhouseexpress/</td>\n      <td>https://scontent-mia3-1.cdninstagram.com/v/t51...</td>\n      <td>NaN</td>\n      <td>0424-437.0329</td>\n      <td>NaN</td>\n    </tr>\n    <tr>\n      <th>...</th>\n      <td>...</td>\n      <td>...</td>\n      <td>...</td>\n      <td>...</td>\n      <td>...</td>\n      <td>...</td>\n      <td>...</td>\n      <td>...</td>\n    </tr>\n    <tr>\n      <th>660</th>\n      <td>539</td>\n      <td>28 de agosto de 2020</td>\n      <td>telepizza041</td>\n      <td>/telepizza041/</td>\n      <td>https://scontent-mia3-1.cdninstagram.com/v/t51...</td>\n      <td>['#pizza #foodvalencia #pizzavalencia #Telepiz...</td>\n      <td>4144205599</td>\n      <td>[]</td>\n    </tr>\n    <tr>\n      <th>661</th>\n      <td>540</td>\n      <td>28 de agosto de 2020</td>\n      <td>telepizza041</td>\n      <td>/telepizza041/</td>\n      <td>https://scontent-mia3-2.cdninstagram.com/v/t51...</td>\n      <td>¡La felicidad viene en una caja cuadrada y en ...</td>\n      <td>0414-420.55.99</td>\n      <td>[]</td>\n    </tr>\n    <tr>\n      <th>662</th>\n      <td>540</td>\n      <td>28 de agosto de 2020</td>\n      <td>telepizza041</td>\n      <td>/telepizza041/</td>\n      <td>https://scontent-mia3-2.cdninstagram.com/v/t51...</td>\n      <td>¡La felicidad viene en una caja cuadrada y en ...</td>\n      <td>4144205599</td>\n      <td>[]</td>\n    </tr>\n    <tr>\n      <th>663</th>\n      <td>541</td>\n      <td>28 de agosto de 2020</td>\n      <td>escueladeparrilleros</td>\n      <td>/escueladeparrilleros/</td>\n      <td>https://scontent-mia3-1.cdninstagram.com/v/t51...</td>\n      <td>['¡Allá nos vemos!.Reposted from @delimarketva...</td>\n      <td>0424-4192918</td>\n      <td>[$10, $7]</td>\n    </tr>\n    <tr>\n      <th>664</th>\n      <td>542</td>\n      <td>28 de agosto de 2020</td>\n      <td>condulzura.val</td>\n      <td>/condulzura.val/</td>\n      <td>https://scontent-mia3-1.cdninstagram.com/v/t51...</td>\n      <td>['La mejor parte del postre es cuando lo compa...</td>\n      <td>NaN</td>\n      <td>[]</td>\n    </tr>\n  </tbody>\n</table>\n<p>665 rows × 8 columns</p>\n</div>"
     },
     "metadata": {},
     "execution_count": 120
    }
   ],
   "source": [
    "data"
   ]
  },
  {
   "source": [
    "## COntinuacion de la data clasificacion \n",
    "_____________________________________"
   ],
   "cell_type": "markdown",
   "metadata": {}
  },
  {
   "cell_type": "code",
   "execution_count": 2,
   "metadata": {},
   "outputs": [
    {
     "output_type": "execute_result",
     "data": {
      "text/plain": "     Unnamed: 0             timestamp             user name  \\\n0             0  18 de agosto de 2020      clubhouseexpress   \n1             1  18 de agosto de 2020      clubhouseexpress   \n2             2  18 de agosto de 2020      clubhouseexpress   \n3             3  18 de agosto de 2020      clubhouseexpress   \n4             4  18 de agosto de 2020      clubhouseexpress   \n..          ...                   ...                   ...   \n530         530  28 de agosto de 2020        fratellos.vzla   \n531         531  28 de agosto de 2020          telepizza041   \n532         532  28 de agosto de 2020          telepizza041   \n533         533  28 de agosto de 2020  escueladeparrilleros   \n534         534  28 de agosto de 2020        condulzura.val   \n\n                   user url  \\\n0        /clubhouseexpress/   \n1        /clubhouseexpress/   \n2        /clubhouseexpress/   \n3        /clubhouseexpress/   \n4        /clubhouseexpress/   \n..                      ...   \n530        /fratellos.vzla/   \n531          /telepizza041/   \n532          /telepizza041/   \n533  /escueladeparrilleros/   \n534        /condulzura.val/   \n\n                                               img url  \\\n0    https://scontent-mia3-2.cdninstagram.com/v/t51...   \n1    https://scontent-mia3-1.cdninstagram.com/v/t51...   \n2    https://scontent-mia3-2.cdninstagram.com/v/t51...   \n3    https://scontent-mia3-2.cdninstagram.com/v/t51...   \n4    https://scontent-mia3-1.cdninstagram.com/v/t51...   \n..                                                 ...   \n530  https://scontent-mia3-2.cdninstagram.com/v/t51...   \n531  https://scontent-mia3-1.cdninstagram.com/v/t51...   \n532  https://scontent-mia3-2.cdninstagram.com/v/t51...   \n533  https://scontent-mia3-1.cdninstagram.com/v/t51...   \n534  https://scontent-mia3-1.cdninstagram.com/v/t51...   \n\n                                               content  \\\n0    ['Empezamos la semana de la mejor manera y que...   \n1    No puedes dejar de probar el único Club House ...   \n2    🌴Club House Los Roques🌴\\n⠀⠀⠀⠀⠀⠀⠀⠀⠀⠀⠀⠀⠀⠀⠀⠀⠀⠀⠀⠀⠀...   \n3    ⛰️ Bandeja Caracas ⛰️ \\n⠀⠀⠀⠀⠀⠀⠀⠀⠀⠀⠀⠀⠀⠀⠀⠀⠀⠀⠀⠀⠀⠀...   \n4                                                  NaN   \n..                                                 ...   \n530                                                NaN   \n531  ['#pizza #foodvalencia #pizzavalencia #Telepiz...   \n532  ¡La felicidad viene en una caja cuadrada y en ...   \n533  ['¡Allá nos vemos!.Reposted from @delimarketva...   \n534  ['La mejor parte del postre es cuando lo compa...   \n\n                             telefono          price  \n0                       0424-437.0329             []  \n1                       0424-437.0329             []  \n2                       0424-437.0329             []  \n3                       0424-437.0329             []  \n4                       0424-437.0329            NaN  \n..                                ...            ...  \n530  ['0424 4369291', '0424 4273837']            NaN  \n531                    0414-420.55.99             []  \n532                    0414-420.55.99             []  \n533                      0424-4192918  ['$10', '$7']  \n534                               NaN             []  \n\n[535 rows x 8 columns]",
      "text/html": "<div>\n<style scoped>\n    .dataframe tbody tr th:only-of-type {\n        vertical-align: middle;\n    }\n\n    .dataframe tbody tr th {\n        vertical-align: top;\n    }\n\n    .dataframe thead th {\n        text-align: right;\n    }\n</style>\n<table border=\"1\" class=\"dataframe\">\n  <thead>\n    <tr style=\"text-align: right;\">\n      <th></th>\n      <th>Unnamed: 0</th>\n      <th>timestamp</th>\n      <th>user name</th>\n      <th>user url</th>\n      <th>img url</th>\n      <th>content</th>\n      <th>telefono</th>\n      <th>price</th>\n    </tr>\n  </thead>\n  <tbody>\n    <tr>\n      <th>0</th>\n      <td>0</td>\n      <td>18 de agosto de 2020</td>\n      <td>clubhouseexpress</td>\n      <td>/clubhouseexpress/</td>\n      <td>https://scontent-mia3-2.cdninstagram.com/v/t51...</td>\n      <td>['Empezamos la semana de la mejor manera y que...</td>\n      <td>0424-437.0329</td>\n      <td>[]</td>\n    </tr>\n    <tr>\n      <th>1</th>\n      <td>1</td>\n      <td>18 de agosto de 2020</td>\n      <td>clubhouseexpress</td>\n      <td>/clubhouseexpress/</td>\n      <td>https://scontent-mia3-1.cdninstagram.com/v/t51...</td>\n      <td>No puedes dejar de probar el único Club House ...</td>\n      <td>0424-437.0329</td>\n      <td>[]</td>\n    </tr>\n    <tr>\n      <th>2</th>\n      <td>2</td>\n      <td>18 de agosto de 2020</td>\n      <td>clubhouseexpress</td>\n      <td>/clubhouseexpress/</td>\n      <td>https://scontent-mia3-2.cdninstagram.com/v/t51...</td>\n      <td>🌴Club House Los Roques🌴\\n⠀⠀⠀⠀⠀⠀⠀⠀⠀⠀⠀⠀⠀⠀⠀⠀⠀⠀⠀⠀⠀...</td>\n      <td>0424-437.0329</td>\n      <td>[]</td>\n    </tr>\n    <tr>\n      <th>3</th>\n      <td>3</td>\n      <td>18 de agosto de 2020</td>\n      <td>clubhouseexpress</td>\n      <td>/clubhouseexpress/</td>\n      <td>https://scontent-mia3-2.cdninstagram.com/v/t51...</td>\n      <td>⛰️ Bandeja Caracas ⛰️ \\n⠀⠀⠀⠀⠀⠀⠀⠀⠀⠀⠀⠀⠀⠀⠀⠀⠀⠀⠀⠀⠀⠀...</td>\n      <td>0424-437.0329</td>\n      <td>[]</td>\n    </tr>\n    <tr>\n      <th>4</th>\n      <td>4</td>\n      <td>18 de agosto de 2020</td>\n      <td>clubhouseexpress</td>\n      <td>/clubhouseexpress/</td>\n      <td>https://scontent-mia3-1.cdninstagram.com/v/t51...</td>\n      <td>NaN</td>\n      <td>0424-437.0329</td>\n      <td>NaN</td>\n    </tr>\n    <tr>\n      <th>...</th>\n      <td>...</td>\n      <td>...</td>\n      <td>...</td>\n      <td>...</td>\n      <td>...</td>\n      <td>...</td>\n      <td>...</td>\n      <td>...</td>\n    </tr>\n    <tr>\n      <th>530</th>\n      <td>530</td>\n      <td>28 de agosto de 2020</td>\n      <td>fratellos.vzla</td>\n      <td>/fratellos.vzla/</td>\n      <td>https://scontent-mia3-2.cdninstagram.com/v/t51...</td>\n      <td>NaN</td>\n      <td>['0424 4369291', '0424 4273837']</td>\n      <td>NaN</td>\n    </tr>\n    <tr>\n      <th>531</th>\n      <td>531</td>\n      <td>28 de agosto de 2020</td>\n      <td>telepizza041</td>\n      <td>/telepizza041/</td>\n      <td>https://scontent-mia3-1.cdninstagram.com/v/t51...</td>\n      <td>['#pizza #foodvalencia #pizzavalencia #Telepiz...</td>\n      <td>0414-420.55.99</td>\n      <td>[]</td>\n    </tr>\n    <tr>\n      <th>532</th>\n      <td>532</td>\n      <td>28 de agosto de 2020</td>\n      <td>telepizza041</td>\n      <td>/telepizza041/</td>\n      <td>https://scontent-mia3-2.cdninstagram.com/v/t51...</td>\n      <td>¡La felicidad viene en una caja cuadrada y en ...</td>\n      <td>0414-420.55.99</td>\n      <td>[]</td>\n    </tr>\n    <tr>\n      <th>533</th>\n      <td>533</td>\n      <td>28 de agosto de 2020</td>\n      <td>escueladeparrilleros</td>\n      <td>/escueladeparrilleros/</td>\n      <td>https://scontent-mia3-1.cdninstagram.com/v/t51...</td>\n      <td>['¡Allá nos vemos!.Reposted from @delimarketva...</td>\n      <td>0424-4192918</td>\n      <td>['$10', '$7']</td>\n    </tr>\n    <tr>\n      <th>534</th>\n      <td>534</td>\n      <td>28 de agosto de 2020</td>\n      <td>condulzura.val</td>\n      <td>/condulzura.val/</td>\n      <td>https://scontent-mia3-1.cdninstagram.com/v/t51...</td>\n      <td>['La mejor parte del postre es cuando lo compa...</td>\n      <td>NaN</td>\n      <td>[]</td>\n    </tr>\n  </tbody>\n</table>\n<p>535 rows × 8 columns</p>\n</div>"
     },
     "metadata": {},
     "execution_count": 2
    }
   ],
   "source": [
    "data = pd.read_csv(\"ig_scrapper/database/uni data/data_finito.csv\")\n",
    "data"
   ]
  },
  {
   "cell_type": "code",
   "execution_count": 3,
   "metadata": {},
   "outputs": [],
   "source": [
    "data.drop( data.columns[data.columns.str.contains('unnamed', case = False )], axis = 1, inplace = True )"
   ]
  },
  {
   "cell_type": "code",
   "execution_count": 36,
   "metadata": {},
   "outputs": [],
   "source": [
    "data = data.drop_duplicates('img url')"
   ]
  },
  {
   "cell_type": "code",
   "execution_count": 4,
   "metadata": {},
   "outputs": [
    {
     "output_type": "execute_result",
     "data": {
      "text/plain": "                timestamp             user name                user url  \\\n0    18 de agosto de 2020      clubhouseexpress      /clubhouseexpress/   \n1    18 de agosto de 2020      clubhouseexpress      /clubhouseexpress/   \n2    18 de agosto de 2020      clubhouseexpress      /clubhouseexpress/   \n3    18 de agosto de 2020      clubhouseexpress      /clubhouseexpress/   \n4    18 de agosto de 2020      clubhouseexpress      /clubhouseexpress/   \n..                    ...                   ...                     ...   \n530  28 de agosto de 2020        fratellos.vzla        /fratellos.vzla/   \n531  28 de agosto de 2020          telepizza041          /telepizza041/   \n532  28 de agosto de 2020          telepizza041          /telepizza041/   \n533  28 de agosto de 2020  escueladeparrilleros  /escueladeparrilleros/   \n534  28 de agosto de 2020        condulzura.val        /condulzura.val/   \n\n                                               img url  \\\n0    https://scontent-mia3-2.cdninstagram.com/v/t51...   \n1    https://scontent-mia3-1.cdninstagram.com/v/t51...   \n2    https://scontent-mia3-2.cdninstagram.com/v/t51...   \n3    https://scontent-mia3-2.cdninstagram.com/v/t51...   \n4    https://scontent-mia3-1.cdninstagram.com/v/t51...   \n..                                                 ...   \n530  https://scontent-mia3-2.cdninstagram.com/v/t51...   \n531  https://scontent-mia3-1.cdninstagram.com/v/t51...   \n532  https://scontent-mia3-2.cdninstagram.com/v/t51...   \n533  https://scontent-mia3-1.cdninstagram.com/v/t51...   \n534  https://scontent-mia3-1.cdninstagram.com/v/t51...   \n\n                                               content  \\\n0    ['Empezamos la semana de la mejor manera y que...   \n1    No puedes dejar de probar el único Club House ...   \n2    🌴Club House Los Roques🌴\\n⠀⠀⠀⠀⠀⠀⠀⠀⠀⠀⠀⠀⠀⠀⠀⠀⠀⠀⠀⠀⠀...   \n3    ⛰️ Bandeja Caracas ⛰️ \\n⠀⠀⠀⠀⠀⠀⠀⠀⠀⠀⠀⠀⠀⠀⠀⠀⠀⠀⠀⠀⠀⠀...   \n4                                                  NaN   \n..                                                 ...   \n530                                                NaN   \n531  ['#pizza #foodvalencia #pizzavalencia #Telepiz...   \n532  ¡La felicidad viene en una caja cuadrada y en ...   \n533  ['¡Allá nos vemos!.Reposted from @delimarketva...   \n534  ['La mejor parte del postre es cuando lo compa...   \n\n                             telefono          price  \n0                       0424-437.0329             []  \n1                       0424-437.0329             []  \n2                       0424-437.0329             []  \n3                       0424-437.0329             []  \n4                       0424-437.0329            NaN  \n..                                ...            ...  \n530  ['0424 4369291', '0424 4273837']            NaN  \n531                    0414-420.55.99             []  \n532                    0414-420.55.99             []  \n533                      0424-4192918  ['$10', '$7']  \n534                               NaN             []  \n\n[535 rows x 7 columns]",
      "text/html": "<div>\n<style scoped>\n    .dataframe tbody tr th:only-of-type {\n        vertical-align: middle;\n    }\n\n    .dataframe tbody tr th {\n        vertical-align: top;\n    }\n\n    .dataframe thead th {\n        text-align: right;\n    }\n</style>\n<table border=\"1\" class=\"dataframe\">\n  <thead>\n    <tr style=\"text-align: right;\">\n      <th></th>\n      <th>timestamp</th>\n      <th>user name</th>\n      <th>user url</th>\n      <th>img url</th>\n      <th>content</th>\n      <th>telefono</th>\n      <th>price</th>\n    </tr>\n  </thead>\n  <tbody>\n    <tr>\n      <th>0</th>\n      <td>18 de agosto de 2020</td>\n      <td>clubhouseexpress</td>\n      <td>/clubhouseexpress/</td>\n      <td>https://scontent-mia3-2.cdninstagram.com/v/t51...</td>\n      <td>['Empezamos la semana de la mejor manera y que...</td>\n      <td>0424-437.0329</td>\n      <td>[]</td>\n    </tr>\n    <tr>\n      <th>1</th>\n      <td>18 de agosto de 2020</td>\n      <td>clubhouseexpress</td>\n      <td>/clubhouseexpress/</td>\n      <td>https://scontent-mia3-1.cdninstagram.com/v/t51...</td>\n      <td>No puedes dejar de probar el único Club House ...</td>\n      <td>0424-437.0329</td>\n      <td>[]</td>\n    </tr>\n    <tr>\n      <th>2</th>\n      <td>18 de agosto de 2020</td>\n      <td>clubhouseexpress</td>\n      <td>/clubhouseexpress/</td>\n      <td>https://scontent-mia3-2.cdninstagram.com/v/t51...</td>\n      <td>🌴Club House Los Roques🌴\\n⠀⠀⠀⠀⠀⠀⠀⠀⠀⠀⠀⠀⠀⠀⠀⠀⠀⠀⠀⠀⠀...</td>\n      <td>0424-437.0329</td>\n      <td>[]</td>\n    </tr>\n    <tr>\n      <th>3</th>\n      <td>18 de agosto de 2020</td>\n      <td>clubhouseexpress</td>\n      <td>/clubhouseexpress/</td>\n      <td>https://scontent-mia3-2.cdninstagram.com/v/t51...</td>\n      <td>⛰️ Bandeja Caracas ⛰️ \\n⠀⠀⠀⠀⠀⠀⠀⠀⠀⠀⠀⠀⠀⠀⠀⠀⠀⠀⠀⠀⠀⠀...</td>\n      <td>0424-437.0329</td>\n      <td>[]</td>\n    </tr>\n    <tr>\n      <th>4</th>\n      <td>18 de agosto de 2020</td>\n      <td>clubhouseexpress</td>\n      <td>/clubhouseexpress/</td>\n      <td>https://scontent-mia3-1.cdninstagram.com/v/t51...</td>\n      <td>NaN</td>\n      <td>0424-437.0329</td>\n      <td>NaN</td>\n    </tr>\n    <tr>\n      <th>...</th>\n      <td>...</td>\n      <td>...</td>\n      <td>...</td>\n      <td>...</td>\n      <td>...</td>\n      <td>...</td>\n      <td>...</td>\n    </tr>\n    <tr>\n      <th>530</th>\n      <td>28 de agosto de 2020</td>\n      <td>fratellos.vzla</td>\n      <td>/fratellos.vzla/</td>\n      <td>https://scontent-mia3-2.cdninstagram.com/v/t51...</td>\n      <td>NaN</td>\n      <td>['0424 4369291', '0424 4273837']</td>\n      <td>NaN</td>\n    </tr>\n    <tr>\n      <th>531</th>\n      <td>28 de agosto de 2020</td>\n      <td>telepizza041</td>\n      <td>/telepizza041/</td>\n      <td>https://scontent-mia3-1.cdninstagram.com/v/t51...</td>\n      <td>['#pizza #foodvalencia #pizzavalencia #Telepiz...</td>\n      <td>0414-420.55.99</td>\n      <td>[]</td>\n    </tr>\n    <tr>\n      <th>532</th>\n      <td>28 de agosto de 2020</td>\n      <td>telepizza041</td>\n      <td>/telepizza041/</td>\n      <td>https://scontent-mia3-2.cdninstagram.com/v/t51...</td>\n      <td>¡La felicidad viene en una caja cuadrada y en ...</td>\n      <td>0414-420.55.99</td>\n      <td>[]</td>\n    </tr>\n    <tr>\n      <th>533</th>\n      <td>28 de agosto de 2020</td>\n      <td>escueladeparrilleros</td>\n      <td>/escueladeparrilleros/</td>\n      <td>https://scontent-mia3-1.cdninstagram.com/v/t51...</td>\n      <td>['¡Allá nos vemos!.Reposted from @delimarketva...</td>\n      <td>0424-4192918</td>\n      <td>['$10', '$7']</td>\n    </tr>\n    <tr>\n      <th>534</th>\n      <td>28 de agosto de 2020</td>\n      <td>condulzura.val</td>\n      <td>/condulzura.val/</td>\n      <td>https://scontent-mia3-1.cdninstagram.com/v/t51...</td>\n      <td>['La mejor parte del postre es cuando lo compa...</td>\n      <td>NaN</td>\n      <td>[]</td>\n    </tr>\n  </tbody>\n</table>\n<p>535 rows × 7 columns</p>\n</div>"
     },
     "metadata": {},
     "execution_count": 4
    }
   ],
   "source": [
    "data"
   ]
  },
  {
   "cell_type": "code",
   "execution_count": 40,
   "metadata": {},
   "outputs": [
    {
     "output_type": "execute_result",
     "data": {
      "text/plain": "     level_0  index             timestamp             user name  \\\n0          0      0  18 de agosto de 2020      clubhouseexpress   \n1          1      1  18 de agosto de 2020      clubhouseexpress   \n2          2      2  18 de agosto de 2020      clubhouseexpress   \n3          3      3  18 de agosto de 2020      clubhouseexpress   \n4          4      4  18 de agosto de 2020      clubhouseexpress   \n..       ...    ...                   ...                   ...   \n531      531    658  28 de agosto de 2020        fratellos.vzla   \n532      532    659  28 de agosto de 2020          telepizza041   \n533      533    661  28 de agosto de 2020          telepizza041   \n534      534    663  28 de agosto de 2020  escueladeparrilleros   \n535      535    664  28 de agosto de 2020        condulzura.val   \n\n                   user url  \\\n0        /clubhouseexpress/   \n1        /clubhouseexpress/   \n2        /clubhouseexpress/   \n3        /clubhouseexpress/   \n4        /clubhouseexpress/   \n..                      ...   \n531        /fratellos.vzla/   \n532          /telepizza041/   \n533          /telepizza041/   \n534  /escueladeparrilleros/   \n535        /condulzura.val/   \n\n                                               img url  \\\n0    https://scontent-mia3-2.cdninstagram.com/v/t51...   \n1    https://scontent-mia3-1.cdninstagram.com/v/t51...   \n2    https://scontent-mia3-2.cdninstagram.com/v/t51...   \n3    https://scontent-mia3-2.cdninstagram.com/v/t51...   \n4    https://scontent-mia3-1.cdninstagram.com/v/t51...   \n..                                                 ...   \n531  https://scontent-mia3-2.cdninstagram.com/v/t51...   \n532  https://scontent-mia3-1.cdninstagram.com/v/t51...   \n533  https://scontent-mia3-2.cdninstagram.com/v/t51...   \n534  https://scontent-mia3-1.cdninstagram.com/v/t51...   \n535  https://scontent-mia3-1.cdninstagram.com/v/t51...   \n\n                                               content  \\\n0    ['Empezamos la semana de la mejor manera y que...   \n1    No puedes dejar de probar el único Club House ...   \n2    🌴Club House Los Roques🌴\\n⠀⠀⠀⠀⠀⠀⠀⠀⠀⠀⠀⠀⠀⠀⠀⠀⠀⠀⠀⠀⠀...   \n3    ⛰️ Bandeja Caracas ⛰️ \\n⠀⠀⠀⠀⠀⠀⠀⠀⠀⠀⠀⠀⠀⠀⠀⠀⠀⠀⠀⠀⠀⠀...   \n4                                                  NaN   \n..                                                 ...   \n531                                                NaN   \n532  ['#pizza #foodvalencia #pizzavalencia #Telepiz...   \n533  ¡La felicidad viene en una caja cuadrada y en ...   \n534  ['¡Allá nos vemos!.Reposted from @delimarketva...   \n535  ['La mejor parte del postre es cuando lo compa...   \n\n                             telefono          price  \n0                       0424-437.0329             []  \n1                       0424-437.0329             []  \n2                       0424-437.0329             []  \n3                       0424-437.0329             []  \n4                       0424-437.0329            NaN  \n..                                ...            ...  \n531  ['0424 4369291', '0424 4273837']            NaN  \n532                    0414-420.55.99             []  \n533                    0414-420.55.99             []  \n534                      0424-4192918  ['$10', '$7']  \n535                               NaN             []  \n\n[536 rows x 9 columns]",
      "text/html": "<div>\n<style scoped>\n    .dataframe tbody tr th:only-of-type {\n        vertical-align: middle;\n    }\n\n    .dataframe tbody tr th {\n        vertical-align: top;\n    }\n\n    .dataframe thead th {\n        text-align: right;\n    }\n</style>\n<table border=\"1\" class=\"dataframe\">\n  <thead>\n    <tr style=\"text-align: right;\">\n      <th></th>\n      <th>level_0</th>\n      <th>index</th>\n      <th>timestamp</th>\n      <th>user name</th>\n      <th>user url</th>\n      <th>img url</th>\n      <th>content</th>\n      <th>telefono</th>\n      <th>price</th>\n    </tr>\n  </thead>\n  <tbody>\n    <tr>\n      <th>0</th>\n      <td>0</td>\n      <td>0</td>\n      <td>18 de agosto de 2020</td>\n      <td>clubhouseexpress</td>\n      <td>/clubhouseexpress/</td>\n      <td>https://scontent-mia3-2.cdninstagram.com/v/t51...</td>\n      <td>['Empezamos la semana de la mejor manera y que...</td>\n      <td>0424-437.0329</td>\n      <td>[]</td>\n    </tr>\n    <tr>\n      <th>1</th>\n      <td>1</td>\n      <td>1</td>\n      <td>18 de agosto de 2020</td>\n      <td>clubhouseexpress</td>\n      <td>/clubhouseexpress/</td>\n      <td>https://scontent-mia3-1.cdninstagram.com/v/t51...</td>\n      <td>No puedes dejar de probar el único Club House ...</td>\n      <td>0424-437.0329</td>\n      <td>[]</td>\n    </tr>\n    <tr>\n      <th>2</th>\n      <td>2</td>\n      <td>2</td>\n      <td>18 de agosto de 2020</td>\n      <td>clubhouseexpress</td>\n      <td>/clubhouseexpress/</td>\n      <td>https://scontent-mia3-2.cdninstagram.com/v/t51...</td>\n      <td>🌴Club House Los Roques🌴\\n⠀⠀⠀⠀⠀⠀⠀⠀⠀⠀⠀⠀⠀⠀⠀⠀⠀⠀⠀⠀⠀...</td>\n      <td>0424-437.0329</td>\n      <td>[]</td>\n    </tr>\n    <tr>\n      <th>3</th>\n      <td>3</td>\n      <td>3</td>\n      <td>18 de agosto de 2020</td>\n      <td>clubhouseexpress</td>\n      <td>/clubhouseexpress/</td>\n      <td>https://scontent-mia3-2.cdninstagram.com/v/t51...</td>\n      <td>⛰️ Bandeja Caracas ⛰️ \\n⠀⠀⠀⠀⠀⠀⠀⠀⠀⠀⠀⠀⠀⠀⠀⠀⠀⠀⠀⠀⠀⠀...</td>\n      <td>0424-437.0329</td>\n      <td>[]</td>\n    </tr>\n    <tr>\n      <th>4</th>\n      <td>4</td>\n      <td>4</td>\n      <td>18 de agosto de 2020</td>\n      <td>clubhouseexpress</td>\n      <td>/clubhouseexpress/</td>\n      <td>https://scontent-mia3-1.cdninstagram.com/v/t51...</td>\n      <td>NaN</td>\n      <td>0424-437.0329</td>\n      <td>NaN</td>\n    </tr>\n    <tr>\n      <th>...</th>\n      <td>...</td>\n      <td>...</td>\n      <td>...</td>\n      <td>...</td>\n      <td>...</td>\n      <td>...</td>\n      <td>...</td>\n      <td>...</td>\n      <td>...</td>\n    </tr>\n    <tr>\n      <th>531</th>\n      <td>531</td>\n      <td>658</td>\n      <td>28 de agosto de 2020</td>\n      <td>fratellos.vzla</td>\n      <td>/fratellos.vzla/</td>\n      <td>https://scontent-mia3-2.cdninstagram.com/v/t51...</td>\n      <td>NaN</td>\n      <td>['0424 4369291', '0424 4273837']</td>\n      <td>NaN</td>\n    </tr>\n    <tr>\n      <th>532</th>\n      <td>532</td>\n      <td>659</td>\n      <td>28 de agosto de 2020</td>\n      <td>telepizza041</td>\n      <td>/telepizza041/</td>\n      <td>https://scontent-mia3-1.cdninstagram.com/v/t51...</td>\n      <td>['#pizza #foodvalencia #pizzavalencia #Telepiz...</td>\n      <td>0414-420.55.99</td>\n      <td>[]</td>\n    </tr>\n    <tr>\n      <th>533</th>\n      <td>533</td>\n      <td>661</td>\n      <td>28 de agosto de 2020</td>\n      <td>telepizza041</td>\n      <td>/telepizza041/</td>\n      <td>https://scontent-mia3-2.cdninstagram.com/v/t51...</td>\n      <td>¡La felicidad viene en una caja cuadrada y en ...</td>\n      <td>0414-420.55.99</td>\n      <td>[]</td>\n    </tr>\n    <tr>\n      <th>534</th>\n      <td>534</td>\n      <td>663</td>\n      <td>28 de agosto de 2020</td>\n      <td>escueladeparrilleros</td>\n      <td>/escueladeparrilleros/</td>\n      <td>https://scontent-mia3-1.cdninstagram.com/v/t51...</td>\n      <td>['¡Allá nos vemos!.Reposted from @delimarketva...</td>\n      <td>0424-4192918</td>\n      <td>['$10', '$7']</td>\n    </tr>\n    <tr>\n      <th>535</th>\n      <td>535</td>\n      <td>664</td>\n      <td>28 de agosto de 2020</td>\n      <td>condulzura.val</td>\n      <td>/condulzura.val/</td>\n      <td>https://scontent-mia3-1.cdninstagram.com/v/t51...</td>\n      <td>['La mejor parte del postre es cuando lo compa...</td>\n      <td>NaN</td>\n      <td>[]</td>\n    </tr>\n  </tbody>\n</table>\n<p>536 rows × 9 columns</p>\n</div>"
     },
     "metadata": {},
     "execution_count": 40
    }
   ],
   "source": [
    "data = data.reset_index()\n",
    "data"
   ]
  },
  {
   "cell_type": "code",
   "execution_count": 41,
   "metadata": {},
   "outputs": [],
   "source": [
    "data.to_csv(\"ig_scrapper/database/uni data/data_finito.csv\")"
   ]
  },
  {
   "cell_type": "code",
   "execution_count": 42,
   "metadata": {},
   "outputs": [],
   "source": [
    "datos = data[['user name', 'img url', 'content']]"
   ]
  },
  {
   "cell_type": "code",
   "execution_count": 43,
   "metadata": {},
   "outputs": [
    {
     "output_type": "execute_result",
     "data": {
      "text/plain": "                user name                                            img url  \\\n0        clubhouseexpress  https://scontent-mia3-2.cdninstagram.com/v/t51...   \n1        clubhouseexpress  https://scontent-mia3-1.cdninstagram.com/v/t51...   \n2        clubhouseexpress  https://scontent-mia3-2.cdninstagram.com/v/t51...   \n3        clubhouseexpress  https://scontent-mia3-2.cdninstagram.com/v/t51...   \n4        clubhouseexpress  https://scontent-mia3-1.cdninstagram.com/v/t51...   \n..                    ...                                                ...   \n531        fratellos.vzla  https://scontent-mia3-2.cdninstagram.com/v/t51...   \n532          telepizza041  https://scontent-mia3-1.cdninstagram.com/v/t51...   \n533          telepizza041  https://scontent-mia3-2.cdninstagram.com/v/t51...   \n534  escueladeparrilleros  https://scontent-mia3-1.cdninstagram.com/v/t51...   \n535        condulzura.val  https://scontent-mia3-1.cdninstagram.com/v/t51...   \n\n                                               content  \n0    ['Empezamos la semana de la mejor manera y que...  \n1    No puedes dejar de probar el único Club House ...  \n2    🌴Club House Los Roques🌴\\n⠀⠀⠀⠀⠀⠀⠀⠀⠀⠀⠀⠀⠀⠀⠀⠀⠀⠀⠀⠀⠀...  \n3    ⛰️ Bandeja Caracas ⛰️ \\n⠀⠀⠀⠀⠀⠀⠀⠀⠀⠀⠀⠀⠀⠀⠀⠀⠀⠀⠀⠀⠀⠀...  \n4                                                  NaN  \n..                                                 ...  \n531                                                NaN  \n532  ['#pizza #foodvalencia #pizzavalencia #Telepiz...  \n533  ¡La felicidad viene en una caja cuadrada y en ...  \n534  ['¡Allá nos vemos!.Reposted from @delimarketva...  \n535  ['La mejor parte del postre es cuando lo compa...  \n\n[536 rows x 3 columns]",
      "text/html": "<div>\n<style scoped>\n    .dataframe tbody tr th:only-of-type {\n        vertical-align: middle;\n    }\n\n    .dataframe tbody tr th {\n        vertical-align: top;\n    }\n\n    .dataframe thead th {\n        text-align: right;\n    }\n</style>\n<table border=\"1\" class=\"dataframe\">\n  <thead>\n    <tr style=\"text-align: right;\">\n      <th></th>\n      <th>user name</th>\n      <th>img url</th>\n      <th>content</th>\n    </tr>\n  </thead>\n  <tbody>\n    <tr>\n      <th>0</th>\n      <td>clubhouseexpress</td>\n      <td>https://scontent-mia3-2.cdninstagram.com/v/t51...</td>\n      <td>['Empezamos la semana de la mejor manera y que...</td>\n    </tr>\n    <tr>\n      <th>1</th>\n      <td>clubhouseexpress</td>\n      <td>https://scontent-mia3-1.cdninstagram.com/v/t51...</td>\n      <td>No puedes dejar de probar el único Club House ...</td>\n    </tr>\n    <tr>\n      <th>2</th>\n      <td>clubhouseexpress</td>\n      <td>https://scontent-mia3-2.cdninstagram.com/v/t51...</td>\n      <td>🌴Club House Los Roques🌴\\n⠀⠀⠀⠀⠀⠀⠀⠀⠀⠀⠀⠀⠀⠀⠀⠀⠀⠀⠀⠀⠀...</td>\n    </tr>\n    <tr>\n      <th>3</th>\n      <td>clubhouseexpress</td>\n      <td>https://scontent-mia3-2.cdninstagram.com/v/t51...</td>\n      <td>⛰️ Bandeja Caracas ⛰️ \\n⠀⠀⠀⠀⠀⠀⠀⠀⠀⠀⠀⠀⠀⠀⠀⠀⠀⠀⠀⠀⠀⠀...</td>\n    </tr>\n    <tr>\n      <th>4</th>\n      <td>clubhouseexpress</td>\n      <td>https://scontent-mia3-1.cdninstagram.com/v/t51...</td>\n      <td>NaN</td>\n    </tr>\n    <tr>\n      <th>...</th>\n      <td>...</td>\n      <td>...</td>\n      <td>...</td>\n    </tr>\n    <tr>\n      <th>531</th>\n      <td>fratellos.vzla</td>\n      <td>https://scontent-mia3-2.cdninstagram.com/v/t51...</td>\n      <td>NaN</td>\n    </tr>\n    <tr>\n      <th>532</th>\n      <td>telepizza041</td>\n      <td>https://scontent-mia3-1.cdninstagram.com/v/t51...</td>\n      <td>['#pizza #foodvalencia #pizzavalencia #Telepiz...</td>\n    </tr>\n    <tr>\n      <th>533</th>\n      <td>telepizza041</td>\n      <td>https://scontent-mia3-2.cdninstagram.com/v/t51...</td>\n      <td>¡La felicidad viene en una caja cuadrada y en ...</td>\n    </tr>\n    <tr>\n      <th>534</th>\n      <td>escueladeparrilleros</td>\n      <td>https://scontent-mia3-1.cdninstagram.com/v/t51...</td>\n      <td>['¡Allá nos vemos!.Reposted from @delimarketva...</td>\n    </tr>\n    <tr>\n      <th>535</th>\n      <td>condulzura.val</td>\n      <td>https://scontent-mia3-1.cdninstagram.com/v/t51...</td>\n      <td>['La mejor parte del postre es cuando lo compa...</td>\n    </tr>\n  </tbody>\n</table>\n<p>536 rows × 3 columns</p>\n</div>"
     },
     "metadata": {},
     "execution_count": 43
    }
   ],
   "source": [
    "datos"
   ]
  },
  {
   "cell_type": "code",
   "execution_count": 44,
   "metadata": {},
   "outputs": [
    {
     "output_type": "execute_result",
     "data": {
      "text/plain": "'Deliciosas berenjenas rellenas. #shamsuamarest #siria #shawarmas #deliverycomidaarabe #delivery #deliveryvalencia'"
     },
     "metadata": {},
     "execution_count": 44
    }
   ],
   "source": [
    "datos['content'][154]"
   ]
  },
  {
   "cell_type": "code",
   "execution_count": 45,
   "metadata": {},
   "outputs": [
    {
     "output_type": "execute_result",
     "data": {
      "text/plain": "'Combina una #deliciosa pizza con tus ingredientes #favoritos y una #Pepsi bien #fría 🤤🍕🔥\\n𝑪𝑶𝑵𝑻𝑨𝑪𝑻𝑨𝑵𝑶𝑺\\n📱04144369559\\n📞02418246110\\n#pizza #pizzeria #lamejorpizza #slices #ingredientes #contornos #delicias #pizzalover #thebestpizza #rebanadas #paticho #pizzaburguer #valencia #venezuela #comida #restaurant #food #foodie #007 #delivery #deliveryvalencia #deliveryvalenciavenezuela'"
     },
     "metadata": {},
     "execution_count": 45
    }
   ],
   "source": [
    "datos['content'][254]"
   ]
  },
  {
   "cell_type": "code",
   "execution_count": 46,
   "metadata": {},
   "outputs": [
    {
     "output_type": "execute_result",
     "data": {
      "text/plain": "\"['¡Bienvenido Septiembre!Petit Quim Ferrer recibe Septiembre con las mejores vibras 🤩, nuevo mes, nuevas metas 🙌🏻Tenemos disponible los desechables que necesitas para tu emprendimiento🤗.Puedes hacer tus consultas al DM o en el link disponible en nuestra biografía 👆🏼.•••#valenciacarabobo #granvalencia #valenciavzla #estadocarabobo #carabobovalencia #carabobovenezuela #valenciavenezuela #valenciavenezuela #foodvenezuela #ventasvenezuela #ventasvalencia #comprasvalencia #mayorydetalcarabobo #deliveryvalencia #deliverynaguanagua #deliverysandiego #valencia #naguanagua #sandiego #caraboboesnoticia  #cajadepizza #cajasparadulces #cajadecomida #deliverycarabobo']\""
     },
     "metadata": {},
     "execution_count": 46
    }
   ],
   "source": [
    "datos['content'][389]"
   ]
  },
  {
   "cell_type": "code",
   "execution_count": 48,
   "metadata": {},
   "outputs": [
    {
     "output_type": "execute_result",
     "data": {
      "text/plain": "\"['UNO DE LOS MÁS FAMOSOS: Pollo en Salsa Agridulce🥳👀-El acompañante Perfecto para el Arroz de tu preferencia, ¿CUÁL ES?👏🏻-¡Te esperamos hoy!Almorcemos juntos, estaremos abiertos de 11:30AM A 6:00PM, DELIVERY & PICK UP TODO EL DÍA✌🏻#Mandarin #restaurant #valencia #deliveryvalencia']\""
     },
     "metadata": {},
     "execution_count": 48
    }
   ],
   "source": [
    "datos['content'][520]"
   ]
  },
  {
   "cell_type": "code",
   "execution_count": 49,
   "metadata": {},
   "outputs": [
    {
     "output_type": "execute_result",
     "data": {
      "text/plain": "'Una rica copa de Yogurt de Piña🍍 ¡No puedes dejar de probarlo! Con galleta o granola🤤 \\n\\nContamos con DELIVERY🛵 todo lo que desees de nuestro menú ¡HASTA TU CASA!😱 @ochotelolleva \\n\\n#yogurt #piña #ochotelolleva #delivery #valencia #sandiego #lacumaca #zoeslunch #fit #granola #galleta'"
     },
     "metadata": {},
     "execution_count": 49
    }
   ],
   "source": [
    "datos['content'][369]"
   ]
  },
  {
   "cell_type": "code",
   "execution_count": 50,
   "metadata": {},
   "outputs": [
    {
     "output_type": "execute_result",
     "data": {
      "text/plain": "\"['#BuenProvecho #ValenciaMenu #ComidaParaLlevar #Mañongo#PuertoCabello #SanDiego#ElTrigal #Naguanagua #LaViña#Delivery #Carabobo #ElViñedo#DeliveryValencia #PickupValencia #GuiaGastronomica -----#Repost @delicious.candy• • • • • •Valencia, Carabobo¡Bienvenido Septiembre! Las galletas hacen del mundo un lugar mejor🤭🤩, por eso en Delicious Candy tenemos una súper promo⭐️•1 torta mediana para 30 personas•1 refresco de 2 litros•1 bandeja de 25 tequeños •12 trufas o galletas Por tan solo 25$ con delivery incluido🙆🏻\\\\u200d♀️.#piedelimon #valencia #vainilla #ponquedelimon #limon #valenciacarabobo #granvalencia #valenciavzla #estadocarabobo #carabobovalencia #carabobovenezuela #valenciavenezuela #valenciavenezuela  #ventasvenezuela  #tortasvalencia']\""
     },
     "metadata": {},
     "execution_count": 50
    }
   ],
   "source": [
    "datos['content'][374]"
   ]
  },
  {
   "cell_type": "code",
   "execution_count": 51,
   "metadata": {},
   "outputs": [
    {
     "output_type": "execute_result",
     "data": {
      "text/plain": "'https://scontent-mia3-1.cdninstagram.com/v/t51.2885-15/sh0.08/e35/s640x640/118291839_703850590536433_8829716053285729475_n.jpg?_nc_ht=scontent-mia3-1.cdninstagram.com&_nc_cat=101&_nc_ohc=O8-yH7EWHS8AX_H_5hT&oh=c571811432865d327a5e5b33f53b30b4&oe=5F85D2BB'"
     },
     "metadata": {},
     "execution_count": 51
    }
   ],
   "source": [
    "datos['img url'][372]"
   ]
  },
  {
   "cell_type": "code",
   "execution_count": 53,
   "metadata": {},
   "outputs": [
    {
     "output_type": "execute_result",
     "data": {
      "text/plain": "'https://scontent-mia3-1.cdninstagram.com/v/t51.2885-15/sh0.08/e35/p640x640/118617093_383498102641776_2404208287722016378_n.jpg?_nc_ht=scontent-mia3-1.cdninstagram.com&_nc_cat=100&_nc_ohc=xynOc2WLhyEAX-4n7O-&oh=6932197bff054b6523211cb2b63b93a6&oe=5F83E6A4 640w,https://scontent-mia3-1.cdninstagram.com/v/t51.2885-15/sh0.08/e35/p750x750/118617093_383498102641776_2404208287722016378_n.jpg?_nc_ht=scontent-mia3-1.cdninstagram.com&_nc_cat=100&_nc_ohc=xynOc2WLhyEAX-4n7O-&oh=a1e3fbb2539819c3af90aa6342771270&oe=5F867B68 750w,https://scontent-mia3-1.cdninstagram.com/v/t51.2885-15/e35/118617093_383498102641776_2404208287722016378_n.jpg?_nc_ht=scontent-mia3-1.cdninstagram.com&_nc_cat=100&_nc_ohc=xynOc2WLhyEAX-4n7O-&oh=069747e886bda0a1fa070bc28458c602&oe=5F8545CA 1080w'"
     },
     "metadata": {},
     "execution_count": 53
    }
   ],
   "source": [
    "datos['img url'][374]"
   ]
  },
  {
   "cell_type": "code",
   "execution_count": 26,
   "metadata": {},
   "outputs": [],
   "source": [
    "datos = datos.drop_duplicates('img url')"
   ]
  },
  {
   "cell_type": "code",
   "execution_count": 27,
   "metadata": {},
   "outputs": [
    {
     "output_type": "execute_result",
     "data": {
      "text/plain": "(536, 3)"
     },
     "metadata": {},
     "execution_count": 27
    }
   ],
   "source": [
    "datos.shape"
   ]
  },
  {
   "source": [
    "### CLasificacion Regex\n",
    "____________________"
   ],
   "cell_type": "markdown",
   "metadata": {}
  },
  {
   "source": [
    "* Vamos por el URl IMG"
   ],
   "cell_type": "markdown",
   "metadata": {}
  },
  {
   "cell_type": "code",
   "execution_count": 56,
   "metadata": {},
   "outputs": [],
   "source": [
    "patron_url = re.compile(r'https?:\\/\\/[\\w\\-\\._]+[^\\s]+')\n",
    "list_img = datos['img url']"
   ]
  },
  {
   "cell_type": "code",
   "execution_count": 58,
   "metadata": {},
   "outputs": [],
   "source": [
    "def get_patron( patron, lista ):\n",
    "    \n",
    "    l_1 = []\n",
    "    for i in lista:\n",
    "        try:\n",
    "            temp = patron.findall(i) \n",
    "            if len(temp) == 1:\n",
    "                l_1.append(temp[0])\n",
    "            else:\n",
    "                l_1.append(temp)\n",
    "\n",
    "        except:\n",
    "            l_1.append(np.nan)\n",
    "            \n",
    "    return l_1"
   ]
  },
  {
   "cell_type": "code",
   "execution_count": 59,
   "metadata": {},
   "outputs": [],
   "source": [
    "url = get_patron( patron_url, list_img )"
   ]
  },
  {
   "cell_type": "code",
   "execution_count": 67,
   "metadata": {},
   "outputs": [
    {
     "output_type": "execute_result",
     "data": {
      "text/plain": "['https://scontent-mia3-2.cdninstagram.com/v/t51.2885-15/sh0.08/e35/s640x640/118786205_161806522213015_6644065199446181381_n.jpg?_nc_ht=scontent-mia3-2.cdninstagram.com&_nc_cat=107&_nc_ohc=ruTUBw11qjoAX-G1i1a&oh=6d3aff8002a2f5ede05afb4ad4ac031a&oe=5F84308D',\n 'https://scontent-mia3-2.cdninstagram.com/v/t51.2885-15/sh0.08/e35/s750x750/118786205_161806522213015_6644065199446181381_n.jpg?_nc_ht=scontent-mia3-2.cdninstagram.com&_nc_cat=107&_nc_ohc=ruTUBw11qjoAX-G1i1a&oh=2039809b21174a8aef90c3a58dbbbacf&oe=5F86CD49',\n 'https://scontent-mia3-2.cdninstagram.com/v/t51.2885-15/e35/118786205_161806522213015_6644065199446181381_n.jpg?_nc_ht=scontent-mia3-2.cdninstagram.com&_nc_cat=107&_nc_ohc=ruTUBw11qjoAX-G1i1a&oh=23a0488359bec74d60c4c050f8695ba9&oe=5F84FAB7']"
     },
     "metadata": {},
     "execution_count": 67
    }
   ],
   "source": [
    "url[150]"
   ]
  },
  {
   "cell_type": "code",
   "execution_count": 69,
   "metadata": {},
   "outputs": [
    {
     "output_type": "execute_result",
     "data": {
      "text/plain": "3"
     },
     "metadata": {},
     "execution_count": 69
    }
   ],
   "source": [
    "len(patron_url.findall(list_img[150]))"
   ]
  },
  {
   "cell_type": "code",
   "execution_count": 73,
   "metadata": {},
   "outputs": [
    {
     "output_type": "execute_result",
     "data": {
      "text/plain": "'https://scontent-mia3-2.cdninstagram.com/v/t51.2885-15/sh0.08/e35/s640x640/118786205_161806522213015_6644065199446181381_n.jpg?_nc_ht=scontent-mia3-2.cdninstagram.com&_nc_cat=107&_nc_ohc=ruTUBw11qjoAX-G1i1a&oh=6d3aff8002a2f5ede05afb4ad4ac031a&oe=5F84308D 640w,https://scontent-mia3-2.cdninstagram.com/v/t51.2885-15/sh0.08/e35/s750x750/118786205_161806522213015_6644065199446181381_n.jpg?_nc_ht=scontent-mia3-2.cdninstagram.com&_nc_cat=107&_nc_ohc=ruTUBw11qjoAX-G1i1a&oh=2039809b21174a8aef90c3a58dbbbacf&oe=5F86CD49 750w,https://scontent-mia3-2.cdninstagram.com/v/t51.2885-15/e35/118786205_161806522213015_6644065199446181381_n.jpg?_nc_ht=scontent-mia3-2.cdninstagram.com&_nc_cat=107&_nc_ohc=ruTUBw11qjoAX-G1i1a&oh=23a0488359bec74d60c4c050f8695ba9&oe=5F84FAB7 1080w'"
     },
     "metadata": {},
     "execution_count": 73
    }
   ],
   "source": [
    "list_img[150]"
   ]
  },
  {
   "cell_type": "code",
   "execution_count": 76,
   "metadata": {},
   "outputs": [
    {
     "output_type": "execute_result",
     "data": {
      "text/plain": "'https://scontent-mia3-2.cdninstagram.com/v/t51.2885-15/sh0.08/e35/s640x640/118786205_161806522213015_6644065199446181381_n.jpg?_nc_ht=scontent-mia3-2.cdninstagram.com&_nc_cat=107&_nc_ohc=ruTUBw11qjoAX-G1i1a&oh=6d3aff8002a2f5ede05afb4ad4ac031a&oe=5F84308D'"
     },
     "metadata": {},
     "execution_count": 76
    }
   ],
   "source": [
    "url[150][0]"
   ]
  },
  {
   "cell_type": "code",
   "execution_count": 79,
   "metadata": {},
   "outputs": [
    {
     "output_type": "execute_result",
     "data": {
      "text/plain": "nan"
     },
     "metadata": {},
     "execution_count": 79
    }
   ],
   "source": [
    "datos['content'][150]"
   ]
  },
  {
   "source": [
    "# COntinuamos con La clasificacion de comida"
   ],
   "cell_type": "markdown",
   "metadata": {}
  },
  {
   "cell_type": "code",
   "execution_count": 1,
   "metadata": {},
   "outputs": [],
   "source": [
    "import pandas as pd\n",
    "import numpy as np"
   ]
  },
  {
   "cell_type": "code",
   "execution_count": null,
   "metadata": {},
   "outputs": [],
   "source": [
    "new_url = []\n",
    "for i in url:\n",
    "    if len(i) == 1:\n",
    "        new_url.append()"
   ]
  },
  {
   "source": [
    "### IMportando NLTK y sus derivados para el procesamiento de palabras "
   ],
   "cell_type": "markdown",
   "metadata": {}
  },
  {
   "cell_type": "code",
   "execution_count": 2,
   "metadata": {
    "tags": []
   },
   "outputs": [],
   "source": [
    "import nltk \n",
    "import matplotlib.pyplot as plt"
   ]
  },
  {
   "source": [
    "## Medida de riqueza lexica en un texto: \n",
    "$$ R_l = \\frac{\\text{total de palabras únicas}}{\\text{total de palabras}} = \\frac{\\text{longitud del vocabulario}}{\\text{longitud del texto}}$$ "
   ],
   "cell_type": "markdown",
   "metadata": {}
  },
  {
   "cell_type": "code",
   "execution_count": 3,
   "metadata": {},
   "outputs": [],
   "source": [
    "pattern = r'''(?x)                  # Flag para iniciar el modo verbose\n",
    "              (?:[A-Z]\\.)+            # Hace match con abreviaciones como U.S.A.\n",
    "              | \\w+(?:-\\w+)*         # Hace match con palabras que pueden tener un guión interno\n",
    "              | \\$?\\d+(?:\\.\\d+)?%?  # Hace match con dinero o porcentajes como $15.5 o 100%\n",
    "              | \\.\\.\\.              # Hace match con puntos suspensivos\n",
    "              | [][.,;\"'?():-_`]    # Hace match con signos de puntuación\n",
    "'''"
   ]
  },
  {
   "cell_type": "code",
   "execution_count": 18,
   "metadata": {},
   "outputs": [],
   "source": [
    "token =  nltk.regexp_tokenize(data['content'][274],pattern)"
   ]
  },
  {
   "cell_type": "code",
   "execution_count": 16,
   "metadata": {},
   "outputs": [
    {
     "output_type": "execute_result",
     "data": {
      "text/plain": "'🔴𝔸𝕋𝔼ℕℂ𝕀𝕆ℕ🔴\\nHoy domingo se come diferente y nosotros somos los indicados en complacerte por eso traemos para ti este gran combo familiar, el ideal para el almuerzo y preferido por la familia.\\n\\nNo te quedes sin probar nuestro rico y crujiente pollo a la broaster 🍗🍟🥓🧀\\n\\nComunicate con nosotros te atenderemos de inmediato 🤩⬇️\\n\\n📱 0424.472.99.41\\n⏰ lunes a lunes 11am a 9pm \\n🛵 #Deliveryvalencia \\n📍#pickup \\n\\n#pollochickenhot \\n#pollobraster \\n#pollocaliente\\n#pollocrujiente \\n#comidavenezolana\\n#deliveryvalencia \\n#pickup'"
     },
     "metadata": {},
     "execution_count": 16
    }
   ],
   "source": [
    "data['content'][274]"
   ]
  },
  {
   "cell_type": "code",
   "execution_count": 21,
   "metadata": {},
   "outputs": [
    {
     "output_type": "execute_result",
     "data": {
      "text/plain": "'https://scontent-mia3-2.cdninstagram.com/v/t51.2885-15/sh0.08/e35/s640x640/118794057_3938672826149662_3131017541481344297_n.jpg?_nc_ht=scontent-mia3-2.cdninstagram.com&_nc_cat=110&_nc_ohc=nq2vMmlkjyYAX8e3fXL&oh=800317201f386f8c72d667fe3ac21ae9&oe=5F8721C3'"
     },
     "metadata": {},
     "execution_count": 21
    }
   ],
   "source": [
    "data['img url'][274]"
   ]
  },
  {
   "cell_type": "code",
   "execution_count": 22,
   "metadata": {},
   "outputs": [],
   "source": [
    "vocabulario =  sorted(set(token))"
   ]
  },
  {
   "cell_type": "code",
   "execution_count": 24,
   "metadata": {},
   "outputs": [],
   "source": [
    "r1 = len(vocabulario)/len(token)"
   ]
  },
  {
   "cell_type": "code",
   "execution_count": 25,
   "metadata": {},
   "outputs": [
    {
     "output_type": "execute_result",
     "data": {
      "text/plain": "0.8026315789473685"
     },
     "metadata": {},
     "execution_count": 25
    }
   ],
   "source": [
    "r1"
   ]
  },
  {
   "cell_type": "code",
   "execution_count": 27,
   "metadata": {},
   "outputs": [
    {
     "output_type": "execute_result",
     "data": {
      "text/plain": "{'atenderemos': 1,\n 'domingo': 1,\n 'pickup': 2,\n 'preferido': 1,\n 'pollochickenhot': 1,\n 'pollocrujiente': 1,\n 'de': 1,\n 'gran': 1,\n 'crujiente': 1,\n '472': 1,\n 'complacerte': 1,\n 'nosotros': 2,\n 'indicados': 1,\n 'quedes': 1,\n 'Hoy': 1,\n '𝔸𝕋𝔼ℕℂ𝕀𝕆ℕ': 1,\n 'te': 2,\n '41': 1,\n '.': 4,\n 'inmediato': 1,\n 'come': 1,\n 'diferente': 1,\n ',': 1,\n 'almuerzo': 1,\n 'deliveryvalencia': 1,\n 'Deliveryvalencia': 1,\n 'combo': 1,\n 'familia': 1,\n 'en': 1,\n 'lunes': 2,\n '99': 1,\n 'y': 3,\n 'a': 3,\n 'traemos': 1,\n '9pm': 1,\n 'se': 1,\n 'la': 2,\n 'este': 1,\n 'ideal': 1,\n 'el': 2,\n '11am': 1,\n 'eso': 1,\n '0424': 1,\n 'broaster': 1,\n 'familiar': 1,\n 'para': 2,\n 'somos': 1,\n 'No': 1,\n 'nuestro': 1,\n 'Comunicate': 1,\n 'comidavenezolana': 1,\n 'ti': 1,\n 'rico': 1,\n 'pollo': 1,\n 'probar': 1,\n 'sin': 1,\n 'los': 1,\n 'pollocaliente': 1,\n 'pollobraster': 1,\n 'por': 2,\n 'con': 1}"
     },
     "metadata": {},
     "execution_count": 27
    }
   ],
   "source": [
    "# METODO NO recomendable para conjuntos muy grandes\n",
    "dic = {}\n",
    "for palabra in set(token):\n",
    "  #dic[palabra] = porcentaje_palabra(palabra, text1)\n",
    "  dic[palabra] = token.count(palabra)\n",
    "dic"
   ]
  },
  {
   "cell_type": "code",
   "execution_count": 38,
   "metadata": {},
   "outputs": [],
   "source": [
    "fdist = nltk.FreqDist(token)"
   ]
  },
  {
   "cell_type": "code",
   "execution_count": 39,
   "metadata": {},
   "outputs": [
    {
     "output_type": "execute_result",
     "data": {
      "text/plain": "FreqDist({'.': 4, 'y': 3, 'a': 3, 'nosotros': 2, 'por': 2, 'para': 2, 'el': 2, 'la': 2, 'te': 2, 'lunes': 2, ...})"
     },
     "metadata": {},
     "execution_count": 39
    }
   ],
   "source": [
    "fdist"
   ]
  },
  {
   "cell_type": "code",
   "execution_count": 40,
   "metadata": {},
   "outputs": [
    {
     "output_type": "execute_result",
     "data": {
      "text/plain": "[('.', 4),\n ('y', 3),\n ('a', 3),\n ('nosotros', 2),\n ('por', 2),\n ('para', 2),\n ('el', 2),\n ('la', 2),\n ('te', 2),\n ('lunes', 2),\n ('pickup', 2),\n ('𝔸𝕋𝔼ℕℂ𝕀𝕆ℕ', 1),\n ('Hoy', 1),\n ('domingo', 1),\n ('se', 1),\n ('come', 1),\n ('diferente', 1),\n ('somos', 1),\n ('los', 1),\n ('indicados', 1),\n ('en', 1),\n ('complacerte', 1),\n ('eso', 1),\n ('traemos', 1),\n ('ti', 1),\n ('este', 1),\n ('gran', 1),\n ('combo', 1),\n ('familiar', 1),\n (',', 1),\n ('ideal', 1),\n ('almuerzo', 1),\n ('preferido', 1),\n ('familia', 1),\n ('No', 1),\n ('quedes', 1),\n ('sin', 1),\n ('probar', 1),\n ('nuestro', 1),\n ('rico', 1),\n ('crujiente', 1),\n ('pollo', 1),\n ('broaster', 1),\n ('Comunicate', 1),\n ('con', 1),\n ('atenderemos', 1),\n ('de', 1),\n ('inmediato', 1),\n ('0424', 1),\n ('472', 1)]"
     },
     "metadata": {},
     "execution_count": 40
    }
   ],
   "source": [
    "fdist.most_common(50)"
   ]
  },
  {
   "cell_type": "code",
   "execution_count": 41,
   "metadata": {},
   "outputs": [
    {
     "output_type": "display_data",
     "data": {
      "text/plain": "<Figure size 432x288 with 1 Axes>",
      "image/svg+xml": "<?xml version=\"1.0\" encoding=\"utf-8\" standalone=\"no\"?>\r\n<!DOCTYPE svg PUBLIC \"-//W3C//DTD SVG 1.1//EN\"\r\n  \"http://www.w3.org/Graphics/SVG/1.1/DTD/svg11.dtd\">\r\n<!-- Created with matplotlib (https://matplotlib.org/) -->\r\n<svg height=\"339.032188pt\" version=\"1.1\" viewBox=\"0 0 389.28125 339.032188\" width=\"389.28125pt\" xmlns=\"http://www.w3.org/2000/svg\" xmlns:xlink=\"http://www.w3.org/1999/xlink\">\r\n <defs>\r\n  <style type=\"text/css\">\r\n*{stroke-linecap:butt;stroke-linejoin:round;}\r\n  </style>\r\n </defs>\r\n <g id=\"figure_1\">\r\n  <g id=\"patch_1\">\r\n   <path d=\"M 0 339.032188 \r\nL 389.28125 339.032188 \r\nL 389.28125 0 \r\nL 0 0 \r\nz\r\n\" style=\"fill:none;\"/>\r\n  </g>\r\n  <g id=\"axes_1\">\r\n   <g id=\"patch_2\">\r\n    <path d=\"M 43.78125 228.14 \r\nL 378.58125 228.14 \r\nL 378.58125 10.7 \r\nL 43.78125 10.7 \r\nz\r\n\" style=\"fill:#ffffff;\"/>\r\n   </g>\r\n   <g id=\"matplotlib.axis_1\">\r\n    <g id=\"xtick_1\">\r\n     <g id=\"line2d_1\">\r\n      <path clip-path=\"url(#pa4374b808f)\" d=\"M 58.999432 228.14 \r\nL 58.999432 10.7 \r\n\" style=\"fill:none;stroke:#c0c0c0;stroke-linecap:square;stroke-width:0.8;\"/>\r\n     </g>\r\n     <g id=\"line2d_2\">\r\n      <defs>\r\n       <path d=\"M 0 0 \r\nL 0 3.5 \r\n\" id=\"m41b83d92b9\" style=\"stroke:#000000;stroke-width:0.8;\"/>\r\n      </defs>\r\n      <g>\r\n       <use style=\"stroke:#000000;stroke-width:0.8;\" x=\"58.999432\" xlink:href=\"#m41b83d92b9\" y=\"228.14\"/>\r\n      </g>\r\n     </g>\r\n     <g id=\"text_1\">\r\n      <!-- . -->\r\n      <defs>\r\n       <path d=\"M 10.6875 12.40625 \r\nL 21 12.40625 \r\nL 21 0 \r\nL 10.6875 0 \r\nz\r\n\" id=\"DejaVuSans-46\"/>\r\n      </defs>\r\n      <g transform=\"translate(61.758807 238.318125)rotate(-90)scale(0.1 -0.1)\">\r\n       <use xlink:href=\"#DejaVuSans-46\"/>\r\n      </g>\r\n     </g>\r\n    </g>\r\n    <g id=\"xtick_2\">\r\n     <g id=\"line2d_3\">\r\n      <path clip-path=\"url(#pa4374b808f)\" d=\"M 75.018571 228.14 \r\nL 75.018571 10.7 \r\n\" style=\"fill:none;stroke:#c0c0c0;stroke-linecap:square;stroke-width:0.8;\"/>\r\n     </g>\r\n     <g id=\"line2d_4\">\r\n      <g>\r\n       <use style=\"stroke:#000000;stroke-width:0.8;\" x=\"75.018571\" xlink:href=\"#m41b83d92b9\" y=\"228.14\"/>\r\n      </g>\r\n     </g>\r\n     <g id=\"text_2\">\r\n      <!-- y -->\r\n      <defs>\r\n       <path d=\"M 32.171875 -5.078125 \r\nQ 28.375 -14.84375 24.75 -17.8125 \r\nQ 21.140625 -20.796875 15.09375 -20.796875 \r\nL 7.90625 -20.796875 \r\nL 7.90625 -13.28125 \r\nL 13.1875 -13.28125 \r\nQ 16.890625 -13.28125 18.9375 -11.515625 \r\nQ 21 -9.765625 23.484375 -3.21875 \r\nL 25.09375 0.875 \r\nL 2.984375 54.6875 \r\nL 12.5 54.6875 \r\nL 29.59375 11.921875 \r\nL 46.6875 54.6875 \r\nL 56.203125 54.6875 \r\nz\r\n\" id=\"DejaVuSans-121\"/>\r\n      </defs>\r\n      <g transform=\"translate(77.777946 241.05875)rotate(-90)scale(0.1 -0.1)\">\r\n       <use xlink:href=\"#DejaVuSans-121\"/>\r\n      </g>\r\n     </g>\r\n    </g>\r\n    <g id=\"xtick_3\">\r\n     <g id=\"line2d_5\">\r\n      <path clip-path=\"url(#pa4374b808f)\" d=\"M 91.037709 228.14 \r\nL 91.037709 10.7 \r\n\" style=\"fill:none;stroke:#c0c0c0;stroke-linecap:square;stroke-width:0.8;\"/>\r\n     </g>\r\n     <g id=\"line2d_6\">\r\n      <g>\r\n       <use style=\"stroke:#000000;stroke-width:0.8;\" x=\"91.037709\" xlink:href=\"#m41b83d92b9\" y=\"228.14\"/>\r\n      </g>\r\n     </g>\r\n     <g id=\"text_3\">\r\n      <!-- a -->\r\n      <defs>\r\n       <path d=\"M 34.28125 27.484375 \r\nQ 23.390625 27.484375 19.1875 25 \r\nQ 14.984375 22.515625 14.984375 16.5 \r\nQ 14.984375 11.71875 18.140625 8.90625 \r\nQ 21.296875 6.109375 26.703125 6.109375 \r\nQ 34.1875 6.109375 38.703125 11.40625 \r\nQ 43.21875 16.703125 43.21875 25.484375 \r\nL 43.21875 27.484375 \r\nz\r\nM 52.203125 31.203125 \r\nL 52.203125 0 \r\nL 43.21875 0 \r\nL 43.21875 8.296875 \r\nQ 40.140625 3.328125 35.546875 0.953125 \r\nQ 30.953125 -1.421875 24.3125 -1.421875 \r\nQ 15.921875 -1.421875 10.953125 3.296875 \r\nQ 6 8.015625 6 15.921875 \r\nQ 6 25.140625 12.171875 29.828125 \r\nQ 18.359375 34.515625 30.609375 34.515625 \r\nL 43.21875 34.515625 \r\nL 43.21875 35.40625 \r\nQ 43.21875 41.609375 39.140625 45 \r\nQ 35.0625 48.390625 27.6875 48.390625 \r\nQ 23 48.390625 18.546875 47.265625 \r\nQ 14.109375 46.140625 10.015625 43.890625 \r\nL 10.015625 52.203125 \r\nQ 14.9375 54.109375 19.578125 55.046875 \r\nQ 24.21875 56 28.609375 56 \r\nQ 40.484375 56 46.34375 49.84375 \r\nQ 52.203125 43.703125 52.203125 31.203125 \r\nz\r\n\" id=\"DejaVuSans-97\"/>\r\n      </defs>\r\n      <g transform=\"translate(93.797084 241.268125)rotate(-90)scale(0.1 -0.1)\">\r\n       <use xlink:href=\"#DejaVuSans-97\"/>\r\n      </g>\r\n     </g>\r\n    </g>\r\n    <g id=\"xtick_4\">\r\n     <g id=\"line2d_7\">\r\n      <path clip-path=\"url(#pa4374b808f)\" d=\"M 107.056848 228.14 \r\nL 107.056848 10.7 \r\n\" style=\"fill:none;stroke:#c0c0c0;stroke-linecap:square;stroke-width:0.8;\"/>\r\n     </g>\r\n     <g id=\"line2d_8\">\r\n      <g>\r\n       <use style=\"stroke:#000000;stroke-width:0.8;\" x=\"107.056848\" xlink:href=\"#m41b83d92b9\" y=\"228.14\"/>\r\n      </g>\r\n     </g>\r\n     <g id=\"text_4\">\r\n      <!-- nosotros -->\r\n      <defs>\r\n       <path d=\"M 54.890625 33.015625 \r\nL 54.890625 0 \r\nL 45.90625 0 \r\nL 45.90625 32.71875 \r\nQ 45.90625 40.484375 42.875 44.328125 \r\nQ 39.84375 48.1875 33.796875 48.1875 \r\nQ 26.515625 48.1875 22.3125 43.546875 \r\nQ 18.109375 38.921875 18.109375 30.90625 \r\nL 18.109375 0 \r\nL 9.078125 0 \r\nL 9.078125 54.6875 \r\nL 18.109375 54.6875 \r\nL 18.109375 46.1875 \r\nQ 21.34375 51.125 25.703125 53.5625 \r\nQ 30.078125 56 35.796875 56 \r\nQ 45.21875 56 50.046875 50.171875 \r\nQ 54.890625 44.34375 54.890625 33.015625 \r\nz\r\n\" id=\"DejaVuSans-110\"/>\r\n       <path d=\"M 30.609375 48.390625 \r\nQ 23.390625 48.390625 19.1875 42.75 \r\nQ 14.984375 37.109375 14.984375 27.296875 \r\nQ 14.984375 17.484375 19.15625 11.84375 \r\nQ 23.34375 6.203125 30.609375 6.203125 \r\nQ 37.796875 6.203125 41.984375 11.859375 \r\nQ 46.1875 17.53125 46.1875 27.296875 \r\nQ 46.1875 37.015625 41.984375 42.703125 \r\nQ 37.796875 48.390625 30.609375 48.390625 \r\nz\r\nM 30.609375 56 \r\nQ 42.328125 56 49.015625 48.375 \r\nQ 55.71875 40.765625 55.71875 27.296875 \r\nQ 55.71875 13.875 49.015625 6.21875 \r\nQ 42.328125 -1.421875 30.609375 -1.421875 \r\nQ 18.84375 -1.421875 12.171875 6.21875 \r\nQ 5.515625 13.875 5.515625 27.296875 \r\nQ 5.515625 40.765625 12.171875 48.375 \r\nQ 18.84375 56 30.609375 56 \r\nz\r\n\" id=\"DejaVuSans-111\"/>\r\n       <path d=\"M 44.28125 53.078125 \r\nL 44.28125 44.578125 \r\nQ 40.484375 46.53125 36.375 47.5 \r\nQ 32.28125 48.484375 27.875 48.484375 \r\nQ 21.1875 48.484375 17.84375 46.4375 \r\nQ 14.5 44.390625 14.5 40.28125 \r\nQ 14.5 37.15625 16.890625 35.375 \r\nQ 19.28125 33.59375 26.515625 31.984375 \r\nL 29.59375 31.296875 \r\nQ 39.15625 29.25 43.1875 25.515625 \r\nQ 47.21875 21.78125 47.21875 15.09375 \r\nQ 47.21875 7.46875 41.1875 3.015625 \r\nQ 35.15625 -1.421875 24.609375 -1.421875 \r\nQ 20.21875 -1.421875 15.453125 -0.5625 \r\nQ 10.6875 0.296875 5.421875 2 \r\nL 5.421875 11.28125 \r\nQ 10.40625 8.6875 15.234375 7.390625 \r\nQ 20.0625 6.109375 24.8125 6.109375 \r\nQ 31.15625 6.109375 34.5625 8.28125 \r\nQ 37.984375 10.453125 37.984375 14.40625 \r\nQ 37.984375 18.0625 35.515625 20.015625 \r\nQ 33.0625 21.96875 24.703125 23.78125 \r\nL 21.578125 24.515625 \r\nQ 13.234375 26.265625 9.515625 29.90625 \r\nQ 5.8125 33.546875 5.8125 39.890625 \r\nQ 5.8125 47.609375 11.28125 51.796875 \r\nQ 16.75 56 26.8125 56 \r\nQ 31.78125 56 36.171875 55.265625 \r\nQ 40.578125 54.546875 44.28125 53.078125 \r\nz\r\n\" id=\"DejaVuSans-115\"/>\r\n       <path d=\"M 18.3125 70.21875 \r\nL 18.3125 54.6875 \r\nL 36.8125 54.6875 \r\nL 36.8125 47.703125 \r\nL 18.3125 47.703125 \r\nL 18.3125 18.015625 \r\nQ 18.3125 11.328125 20.140625 9.421875 \r\nQ 21.96875 7.515625 27.59375 7.515625 \r\nL 36.8125 7.515625 \r\nL 36.8125 0 \r\nL 27.59375 0 \r\nQ 17.1875 0 13.234375 3.875 \r\nQ 9.28125 7.765625 9.28125 18.015625 \r\nL 9.28125 47.703125 \r\nL 2.6875 47.703125 \r\nL 2.6875 54.6875 \r\nL 9.28125 54.6875 \r\nL 9.28125 70.21875 \r\nz\r\n\" id=\"DejaVuSans-116\"/>\r\n       <path d=\"M 41.109375 46.296875 \r\nQ 39.59375 47.171875 37.8125 47.578125 \r\nQ 36.03125 48 33.890625 48 \r\nQ 26.265625 48 22.1875 43.046875 \r\nQ 18.109375 38.09375 18.109375 28.8125 \r\nL 18.109375 0 \r\nL 9.078125 0 \r\nL 9.078125 54.6875 \r\nL 18.109375 54.6875 \r\nL 18.109375 46.1875 \r\nQ 20.953125 51.171875 25.484375 53.578125 \r\nQ 30.03125 56 36.53125 56 \r\nQ 37.453125 56 38.578125 55.875 \r\nQ 39.703125 55.765625 41.0625 55.515625 \r\nz\r\n\" id=\"DejaVuSans-114\"/>\r\n      </defs>\r\n      <g transform=\"translate(109.816223 278.280625)rotate(-90)scale(0.1 -0.1)\">\r\n       <use xlink:href=\"#DejaVuSans-110\"/>\r\n       <use x=\"63.378906\" xlink:href=\"#DejaVuSans-111\"/>\r\n       <use x=\"124.560547\" xlink:href=\"#DejaVuSans-115\"/>\r\n       <use x=\"176.660156\" xlink:href=\"#DejaVuSans-111\"/>\r\n       <use x=\"237.841797\" xlink:href=\"#DejaVuSans-116\"/>\r\n       <use x=\"277.050781\" xlink:href=\"#DejaVuSans-114\"/>\r\n       <use x=\"318.132812\" xlink:href=\"#DejaVuSans-111\"/>\r\n       <use x=\"379.314453\" xlink:href=\"#DejaVuSans-115\"/>\r\n      </g>\r\n     </g>\r\n    </g>\r\n    <g id=\"xtick_5\">\r\n     <g id=\"line2d_9\">\r\n      <path clip-path=\"url(#pa4374b808f)\" d=\"M 123.075987 228.14 \r\nL 123.075987 10.7 \r\n\" style=\"fill:none;stroke:#c0c0c0;stroke-linecap:square;stroke-width:0.8;\"/>\r\n     </g>\r\n     <g id=\"line2d_10\">\r\n      <g>\r\n       <use style=\"stroke:#000000;stroke-width:0.8;\" x=\"123.075987\" xlink:href=\"#m41b83d92b9\" y=\"228.14\"/>\r\n      </g>\r\n     </g>\r\n     <g id=\"text_5\">\r\n      <!-- por -->\r\n      <defs>\r\n       <path d=\"M 18.109375 8.203125 \r\nL 18.109375 -20.796875 \r\nL 9.078125 -20.796875 \r\nL 9.078125 54.6875 \r\nL 18.109375 54.6875 \r\nL 18.109375 46.390625 \r\nQ 20.953125 51.265625 25.265625 53.625 \r\nQ 29.59375 56 35.59375 56 \r\nQ 45.5625 56 51.78125 48.09375 \r\nQ 58.015625 40.1875 58.015625 27.296875 \r\nQ 58.015625 14.40625 51.78125 6.484375 \r\nQ 45.5625 -1.421875 35.59375 -1.421875 \r\nQ 29.59375 -1.421875 25.265625 0.953125 \r\nQ 20.953125 3.328125 18.109375 8.203125 \r\nz\r\nM 48.6875 27.296875 \r\nQ 48.6875 37.203125 44.609375 42.84375 \r\nQ 40.53125 48.484375 33.40625 48.484375 \r\nQ 26.265625 48.484375 22.1875 42.84375 \r\nQ 18.109375 37.203125 18.109375 27.296875 \r\nQ 18.109375 17.390625 22.1875 11.75 \r\nQ 26.265625 6.109375 33.40625 6.109375 \r\nQ 40.53125 6.109375 44.609375 11.75 \r\nQ 48.6875 17.390625 48.6875 27.296875 \r\nz\r\n\" id=\"DejaVuSans-112\"/>\r\n      </defs>\r\n      <g transform=\"translate(125.835362 251.718125)rotate(-90)scale(0.1 -0.1)\">\r\n       <use xlink:href=\"#DejaVuSans-112\"/>\r\n       <use x=\"63.476562\" xlink:href=\"#DejaVuSans-111\"/>\r\n       <use x=\"124.658203\" xlink:href=\"#DejaVuSans-114\"/>\r\n      </g>\r\n     </g>\r\n    </g>\r\n    <g id=\"xtick_6\">\r\n     <g id=\"line2d_11\">\r\n      <path clip-path=\"url(#pa4374b808f)\" d=\"M 139.095126 228.14 \r\nL 139.095126 10.7 \r\n\" style=\"fill:none;stroke:#c0c0c0;stroke-linecap:square;stroke-width:0.8;\"/>\r\n     </g>\r\n     <g id=\"line2d_12\">\r\n      <g>\r\n       <use style=\"stroke:#000000;stroke-width:0.8;\" x=\"139.095126\" xlink:href=\"#m41b83d92b9\" y=\"228.14\"/>\r\n      </g>\r\n     </g>\r\n     <g id=\"text_6\">\r\n      <!-- para -->\r\n      <g transform=\"translate(141.854501 257.855625)rotate(-90)scale(0.1 -0.1)\">\r\n       <use xlink:href=\"#DejaVuSans-112\"/>\r\n       <use x=\"63.476562\" xlink:href=\"#DejaVuSans-97\"/>\r\n       <use x=\"124.755859\" xlink:href=\"#DejaVuSans-114\"/>\r\n       <use x=\"165.869141\" xlink:href=\"#DejaVuSans-97\"/>\r\n      </g>\r\n     </g>\r\n    </g>\r\n    <g id=\"xtick_7\">\r\n     <g id=\"line2d_13\">\r\n      <path clip-path=\"url(#pa4374b808f)\" d=\"M 155.114264 228.14 \r\nL 155.114264 10.7 \r\n\" style=\"fill:none;stroke:#c0c0c0;stroke-linecap:square;stroke-width:0.8;\"/>\r\n     </g>\r\n     <g id=\"line2d_14\">\r\n      <g>\r\n       <use style=\"stroke:#000000;stroke-width:0.8;\" x=\"155.114264\" xlink:href=\"#m41b83d92b9\" y=\"228.14\"/>\r\n      </g>\r\n     </g>\r\n     <g id=\"text_7\">\r\n      <!-- el -->\r\n      <defs>\r\n       <path d=\"M 56.203125 29.59375 \r\nL 56.203125 25.203125 \r\nL 14.890625 25.203125 \r\nQ 15.484375 15.921875 20.484375 11.0625 \r\nQ 25.484375 6.203125 34.421875 6.203125 \r\nQ 39.59375 6.203125 44.453125 7.46875 \r\nQ 49.3125 8.734375 54.109375 11.28125 \r\nL 54.109375 2.78125 \r\nQ 49.265625 0.734375 44.1875 -0.34375 \r\nQ 39.109375 -1.421875 33.890625 -1.421875 \r\nQ 20.796875 -1.421875 13.15625 6.1875 \r\nQ 5.515625 13.8125 5.515625 26.8125 \r\nQ 5.515625 40.234375 12.765625 48.109375 \r\nQ 20.015625 56 32.328125 56 \r\nQ 43.359375 56 49.78125 48.890625 \r\nQ 56.203125 41.796875 56.203125 29.59375 \r\nz\r\nM 47.21875 32.234375 \r\nQ 47.125 39.59375 43.09375 43.984375 \r\nQ 39.0625 48.390625 32.421875 48.390625 \r\nQ 24.90625 48.390625 20.390625 44.140625 \r\nQ 15.875 39.890625 15.1875 32.171875 \r\nz\r\n\" id=\"DejaVuSans-101\"/>\r\n       <path d=\"M 9.421875 75.984375 \r\nL 18.40625 75.984375 \r\nL 18.40625 0 \r\nL 9.421875 0 \r\nz\r\n\" id=\"DejaVuSans-108\"/>\r\n      </defs>\r\n      <g transform=\"translate(157.873639 244.07125)rotate(-90)scale(0.1 -0.1)\">\r\n       <use xlink:href=\"#DejaVuSans-101\"/>\r\n       <use x=\"61.523438\" xlink:href=\"#DejaVuSans-108\"/>\r\n      </g>\r\n     </g>\r\n    </g>\r\n    <g id=\"xtick_8\">\r\n     <g id=\"line2d_15\">\r\n      <path clip-path=\"url(#pa4374b808f)\" d=\"M 171.133403 228.14 \r\nL 171.133403 10.7 \r\n\" style=\"fill:none;stroke:#c0c0c0;stroke-linecap:square;stroke-width:0.8;\"/>\r\n     </g>\r\n     <g id=\"line2d_16\">\r\n      <g>\r\n       <use style=\"stroke:#000000;stroke-width:0.8;\" x=\"171.133403\" xlink:href=\"#m41b83d92b9\" y=\"228.14\"/>\r\n      </g>\r\n     </g>\r\n     <g id=\"text_8\">\r\n      <!-- la -->\r\n      <g transform=\"translate(173.892778 244.04625)rotate(-90)scale(0.1 -0.1)\">\r\n       <use xlink:href=\"#DejaVuSans-108\"/>\r\n       <use x=\"27.783203\" xlink:href=\"#DejaVuSans-97\"/>\r\n      </g>\r\n     </g>\r\n    </g>\r\n    <g id=\"xtick_9\">\r\n     <g id=\"line2d_17\">\r\n      <path clip-path=\"url(#pa4374b808f)\" d=\"M 187.152542 228.14 \r\nL 187.152542 10.7 \r\n\" style=\"fill:none;stroke:#c0c0c0;stroke-linecap:square;stroke-width:0.8;\"/>\r\n     </g>\r\n     <g id=\"line2d_18\">\r\n      <g>\r\n       <use style=\"stroke:#000000;stroke-width:0.8;\" x=\"187.152542\" xlink:href=\"#m41b83d92b9\" y=\"228.14\"/>\r\n      </g>\r\n     </g>\r\n     <g id=\"text_9\">\r\n      <!-- te -->\r\n      <g transform=\"translate(189.911917 245.213437)rotate(-90)scale(0.1 -0.1)\">\r\n       <use xlink:href=\"#DejaVuSans-116\"/>\r\n       <use x=\"39.208984\" xlink:href=\"#DejaVuSans-101\"/>\r\n      </g>\r\n     </g>\r\n    </g>\r\n    <g id=\"xtick_10\">\r\n     <g id=\"line2d_19\">\r\n      <path clip-path=\"url(#pa4374b808f)\" d=\"M 203.171681 228.14 \r\nL 203.171681 10.7 \r\n\" style=\"fill:none;stroke:#c0c0c0;stroke-linecap:square;stroke-width:0.8;\"/>\r\n     </g>\r\n     <g id=\"line2d_20\">\r\n      <g>\r\n       <use style=\"stroke:#000000;stroke-width:0.8;\" x=\"203.171681\" xlink:href=\"#m41b83d92b9\" y=\"228.14\"/>\r\n      </g>\r\n     </g>\r\n     <g id=\"text_10\">\r\n      <!-- lunes -->\r\n      <defs>\r\n       <path d=\"M 8.5 21.578125 \r\nL 8.5 54.6875 \r\nL 17.484375 54.6875 \r\nL 17.484375 21.921875 \r\nQ 17.484375 14.15625 20.5 10.265625 \r\nQ 23.53125 6.390625 29.59375 6.390625 \r\nQ 36.859375 6.390625 41.078125 11.03125 \r\nQ 45.3125 15.671875 45.3125 23.6875 \r\nL 45.3125 54.6875 \r\nL 54.296875 54.6875 \r\nL 54.296875 0 \r\nL 45.3125 0 \r\nL 45.3125 8.40625 \r\nQ 42.046875 3.421875 37.71875 1 \r\nQ 33.40625 -1.421875 27.6875 -1.421875 \r\nQ 18.265625 -1.421875 13.375 4.4375 \r\nQ 8.5 10.296875 8.5 21.578125 \r\nz\r\nM 31.109375 56 \r\nz\r\n\" id=\"DejaVuSans-117\"/>\r\n      </defs>\r\n      <g transform=\"translate(205.931056 261.955625)rotate(-90)scale(0.1 -0.1)\">\r\n       <use xlink:href=\"#DejaVuSans-108\"/>\r\n       <use x=\"27.783203\" xlink:href=\"#DejaVuSans-117\"/>\r\n       <use x=\"91.162109\" xlink:href=\"#DejaVuSans-110\"/>\r\n       <use x=\"154.541016\" xlink:href=\"#DejaVuSans-101\"/>\r\n       <use x=\"216.064453\" xlink:href=\"#DejaVuSans-115\"/>\r\n      </g>\r\n     </g>\r\n    </g>\r\n    <g id=\"xtick_11\">\r\n     <g id=\"line2d_21\">\r\n      <path clip-path=\"url(#pa4374b808f)\" d=\"M 219.190819 228.14 \r\nL 219.190819 10.7 \r\n\" style=\"fill:none;stroke:#c0c0c0;stroke-linecap:square;stroke-width:0.8;\"/>\r\n     </g>\r\n     <g id=\"line2d_22\">\r\n      <g>\r\n       <use style=\"stroke:#000000;stroke-width:0.8;\" x=\"219.190819\" xlink:href=\"#m41b83d92b9\" y=\"228.14\"/>\r\n      </g>\r\n     </g>\r\n     <g id=\"text_11\">\r\n      <!-- pickup -->\r\n      <defs>\r\n       <path d=\"M 9.421875 54.6875 \r\nL 18.40625 54.6875 \r\nL 18.40625 0 \r\nL 9.421875 0 \r\nz\r\nM 9.421875 75.984375 \r\nL 18.40625 75.984375 \r\nL 18.40625 64.59375 \r\nL 9.421875 64.59375 \r\nz\r\n\" id=\"DejaVuSans-105\"/>\r\n       <path d=\"M 48.78125 52.59375 \r\nL 48.78125 44.1875 \r\nQ 44.96875 46.296875 41.140625 47.34375 \r\nQ 37.3125 48.390625 33.40625 48.390625 \r\nQ 24.65625 48.390625 19.8125 42.84375 \r\nQ 14.984375 37.3125 14.984375 27.296875 \r\nQ 14.984375 17.28125 19.8125 11.734375 \r\nQ 24.65625 6.203125 33.40625 6.203125 \r\nQ 37.3125 6.203125 41.140625 7.25 \r\nQ 44.96875 8.296875 48.78125 10.40625 \r\nL 48.78125 2.09375 \r\nQ 45.015625 0.34375 40.984375 -0.53125 \r\nQ 36.96875 -1.421875 32.421875 -1.421875 \r\nQ 20.0625 -1.421875 12.78125 6.34375 \r\nQ 5.515625 14.109375 5.515625 27.296875 \r\nQ 5.515625 40.671875 12.859375 48.328125 \r\nQ 20.21875 56 33.015625 56 \r\nQ 37.15625 56 41.109375 55.140625 \r\nQ 45.0625 54.296875 48.78125 52.59375 \r\nz\r\n\" id=\"DejaVuSans-99\"/>\r\n       <path d=\"M 9.078125 75.984375 \r\nL 18.109375 75.984375 \r\nL 18.109375 31.109375 \r\nL 44.921875 54.6875 \r\nL 56.390625 54.6875 \r\nL 27.390625 29.109375 \r\nL 57.625 0 \r\nL 45.90625 0 \r\nL 18.109375 26.703125 \r\nL 18.109375 0 \r\nL 9.078125 0 \r\nz\r\n\" id=\"DejaVuSans-107\"/>\r\n      </defs>\r\n      <g transform=\"translate(221.950194 268.236875)rotate(-90)scale(0.1 -0.1)\">\r\n       <use xlink:href=\"#DejaVuSans-112\"/>\r\n       <use x=\"63.476562\" xlink:href=\"#DejaVuSans-105\"/>\r\n       <use x=\"91.259766\" xlink:href=\"#DejaVuSans-99\"/>\r\n       <use x=\"146.240234\" xlink:href=\"#DejaVuSans-107\"/>\r\n       <use x=\"204.103516\" xlink:href=\"#DejaVuSans-117\"/>\r\n       <use x=\"267.482422\" xlink:href=\"#DejaVuSans-112\"/>\r\n      </g>\r\n     </g>\r\n    </g>\r\n    <g id=\"xtick_12\">\r\n     <g id=\"line2d_23\">\r\n      <path clip-path=\"url(#pa4374b808f)\" d=\"M 235.209958 228.14 \r\nL 235.209958 10.7 \r\n\" style=\"fill:none;stroke:#c0c0c0;stroke-linecap:square;stroke-width:0.8;\"/>\r\n     </g>\r\n     <g id=\"line2d_24\">\r\n      <g>\r\n       <use style=\"stroke:#000000;stroke-width:0.8;\" x=\"235.209958\" xlink:href=\"#m41b83d92b9\" y=\"228.14\"/>\r\n      </g>\r\n     </g>\r\n     <g id=\"text_12\">\r\n      <!-- 𝔸𝕋𝔼ℕℂ𝕀𝕆ℕ -->\r\n      <defs>\r\n       <path d=\"M 42.046875 68.015625 \r\nL 32.03125 68.015625 \r\nL 56.15625 4.890625 \r\nL 66.15625 4.890625 \r\nz\r\nM 45.40625 72.90625 \r\nL 73.25 0 \r\nL 52.734375 0 \r\nL 45.3125 20.359375 \r\nL 14.0625 20.359375 \r\nL 6.59375 0 \r\nL 0.78125 0 \r\nL 28.5625 72.90625 \r\nz\r\nM 29.734375 63.1875 \r\nL 15.828125 25.25 \r\nL 43.5625 25.25 \r\nz\r\n\" id=\"DejaVuSans-120120\"/>\r\n       <path d=\"M 30.5625 68.015625 \r\nL 30.5625 4.890625 \r\nL 40.328125 4.890625 \r\nL 40.328125 68.015625 \r\nz\r\nM -0.296875 72.90625 \r\nL 71.09375 72.90625 \r\nL 71.09375 68.015625 \r\nL 45.21875 68.015625 \r\nL 45.21875 0 \r\nL 25.6875 0 \r\nL 25.6875 68.015625 \r\nL -0.296875 68.015625 \r\nz\r\n\" id=\"DejaVuSans-120139\"/>\r\n       <path d=\"M 14.703125 68.015625 \r\nL 14.703125 4.890625 \r\nL 24.5625 4.890625 \r\nL 24.5625 68.015625 \r\nz\r\nM 9.8125 72.90625 \r\nL 65.671875 72.90625 \r\nL 65.671875 68.015625 \r\nL 29.4375 68.015625 \r\nL 29.4375 41.65625 \r\nL 64.15625 41.65625 \r\nL 64.15625 36.765625 \r\nL 29.4375 36.765625 \r\nL 29.4375 4.890625 \r\nL 66.546875 4.890625 \r\nL 66.546875 0 \r\nL 9.8125 0 \r\nz\r\n\" id=\"DejaVuSans-120124\"/>\r\n       <path d=\"M 64.0625 4.890625 \r\nL 27.640625 68.015625 \r\nL 16.015625 68.015625 \r\nL 52.4375 4.890625 \r\nz\r\nM 9.671875 72.90625 \r\nL 30.375 72.90625 \r\nL 65.53125 11.921875 \r\nL 65.53125 72.90625 \r\nL 70.40625 72.90625 \r\nL 70.40625 0 \r\nL 49.703125 0 \r\nL 14.546875 60.984375 \r\nL 14.546875 0 \r\nL 9.671875 0 \r\nz\r\n\" id=\"DejaVuSans-8469\"/>\r\n       <path d=\"M 64.40625 67.28125 \r\nL 64.40625 61.53125 \r\nQ 60.0625 64.703125 54.390625 66.890625 \r\nQ 48.734375 69.09375 41.359375 69.09375 \r\nQ 33.40625 69.09375 27.484375 66.546875 \r\nL 27.484375 6.25 \r\nQ 33.40625 3.71875 41.359375 3.71875 \r\nQ 48.734375 3.71875 54.390625 5.90625 \r\nQ 60.0625 8.109375 64.40625 11.328125 \r\nL 64.40625 5.609375 \r\nQ 59.234375 2.09375 53.4375 0.328125 \r\nQ 47.65625 -1.421875 41.21875 -1.421875 \r\nQ 24.65625 -1.421875 15.125 8.703125 \r\nQ 5.609375 18.84375 5.609375 36.375 \r\nQ 5.609375 53.953125 15.125 64.078125 \r\nQ 24.65625 74.21875 41.21875 74.21875 \r\nQ 47.75 74.21875 53.53125 72.484375 \r\nQ 59.328125 70.75 64.40625 67.28125 \r\nz\r\nM 22.359375 9.1875 \r\nL 22.359375 63.625 \r\nQ 20.65625 62.3125 19.140625 60.6875 \r\nQ 11.46875 52.296875 11.46875 36.375 \r\nQ 11.46875 20.515625 19.140625 12.109375 \r\nQ 20.65625 10.5 22.359375 9.1875 \r\nz\r\n\" id=\"DejaVuSans-8450\"/>\r\n       <path d=\"M 14.75 68.015625 \r\nL 14.75 4.890625 \r\nL 24.609375 4.890625 \r\nL 24.609375 68.015625 \r\nz\r\nM 4.984375 72.90625 \r\nL 34.28125 72.90625 \r\nL 34.28125 68.015625 \r\nL 29.390625 68.015625 \r\nL 29.390625 4.890625 \r\nL 34.28125 4.890625 \r\nL 34.28125 0 \r\nL 4.984375 0 \r\nL 4.984375 4.890625 \r\nL 9.859375 4.890625 \r\nL 9.859375 68.015625 \r\nL 4.984375 68.015625 \r\nz\r\n\" id=\"DejaVuSans-120128\"/>\r\n       <path d=\"M 39.359375 74.21875 \r\nQ 54.6875 74.21875 63.875 63.96875 \r\nQ 73.140625 53.5625 73.140625 36.375 \r\nQ 73.140625 19.234375 63.921875 8.890625 \r\nQ 54.6875 -1.421875 39.359375 -1.421875 \r\nQ 23.96875 -1.421875 14.796875 8.890625 \r\nQ 5.5625 19.140625 5.5625 36.375 \r\nQ 5.5625 53.65625 14.796875 63.96875 \r\nQ 23.96875 74.21875 39.359375 74.21875 \r\nz\r\nM 27.4375 6.15625 \r\nQ 32.71875 3.71875 39.359375 3.71875 \r\nQ 46 3.71875 51.265625 6.15625 \r\nL 51.265625 66.65625 \r\nQ 46 69.09375 39.359375 69.09375 \r\nQ 32.71875 69.09375 27.4375 66.65625 \r\nz\r\nM 22.3125 9.328125 \r\nL 22.3125 63.421875 \r\nQ 20.5625 62.015625 19 60.203125 \r\nQ 11.421875 51.3125 11.421875 36.375 \r\nQ 11.421875 21.4375 19 12.59375 \r\nQ 20.5625 10.796875 22.3125 9.328125 \r\nz\r\nM 56.390625 63.375 \r\nL 56.390625 9.421875 \r\nQ 58.109375 10.84375 59.625 12.59375 \r\nQ 67.1875 21.484375 67.1875 36.390625 \r\nQ 67.1875 51.3125 59.625 60.203125 \r\nQ 58.109375 61.96875 56.390625 63.375 \r\nz\r\nM 5.5625 36.375 \r\nz\r\n\" id=\"DejaVuSans-120134\"/>\r\n      </defs>\r\n      <g transform=\"translate(237.969333 318.154063)rotate(-90)scale(0.1 -0.1)\">\r\n       <use xlink:href=\"#DejaVuSans-120120\"/>\r\n       <use x=\"74.072266\" xlink:href=\"#DejaVuSans-120139\"/>\r\n       <use x=\"144.873047\" xlink:href=\"#DejaVuSans-120124\"/>\r\n       <use x=\"217.822266\" xlink:href=\"#DejaVuSans-8469\"/>\r\n       <use x=\"297.900391\" xlink:href=\"#DejaVuSans-8450\"/>\r\n       <use x=\"367.724609\" xlink:href=\"#DejaVuSans-120128\"/>\r\n       <use x=\"406.982422\" xlink:href=\"#DejaVuSans-120134\"/>\r\n       <use x=\"485.693359\" xlink:href=\"#DejaVuSans-8469\"/>\r\n      </g>\r\n     </g>\r\n    </g>\r\n    <g id=\"xtick_13\">\r\n     <g id=\"line2d_25\">\r\n      <path clip-path=\"url(#pa4374b808f)\" d=\"M 251.229097 228.14 \r\nL 251.229097 10.7 \r\n\" style=\"fill:none;stroke:#c0c0c0;stroke-linecap:square;stroke-width:0.8;\"/>\r\n     </g>\r\n     <g id=\"line2d_26\">\r\n      <g>\r\n       <use style=\"stroke:#000000;stroke-width:0.8;\" x=\"251.229097\" xlink:href=\"#m41b83d92b9\" y=\"228.14\"/>\r\n      </g>\r\n     </g>\r\n     <g id=\"text_13\">\r\n      <!-- Hoy -->\r\n      <defs>\r\n       <path d=\"M 9.8125 72.90625 \r\nL 19.671875 72.90625 \r\nL 19.671875 43.015625 \r\nL 55.515625 43.015625 \r\nL 55.515625 72.90625 \r\nL 65.375 72.90625 \r\nL 65.375 0 \r\nL 55.515625 0 \r\nL 55.515625 34.71875 \r\nL 19.671875 34.71875 \r\nL 19.671875 0 \r\nL 9.8125 0 \r\nz\r\n\" id=\"DejaVuSans-72\"/>\r\n      </defs>\r\n      <g transform=\"translate(253.988472 254.697812)rotate(-90)scale(0.1 -0.1)\">\r\n       <use xlink:href=\"#DejaVuSans-72\"/>\r\n       <use x=\"75.195312\" xlink:href=\"#DejaVuSans-111\"/>\r\n       <use x=\"136.376953\" xlink:href=\"#DejaVuSans-121\"/>\r\n      </g>\r\n     </g>\r\n    </g>\r\n    <g id=\"xtick_14\">\r\n     <g id=\"line2d_27\">\r\n      <path clip-path=\"url(#pa4374b808f)\" d=\"M 267.248236 228.14 \r\nL 267.248236 10.7 \r\n\" style=\"fill:none;stroke:#c0c0c0;stroke-linecap:square;stroke-width:0.8;\"/>\r\n     </g>\r\n     <g id=\"line2d_28\">\r\n      <g>\r\n       <use style=\"stroke:#000000;stroke-width:0.8;\" x=\"267.248236\" xlink:href=\"#m41b83d92b9\" y=\"228.14\"/>\r\n      </g>\r\n     </g>\r\n     <g id=\"text_14\">\r\n      <!-- domingo -->\r\n      <defs>\r\n       <path d=\"M 45.40625 46.390625 \r\nL 45.40625 75.984375 \r\nL 54.390625 75.984375 \r\nL 54.390625 0 \r\nL 45.40625 0 \r\nL 45.40625 8.203125 \r\nQ 42.578125 3.328125 38.25 0.953125 \r\nQ 33.9375 -1.421875 27.875 -1.421875 \r\nQ 17.96875 -1.421875 11.734375 6.484375 \r\nQ 5.515625 14.40625 5.515625 27.296875 \r\nQ 5.515625 40.1875 11.734375 48.09375 \r\nQ 17.96875 56 27.875 56 \r\nQ 33.9375 56 38.25 53.625 \r\nQ 42.578125 51.265625 45.40625 46.390625 \r\nz\r\nM 14.796875 27.296875 \r\nQ 14.796875 17.390625 18.875 11.75 \r\nQ 22.953125 6.109375 30.078125 6.109375 \r\nQ 37.203125 6.109375 41.296875 11.75 \r\nQ 45.40625 17.390625 45.40625 27.296875 \r\nQ 45.40625 37.203125 41.296875 42.84375 \r\nQ 37.203125 48.484375 30.078125 48.484375 \r\nQ 22.953125 48.484375 18.875 42.84375 \r\nQ 14.796875 37.203125 14.796875 27.296875 \r\nz\r\n\" id=\"DejaVuSans-100\"/>\r\n       <path d=\"M 52 44.1875 \r\nQ 55.375 50.25 60.0625 53.125 \r\nQ 64.75 56 71.09375 56 \r\nQ 79.640625 56 84.28125 50.015625 \r\nQ 88.921875 44.046875 88.921875 33.015625 \r\nL 88.921875 0 \r\nL 79.890625 0 \r\nL 79.890625 32.71875 \r\nQ 79.890625 40.578125 77.09375 44.375 \r\nQ 74.3125 48.1875 68.609375 48.1875 \r\nQ 61.625 48.1875 57.5625 43.546875 \r\nQ 53.515625 38.921875 53.515625 30.90625 \r\nL 53.515625 0 \r\nL 44.484375 0 \r\nL 44.484375 32.71875 \r\nQ 44.484375 40.625 41.703125 44.40625 \r\nQ 38.921875 48.1875 33.109375 48.1875 \r\nQ 26.21875 48.1875 22.15625 43.53125 \r\nQ 18.109375 38.875 18.109375 30.90625 \r\nL 18.109375 0 \r\nL 9.078125 0 \r\nL 9.078125 54.6875 \r\nL 18.109375 54.6875 \r\nL 18.109375 46.1875 \r\nQ 21.1875 51.21875 25.484375 53.609375 \r\nQ 29.78125 56 35.6875 56 \r\nQ 41.65625 56 45.828125 52.96875 \r\nQ 50 49.953125 52 44.1875 \r\nz\r\n\" id=\"DejaVuSans-109\"/>\r\n       <path d=\"M 45.40625 27.984375 \r\nQ 45.40625 37.75 41.375 43.109375 \r\nQ 37.359375 48.484375 30.078125 48.484375 \r\nQ 22.859375 48.484375 18.828125 43.109375 \r\nQ 14.796875 37.75 14.796875 27.984375 \r\nQ 14.796875 18.265625 18.828125 12.890625 \r\nQ 22.859375 7.515625 30.078125 7.515625 \r\nQ 37.359375 7.515625 41.375 12.890625 \r\nQ 45.40625 18.265625 45.40625 27.984375 \r\nz\r\nM 54.390625 6.78125 \r\nQ 54.390625 -7.171875 48.1875 -13.984375 \r\nQ 42 -20.796875 29.203125 -20.796875 \r\nQ 24.46875 -20.796875 20.265625 -20.09375 \r\nQ 16.0625 -19.390625 12.109375 -17.921875 \r\nL 12.109375 -9.1875 \r\nQ 16.0625 -11.328125 19.921875 -12.34375 \r\nQ 23.78125 -13.375 27.78125 -13.375 \r\nQ 36.625 -13.375 41.015625 -8.765625 \r\nQ 45.40625 -4.15625 45.40625 5.171875 \r\nL 45.40625 9.625 \r\nQ 42.625 4.78125 38.28125 2.390625 \r\nQ 33.9375 0 27.875 0 \r\nQ 17.828125 0 11.671875 7.65625 \r\nQ 5.515625 15.328125 5.515625 27.984375 \r\nQ 5.515625 40.671875 11.671875 48.328125 \r\nQ 17.828125 56 27.875 56 \r\nQ 33.9375 56 38.28125 53.609375 \r\nQ 42.625 51.21875 45.40625 46.390625 \r\nL 45.40625 54.6875 \r\nL 54.390625 54.6875 \r\nz\r\n\" id=\"DejaVuSans-103\"/>\r\n      </defs>\r\n      <g transform=\"translate(270.007611 278.930625)rotate(-90)scale(0.1 -0.1)\">\r\n       <use xlink:href=\"#DejaVuSans-100\"/>\r\n       <use x=\"63.476562\" xlink:href=\"#DejaVuSans-111\"/>\r\n       <use x=\"124.658203\" xlink:href=\"#DejaVuSans-109\"/>\r\n       <use x=\"222.070312\" xlink:href=\"#DejaVuSans-105\"/>\r\n       <use x=\"249.853516\" xlink:href=\"#DejaVuSans-110\"/>\r\n       <use x=\"313.232422\" xlink:href=\"#DejaVuSans-103\"/>\r\n       <use x=\"376.708984\" xlink:href=\"#DejaVuSans-111\"/>\r\n      </g>\r\n     </g>\r\n    </g>\r\n    <g id=\"xtick_15\">\r\n     <g id=\"line2d_29\">\r\n      <path clip-path=\"url(#pa4374b808f)\" d=\"M 283.267374 228.14 \r\nL 283.267374 10.7 \r\n\" style=\"fill:none;stroke:#c0c0c0;stroke-linecap:square;stroke-width:0.8;\"/>\r\n     </g>\r\n     <g id=\"line2d_30\">\r\n      <g>\r\n       <use style=\"stroke:#000000;stroke-width:0.8;\" x=\"283.267374\" xlink:href=\"#m41b83d92b9\" y=\"228.14\"/>\r\n      </g>\r\n     </g>\r\n     <g id=\"text_15\">\r\n      <!-- se -->\r\n      <g transform=\"translate(286.026749 246.5025)rotate(-90)scale(0.1 -0.1)\">\r\n       <use xlink:href=\"#DejaVuSans-115\"/>\r\n       <use x=\"52.099609\" xlink:href=\"#DejaVuSans-101\"/>\r\n      </g>\r\n     </g>\r\n    </g>\r\n    <g id=\"xtick_16\">\r\n     <g id=\"line2d_31\">\r\n      <path clip-path=\"url(#pa4374b808f)\" d=\"M 299.286513 228.14 \r\nL 299.286513 10.7 \r\n\" style=\"fill:none;stroke:#c0c0c0;stroke-linecap:square;stroke-width:0.8;\"/>\r\n     </g>\r\n     <g id=\"line2d_32\">\r\n      <g>\r\n       <use style=\"stroke:#000000;stroke-width:0.8;\" x=\"299.286513\" xlink:href=\"#m41b83d92b9\" y=\"228.14\"/>\r\n      </g>\r\n     </g>\r\n     <g id=\"text_16\">\r\n      <!-- come -->\r\n      <g transform=\"translate(302.045888 262.650937)rotate(-90)scale(0.1 -0.1)\">\r\n       <use xlink:href=\"#DejaVuSans-99\"/>\r\n       <use x=\"54.980469\" xlink:href=\"#DejaVuSans-111\"/>\r\n       <use x=\"116.162109\" xlink:href=\"#DejaVuSans-109\"/>\r\n       <use x=\"213.574219\" xlink:href=\"#DejaVuSans-101\"/>\r\n      </g>\r\n     </g>\r\n    </g>\r\n    <g id=\"xtick_17\">\r\n     <g id=\"line2d_33\">\r\n      <path clip-path=\"url(#pa4374b808f)\" d=\"M 315.305652 228.14 \r\nL 315.305652 10.7 \r\n\" style=\"fill:none;stroke:#c0c0c0;stroke-linecap:square;stroke-width:0.8;\"/>\r\n     </g>\r\n     <g id=\"line2d_34\">\r\n      <g>\r\n       <use style=\"stroke:#000000;stroke-width:0.8;\" x=\"315.305652\" xlink:href=\"#m41b83d92b9\" y=\"228.14\"/>\r\n      </g>\r\n     </g>\r\n     <g id=\"text_17\">\r\n      <!-- diferente -->\r\n      <defs>\r\n       <path d=\"M 37.109375 75.984375 \r\nL 37.109375 68.5 \r\nL 28.515625 68.5 \r\nQ 23.6875 68.5 21.796875 66.546875 \r\nQ 19.921875 64.59375 19.921875 59.515625 \r\nL 19.921875 54.6875 \r\nL 34.71875 54.6875 \r\nL 34.71875 47.703125 \r\nL 19.921875 47.703125 \r\nL 19.921875 0 \r\nL 10.890625 0 \r\nL 10.890625 47.703125 \r\nL 2.296875 47.703125 \r\nL 2.296875 54.6875 \r\nL 10.890625 54.6875 \r\nL 10.890625 58.5 \r\nQ 10.890625 67.625 15.140625 71.796875 \r\nQ 19.390625 75.984375 28.609375 75.984375 \r\nz\r\n\" id=\"DejaVuSans-102\"/>\r\n      </defs>\r\n      <g transform=\"translate(318.065027 280.611875)rotate(-90)scale(0.1 -0.1)\">\r\n       <use xlink:href=\"#DejaVuSans-100\"/>\r\n       <use x=\"63.476562\" xlink:href=\"#DejaVuSans-105\"/>\r\n       <use x=\"91.259766\" xlink:href=\"#DejaVuSans-102\"/>\r\n       <use x=\"126.464844\" xlink:href=\"#DejaVuSans-101\"/>\r\n       <use x=\"187.988281\" xlink:href=\"#DejaVuSans-114\"/>\r\n       <use x=\"229.070312\" xlink:href=\"#DejaVuSans-101\"/>\r\n       <use x=\"290.59375\" xlink:href=\"#DejaVuSans-110\"/>\r\n       <use x=\"353.972656\" xlink:href=\"#DejaVuSans-116\"/>\r\n       <use x=\"393.181641\" xlink:href=\"#DejaVuSans-101\"/>\r\n      </g>\r\n     </g>\r\n    </g>\r\n    <g id=\"xtick_18\">\r\n     <g id=\"line2d_35\">\r\n      <path clip-path=\"url(#pa4374b808f)\" d=\"M 331.324791 228.14 \r\nL 331.324791 10.7 \r\n\" style=\"fill:none;stroke:#c0c0c0;stroke-linecap:square;stroke-width:0.8;\"/>\r\n     </g>\r\n     <g id=\"line2d_36\">\r\n      <g>\r\n       <use style=\"stroke:#000000;stroke-width:0.8;\" x=\"331.324791\" xlink:href=\"#m41b83d92b9\" y=\"228.14\"/>\r\n      </g>\r\n     </g>\r\n     <g id=\"text_18\">\r\n      <!-- somos -->\r\n      <g transform=\"translate(334.084166 267.536875)rotate(-90)scale(0.1 -0.1)\">\r\n       <use xlink:href=\"#DejaVuSans-115\"/>\r\n       <use x=\"52.099609\" xlink:href=\"#DejaVuSans-111\"/>\r\n       <use x=\"113.28125\" xlink:href=\"#DejaVuSans-109\"/>\r\n       <use x=\"210.693359\" xlink:href=\"#DejaVuSans-111\"/>\r\n       <use x=\"271.875\" xlink:href=\"#DejaVuSans-115\"/>\r\n      </g>\r\n     </g>\r\n    </g>\r\n    <g id=\"xtick_19\">\r\n     <g id=\"line2d_37\">\r\n      <path clip-path=\"url(#pa4374b808f)\" d=\"M 347.343929 228.14 \r\nL 347.343929 10.7 \r\n\" style=\"fill:none;stroke:#c0c0c0;stroke-linecap:square;stroke-width:0.8;\"/>\r\n     </g>\r\n     <g id=\"line2d_38\">\r\n      <g>\r\n       <use style=\"stroke:#000000;stroke-width:0.8;\" x=\"347.343929\" xlink:href=\"#m41b83d92b9\" y=\"228.14\"/>\r\n      </g>\r\n     </g>\r\n     <g id=\"text_19\">\r\n      <!-- los -->\r\n      <g transform=\"translate(350.103304 249.24625)rotate(-90)scale(0.1 -0.1)\">\r\n       <use xlink:href=\"#DejaVuSans-108\"/>\r\n       <use x=\"27.783203\" xlink:href=\"#DejaVuSans-111\"/>\r\n       <use x=\"88.964844\" xlink:href=\"#DejaVuSans-115\"/>\r\n      </g>\r\n     </g>\r\n    </g>\r\n    <g id=\"xtick_20\">\r\n     <g id=\"line2d_39\">\r\n      <path clip-path=\"url(#pa4374b808f)\" d=\"M 363.363068 228.14 \r\nL 363.363068 10.7 \r\n\" style=\"fill:none;stroke:#c0c0c0;stroke-linecap:square;stroke-width:0.8;\"/>\r\n     </g>\r\n     <g id=\"line2d_40\">\r\n      <g>\r\n       <use style=\"stroke:#000000;stroke-width:0.8;\" x=\"363.363068\" xlink:href=\"#m41b83d92b9\" y=\"228.14\"/>\r\n      </g>\r\n     </g>\r\n     <g id=\"text_20\">\r\n      <!-- indicados -->\r\n      <g transform=\"translate(366.122443 282.685313)rotate(-90)scale(0.1 -0.1)\">\r\n       <use xlink:href=\"#DejaVuSans-105\"/>\r\n       <use x=\"27.783203\" xlink:href=\"#DejaVuSans-110\"/>\r\n       <use x=\"91.162109\" xlink:href=\"#DejaVuSans-100\"/>\r\n       <use x=\"154.638672\" xlink:href=\"#DejaVuSans-105\"/>\r\n       <use x=\"182.421875\" xlink:href=\"#DejaVuSans-99\"/>\r\n       <use x=\"237.402344\" xlink:href=\"#DejaVuSans-97\"/>\r\n       <use x=\"298.681641\" xlink:href=\"#DejaVuSans-100\"/>\r\n       <use x=\"362.158203\" xlink:href=\"#DejaVuSans-111\"/>\r\n       <use x=\"423.339844\" xlink:href=\"#DejaVuSans-115\"/>\r\n      </g>\r\n     </g>\r\n    </g>\r\n    <g id=\"text_21\">\r\n     <!-- Samples -->\r\n     <defs>\r\n      <path d=\"M 53.515625 70.515625 \r\nL 53.515625 60.890625 \r\nQ 47.90625 63.578125 42.921875 64.890625 \r\nQ 37.9375 66.21875 33.296875 66.21875 \r\nQ 25.25 66.21875 20.875 63.09375 \r\nQ 16.5 59.96875 16.5 54.203125 \r\nQ 16.5 49.359375 19.40625 46.890625 \r\nQ 22.3125 44.4375 30.421875 42.921875 \r\nL 36.375 41.703125 \r\nQ 47.40625 39.59375 52.65625 34.296875 \r\nQ 57.90625 29 57.90625 20.125 \r\nQ 57.90625 9.515625 50.796875 4.046875 \r\nQ 43.703125 -1.421875 29.984375 -1.421875 \r\nQ 24.8125 -1.421875 18.96875 -0.25 \r\nQ 13.140625 0.921875 6.890625 3.21875 \r\nL 6.890625 13.375 \r\nQ 12.890625 10.015625 18.65625 8.296875 \r\nQ 24.421875 6.59375 29.984375 6.59375 \r\nQ 38.421875 6.59375 43.015625 9.90625 \r\nQ 47.609375 13.234375 47.609375 19.390625 \r\nQ 47.609375 24.75 44.3125 27.78125 \r\nQ 41.015625 30.8125 33.5 32.328125 \r\nL 27.484375 33.5 \r\nQ 16.453125 35.6875 11.515625 40.375 \r\nQ 6.59375 45.0625 6.59375 53.421875 \r\nQ 6.59375 63.09375 13.40625 68.65625 \r\nQ 20.21875 74.21875 32.171875 74.21875 \r\nQ 37.3125 74.21875 42.625 73.28125 \r\nQ 47.953125 72.359375 53.515625 70.515625 \r\nz\r\n\" id=\"DejaVuSans-83\"/>\r\n     </defs>\r\n     <g transform=\"translate(189.828125 329.7525)scale(0.1 -0.1)\">\r\n      <use xlink:href=\"#DejaVuSans-83\"/>\r\n      <use x=\"63.476562\" xlink:href=\"#DejaVuSans-97\"/>\r\n      <use x=\"124.755859\" xlink:href=\"#DejaVuSans-109\"/>\r\n      <use x=\"222.167969\" xlink:href=\"#DejaVuSans-112\"/>\r\n      <use x=\"285.644531\" xlink:href=\"#DejaVuSans-108\"/>\r\n      <use x=\"313.427734\" xlink:href=\"#DejaVuSans-101\"/>\r\n      <use x=\"374.951172\" xlink:href=\"#DejaVuSans-115\"/>\r\n     </g>\r\n    </g>\r\n   </g>\r\n   <g id=\"matplotlib.axis_2\">\r\n    <g id=\"ytick_1\">\r\n     <g id=\"line2d_41\">\r\n      <path clip-path=\"url(#pa4374b808f)\" d=\"M 43.78125 218.256364 \r\nL 378.58125 218.256364 \r\n\" style=\"fill:none;stroke:#c0c0c0;stroke-linecap:square;stroke-width:0.8;\"/>\r\n     </g>\r\n     <g id=\"line2d_42\">\r\n      <defs>\r\n       <path d=\"M 0 0 \r\nL -3.5 0 \r\n\" id=\"m126c0e8ec3\" style=\"stroke:#000000;stroke-width:0.8;\"/>\r\n      </defs>\r\n      <g>\r\n       <use style=\"stroke:#000000;stroke-width:0.8;\" x=\"43.78125\" xlink:href=\"#m126c0e8ec3\" y=\"218.256364\"/>\r\n      </g>\r\n     </g>\r\n     <g id=\"text_22\">\r\n      <!-- 1.0 -->\r\n      <defs>\r\n       <path d=\"M 12.40625 8.296875 \r\nL 28.515625 8.296875 \r\nL 28.515625 63.921875 \r\nL 10.984375 60.40625 \r\nL 10.984375 69.390625 \r\nL 28.421875 72.90625 \r\nL 38.28125 72.90625 \r\nL 38.28125 8.296875 \r\nL 54.390625 8.296875 \r\nL 54.390625 0 \r\nL 12.40625 0 \r\nz\r\n\" id=\"DejaVuSans-49\"/>\r\n       <path d=\"M 31.78125 66.40625 \r\nQ 24.171875 66.40625 20.328125 58.90625 \r\nQ 16.5 51.421875 16.5 36.375 \r\nQ 16.5 21.390625 20.328125 13.890625 \r\nQ 24.171875 6.390625 31.78125 6.390625 \r\nQ 39.453125 6.390625 43.28125 13.890625 \r\nQ 47.125 21.390625 47.125 36.375 \r\nQ 47.125 51.421875 43.28125 58.90625 \r\nQ 39.453125 66.40625 31.78125 66.40625 \r\nz\r\nM 31.78125 74.21875 \r\nQ 44.046875 74.21875 50.515625 64.515625 \r\nQ 56.984375 54.828125 56.984375 36.375 \r\nQ 56.984375 17.96875 50.515625 8.265625 \r\nQ 44.046875 -1.421875 31.78125 -1.421875 \r\nQ 19.53125 -1.421875 13.0625 8.265625 \r\nQ 6.59375 17.96875 6.59375 36.375 \r\nQ 6.59375 54.828125 13.0625 64.515625 \r\nQ 19.53125 74.21875 31.78125 74.21875 \r\nz\r\n\" id=\"DejaVuSans-48\"/>\r\n      </defs>\r\n      <g transform=\"translate(20.878125 222.055582)scale(0.1 -0.1)\">\r\n       <use xlink:href=\"#DejaVuSans-49\"/>\r\n       <use x=\"63.623047\" xlink:href=\"#DejaVuSans-46\"/>\r\n       <use x=\"95.410156\" xlink:href=\"#DejaVuSans-48\"/>\r\n      </g>\r\n     </g>\r\n    </g>\r\n    <g id=\"ytick_2\">\r\n     <g id=\"line2d_43\">\r\n      <path clip-path=\"url(#pa4374b808f)\" d=\"M 43.78125 185.310909 \r\nL 378.58125 185.310909 \r\n\" style=\"fill:none;stroke:#c0c0c0;stroke-linecap:square;stroke-width:0.8;\"/>\r\n     </g>\r\n     <g id=\"line2d_44\">\r\n      <g>\r\n       <use style=\"stroke:#000000;stroke-width:0.8;\" x=\"43.78125\" xlink:href=\"#m126c0e8ec3\" y=\"185.310909\"/>\r\n      </g>\r\n     </g>\r\n     <g id=\"text_23\">\r\n      <!-- 1.5 -->\r\n      <defs>\r\n       <path d=\"M 10.796875 72.90625 \r\nL 49.515625 72.90625 \r\nL 49.515625 64.59375 \r\nL 19.828125 64.59375 \r\nL 19.828125 46.734375 \r\nQ 21.96875 47.46875 24.109375 47.828125 \r\nQ 26.265625 48.1875 28.421875 48.1875 \r\nQ 40.625 48.1875 47.75 41.5 \r\nQ 54.890625 34.8125 54.890625 23.390625 \r\nQ 54.890625 11.625 47.5625 5.09375 \r\nQ 40.234375 -1.421875 26.90625 -1.421875 \r\nQ 22.3125 -1.421875 17.546875 -0.640625 \r\nQ 12.796875 0.140625 7.71875 1.703125 \r\nL 7.71875 11.625 \r\nQ 12.109375 9.234375 16.796875 8.0625 \r\nQ 21.484375 6.890625 26.703125 6.890625 \r\nQ 35.15625 6.890625 40.078125 11.328125 \r\nQ 45.015625 15.765625 45.015625 23.390625 \r\nQ 45.015625 31 40.078125 35.4375 \r\nQ 35.15625 39.890625 26.703125 39.890625 \r\nQ 22.75 39.890625 18.8125 39.015625 \r\nQ 14.890625 38.140625 10.796875 36.28125 \r\nz\r\n\" id=\"DejaVuSans-53\"/>\r\n      </defs>\r\n      <g transform=\"translate(20.878125 189.110128)scale(0.1 -0.1)\">\r\n       <use xlink:href=\"#DejaVuSans-49\"/>\r\n       <use x=\"63.623047\" xlink:href=\"#DejaVuSans-46\"/>\r\n       <use x=\"95.410156\" xlink:href=\"#DejaVuSans-53\"/>\r\n      </g>\r\n     </g>\r\n    </g>\r\n    <g id=\"ytick_3\">\r\n     <g id=\"line2d_45\">\r\n      <path clip-path=\"url(#pa4374b808f)\" d=\"M 43.78125 152.365455 \r\nL 378.58125 152.365455 \r\n\" style=\"fill:none;stroke:#c0c0c0;stroke-linecap:square;stroke-width:0.8;\"/>\r\n     </g>\r\n     <g id=\"line2d_46\">\r\n      <g>\r\n       <use style=\"stroke:#000000;stroke-width:0.8;\" x=\"43.78125\" xlink:href=\"#m126c0e8ec3\" y=\"152.365455\"/>\r\n      </g>\r\n     </g>\r\n     <g id=\"text_24\">\r\n      <!-- 2.0 -->\r\n      <defs>\r\n       <path d=\"M 19.1875 8.296875 \r\nL 53.609375 8.296875 \r\nL 53.609375 0 \r\nL 7.328125 0 \r\nL 7.328125 8.296875 \r\nQ 12.9375 14.109375 22.625 23.890625 \r\nQ 32.328125 33.6875 34.8125 36.53125 \r\nQ 39.546875 41.84375 41.421875 45.53125 \r\nQ 43.3125 49.21875 43.3125 52.78125 \r\nQ 43.3125 58.59375 39.234375 62.25 \r\nQ 35.15625 65.921875 28.609375 65.921875 \r\nQ 23.96875 65.921875 18.8125 64.3125 \r\nQ 13.671875 62.703125 7.8125 59.421875 \r\nL 7.8125 69.390625 \r\nQ 13.765625 71.78125 18.9375 73 \r\nQ 24.125 74.21875 28.421875 74.21875 \r\nQ 39.75 74.21875 46.484375 68.546875 \r\nQ 53.21875 62.890625 53.21875 53.421875 \r\nQ 53.21875 48.921875 51.53125 44.890625 \r\nQ 49.859375 40.875 45.40625 35.40625 \r\nQ 44.1875 33.984375 37.640625 27.21875 \r\nQ 31.109375 20.453125 19.1875 8.296875 \r\nz\r\n\" id=\"DejaVuSans-50\"/>\r\n      </defs>\r\n      <g transform=\"translate(20.878125 156.164673)scale(0.1 -0.1)\">\r\n       <use xlink:href=\"#DejaVuSans-50\"/>\r\n       <use x=\"63.623047\" xlink:href=\"#DejaVuSans-46\"/>\r\n       <use x=\"95.410156\" xlink:href=\"#DejaVuSans-48\"/>\r\n      </g>\r\n     </g>\r\n    </g>\r\n    <g id=\"ytick_4\">\r\n     <g id=\"line2d_47\">\r\n      <path clip-path=\"url(#pa4374b808f)\" d=\"M 43.78125 119.42 \r\nL 378.58125 119.42 \r\n\" style=\"fill:none;stroke:#c0c0c0;stroke-linecap:square;stroke-width:0.8;\"/>\r\n     </g>\r\n     <g id=\"line2d_48\">\r\n      <g>\r\n       <use style=\"stroke:#000000;stroke-width:0.8;\" x=\"43.78125\" xlink:href=\"#m126c0e8ec3\" y=\"119.42\"/>\r\n      </g>\r\n     </g>\r\n     <g id=\"text_25\">\r\n      <!-- 2.5 -->\r\n      <g transform=\"translate(20.878125 123.219219)scale(0.1 -0.1)\">\r\n       <use xlink:href=\"#DejaVuSans-50\"/>\r\n       <use x=\"63.623047\" xlink:href=\"#DejaVuSans-46\"/>\r\n       <use x=\"95.410156\" xlink:href=\"#DejaVuSans-53\"/>\r\n      </g>\r\n     </g>\r\n    </g>\r\n    <g id=\"ytick_5\">\r\n     <g id=\"line2d_49\">\r\n      <path clip-path=\"url(#pa4374b808f)\" d=\"M 43.78125 86.474545 \r\nL 378.58125 86.474545 \r\n\" style=\"fill:none;stroke:#c0c0c0;stroke-linecap:square;stroke-width:0.8;\"/>\r\n     </g>\r\n     <g id=\"line2d_50\">\r\n      <g>\r\n       <use style=\"stroke:#000000;stroke-width:0.8;\" x=\"43.78125\" xlink:href=\"#m126c0e8ec3\" y=\"86.474545\"/>\r\n      </g>\r\n     </g>\r\n     <g id=\"text_26\">\r\n      <!-- 3.0 -->\r\n      <defs>\r\n       <path d=\"M 40.578125 39.3125 \r\nQ 47.65625 37.796875 51.625 33 \r\nQ 55.609375 28.21875 55.609375 21.1875 \r\nQ 55.609375 10.40625 48.1875 4.484375 \r\nQ 40.765625 -1.421875 27.09375 -1.421875 \r\nQ 22.515625 -1.421875 17.65625 -0.515625 \r\nQ 12.796875 0.390625 7.625 2.203125 \r\nL 7.625 11.71875 \r\nQ 11.71875 9.328125 16.59375 8.109375 \r\nQ 21.484375 6.890625 26.8125 6.890625 \r\nQ 36.078125 6.890625 40.9375 10.546875 \r\nQ 45.796875 14.203125 45.796875 21.1875 \r\nQ 45.796875 27.640625 41.28125 31.265625 \r\nQ 36.765625 34.90625 28.71875 34.90625 \r\nL 20.21875 34.90625 \r\nL 20.21875 43.015625 \r\nL 29.109375 43.015625 \r\nQ 36.375 43.015625 40.234375 45.921875 \r\nQ 44.09375 48.828125 44.09375 54.296875 \r\nQ 44.09375 59.90625 40.109375 62.90625 \r\nQ 36.140625 65.921875 28.71875 65.921875 \r\nQ 24.65625 65.921875 20.015625 65.03125 \r\nQ 15.375 64.15625 9.8125 62.3125 \r\nL 9.8125 71.09375 \r\nQ 15.4375 72.65625 20.34375 73.4375 \r\nQ 25.25 74.21875 29.59375 74.21875 \r\nQ 40.828125 74.21875 47.359375 69.109375 \r\nQ 53.90625 64.015625 53.90625 55.328125 \r\nQ 53.90625 49.265625 50.4375 45.09375 \r\nQ 46.96875 40.921875 40.578125 39.3125 \r\nz\r\n\" id=\"DejaVuSans-51\"/>\r\n      </defs>\r\n      <g transform=\"translate(20.878125 90.273764)scale(0.1 -0.1)\">\r\n       <use xlink:href=\"#DejaVuSans-51\"/>\r\n       <use x=\"63.623047\" xlink:href=\"#DejaVuSans-46\"/>\r\n       <use x=\"95.410156\" xlink:href=\"#DejaVuSans-48\"/>\r\n      </g>\r\n     </g>\r\n    </g>\r\n    <g id=\"ytick_6\">\r\n     <g id=\"line2d_51\">\r\n      <path clip-path=\"url(#pa4374b808f)\" d=\"M 43.78125 53.529091 \r\nL 378.58125 53.529091 \r\n\" style=\"fill:none;stroke:#c0c0c0;stroke-linecap:square;stroke-width:0.8;\"/>\r\n     </g>\r\n     <g id=\"line2d_52\">\r\n      <g>\r\n       <use style=\"stroke:#000000;stroke-width:0.8;\" x=\"43.78125\" xlink:href=\"#m126c0e8ec3\" y=\"53.529091\"/>\r\n      </g>\r\n     </g>\r\n     <g id=\"text_27\">\r\n      <!-- 3.5 -->\r\n      <g transform=\"translate(20.878125 57.32831)scale(0.1 -0.1)\">\r\n       <use xlink:href=\"#DejaVuSans-51\"/>\r\n       <use x=\"63.623047\" xlink:href=\"#DejaVuSans-46\"/>\r\n       <use x=\"95.410156\" xlink:href=\"#DejaVuSans-53\"/>\r\n      </g>\r\n     </g>\r\n    </g>\r\n    <g id=\"ytick_7\">\r\n     <g id=\"line2d_53\">\r\n      <path clip-path=\"url(#pa4374b808f)\" d=\"M 43.78125 20.583636 \r\nL 378.58125 20.583636 \r\n\" style=\"fill:none;stroke:#c0c0c0;stroke-linecap:square;stroke-width:0.8;\"/>\r\n     </g>\r\n     <g id=\"line2d_54\">\r\n      <g>\r\n       <use style=\"stroke:#000000;stroke-width:0.8;\" x=\"43.78125\" xlink:href=\"#m126c0e8ec3\" y=\"20.583636\"/>\r\n      </g>\r\n     </g>\r\n     <g id=\"text_28\">\r\n      <!-- 4.0 -->\r\n      <defs>\r\n       <path d=\"M 37.796875 64.3125 \r\nL 12.890625 25.390625 \r\nL 37.796875 25.390625 \r\nz\r\nM 35.203125 72.90625 \r\nL 47.609375 72.90625 \r\nL 47.609375 25.390625 \r\nL 58.015625 25.390625 \r\nL 58.015625 17.1875 \r\nL 47.609375 17.1875 \r\nL 47.609375 0 \r\nL 37.796875 0 \r\nL 37.796875 17.1875 \r\nL 4.890625 17.1875 \r\nL 4.890625 26.703125 \r\nz\r\n\" id=\"DejaVuSans-52\"/>\r\n      </defs>\r\n      <g transform=\"translate(20.878125 24.382855)scale(0.1 -0.1)\">\r\n       <use xlink:href=\"#DejaVuSans-52\"/>\r\n       <use x=\"63.623047\" xlink:href=\"#DejaVuSans-46\"/>\r\n       <use x=\"95.410156\" xlink:href=\"#DejaVuSans-48\"/>\r\n      </g>\r\n     </g>\r\n    </g>\r\n    <g id=\"text_29\">\r\n     <!-- Counts -->\r\n     <defs>\r\n      <path d=\"M 64.40625 67.28125 \r\nL 64.40625 56.890625 \r\nQ 59.421875 61.53125 53.78125 63.8125 \r\nQ 48.140625 66.109375 41.796875 66.109375 \r\nQ 29.296875 66.109375 22.65625 58.46875 \r\nQ 16.015625 50.828125 16.015625 36.375 \r\nQ 16.015625 21.96875 22.65625 14.328125 \r\nQ 29.296875 6.6875 41.796875 6.6875 \r\nQ 48.140625 6.6875 53.78125 8.984375 \r\nQ 59.421875 11.28125 64.40625 15.921875 \r\nL 64.40625 5.609375 \r\nQ 59.234375 2.09375 53.4375 0.328125 \r\nQ 47.65625 -1.421875 41.21875 -1.421875 \r\nQ 24.65625 -1.421875 15.125 8.703125 \r\nQ 5.609375 18.84375 5.609375 36.375 \r\nQ 5.609375 53.953125 15.125 64.078125 \r\nQ 24.65625 74.21875 41.21875 74.21875 \r\nQ 47.75 74.21875 53.53125 72.484375 \r\nQ 59.328125 70.75 64.40625 67.28125 \r\nz\r\n\" id=\"DejaVuSans-67\"/>\r\n     </defs>\r\n     <g transform=\"translate(14.798438 136.873125)rotate(-90)scale(0.1 -0.1)\">\r\n      <use xlink:href=\"#DejaVuSans-67\"/>\r\n      <use x=\"69.824219\" xlink:href=\"#DejaVuSans-111\"/>\r\n      <use x=\"131.005859\" xlink:href=\"#DejaVuSans-117\"/>\r\n      <use x=\"194.384766\" xlink:href=\"#DejaVuSans-110\"/>\r\n      <use x=\"257.763672\" xlink:href=\"#DejaVuSans-116\"/>\r\n      <use x=\"296.972656\" xlink:href=\"#DejaVuSans-115\"/>\r\n     </g>\r\n    </g>\r\n   </g>\r\n   <g id=\"line2d_55\">\r\n    <path clip-path=\"url(#pa4374b808f)\" d=\"M 58.999432 20.583636 \r\nL 75.018571 86.474545 \r\nL 91.037709 86.474545 \r\nL 107.056848 152.365455 \r\nL 123.075987 152.365455 \r\nL 139.095126 152.365455 \r\nL 155.114264 152.365455 \r\nL 171.133403 152.365455 \r\nL 187.152542 152.365455 \r\nL 203.171681 152.365455 \r\nL 219.190819 152.365455 \r\nL 235.209958 218.256364 \r\nL 251.229097 218.256364 \r\nL 267.248236 218.256364 \r\nL 283.267374 218.256364 \r\nL 299.286513 218.256364 \r\nL 315.305652 218.256364 \r\nL 331.324791 218.256364 \r\nL 347.343929 218.256364 \r\nL 363.363068 218.256364 \r\n\" style=\"fill:none;stroke:#1f77b4;stroke-linecap:square;stroke-width:2;\"/>\r\n   </g>\r\n   <g id=\"patch_3\">\r\n    <path d=\"M 43.78125 228.14 \r\nL 43.78125 10.7 \r\n\" style=\"fill:none;stroke:#000000;stroke-linecap:square;stroke-linejoin:miter;stroke-width:0.8;\"/>\r\n   </g>\r\n   <g id=\"patch_4\">\r\n    <path d=\"M 378.58125 228.14 \r\nL 378.58125 10.7 \r\n\" style=\"fill:none;stroke:#000000;stroke-linecap:square;stroke-linejoin:miter;stroke-width:0.8;\"/>\r\n   </g>\r\n   <g id=\"patch_5\">\r\n    <path d=\"M 43.78125 228.14 \r\nL 378.58125 228.14 \r\n\" style=\"fill:none;stroke:#000000;stroke-linecap:square;stroke-linejoin:miter;stroke-width:0.8;\"/>\r\n   </g>\r\n   <g id=\"patch_6\">\r\n    <path d=\"M 43.78125 10.7 \r\nL 378.58125 10.7 \r\n\" style=\"fill:none;stroke:#000000;stroke-linecap:square;stroke-linejoin:miter;stroke-width:0.8;\"/>\r\n   </g>\r\n  </g>\r\n </g>\r\n <defs>\r\n  <clipPath id=\"pa4374b808f\">\r\n   <rect height=\"217.44\" width=\"334.8\" x=\"43.78125\" y=\"10.7\"/>\r\n  </clipPath>\r\n </defs>\r\n</svg>\r\n",
      "image/png": "[encoded data removed]"
     },
     "metadata": {
      "needs_background": "light"
     }
    }
   ],
   "source": [
    "fdist.plot(20)"
   ]
  },
  {
   "cell_type": "code",
   "execution_count": 42,
   "metadata": {},
   "outputs": [],
   "source": [
    "long_words = [palabra for palabra in token if len(palabra)>4]"
   ]
  },
  {
   "cell_type": "code",
   "execution_count": 43,
   "metadata": {},
   "outputs": [
    {
     "output_type": "execute_result",
     "data": {
      "text/plain": "['𝔸𝕋𝔼ℕℂ𝕀𝕆ℕ',\n 'domingo',\n 'diferente',\n 'nosotros',\n 'somos',\n 'indicados',\n 'complacerte',\n 'traemos',\n 'combo',\n 'familiar',\n 'ideal',\n 'almuerzo',\n 'preferido',\n 'familia',\n 'quedes',\n 'probar',\n 'nuestro',\n 'crujiente',\n 'pollo',\n 'broaster',\n 'Comunicate',\n 'nosotros',\n 'atenderemos',\n 'inmediato',\n 'lunes',\n 'lunes',\n 'Deliveryvalencia',\n 'pickup',\n 'pollochickenhot',\n 'pollobraster',\n 'pollocaliente',\n 'pollocrujiente',\n 'comidavenezolana',\n 'deliveryvalencia',\n 'pickup']"
     },
     "metadata": {},
     "execution_count": 43
    }
   ],
   "source": [
    "long_words"
   ]
  },
  {
   "cell_type": "code",
   "execution_count": 44,
   "metadata": {},
   "outputs": [],
   "source": [
    "new_freq =  nltk.FreqDist(long_words)"
   ]
  },
  {
   "cell_type": "code",
   "execution_count": 45,
   "metadata": {},
   "outputs": [
    {
     "output_type": "execute_result",
     "data": {
      "text/plain": "[('nosotros', 2),\n ('lunes', 2),\n ('pickup', 2),\n ('𝔸𝕋𝔼ℕℂ𝕀𝕆ℕ', 1),\n ('domingo', 1),\n ('diferente', 1),\n ('somos', 1),\n ('indicados', 1),\n ('complacerte', 1),\n ('traemos', 1)]"
     },
     "metadata": {},
     "execution_count": 45
    }
   ],
   "source": [
    "new_freq.most_common(10)"
   ]
  },
  {
   "cell_type": "code",
   "execution_count": 47,
   "metadata": {},
   "outputs": [
    {
     "output_type": "execute_result",
     "data": {
      "text/plain": "[('𝔸𝕋𝔼ℕℂ𝕀𝕆ℕ', 'domingo'),\n ('domingo', 'diferente'),\n ('diferente', 'nosotros'),\n ('nosotros', 'somos'),\n ('somos', 'indicados'),\n ('indicados', 'complacerte'),\n ('complacerte', 'traemos'),\n ('traemos', 'combo'),\n ('combo', 'familiar'),\n ('familiar', 'ideal'),\n ('ideal', 'almuerzo'),\n ('almuerzo', 'preferido'),\n ('preferido', 'familia'),\n ('familia', 'quedes'),\n ('quedes', 'probar'),\n ('probar', 'nuestro'),\n ('nuestro', 'crujiente'),\n ('crujiente', 'pollo'),\n ('pollo', 'broaster'),\n ('broaster', 'Comunicate'),\n ('Comunicate', 'nosotros'),\n ('nosotros', 'atenderemos'),\n ('atenderemos', 'inmediato'),\n ('inmediato', 'lunes'),\n ('lunes', 'lunes'),\n ('lunes', 'Deliveryvalencia'),\n ('Deliveryvalencia', 'pickup'),\n ('pickup', 'pollochickenhot'),\n ('pollochickenhot', 'pollobraster'),\n ('pollobraster', 'pollocaliente'),\n ('pollocaliente', 'pollocrujiente'),\n ('pollocrujiente', 'comidavenezolana'),\n ('comidavenezolana', 'deliveryvalencia'),\n ('deliveryvalencia', 'pickup')]"
     },
     "metadata": {},
     "execution_count": 47
    }
   ],
   "source": [
    "list(nltk.bigrams(long_words))"
   ]
  },
  {
   "source": [
    "# Collocations (Colocaciones)\n",
    "\n",
    "* Son secuencias de palabras que suelen ocurrir en textos o conversaciones con una **frecuencia inusualmente alta** [NLTK doc](http://www.nltk.org/book/ch01.html)\n",
    "* Las colocaciones de una palabra son declaraciones formales de donde suele ubicarse tipicamente esa palabra [Manning & Schütze, 1990, Foundations of Statistical Natural Language Processing, Capítulo 6](https://nlp.stanford.edu/fsnlp/)"
   ],
   "cell_type": "markdown",
   "metadata": {}
  },
  {
   "source": [
    "# Pointwise Mutual Information (PMI)\n",
    "Una métrica basada en _teoria de la información_ para encontrar **Collocations**.\n",
    "\n",
    "$$\n",
    "PMI = \\log\\left(\\frac{P(w_1, w_2)}{P(w_1)P(w_2)}\\right)\n",
    "$$"
   ],
   "cell_type": "markdown",
   "metadata": {}
  },
  {
   "cell_type": "code",
   "execution_count": null,
   "metadata": {},
   "outputs": [],
   "source": []
  }
 ]
}