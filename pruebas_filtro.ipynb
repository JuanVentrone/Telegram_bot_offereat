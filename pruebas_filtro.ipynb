{
 "metadata": {
  "language_info": {
   "codemirror_mode": {
    "name": "ipython",
    "version": 3
   },
   "file_extension": ".py",
   "mimetype": "text/x-python",
   "name": "python",
   "nbconvert_exporter": "python",
   "pygments_lexer": "ipython3",
   "version": "3.7.3-final"
  },
  "orig_nbformat": 2,
  "kernelspec": {
   "name": "python37364bitbaseconda0e883509fb914b28935ee363f9f0181b",
   "display_name": "Python 3.7.3 64-bit ('base': conda)"
  }
 },
 "nbformat": 4,
 "nbformat_minor": 2,
 "cells": [
  {
   "cell_type": "code",
   "execution_count": 1,
   "metadata": {},
   "outputs": [],
   "source": [
    "import pandas as pd"
   ]
  },
  {
   "cell_type": "code",
   "execution_count": 8,
   "metadata": {
    "tags": []
   },
   "outputs": [],
   "source": [
    "data = pd.read_csv(\"ig_scrapper/database/uni data/data.csv\")"
   ]
  },
  {
   "cell_type": "code",
   "execution_count": 10,
   "metadata": {},
   "outputs": [
    {
     "output_type": "execute_result",
     "data": {
      "text/plain": "                timestamp             user name                user url  \\\n0    18 de agosto de 2020      clubhouseexpress      /clubhouseexpress/   \n1    18 de agosto de 2020      clubhouseexpress      /clubhouseexpress/   \n2    18 de agosto de 2020      clubhouseexpress      /clubhouseexpress/   \n3    18 de agosto de 2020      clubhouseexpress      /clubhouseexpress/   \n4    18 de agosto de 2020      clubhouseexpress      /clubhouseexpress/   \n..                    ...                   ...                     ...   \n538  28 de agosto de 2020        fratellos.vzla        /fratellos.vzla/   \n539  28 de agosto de 2020          telepizza041          /telepizza041/   \n540  28 de agosto de 2020          telepizza041          /telepizza041/   \n541  28 de agosto de 2020  escueladeparrilleros  /escueladeparrilleros/   \n542  28 de agosto de 2020        condulzura.val        /condulzura.val/   \n\n                                               img url  \\\n0    https://scontent-mia3-2.cdninstagram.com/v/t51...   \n1    https://scontent-mia3-1.cdninstagram.com/v/t51...   \n2    https://scontent-mia3-2.cdninstagram.com/v/t51...   \n3    https://scontent-mia3-2.cdninstagram.com/v/t51...   \n4    https://scontent-mia3-1.cdninstagram.com/v/t51...   \n..                                                 ...   \n538  https://scontent-mia3-2.cdninstagram.com/v/t51...   \n539  https://scontent-mia3-1.cdninstagram.com/v/t51...   \n540  https://scontent-mia3-2.cdninstagram.com/v/t51...   \n541  https://scontent-mia3-1.cdninstagram.com/v/t51...   \n542  https://scontent-mia3-1.cdninstagram.com/v/t51...   \n\n                                               content  \n0    ['Empezamos la semana de la mejor manera y que...  \n1    No puedes dejar de probar el único Club House ...  \n2    🌴Club House Los Roques🌴\\n⠀⠀⠀⠀⠀⠀⠀⠀⠀⠀⠀⠀⠀⠀⠀⠀⠀⠀⠀⠀⠀...  \n3    ⛰️ Bandeja Caracas ⛰️ \\n⠀⠀⠀⠀⠀⠀⠀⠀⠀⠀⠀⠀⠀⠀⠀⠀⠀⠀⠀⠀⠀⠀...  \n4                                                  NaN  \n..                                                 ...  \n538                                                 []  \n539  ['#pizza #foodvalencia #pizzavalencia #Telepiz...  \n540  ¡La felicidad viene en una caja cuadrada y en ...  \n541  ['¡Allá nos vemos!.Reposted from @delimarketva...  \n542  ['La mejor parte del postre es cuando lo compa...  \n\n[543 rows x 5 columns]",
      "text/html": "<div>\n<style scoped>\n    .dataframe tbody tr th:only-of-type {\n        vertical-align: middle;\n    }\n\n    .dataframe tbody tr th {\n        vertical-align: top;\n    }\n\n    .dataframe thead th {\n        text-align: right;\n    }\n</style>\n<table border=\"1\" class=\"dataframe\">\n  <thead>\n    <tr style=\"text-align: right;\">\n      <th></th>\n      <th>timestamp</th>\n      <th>user name</th>\n      <th>user url</th>\n      <th>img url</th>\n      <th>content</th>\n    </tr>\n  </thead>\n  <tbody>\n    <tr>\n      <th>0</th>\n      <td>18 de agosto de 2020</td>\n      <td>clubhouseexpress</td>\n      <td>/clubhouseexpress/</td>\n      <td>https://scontent-mia3-2.cdninstagram.com/v/t51...</td>\n      <td>['Empezamos la semana de la mejor manera y que...</td>\n    </tr>\n    <tr>\n      <th>1</th>\n      <td>18 de agosto de 2020</td>\n      <td>clubhouseexpress</td>\n      <td>/clubhouseexpress/</td>\n      <td>https://scontent-mia3-1.cdninstagram.com/v/t51...</td>\n      <td>No puedes dejar de probar el único Club House ...</td>\n    </tr>\n    <tr>\n      <th>2</th>\n      <td>18 de agosto de 2020</td>\n      <td>clubhouseexpress</td>\n      <td>/clubhouseexpress/</td>\n      <td>https://scontent-mia3-2.cdninstagram.com/v/t51...</td>\n      <td>🌴Club House Los Roques🌴\\n⠀⠀⠀⠀⠀⠀⠀⠀⠀⠀⠀⠀⠀⠀⠀⠀⠀⠀⠀⠀⠀...</td>\n    </tr>\n    <tr>\n      <th>3</th>\n      <td>18 de agosto de 2020</td>\n      <td>clubhouseexpress</td>\n      <td>/clubhouseexpress/</td>\n      <td>https://scontent-mia3-2.cdninstagram.com/v/t51...</td>\n      <td>⛰️ Bandeja Caracas ⛰️ \\n⠀⠀⠀⠀⠀⠀⠀⠀⠀⠀⠀⠀⠀⠀⠀⠀⠀⠀⠀⠀⠀⠀...</td>\n    </tr>\n    <tr>\n      <th>4</th>\n      <td>18 de agosto de 2020</td>\n      <td>clubhouseexpress</td>\n      <td>/clubhouseexpress/</td>\n      <td>https://scontent-mia3-1.cdninstagram.com/v/t51...</td>\n      <td>NaN</td>\n    </tr>\n    <tr>\n      <th>...</th>\n      <td>...</td>\n      <td>...</td>\n      <td>...</td>\n      <td>...</td>\n      <td>...</td>\n    </tr>\n    <tr>\n      <th>538</th>\n      <td>28 de agosto de 2020</td>\n      <td>fratellos.vzla</td>\n      <td>/fratellos.vzla/</td>\n      <td>https://scontent-mia3-2.cdninstagram.com/v/t51...</td>\n      <td>[]</td>\n    </tr>\n    <tr>\n      <th>539</th>\n      <td>28 de agosto de 2020</td>\n      <td>telepizza041</td>\n      <td>/telepizza041/</td>\n      <td>https://scontent-mia3-1.cdninstagram.com/v/t51...</td>\n      <td>['#pizza #foodvalencia #pizzavalencia #Telepiz...</td>\n    </tr>\n    <tr>\n      <th>540</th>\n      <td>28 de agosto de 2020</td>\n      <td>telepizza041</td>\n      <td>/telepizza041/</td>\n      <td>https://scontent-mia3-2.cdninstagram.com/v/t51...</td>\n      <td>¡La felicidad viene en una caja cuadrada y en ...</td>\n    </tr>\n    <tr>\n      <th>541</th>\n      <td>28 de agosto de 2020</td>\n      <td>escueladeparrilleros</td>\n      <td>/escueladeparrilleros/</td>\n      <td>https://scontent-mia3-1.cdninstagram.com/v/t51...</td>\n      <td>['¡Allá nos vemos!.Reposted from @delimarketva...</td>\n    </tr>\n    <tr>\n      <th>542</th>\n      <td>28 de agosto de 2020</td>\n      <td>condulzura.val</td>\n      <td>/condulzura.val/</td>\n      <td>https://scontent-mia3-1.cdninstagram.com/v/t51...</td>\n      <td>['La mejor parte del postre es cuando lo compa...</td>\n    </tr>\n  </tbody>\n</table>\n<p>543 rows × 5 columns</p>\n</div>"
     },
     "metadata": {},
     "execution_count": 10
    }
   ],
   "source": [
    "data.drop( data.columns[data.columns.str.contains('unnamed', case = False )], axis = 1, inplace = True )\n",
    "data"
   ]
  },
  {
   "cell_type": "code",
   "execution_count": 22,
   "metadata": {},
   "outputs": [
    {
     "output_type": "execute_result",
     "data": {
      "text/plain": "'🌴Club House Los Roques🌴\\n⠀⠀⠀⠀⠀⠀⠀⠀⠀⠀⠀⠀⠀⠀⠀⠀⠀⠀⠀⠀⠀⠀⠀⠀\\nNuestro Club Houses Los Roques es un paraíso de sabores por los que podrás navegar y zambullirte en esta exquisita experiencia...🤤🥺\\n⠀⠀⠀⠀⠀⠀⠀⠀⠀⠀⠀⠀⠀⠀⠀⠀⠀⠀⠀⠀⠀⠀⠀⠀\\nIngredientes:🥪\\n- Jamón de Pierna.🍖\\n- Queso mozzarella.🧀\\n- Mayonesa aguacate.🥑\\n- Lechuga.🥬\\n- Huevo al omelette con camarones.🍳\\n- Camarones rebozados.🍤\\n- Papas Fritas.🍟\\n⠀⠀⠀⠀⠀⠀⠀⠀⠀⠀⠀⠀⠀⠀⠀⠀⠀⠀⠀⠀⠀⠀⠀⠀\\nPara hacer tu pedido marca nuestro número...👇\\n⠀⠀⠀⠀⠀⠀⠀⠀⠀⠀⠀⠀⠀⠀⠀⠀⠀⠀⠀⠀⠀⠀⠀⠀\\n📱 DELIVERY PICK UP: 0424-437.0329\\n⠀⠀⠀⠀⠀⠀⠀⠀⠀⠀⠀⠀⠀⠀⠀⠀⠀⠀⠀⠀⠀⠀⠀⠀\\n⠀⠀⠀⠀⠀⠀⠀⠀⠀⠀⠀⠀⠀⠀⠀⠀⠀⠀⠀⠀⠀⠀⠀⠀\\n#clubhouseexpress #delivery #pickup #clubhouse #losroques #clubhousemerida #miercoles #valencia'"
     },
     "metadata": {},
     "execution_count": 22
    }
   ],
   "source": [
    "data['content'].iloc[2]"
   ]
  },
  {
   "cell_type": "code",
   "execution_count": 46,
   "metadata": {},
   "outputs": [
    {
     "output_type": "execute_result",
     "data": {
      "text/plain": "                                                                                    timestamp  \\\nuser name            content                                                                    \nclubhouseexpress     ['Empezamos la semana de la mejor manera y que ...  18 de agosto de 2020   \n                     No puedes dejar de probar el único Club House h...  18 de agosto de 2020   \n                     🌴Club House Los Roques🌴\\n⠀⠀⠀⠀⠀⠀⠀⠀⠀⠀⠀⠀⠀⠀⠀⠀⠀⠀⠀⠀⠀⠀...  18 de agosto de 2020   \n                     ⛰️ Bandeja Caracas ⛰️ \\n⠀⠀⠀⠀⠀⠀⠀⠀⠀⠀⠀⠀⠀⠀⠀⠀⠀⠀⠀⠀⠀⠀⠀...  18 de agosto de 2020   \n                     NaN                                                 18 de agosto de 2020   \n...                                                                                       ...   \nfratellos.vzla       []                                                  28 de agosto de 2020   \ntelepizza041         ['#pizza #foodvalencia #pizzavalencia #Telepizz...  28 de agosto de 2020   \n                     ¡La felicidad viene en una caja cuadrada y en p...  28 de agosto de 2020   \nescueladeparrilleros ['¡Allá nos vemos!.Reposted from @delimarketval...  28 de agosto de 2020   \ncondulzura.val       ['La mejor parte del postre es cuando lo compar...  28 de agosto de 2020   \n\n                                                                                       user url  \\\nuser name            content                                                                      \nclubhouseexpress     ['Empezamos la semana de la mejor manera y que ...      /clubhouseexpress/   \n                     No puedes dejar de probar el único Club House h...      /clubhouseexpress/   \n                     🌴Club House Los Roques🌴\\n⠀⠀⠀⠀⠀⠀⠀⠀⠀⠀⠀⠀⠀⠀⠀⠀⠀⠀⠀⠀⠀⠀...      /clubhouseexpress/   \n                     ⛰️ Bandeja Caracas ⛰️ \\n⠀⠀⠀⠀⠀⠀⠀⠀⠀⠀⠀⠀⠀⠀⠀⠀⠀⠀⠀⠀⠀⠀⠀...      /clubhouseexpress/   \n                     NaN                                                     /clubhouseexpress/   \n...                                                                                         ...   \nfratellos.vzla       []                                                        /fratellos.vzla/   \ntelepizza041         ['#pizza #foodvalencia #pizzavalencia #Telepizz...          /telepizza041/   \n                     ¡La felicidad viene en una caja cuadrada y en p...          /telepizza041/   \nescueladeparrilleros ['¡Allá nos vemos!.Reposted from @delimarketval...  /escueladeparrilleros/   \ncondulzura.val       ['La mejor parte del postre es cuando lo compar...        /condulzura.val/   \n\n                                                                                                                   img url  \nuser name            content                                                                                                \nclubhouseexpress     ['Empezamos la semana de la mejor manera y que ...  https://scontent-mia3-2.cdninstagram.com/v/t51...  \n                     No puedes dejar de probar el único Club House h...  https://scontent-mia3-1.cdninstagram.com/v/t51...  \n                     🌴Club House Los Roques🌴\\n⠀⠀⠀⠀⠀⠀⠀⠀⠀⠀⠀⠀⠀⠀⠀⠀⠀⠀⠀⠀⠀⠀...  https://scontent-mia3-2.cdninstagram.com/v/t51...  \n                     ⛰️ Bandeja Caracas ⛰️ \\n⠀⠀⠀⠀⠀⠀⠀⠀⠀⠀⠀⠀⠀⠀⠀⠀⠀⠀⠀⠀⠀⠀⠀...  https://scontent-mia3-2.cdninstagram.com/v/t51...  \n                     NaN                                                 https://scontent-mia3-1.cdninstagram.com/v/t51...  \n...                                                                                                                    ...  \nfratellos.vzla       []                                                  https://scontent-mia3-2.cdninstagram.com/v/t51...  \ntelepizza041         ['#pizza #foodvalencia #pizzavalencia #Telepizz...  https://scontent-mia3-1.cdninstagram.com/v/t51...  \n                     ¡La felicidad viene en una caja cuadrada y en p...  https://scontent-mia3-2.cdninstagram.com/v/t51...  \nescueladeparrilleros ['¡Allá nos vemos!.Reposted from @delimarketval...  https://scontent-mia3-1.cdninstagram.com/v/t51...  \ncondulzura.val       ['La mejor parte del postre es cuando lo compar...  https://scontent-mia3-1.cdninstagram.com/v/t51...  \n\n[543 rows x 3 columns]",
      "text/html": "<div>\n<style scoped>\n    .dataframe tbody tr th:only-of-type {\n        vertical-align: middle;\n    }\n\n    .dataframe tbody tr th {\n        vertical-align: top;\n    }\n\n    .dataframe thead th {\n        text-align: right;\n    }\n</style>\n<table border=\"1\" class=\"dataframe\">\n  <thead>\n    <tr style=\"text-align: right;\">\n      <th></th>\n      <th></th>\n      <th>timestamp</th>\n      <th>user url</th>\n      <th>img url</th>\n    </tr>\n    <tr>\n      <th>user name</th>\n      <th>content</th>\n      <th></th>\n      <th></th>\n      <th></th>\n    </tr>\n  </thead>\n  <tbody>\n    <tr>\n      <th rowspan=\"5\" valign=\"top\">clubhouseexpress</th>\n      <th>['Empezamos la semana de la mejor manera y que mejor que disfrutando en nuestras casas una de estás Bandejas como lo es la Barquisimeto...🤤🥺🤭😳🔸1 Club Houses.🔸Papas Fritas. 🔸6Tequeños.🔸10 Alitas.⠀⠀⠀⠀⠀⠀⠀⠀⠀⠀⠀⠀⠀⠀⠀⠀⠀⠀⠀⠀⠀⠀⠀⠀Para hacer tu pedido marca nuestro número...👇⠀⠀⠀⠀⠀⠀⠀⠀⠀⠀⠀⠀⠀⠀⠀⠀⠀⠀⠀⠀⠀⠀⠀⠀📱 DELIVERY: 0424-437.0329⠀⠀⠀⠀⠀⠀⠀⠀⠀⠀⠀⠀⠀⠀⠀⠀⠀⠀⠀⠀⠀⠀⠀⠀#clubhouse #delivery #pickup #papasfritas #tequeños #alitas #deliveryvalencia #comidarapida #barquisimeto #alitas #alitasagridulce #alitasbbq #alitas🍗']</th>\n      <td>18 de agosto de 2020</td>\n      <td>/clubhouseexpress/</td>\n      <td>https://scontent-mia3-2.cdninstagram.com/v/t51...</td>\n    </tr>\n    <tr>\n      <th>No puedes dejar de probar el único Club House hecho con pan de tequeño en el mundo, está innovación ha dado mucho de que hablar y queremos saber tu opinión... 🤭👇\\n⠀⠀⠀⠀⠀⠀⠀⠀⠀⠀⠀⠀⠀⠀⠀⠀⠀⠀⠀⠀⠀⠀⠀⠀\\n• Jamon de pierna.\\n• Queso amarillo.\\n• Huevo.\\n• Lechuga.\\n• Papás Fritas.\\n⠀⠀⠀⠀⠀⠀⠀⠀⠀⠀⠀⠀⠀⠀⠀⠀⠀⠀⠀⠀⠀⠀⠀⠀\\nSolo queda degustarlo y saborear su delicioso sabor.🤤\\n⠀⠀⠀⠀⠀⠀⠀⠀⠀⠀⠀⠀⠀⠀⠀⠀⠀⠀⠀⠀⠀⠀⠀⠀\\n📱 DELIVERY: 0424-437.0329\\n⠀⠀⠀⠀⠀⠀⠀⠀⠀⠀⠀⠀⠀⠀⠀⠀⠀⠀⠀⠀⠀⠀⠀⠀\\n#clubhouse #delivery #tequeños #losteques #pandetequeño #venezuela #emprendedores #emprendimiento #innovacion</th>\n      <td>18 de agosto de 2020</td>\n      <td>/clubhouseexpress/</td>\n      <td>https://scontent-mia3-1.cdninstagram.com/v/t51...</td>\n    </tr>\n    <tr>\n      <th>🌴Club House Los Roques🌴\\n⠀⠀⠀⠀⠀⠀⠀⠀⠀⠀⠀⠀⠀⠀⠀⠀⠀⠀⠀⠀⠀⠀⠀⠀\\nNuestro Club Houses Los Roques es un paraíso de sabores por los que podrás navegar y zambullirte en esta exquisita experiencia...🤤🥺\\n⠀⠀⠀⠀⠀⠀⠀⠀⠀⠀⠀⠀⠀⠀⠀⠀⠀⠀⠀⠀⠀⠀⠀⠀\\nIngredientes:🥪\\n- Jamón de Pierna.🍖\\n- Queso mozzarella.🧀\\n- Mayonesa aguacate.🥑\\n- Lechuga.🥬\\n- Huevo al omelette con camarones.🍳\\n- Camarones rebozados.🍤\\n- Papas Fritas.🍟\\n⠀⠀⠀⠀⠀⠀⠀⠀⠀⠀⠀⠀⠀⠀⠀⠀⠀⠀⠀⠀⠀⠀⠀⠀\\nPara hacer tu pedido marca nuestro número...👇\\n⠀⠀⠀⠀⠀⠀⠀⠀⠀⠀⠀⠀⠀⠀⠀⠀⠀⠀⠀⠀⠀⠀⠀⠀\\n📱 DELIVERY PICK UP: 0424-437.0329\\n⠀⠀⠀⠀⠀⠀⠀⠀⠀⠀⠀⠀⠀⠀⠀⠀⠀⠀⠀⠀⠀⠀⠀⠀\\n⠀⠀⠀⠀⠀⠀⠀⠀⠀⠀⠀⠀⠀⠀⠀⠀⠀⠀⠀⠀⠀⠀⠀⠀\\n#clubhouseexpress #delivery #pickup #clubhouse #losroques #clubhousemerida #miercoles #valencia</th>\n      <td>18 de agosto de 2020</td>\n      <td>/clubhouseexpress/</td>\n      <td>https://scontent-mia3-2.cdninstagram.com/v/t51...</td>\n    </tr>\n    <tr>\n      <th>⛰️ Bandeja Caracas ⛰️ \\n⠀⠀⠀⠀⠀⠀⠀⠀⠀⠀⠀⠀⠀⠀⠀⠀⠀⠀⠀⠀⠀⠀⠀⠀\\nNuestra increíble Bandeja Caracas reluce hoy en nuestro feed, y es que es una de las favoritas de nuestros distinguidos clientes, miremos que contiene . 😮🤤\\n⠀⠀⠀⠀⠀⠀⠀⠀⠀⠀⠀⠀⠀⠀⠀⠀⠀⠀⠀⠀⠀⠀⠀⠀\\nContenido:\\n- 2 Club Houses.\\n- 12 Tequeños.\\n- 20 Alitas.\\n- Papás fritas.\\n⠀⠀⠀⠀⠀⠀⠀⠀⠀⠀⠀⠀⠀⠀⠀⠀⠀⠀⠀⠀⠀⠀⠀⠀\\nPara hacer tu pedido marca nuestro número...👇\\n⠀⠀⠀⠀⠀⠀⠀⠀⠀⠀⠀⠀⠀⠀⠀⠀⠀⠀⠀⠀⠀⠀⠀⠀\\n📱 DELIVERY PICK UP: 0424-437.0329\\n⠀⠀⠀⠀⠀⠀⠀⠀⠀⠀⠀⠀⠀⠀⠀⠀⠀⠀⠀⠀⠀⠀⠀⠀\\n⠀⠀⠀⠀⠀⠀⠀⠀⠀⠀⠀⠀⠀⠀⠀⠀⠀⠀⠀⠀⠀⠀⠀⠀\\n#clubhouseexpress #delivery #pickup #clubhouse #bandejacaracas #caracas  #valencia</th>\n      <td>18 de agosto de 2020</td>\n      <td>/clubhouseexpress/</td>\n      <td>https://scontent-mia3-2.cdninstagram.com/v/t51...</td>\n    </tr>\n    <tr>\n      <th>NaN</th>\n      <td>18 de agosto de 2020</td>\n      <td>/clubhouseexpress/</td>\n      <td>https://scontent-mia3-1.cdninstagram.com/v/t51...</td>\n    </tr>\n    <tr>\n      <th>...</th>\n      <th>...</th>\n      <td>...</td>\n      <td>...</td>\n      <td>...</td>\n    </tr>\n    <tr>\n      <th>fratellos.vzla</th>\n      <th>[]</th>\n      <td>28 de agosto de 2020</td>\n      <td>/fratellos.vzla/</td>\n      <td>https://scontent-mia3-2.cdninstagram.com/v/t51...</td>\n    </tr>\n    <tr>\n      <th rowspan=\"2\" valign=\"top\">telepizza041</th>\n      <th>['#pizza #foodvalencia #pizzavalencia #Telepizza #gourmet #valenciagourmet #deliveryvalencia #deliveryvenezuela#fastfood #ComidaRapidaValencia #sandiego #valencia #naguanagua #delivery #pizza #venezuela #pizzalover  #dinner #almuerzo #cenna #sinfiltro #picsart #instafood #food #sunday #findesemana #promfood']</th>\n      <td>28 de agosto de 2020</td>\n      <td>/telepizza041/</td>\n      <td>https://scontent-mia3-1.cdninstagram.com/v/t51...</td>\n    </tr>\n    <tr>\n      <th>¡La felicidad viene en una caja cuadrada y en pedazos triangulares!\\n¿Tú crees que ella se ve feliz? \\n¡Cuéntanos!\\n•\\n•\\n•\\nPídenos ahora a través de @ochotelolleva \\n📲: +58 4144205599</th>\n      <td>28 de agosto de 2020</td>\n      <td>/telepizza041/</td>\n      <td>https://scontent-mia3-2.cdninstagram.com/v/t51...</td>\n    </tr>\n    <tr>\n      <th>escueladeparrilleros</th>\n      <th>['¡Allá nos vemos!.Reposted from @delimarketval ¡Alístate para comer como la realeza 😎! Acércate a #DeliMarket y retira tu porción de lechón para dos (2) personas a $10 🔥El lechón lo tendremos en $7 el kg por si lo prefieres aparte 😎Desde las 12 pm de este sábado @carrasquerock estará activo frente a la parrilla ☝📍 Te esperamos en el CC EuroCenter, antes de subir el elevando de Los Colorados. Recuerda que nuestro #Pickup también estará activo para atenderte 🛒-Trabajamos de lunes a lunes de 8 am a 4 pm. Los domingos abrimos a las 9 am 📩 Escríbenos al 0424-4192918 o al privado y rápido te atendemos.#Valencia #Venezuela #Carabobo #Bodegon #Comida #SanDiegoCarabobo #ValenciaCarabobo #Eltrigal #Prebo #Mañongo #Guataparo #ElParral #LaTrigaleña #Laviña #DeliveryValencia - #regrann']</th>\n      <td>28 de agosto de 2020</td>\n      <td>/escueladeparrilleros/</td>\n      <td>https://scontent-mia3-1.cdninstagram.com/v/t51...</td>\n    </tr>\n    <tr>\n      <th>condulzura.val</th>\n      <th>['La mejor parte del postre es cuando lo comparto contigo!💗😍.y tú, ¿Con quién compartes tu postre? Etiquétalo☺️👇.No olvides que estamos de promoción‼️😏.Puedes realizar tu pedido tu pedido al dm📩 o al link de nuestro perfil📲.¡Feliz fin de semana!.#condulzuralovers#marquesas#chocolate#postres#deliveryvalencia#valencia#venezuela']</th>\n      <td>28 de agosto de 2020</td>\n      <td>/condulzura.val/</td>\n      <td>https://scontent-mia3-1.cdninstagram.com/v/t51...</td>\n    </tr>\n  </tbody>\n</table>\n<p>543 rows × 3 columns</p>\n</div>"
     },
     "metadata": {},
     "execution_count": 46
    }
   ],
   "source": [
    "data_group = data.set_index(['user name','content'])\n",
    "data_group"
   ]
  },
  {
   "cell_type": "code",
   "execution_count": 53,
   "metadata": {},
   "outputs": [],
   "source": [
    "data_group_2 = data.groupby('user name')[['content']].sum()"
   ]
  },
  {
   "cell_type": "code",
   "execution_count": 54,
   "metadata": {},
   "outputs": [
    {
     "output_type": "execute_result",
     "data": {
      "text/plain": "\"['Día de sorprender a los tuyos con un almuerzo diferente ¡ #Polloagridulce, aquí te dejamos la receta👌🏼👨🏻\\\\u200d🍳!Para el pollo necesitamos:1 suprema de pollo (cortada en dados)1 cucharada vinagre de arrozSal y pimienta blanca (al gusto)1 cuchara Salsa de soyaPara el agridulce:6 cucharadas azúcar6 cucharadas agua6 cucharadas vinagre blanco1 cucharada concentrado de tomate1/2 cucharada salsa Inglesa1 cucharada maicena,1 pizca salPara el rebozado:350 gramos harina150 gramos maicena1 huevo10 gramos polvo para hornearal gusto SalY agua fría la necesariaPreparación 🥘:1.- Primero cortamos el pollo. Y le agregamos los ingredientes para marinar. Dejarlo 30 minutos en ese líquido.2.- Mientras se marina el pollo. Comenzamos con el agridulce. Colocamos en una sartén, las 6 cucharadas de azúcar, las 6 cucharadas de vinagre y 5 cucharadas de agua. Reservamos una para poder disolver la fécula de maíz.3.- Prendemos en calor alto y revolvemos hasta que se disuelva el azúcar. En ese momento agregamos el concentrado de tomate, la salsa inglesa y la pizca de sal. Y revolvemos hasta disolver el concentrado. Por último agregamos a gusto la fécula para espesar.4.- Por último unimos todos los ingredientes para el rebozado y debe tener consistencia pesada pero no pastosa. Un poco espesa para que cubra el pollo. Retiramos el líquido de la marinada y rebozamos y freímos en abundante aceite.5.- Unimos el pollo a la salsa y decoramos con ajonjolí y cebollín y pues amigos a disfrutar😎🙌🏼.¡Servicio domicilio!📱 0414-4394222 // 0414-1423789..#carne  #domicilio #parrilladelivery #deliveryvalencia #comida #valencia #agropecuariaDonFranco  #carniceria #deliverysandiego #deliverynaguanagua #deliverycarabobo']['¿Sabes cómo hacer la mejor salsa #BBQ? Nosotros te damos la receta😎INGREDIENTES:150 g de cebolla40 g de aceite de olivaDos cucharaditas de pimentón picante100 g de whisky250 g de salsa de tomate50 g de zumo de limón100 g de vinagre de Jerez90 g de miel o melaza70 g de salsa Inglesa1/2 cdta. de salPREPARACIÓN:1.- Pela y sofríe la cebolla en aceite hasta que esté transparente. Luego agrega el pimentón, revuelve durante poco tiempo2.- Agregamos todos los demás ingredientes: el whisky, la salsa de tomate (si es casera, mucho mejor), el zumo de limón, el vinagre, la miel o melaza, la salsa Inglesa y la sal.3.- Cocemos todo 20-25 minutos sin tapar para que se reduzca y espese. Hay que remover de vez en cuando para homogeneizar y vigilar cómo va la consistencia.4.- Trituramos bien la salsa y comprobamos la consistencia; debe quedar bastante espesa. Si no estuviera bastante espesa, volveríamos a ponerla al fuego para seguir reduciéndola un poco.5.- Al final de la cocción probamos el punto de dulce, salado y ácido. Según como esté añadiremos más sal, más miel o más vinagre, pero poco a poco mientras vamos probando el resultado cada vez.¡Y listo! Así tenemos nuestra deliciosa salsa BBQ 🍗🍖👨🏻\\\\u200d🍳.¡Servicio domicilio!📱 0414-4394222 // 0414-1423789..#carne  #domicilio #parrilladelivery #deliveryvalencia #comida #valencia #agropecuariaDonFranco  #carniceria #deliverysandiego #deliverynaguanagua #deliverycarabobo']\""
     },
     "metadata": {},
     "execution_count": 54
    }
   ],
   "source": [
    "data_group_2['content'][0]"
   ]
  },
  {
   "cell_type": "code",
   "execution_count": 55,
   "metadata": {},
   "outputs": [],
   "source": [
    "import re"
   ]
  },
  {
   "cell_type": "code",
   "execution_count": 56,
   "metadata": {},
   "outputs": [],
   "source": [
    "regular = data_group_2['content'][0]"
   ]
  },
  {
   "cell_type": "code",
   "execution_count": 64,
   "metadata": {},
   "outputs": [],
   "source": [
    "hola =  re.findall(r'[0-9]+', regular)"
   ]
  },
  {
   "cell_type": "code",
   "execution_count": 66,
   "metadata": {},
   "outputs": [
    {
     "output_type": "error",
     "ename": "TypeError",
     "evalue": "expected string or bytes-like object",
     "traceback": [
      "\u001b[1;31m---------------------------------------------------------------------------\u001b[0m",
      "\u001b[1;31mTypeError\u001b[0m                                 Traceback (most recent call last)",
      "\u001b[1;32m<ipython-input-66-1347718d6a2d>\u001b[0m in \u001b[0;36m<module>\u001b[1;34m\u001b[0m\n\u001b[1;32m----> 1\u001b[1;33m \u001b[0mre\u001b[0m\u001b[1;33m.\u001b[0m\u001b[0mmatch\u001b[0m\u001b[1;33m(\u001b[0m\u001b[1;34mr'0414'\u001b[0m\u001b[1;33m,\u001b[0m\u001b[0mhola\u001b[0m\u001b[1;33m)\u001b[0m\u001b[1;33m\u001b[0m\u001b[1;33m\u001b[0m\u001b[0m\n\u001b[0m",
      "\u001b[1;32m~\\Anaconda3\\lib\\re.py\u001b[0m in \u001b[0;36mmatch\u001b[1;34m(pattern, string, flags)\u001b[0m\n\u001b[0;32m    171\u001b[0m     \"\"\"Try to apply the pattern at the start of the string, returning\n\u001b[0;32m    172\u001b[0m     a Match object, or None if no match was found.\"\"\"\n\u001b[1;32m--> 173\u001b[1;33m     \u001b[1;32mreturn\u001b[0m \u001b[0m_compile\u001b[0m\u001b[1;33m(\u001b[0m\u001b[0mpattern\u001b[0m\u001b[1;33m,\u001b[0m \u001b[0mflags\u001b[0m\u001b[1;33m)\u001b[0m\u001b[1;33m.\u001b[0m\u001b[0mmatch\u001b[0m\u001b[1;33m(\u001b[0m\u001b[0mstring\u001b[0m\u001b[1;33m)\u001b[0m\u001b[1;33m\u001b[0m\u001b[1;33m\u001b[0m\u001b[0m\n\u001b[0m\u001b[0;32m    174\u001b[0m \u001b[1;33m\u001b[0m\u001b[0m\n\u001b[0;32m    175\u001b[0m \u001b[1;32mdef\u001b[0m \u001b[0mfullmatch\u001b[0m\u001b[1;33m(\u001b[0m\u001b[0mpattern\u001b[0m\u001b[1;33m,\u001b[0m \u001b[0mstring\u001b[0m\u001b[1;33m,\u001b[0m \u001b[0mflags\u001b[0m\u001b[1;33m=\u001b[0m\u001b[1;36m0\u001b[0m\u001b[1;33m)\u001b[0m\u001b[1;33m:\u001b[0m\u001b[1;33m\u001b[0m\u001b[1;33m\u001b[0m\u001b[0m\n",
      "\u001b[1;31mTypeError\u001b[0m: expected string or bytes-like object"
     ]
    }
   ],
   "source": [
    "re.match(r'0414',hola)"
   ]
  },
  {
   "cell_type": "code",
   "execution_count": 67,
   "metadata": {},
   "outputs": [
    {
     "output_type": "execute_result",
     "data": {
      "text/plain": "['200',\n '1',\n '1',\n '1',\n '6',\n '6',\n '6',\n '1',\n '1',\n '2',\n '1',\n '1',\n '350',\n '150',\n '1',\n '10',\n '1',\n '30',\n '2',\n '6',\n '6',\n '5',\n '3',\n '4',\n '5',\n '0414',\n '4394222',\n '0414',\n '1423789',\n '150',\n '40',\n '100',\n '250',\n '50',\n '100',\n '90',\n '70',\n '1',\n '2',\n '1',\n '2',\n '3',\n '20',\n '25',\n '4',\n '5',\n '200',\n '0414',\n '4394222',\n '0414',\n '1423789']"
     },
     "metadata": {},
     "execution_count": 67
    }
   ],
   "source": [
    "hola"
   ]
  },
  {
   "cell_type": "code",
   "execution_count": null,
   "metadata": {},
   "outputs": [],
   "source": []
  }
 ]
}