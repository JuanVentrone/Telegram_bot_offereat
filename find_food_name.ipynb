{
 "metadata": {
  "language_info": {
   "codemirror_mode": {
    "name": "ipython",
    "version": 3
   },
   "file_extension": ".py",
   "mimetype": "text/x-python",
   "name": "python",
   "nbconvert_exporter": "python",
   "pygments_lexer": "ipython3",
   "version": "3.7.3-final"
  },
  "orig_nbformat": 2,
  "kernelspec": {
   "name": "Python 3.7.3 64-bit ('Anaconda3': conda)",
   "display_name": "Python 3.7.3 64-bit ('Anaconda3': conda)",
   "metadata": {
    "interpreter": {
     "hash": "5b5eafffc98448ba74364d3e784907eb4436678064263856722b7b046d45f62e"
    }
   }
  }
 },
 "nbformat": 4,
 "nbformat_minor": 2,
 "cells": [
  {
   "cell_type": "code",
   "execution_count": 1,
   "metadata": {},
   "outputs": [],
   "source": [
    "import pandas as pd\n",
    "import numpy as np\n",
    "import nltk \n",
    "import matplotlib.pyplot as plt\n",
    "import re\n",
    "from nltk.corpus import stopwords"
   ]
  },
  {
   "source": [
    "## Creando las funciones de indetificacion de comida"
   ],
   "cell_type": "markdown",
   "metadata": {}
  },
  {
   "cell_type": "code",
   "execution_count": 3,
   "metadata": {},
   "outputs": [],
   "source": [
    "stopwords =  stopwords.words('spanish')"
   ]
  },
  {
   "cell_type": "code",
   "execution_count": 2,
   "metadata": {},
   "outputs": [],
   "source": [
    "re_patron = re.compile(r'[#]\\w+')"
   ]
  },
  {
   "cell_type": "code",
   "execution_count": 4,
   "metadata": {},
   "outputs": [],
   "source": [
    "pattern = r'''(?x)                  # Flag para iniciar el modo verbose\n",
    "              (?:[A-Z]\\.)+            # Hace match con abreviaciones como U.S.A.\n",
    "              | \\w+(?:-\\w+)*         # Hace match con palabras que pueden tener un guión interno\n",
    "              | \\$?\\d+(?:\\.\\d+)?%?  # Hace match con dinero o porcentajes como $15.5 o 100%\n",
    "              | \\.\\.\\.              # Hace match con puntos suspensivos\n",
    "              | [][.,;\"'?():-_`]    # Hace match con signos de puntuación\n",
    "'''"
   ]
  },
  {
   "cell_type": "code",
   "execution_count": 5,
   "metadata": {},
   "outputs": [
    {
     "output_type": "execute_result",
     "data": {
      "text/plain": "                timestamp             user name                user url  \\\n0    18 de agosto de 2020      clubhouseexpress      /clubhouseexpress/   \n1    18 de agosto de 2020      clubhouseexpress      /clubhouseexpress/   \n2    18 de agosto de 2020      clubhouseexpress      /clubhouseexpress/   \n3    18 de agosto de 2020      clubhouseexpress      /clubhouseexpress/   \n4    18 de agosto de 2020      clubhouseexpress      /clubhouseexpress/   \n..                    ...                   ...                     ...   \n530  28 de agosto de 2020        fratellos.vzla        /fratellos.vzla/   \n531  28 de agosto de 2020          telepizza041          /telepizza041/   \n532  28 de agosto de 2020          telepizza041          /telepizza041/   \n533  28 de agosto de 2020  escueladeparrilleros  /escueladeparrilleros/   \n534  28 de agosto de 2020        condulzura.val        /condulzura.val/   \n\n                                               img url  \\\n0    https://scontent-mia3-2.cdninstagram.com/v/t51...   \n1    https://scontent-mia3-1.cdninstagram.com/v/t51...   \n2    https://scontent-mia3-2.cdninstagram.com/v/t51...   \n3    https://scontent-mia3-2.cdninstagram.com/v/t51...   \n4    https://scontent-mia3-1.cdninstagram.com/v/t51...   \n..                                                 ...   \n530  https://scontent-mia3-2.cdninstagram.com/v/t51...   \n531  https://scontent-mia3-1.cdninstagram.com/v/t51...   \n532  https://scontent-mia3-2.cdninstagram.com/v/t51...   \n533  https://scontent-mia3-1.cdninstagram.com/v/t51...   \n534  https://scontent-mia3-1.cdninstagram.com/v/t51...   \n\n                                               content  \\\n0    [&#39;Empezamos la semana de la mejor manera y que...   \n1    No puedes dejar de probar el único Club House ...   \n2    🌴Club House Los Roques🌴\\n⠀⠀⠀⠀⠀⠀⠀⠀⠀⠀⠀⠀⠀⠀⠀⠀⠀⠀⠀⠀⠀...   \n3    ⛰️ Bandeja Caracas ⛰️ \\n⠀⠀⠀⠀⠀⠀⠀⠀⠀⠀⠀⠀⠀⠀⠀⠀⠀⠀⠀⠀⠀⠀...   \n4                                                  NaN   \n..                                                 ...   \n530                                                NaN   \n531  [&#39;#pizza #foodvalencia #pizzavalencia #Telepiz...   \n532  ¡La felicidad viene en una caja cuadrada y en ...   \n533  [&#39;¡Allá nos vemos!.Reposted from @delimarketva...   \n534  [&#39;La mejor parte del postre es cuando lo compa...   \n\n                             telefono          price  \n0                       0424-437.0329             []  \n1                       0424-437.0329             []  \n2                       0424-437.0329             []  \n3                       0424-437.0329             []  \n4                       0424-437.0329            NaN  \n..                                ...            ...  \n530  [&#39;0424 4369291&#39;, &#39;0424 4273837&#39;]            NaN  \n531                    0414-420.55.99             []  \n532                    0414-420.55.99             []  \n533                      0424-4192918  [&#39;$10&#39;, &#39;$7&#39;]  \n534                               NaN             []  \n\n[535 rows x 7 columns]",
      "text/html": "<div>\n<style scoped>\n    .dataframe tbody tr th:only-of-type {\n        vertical-align: middle;\n    }\n\n    .dataframe tbody tr th {\n        vertical-align: top;\n    }\n\n    .dataframe thead th {\n        text-align: right;\n    }\n</style>\n<table border=\"1\" class=\"dataframe\">\n  <thead>\n    <tr style=\"text-align: right;\">\n      <th></th>\n      <th>timestamp</th>\n      <th>user name</th>\n      <th>user url</th>\n      <th>img url</th>\n      <th>content</th>\n      <th>telefono</th>\n      <th>price</th>\n    </tr>\n  </thead>\n  <tbody>\n    <tr>\n      <th>0</th>\n      <td>18 de agosto de 2020</td>\n      <td>clubhouseexpress</td>\n      <td>/clubhouseexpress/</td>\n      <td>https://scontent-mia3-2.cdninstagram.com/v/t51...</td>\n      <td>['Empezamos la semana de la mejor manera y que...</td>\n      <td>0424-437.0329</td>\n      <td>[]</td>\n    </tr>\n    <tr>\n      <th>1</th>\n      <td>18 de agosto de 2020</td>\n      <td>clubhouseexpress</td>\n      <td>/clubhouseexpress/</td>\n      <td>https://scontent-mia3-1.cdninstagram.com/v/t51...</td>\n      <td>No puedes dejar de probar el único Club House ...</td>\n      <td>0424-437.0329</td>\n      <td>[]</td>\n    </tr>\n    <tr>\n      <th>2</th>\n      <td>18 de agosto de 2020</td>\n      <td>clubhouseexpress</td>\n      <td>/clubhouseexpress/</td>\n      <td>https://scontent-mia3-2.cdninstagram.com/v/t51...</td>\n      <td>🌴Club House Los Roques🌴\\n⠀⠀⠀⠀⠀⠀⠀⠀⠀⠀⠀⠀⠀⠀⠀⠀⠀⠀⠀⠀⠀...</td>\n      <td>0424-437.0329</td>\n      <td>[]</td>\n    </tr>\n    <tr>\n      <th>3</th>\n      <td>18 de agosto de 2020</td>\n      <td>clubhouseexpress</td>\n      <td>/clubhouseexpress/</td>\n      <td>https://scontent-mia3-2.cdninstagram.com/v/t51...</td>\n      <td>⛰️ Bandeja Caracas ⛰️ \\n⠀⠀⠀⠀⠀⠀⠀⠀⠀⠀⠀⠀⠀⠀⠀⠀⠀⠀⠀⠀⠀⠀...</td>\n      <td>0424-437.0329</td>\n      <td>[]</td>\n    </tr>\n    <tr>\n      <th>4</th>\n      <td>18 de agosto de 2020</td>\n      <td>clubhouseexpress</td>\n      <td>/clubhouseexpress/</td>\n      <td>https://scontent-mia3-1.cdninstagram.com/v/t51...</td>\n      <td>NaN</td>\n      <td>0424-437.0329</td>\n      <td>NaN</td>\n    </tr>\n    <tr>\n      <th>...</th>\n      <td>...</td>\n      <td>...</td>\n      <td>...</td>\n      <td>...</td>\n      <td>...</td>\n      <td>...</td>\n      <td>...</td>\n    </tr>\n    <tr>\n      <th>530</th>\n      <td>28 de agosto de 2020</td>\n      <td>fratellos.vzla</td>\n      <td>/fratellos.vzla/</td>\n      <td>https://scontent-mia3-2.cdninstagram.com/v/t51...</td>\n      <td>NaN</td>\n      <td>['0424 4369291', '0424 4273837']</td>\n      <td>NaN</td>\n    </tr>\n    <tr>\n      <th>531</th>\n      <td>28 de agosto de 2020</td>\n      <td>telepizza041</td>\n      <td>/telepizza041/</td>\n      <td>https://scontent-mia3-1.cdninstagram.com/v/t51...</td>\n      <td>['#pizza #foodvalencia #pizzavalencia #Telepiz...</td>\n      <td>0414-420.55.99</td>\n      <td>[]</td>\n    </tr>\n    <tr>\n      <th>532</th>\n      <td>28 de agosto de 2020</td>\n      <td>telepizza041</td>\n      <td>/telepizza041/</td>\n      <td>https://scontent-mia3-2.cdninstagram.com/v/t51...</td>\n      <td>¡La felicidad viene en una caja cuadrada y en ...</td>\n      <td>0414-420.55.99</td>\n      <td>[]</td>\n    </tr>\n    <tr>\n      <th>533</th>\n      <td>28 de agosto de 2020</td>\n      <td>escueladeparrilleros</td>\n      <td>/escueladeparrilleros/</td>\n      <td>https://scontent-mia3-1.cdninstagram.com/v/t51...</td>\n      <td>['¡Allá nos vemos!.Reposted from @delimarketva...</td>\n      <td>0424-4192918</td>\n      <td>['$10', '$7']</td>\n    </tr>\n    <tr>\n      <th>534</th>\n      <td>28 de agosto de 2020</td>\n      <td>condulzura.val</td>\n      <td>/condulzura.val/</td>\n      <td>https://scontent-mia3-1.cdninstagram.com/v/t51...</td>\n      <td>['La mejor parte del postre es cuando lo compa...</td>\n      <td>NaN</td>\n      <td>[]</td>\n    </tr>\n  </tbody>\n</table>\n<p>535 rows × 7 columns</p>\n</div>"
     },
     "metadata": {},
     "execution_count": 5
    }
   ],
   "source": [
    "datos = pd.read_csv(\"ig_scrapper/database/uni data/data_finito.csv\")\n",
    "data = datos.copy(deep=True)\n",
    "data.drop( data.columns[data.columns.str.contains('unnamed', case = False )], axis = 1, inplace = True )\n",
    "data"
   ]
  },
  {
   "cell_type": "code",
   "execution_count": 6,
   "metadata": {},
   "outputs": [],
   "source": [
    "def part_content(content):\n",
    "\n",
    "    hastag = re_patron.findall( content )\n",
    "    hastag = [i.replace('#','').lower() for i in hastag]\n",
    "    \n",
    "\n",
    "    tokens =  nltk.regexp_tokenize( content, pattern )\n",
    "    tokens = [i.lower() for i in tokens if len(i)>1]\n",
    " \n",
    "    temp = hastag + stopwords\n",
    "    for i in temp:\n",
    "        if i in tokens: tokens.remove(i)\n",
    "    \n",
    "    bigrama_list = list(nltk.bigrams(tokens))\n",
    "    bigramas = [i[0] + ' ' + i[1] for i in bigrama_list]\n",
    "\n",
    "    return tokens, hastag, bigramas"
   ]
  },
  {
   "cell_type": "code",
   "execution_count": 7,
   "metadata": {},
   "outputs": [],
   "source": [
    "tokens, hastag, bigramas = part_content(data['content'][103])"
   ]
  },
  {
   "cell_type": "code",
   "execution_count": 8,
   "metadata": {},
   "outputs": [
    {
     "output_type": "execute_result",
     "data": {
      "text/plain": "[&#39;arroz&#39;,\n &#39;chino&#39;,\n &#39;estilo&#39;,\n &#39;gusto&#39;,\n &#39;gourmet&#39;,\n &#39;disfruta&#39;,\n &#39;ricos&#39;,\n &#39;combos&#39;,\n &#39;elaborados&#39;,\n &#39;mejores&#39;,\n &#39;ingredientes&#39;]"
     },
     "metadata": {},
     "execution_count": 8
    }
   ],
   "source": [
    "tokens"
   ]
  },
  {
   "cell_type": "code",
   "execution_count": 9,
   "metadata": {},
   "outputs": [
    {
     "output_type": "execute_result",
     "data": {
      "text/plain": "[&#39;arroz chino&#39;,\n &#39;chino estilo&#39;,\n &#39;estilo gusto&#39;,\n &#39;gusto gourmet&#39;,\n &#39;gourmet disfruta&#39;,\n &#39;disfruta ricos&#39;,\n &#39;ricos combos&#39;,\n &#39;combos elaborados&#39;,\n &#39;elaborados mejores&#39;,\n &#39;mejores ingredientes&#39;]"
     },
     "metadata": {},
     "execution_count": 9
    }
   ],
   "source": [
    "bigramas"
   ]
  },
  {
   "cell_type": "code",
   "execution_count": 10,
   "metadata": {},
   "outputs": [
    {
     "output_type": "execute_result",
     "data": {
      "text/plain": "[&#39;gustogourmetburguer&#39;, &#39;arrozchinovalencia&#39;, &#39;valenciagourmet&#39;]"
     },
     "metadata": {},
     "execution_count": 10
    }
   ],
   "source": [
    "hastag"
   ]
  },
  {
   "cell_type": "code",
   "execution_count": 25,
   "metadata": {},
   "outputs": [
    {
     "output_type": "execute_result",
     "data": {
      "text/plain": "&#39;arrozchino&#39;"
     },
     "metadata": {},
     "execution_count": 25
    }
   ],
   "source": [
    "bigramas[0].lower()"
   ]
  },
  {
   "cell_type": "code",
   "execution_count": 12,
   "metadata": {},
   "outputs": [
    {
     "output_type": "execute_result",
     "data": {
      "text/plain": "[&#39;arroz&#39;,\n &#39;chino&#39;,\n &#39;estilo&#39;,\n &#39;gusto&#39;,\n &#39;gourmet&#39;,\n &#39;disfruta&#39;,\n &#39;ricos&#39;,\n &#39;combos&#39;,\n &#39;elaborados&#39;,\n &#39;mejores&#39;,\n &#39;ingredientes&#39;,\n &#39;arroz chino&#39;,\n &#39;chino estilo&#39;,\n &#39;estilo gusto&#39;,\n &#39;gusto gourmet&#39;,\n &#39;gourmet disfruta&#39;,\n &#39;disfruta ricos&#39;,\n &#39;ricos combos&#39;,\n &#39;combos elaborados&#39;,\n &#39;elaborados mejores&#39;,\n &#39;mejores ingredientes&#39;]"
     },
     "metadata": {},
     "execution_count": 12
    }
   ],
   "source": [
    "total_tokens = tokens + bigramas\n",
    "total_tokens"
   ]
  },
  {
   "cell_type": "code",
   "execution_count": 13,
   "metadata": {},
   "outputs": [],
   "source": [
    "freq = nltk.FreqDist(total_tokens)"
   ]
  },
  {
   "cell_type": "code",
   "execution_count": 38,
   "metadata": {},
   "outputs": [
    {
     "output_type": "execute_result",
     "data": {
      "text/plain": "[(&#39;arroz&#39;, 1), (&#39;chino&#39;, 1)]"
     },
     "metadata": {},
     "execution_count": 38
    }
   ],
   "source": [
    "freq.most_common(2)"
   ]
  },
  {
   "cell_type": "code",
   "execution_count": 14,
   "metadata": {},
   "outputs": [],
   "source": [
    "freq_dict = dict(freq)"
   ]
  },
  {
   "cell_type": "code",
   "execution_count": 15,
   "metadata": {},
   "outputs": [
    {
     "output_type": "execute_result",
     "data": {
      "text/plain": "{&#39;arroz&#39;: 1,\n &#39;chino&#39;: 1,\n &#39;estilo&#39;: 1,\n &#39;gusto&#39;: 1,\n &#39;gourmet&#39;: 1,\n &#39;disfruta&#39;: 1,\n &#39;ricos&#39;: 1,\n &#39;combos&#39;: 1,\n &#39;elaborados&#39;: 1,\n &#39;mejores&#39;: 1,\n &#39;ingredientes&#39;: 1,\n &#39;arroz chino&#39;: 1,\n &#39;chino estilo&#39;: 1,\n &#39;estilo gusto&#39;: 1,\n &#39;gusto gourmet&#39;: 1,\n &#39;gourmet disfruta&#39;: 1,\n &#39;disfruta ricos&#39;: 1,\n &#39;ricos combos&#39;: 1,\n &#39;combos elaborados&#39;: 1,\n &#39;elaborados mejores&#39;: 1,\n &#39;mejores ingredientes&#39;: 1}"
     },
     "metadata": {},
     "execution_count": 15
    }
   ],
   "source": [
    "freq_dict"
   ]
  },
  {
   "cell_type": "code",
   "execution_count": 16,
   "metadata": {},
   "outputs": [],
   "source": [
    "from difflib import SequenceMatcher as sm\n",
    "\n",
    "def similar(a, b):\n",
    "       return sm(None, a, b).ratio()"
   ]
  },
  {
   "cell_type": "code",
   "execution_count": 17,
   "metadata": {},
   "outputs": [
    {
     "output_type": "execute_result",
     "data": {
      "text/plain": "0.6896551724137931"
     },
     "metadata": {},
     "execution_count": 17
    }
   ],
   "source": [
    "similar('arroz chino','arrozchinovalencia')"
   ]
  },
  {
   "cell_type": "code",
   "execution_count": 107,
   "metadata": {},
   "outputs": [],
   "source": [
    "prueba = list(freq_dict)"
   ]
  },
  {
   "cell_type": "code",
   "execution_count": 108,
   "metadata": {},
   "outputs": [
    {
     "output_type": "execute_result",
     "data": {
      "text/plain": "24"
     },
     "metadata": {},
     "execution_count": 108
    }
   ],
   "source": [
    "len(prueba)"
   ]
  },
  {
   "cell_type": "code",
   "execution_count": 18,
   "metadata": {},
   "outputs": [],
   "source": [
    "def benford(c): \n",
    "    return np.log( 1 + (1/c))"
   ]
  },
  {
   "cell_type": "code",
   "execution_count": 127,
   "metadata": {},
   "outputs": [
    {
     "output_type": "execute_result",
     "data": {
      "text/plain": "1.3979400086720377"
     },
     "metadata": {},
     "execution_count": 127
    }
   ],
   "source": [
    "benford(0.041666666666666664)"
   ]
  },
  {
   "cell_type": "code",
   "execution_count": 125,
   "metadata": {},
   "outputs": [
    {
     "output_type": "execute_result",
     "data": {
      "text/plain": "0.041666666666666664"
     },
     "metadata": {},
     "execution_count": 125
    }
   ],
   "source": []
  },
  {
   "cell_type": "code",
   "execution_count": 134,
   "metadata": {
    "tags": []
   },
   "outputs": [],
   "source": [
    "log_10 = [benford( (i+1)/24 ) for i in range(24)]"
   ]
  },
  {
   "cell_type": "code",
   "execution_count": 136,
   "metadata": {
    "tags": []
   },
   "outputs": [],
   "source": [
    "log = [benford( (i+1)/24 ) for i in range(24)]"
   ]
  },
  {
   "cell_type": "code",
   "execution_count": 141,
   "metadata": {},
   "outputs": [
    {
     "output_type": "execute_result",
     "data": {
      "text/plain": "[&lt;matplotlib.lines.Line2D at 0x15299417c18&gt;]"
     },
     "metadata": {},
     "execution_count": 141
    },
    {
     "output_type": "display_data",
     "data": {
      "text/plain": "&lt;Figure size 432x288 with 1 Axes&gt;",
      "image/svg+xml": "<?xml version=\"1.0\" encoding=\"utf-8\" standalone=\"no\"?>\r\n<!DOCTYPE svg PUBLIC \"-//W3C//DTD SVG 1.1//EN\"\r\n  \"http://www.w3.org/Graphics/SVG/1.1/DTD/svg11.dtd\">\r\n<!-- Created with matplotlib (https://matplotlib.org/) -->\r\n<svg height=\"252.018125pt\" version=\"1.1\" viewBox=\"0 0 372.425 252.018125\" width=\"372.425pt\" xmlns=\"http://www.w3.org/2000/svg\" xmlns:xlink=\"http://www.w3.org/1999/xlink\">\r\n <defs>\r\n  <style type=\"text/css\">\r\n*{stroke-linecap:butt;stroke-linejoin:round;}\r\n  </style>\r\n </defs>\r\n <g id=\"figure_1\">\r\n  <g id=\"patch_1\">\r\n   <path d=\"M -0 252.018125 \r\nL 372.425 252.018125 \r\nL 372.425 0 \r\nL -0 0 \r\nz\r\n\" style=\"fill:none;\"/>\r\n  </g>\r\n  <g id=\"axes_1\">\r\n   <g id=\"patch_2\">\r\n    <path d=\"M 26.925 228.14 \r\nL 361.725 228.14 \r\nL 361.725 10.7 \r\nL 26.925 10.7 \r\nz\r\n\" style=\"fill:#ffffff;\"/>\r\n   </g>\r\n   <g id=\"matplotlib.axis_1\">\r\n    <g id=\"xtick_1\">\r\n     <g id=\"line2d_1\">\r\n      <defs>\r\n       <path d=\"M 0 0 \r\nL 0 3.5 \r\n\" id=\"mdc2a6a87be\" style=\"stroke:#000000;stroke-width:0.8;\"/>\r\n      </defs>\r\n      <g>\r\n       <use style=\"stroke:#000000;stroke-width:0.8;\" x=\"62.897957\" xlink:href=\"#mdc2a6a87be\" y=\"228.14\"/>\r\n      </g>\r\n     </g>\r\n     <g id=\"text_1\">\r\n      <!-- 0.5 -->\r\n      <defs>\r\n       <path d=\"M 31.78125 66.40625 \r\nQ 24.171875 66.40625 20.328125 58.90625 \r\nQ 16.5 51.421875 16.5 36.375 \r\nQ 16.5 21.390625 20.328125 13.890625 \r\nQ 24.171875 6.390625 31.78125 6.390625 \r\nQ 39.453125 6.390625 43.28125 13.890625 \r\nQ 47.125 21.390625 47.125 36.375 \r\nQ 47.125 51.421875 43.28125 58.90625 \r\nQ 39.453125 66.40625 31.78125 66.40625 \r\nz\r\nM 31.78125 74.21875 \r\nQ 44.046875 74.21875 50.515625 64.515625 \r\nQ 56.984375 54.828125 56.984375 36.375 \r\nQ 56.984375 17.96875 50.515625 8.265625 \r\nQ 44.046875 -1.421875 31.78125 -1.421875 \r\nQ 19.53125 -1.421875 13.0625 8.265625 \r\nQ 6.59375 17.96875 6.59375 36.375 \r\nQ 6.59375 54.828125 13.0625 64.515625 \r\nQ 19.53125 74.21875 31.78125 74.21875 \r\nz\r\n\" id=\"DejaVuSans-48\"/>\r\n       <path d=\"M 10.6875 12.40625 \r\nL 21 12.40625 \r\nL 21 0 \r\nL 10.6875 0 \r\nz\r\n\" id=\"DejaVuSans-46\"/>\r\n       <path d=\"M 10.796875 72.90625 \r\nL 49.515625 72.90625 \r\nL 49.515625 64.59375 \r\nL 19.828125 64.59375 \r\nL 19.828125 46.734375 \r\nQ 21.96875 47.46875 24.109375 47.828125 \r\nQ 26.265625 48.1875 28.421875 48.1875 \r\nQ 40.625 48.1875 47.75 41.5 \r\nQ 54.890625 34.8125 54.890625 23.390625 \r\nQ 54.890625 11.625 47.5625 5.09375 \r\nQ 40.234375 -1.421875 26.90625 -1.421875 \r\nQ 22.3125 -1.421875 17.546875 -0.640625 \r\nQ 12.796875 0.140625 7.71875 1.703125 \r\nL 7.71875 11.625 \r\nQ 12.109375 9.234375 16.796875 8.0625 \r\nQ 21.484375 6.890625 26.703125 6.890625 \r\nQ 35.15625 6.890625 40.078125 11.328125 \r\nQ 45.015625 15.765625 45.015625 23.390625 \r\nQ 45.015625 31 40.078125 35.4375 \r\nQ 35.15625 39.890625 26.703125 39.890625 \r\nQ 22.75 39.890625 18.8125 39.015625 \r\nQ 14.890625 38.140625 10.796875 36.28125 \r\nz\r\n\" id=\"DejaVuSans-53\"/>\r\n      </defs>\r\n      <g transform=\"translate(54.946394 242.738437)scale(0.1 -0.1)\">\r\n       <use xlink:href=\"#DejaVuSans-48\"/>\r\n       <use x=\"63.623047\" xlink:href=\"#DejaVuSans-46\"/>\r\n       <use x=\"95.410156\" xlink:href=\"#DejaVuSans-53\"/>\r\n      </g>\r\n     </g>\r\n    </g>\r\n    <g id=\"xtick_2\">\r\n     <g id=\"line2d_2\">\r\n      <g>\r\n       <use style=\"stroke:#000000;stroke-width:0.8;\" x=\"115.053495\" xlink:href=\"#mdc2a6a87be\" y=\"228.14\"/>\r\n      </g>\r\n     </g>\r\n     <g id=\"text_2\">\r\n      <!-- 1.0 -->\r\n      <defs>\r\n       <path d=\"M 12.40625 8.296875 \r\nL 28.515625 8.296875 \r\nL 28.515625 63.921875 \r\nL 10.984375 60.40625 \r\nL 10.984375 69.390625 \r\nL 28.421875 72.90625 \r\nL 38.28125 72.90625 \r\nL 38.28125 8.296875 \r\nL 54.390625 8.296875 \r\nL 54.390625 0 \r\nL 12.40625 0 \r\nz\r\n\" id=\"DejaVuSans-49\"/>\r\n      </defs>\r\n      <g transform=\"translate(107.101932 242.738437)scale(0.1 -0.1)\">\r\n       <use xlink:href=\"#DejaVuSans-49\"/>\r\n       <use x=\"63.623047\" xlink:href=\"#DejaVuSans-46\"/>\r\n       <use x=\"95.410156\" xlink:href=\"#DejaVuSans-48\"/>\r\n      </g>\r\n     </g>\r\n    </g>\r\n    <g id=\"xtick_3\">\r\n     <g id=\"line2d_3\">\r\n      <g>\r\n       <use style=\"stroke:#000000;stroke-width:0.8;\" x=\"167.209032\" xlink:href=\"#mdc2a6a87be\" y=\"228.14\"/>\r\n      </g>\r\n     </g>\r\n     <g id=\"text_3\">\r\n      <!-- 1.5 -->\r\n      <g transform=\"translate(159.25747 242.738437)scale(0.1 -0.1)\">\r\n       <use xlink:href=\"#DejaVuSans-49\"/>\r\n       <use x=\"63.623047\" xlink:href=\"#DejaVuSans-46\"/>\r\n       <use x=\"95.410156\" xlink:href=\"#DejaVuSans-53\"/>\r\n      </g>\r\n     </g>\r\n    </g>\r\n    <g id=\"xtick_4\">\r\n     <g id=\"line2d_4\">\r\n      <g>\r\n       <use style=\"stroke:#000000;stroke-width:0.8;\" x=\"219.36457\" xlink:href=\"#mdc2a6a87be\" y=\"228.14\"/>\r\n      </g>\r\n     </g>\r\n     <g id=\"text_4\">\r\n      <!-- 2.0 -->\r\n      <defs>\r\n       <path d=\"M 19.1875 8.296875 \r\nL 53.609375 8.296875 \r\nL 53.609375 0 \r\nL 7.328125 0 \r\nL 7.328125 8.296875 \r\nQ 12.9375 14.109375 22.625 23.890625 \r\nQ 32.328125 33.6875 34.8125 36.53125 \r\nQ 39.546875 41.84375 41.421875 45.53125 \r\nQ 43.3125 49.21875 43.3125 52.78125 \r\nQ 43.3125 58.59375 39.234375 62.25 \r\nQ 35.15625 65.921875 28.609375 65.921875 \r\nQ 23.96875 65.921875 18.8125 64.3125 \r\nQ 13.671875 62.703125 7.8125 59.421875 \r\nL 7.8125 69.390625 \r\nQ 13.765625 71.78125 18.9375 73 \r\nQ 24.125 74.21875 28.421875 74.21875 \r\nQ 39.75 74.21875 46.484375 68.546875 \r\nQ 53.21875 62.890625 53.21875 53.421875 \r\nQ 53.21875 48.921875 51.53125 44.890625 \r\nQ 49.859375 40.875 45.40625 35.40625 \r\nQ 44.1875 33.984375 37.640625 27.21875 \r\nQ 31.109375 20.453125 19.1875 8.296875 \r\nz\r\n\" id=\"DejaVuSans-50\"/>\r\n      </defs>\r\n      <g transform=\"translate(211.413008 242.738437)scale(0.1 -0.1)\">\r\n       <use xlink:href=\"#DejaVuSans-50\"/>\r\n       <use x=\"63.623047\" xlink:href=\"#DejaVuSans-46\"/>\r\n       <use x=\"95.410156\" xlink:href=\"#DejaVuSans-48\"/>\r\n      </g>\r\n     </g>\r\n    </g>\r\n    <g id=\"xtick_5\">\r\n     <g id=\"line2d_5\">\r\n      <g>\r\n       <use style=\"stroke:#000000;stroke-width:0.8;\" x=\"271.520108\" xlink:href=\"#mdc2a6a87be\" y=\"228.14\"/>\r\n      </g>\r\n     </g>\r\n     <g id=\"text_5\">\r\n      <!-- 2.5 -->\r\n      <g transform=\"translate(263.568545 242.738437)scale(0.1 -0.1)\">\r\n       <use xlink:href=\"#DejaVuSans-50\"/>\r\n       <use x=\"63.623047\" xlink:href=\"#DejaVuSans-46\"/>\r\n       <use x=\"95.410156\" xlink:href=\"#DejaVuSans-53\"/>\r\n      </g>\r\n     </g>\r\n    </g>\r\n    <g id=\"xtick_6\">\r\n     <g id=\"line2d_6\">\r\n      <g>\r\n       <use style=\"stroke:#000000;stroke-width:0.8;\" x=\"323.675646\" xlink:href=\"#mdc2a6a87be\" y=\"228.14\"/>\r\n      </g>\r\n     </g>\r\n     <g id=\"text_6\">\r\n      <!-- 3.0 -->\r\n      <defs>\r\n       <path d=\"M 40.578125 39.3125 \r\nQ 47.65625 37.796875 51.625 33 \r\nQ 55.609375 28.21875 55.609375 21.1875 \r\nQ 55.609375 10.40625 48.1875 4.484375 \r\nQ 40.765625 -1.421875 27.09375 -1.421875 \r\nQ 22.515625 -1.421875 17.65625 -0.515625 \r\nQ 12.796875 0.390625 7.625 2.203125 \r\nL 7.625 11.71875 \r\nQ 11.71875 9.328125 16.59375 8.109375 \r\nQ 21.484375 6.890625 26.8125 6.890625 \r\nQ 36.078125 6.890625 40.9375 10.546875 \r\nQ 45.796875 14.203125 45.796875 21.1875 \r\nQ 45.796875 27.640625 41.28125 31.265625 \r\nQ 36.765625 34.90625 28.71875 34.90625 \r\nL 20.21875 34.90625 \r\nL 20.21875 43.015625 \r\nL 29.109375 43.015625 \r\nQ 36.375 43.015625 40.234375 45.921875 \r\nQ 44.09375 48.828125 44.09375 54.296875 \r\nQ 44.09375 59.90625 40.109375 62.90625 \r\nQ 36.140625 65.921875 28.71875 65.921875 \r\nQ 24.65625 65.921875 20.015625 65.03125 \r\nQ 15.375 64.15625 9.8125 62.3125 \r\nL 9.8125 71.09375 \r\nQ 15.4375 72.65625 20.34375 73.4375 \r\nQ 25.25 74.21875 29.59375 74.21875 \r\nQ 40.828125 74.21875 47.359375 69.109375 \r\nQ 53.90625 64.015625 53.90625 55.328125 \r\nQ 53.90625 49.265625 50.4375 45.09375 \r\nQ 46.96875 40.921875 40.578125 39.3125 \r\nz\r\n\" id=\"DejaVuSans-51\"/>\r\n      </defs>\r\n      <g transform=\"translate(315.724083 242.738437)scale(0.1 -0.1)\">\r\n       <use xlink:href=\"#DejaVuSans-51\"/>\r\n       <use x=\"63.623047\" xlink:href=\"#DejaVuSans-46\"/>\r\n       <use x=\"95.410156\" xlink:href=\"#DejaVuSans-48\"/>\r\n      </g>\r\n     </g>\r\n    </g>\r\n   </g>\r\n   <g id=\"matplotlib.axis_2\">\r\n    <g id=\"ytick_1\">\r\n     <g id=\"line2d_7\">\r\n      <defs>\r\n       <path d=\"M 0 0 \r\nL -3.5 0 \r\n\" id=\"mdac28f23ac\" style=\"stroke:#000000;stroke-width:0.8;\"/>\r\n      </defs>\r\n      <g>\r\n       <use style=\"stroke:#000000;stroke-width:0.8;\" x=\"26.925\" xlink:href=\"#mdac28f23ac\" y=\"218.256364\"/>\r\n      </g>\r\n     </g>\r\n     <g id=\"text_7\">\r\n      <!-- 0 -->\r\n      <g transform=\"translate(13.5625 222.055582)scale(0.1 -0.1)\">\r\n       <use xlink:href=\"#DejaVuSans-48\"/>\r\n      </g>\r\n     </g>\r\n    </g>\r\n    <g id=\"ytick_2\">\r\n     <g id=\"line2d_8\">\r\n      <g>\r\n       <use style=\"stroke:#000000;stroke-width:0.8;\" x=\"26.925\" xlink:href=\"#mdac28f23ac\" y=\"175.284032\"/>\r\n      </g>\r\n     </g>\r\n     <g id=\"text_8\">\r\n      <!-- 5 -->\r\n      <g transform=\"translate(13.5625 179.08325)scale(0.1 -0.1)\">\r\n       <use xlink:href=\"#DejaVuSans-53\"/>\r\n      </g>\r\n     </g>\r\n    </g>\r\n    <g id=\"ytick_3\">\r\n     <g id=\"line2d_9\">\r\n      <g>\r\n       <use style=\"stroke:#000000;stroke-width:0.8;\" x=\"26.925\" xlink:href=\"#mdac28f23ac\" y=\"132.3117\"/>\r\n      </g>\r\n     </g>\r\n     <g id=\"text_9\">\r\n      <!-- 10 -->\r\n      <g transform=\"translate(7.2 136.110918)scale(0.1 -0.1)\">\r\n       <use xlink:href=\"#DejaVuSans-49\"/>\r\n       <use x=\"63.623047\" xlink:href=\"#DejaVuSans-48\"/>\r\n      </g>\r\n     </g>\r\n    </g>\r\n    <g id=\"ytick_4\">\r\n     <g id=\"line2d_10\">\r\n      <g>\r\n       <use style=\"stroke:#000000;stroke-width:0.8;\" x=\"26.925\" xlink:href=\"#mdac28f23ac\" y=\"89.339368\"/>\r\n      </g>\r\n     </g>\r\n     <g id=\"text_10\">\r\n      <!-- 15 -->\r\n      <g transform=\"translate(7.2 93.138586)scale(0.1 -0.1)\">\r\n       <use xlink:href=\"#DejaVuSans-49\"/>\r\n       <use x=\"63.623047\" xlink:href=\"#DejaVuSans-53\"/>\r\n      </g>\r\n     </g>\r\n    </g>\r\n    <g id=\"ytick_5\">\r\n     <g id=\"line2d_11\">\r\n      <g>\r\n       <use style=\"stroke:#000000;stroke-width:0.8;\" x=\"26.925\" xlink:href=\"#mdac28f23ac\" y=\"46.367036\"/>\r\n      </g>\r\n     </g>\r\n     <g id=\"text_11\">\r\n      <!-- 20 -->\r\n      <g transform=\"translate(7.2 50.166254)scale(0.1 -0.1)\">\r\n       <use xlink:href=\"#DejaVuSans-50\"/>\r\n       <use x=\"63.623047\" xlink:href=\"#DejaVuSans-48\"/>\r\n      </g>\r\n     </g>\r\n    </g>\r\n   </g>\r\n   <g id=\"line2d_12\">\r\n    <path clip-path=\"url(#p805c718c2d)\" d=\"M 156.563045 218.256364 \r\nL 126.939048 209.661897 \r\nL 110.280482 201.067431 \r\nL 98.895505 192.472964 \r\nL 90.376414 183.878498 \r\nL 83.652732 175.284032 \r\nL 78.154876 166.689565 \r\nL 73.543944 158.095099 \r\nL 69.602179 149.500632 \r\nL 66.181557 140.906166 \r\nL 63.177027 132.3117 \r\nL 60.51145 123.717233 \r\nL 58.126599 115.122767 \r\nL 55.977497 106.5283 \r\nL 54.028735 97.933834 \r\nL 52.251969 89.339368 \r\nL 50.624188 80.744901 \r\nL 49.126473 72.150435 \r\nL 47.743107 63.555968 \r\nL 46.460897 54.961502 \r\nL 45.268678 46.367036 \r\nL 44.156923 37.772569 \r\nL 43.11745 29.178103 \r\nL 42.143182 20.583636 \r\n\" style=\"fill:none;stroke:#1f77b4;stroke-linecap:square;stroke-width:1.5;\"/>\r\n   </g>\r\n   <g id=\"line2d_13\">\r\n    <path clip-path=\"url(#p805c718c2d)\" d=\"M 346.506818 218.256364 \r\nL 278.295045 209.661897 \r\nL 239.937278 201.067431 \r\nL 213.7224 192.472964 \r\nL 194.106469 183.878498 \r\nL 178.624619 175.284032 \r\nL 165.965337 166.689565 \r\nL 155.348275 158.095099 \r\nL 146.272025 149.500632 \r\nL 138.395751 140.906166 \r\nL 131.477564 132.3117 \r\nL 125.339849 123.717233 \r\nL 119.848524 115.122767 \r\nL 114.900035 106.5283 \r\nL 110.412846 97.933834 \r\nL 106.321691 89.339368 \r\nL 102.573584 80.744901 \r\nL 99.12497 72.150435 \r\nL 95.939652 63.555968 \r\nL 92.987254 54.961502 \r\nL 90.242068 46.367036 \r\nL 87.682158 37.772569 \r\nL 85.288682 29.178103 \r\nL 83.045347 20.583636 \r\n\" style=\"fill:none;stroke:#ff0000;stroke-linecap:square;stroke-width:1.5;\"/>\r\n   </g>\r\n   <g id=\"patch_3\">\r\n    <path d=\"M 26.925 228.14 \r\nL 26.925 10.7 \r\n\" style=\"fill:none;stroke:#000000;stroke-linecap:square;stroke-linejoin:miter;stroke-width:0.8;\"/>\r\n   </g>\r\n   <g id=\"patch_4\">\r\n    <path d=\"M 361.725 228.14 \r\nL 361.725 10.7 \r\n\" style=\"fill:none;stroke:#000000;stroke-linecap:square;stroke-linejoin:miter;stroke-width:0.8;\"/>\r\n   </g>\r\n   <g id=\"patch_5\">\r\n    <path d=\"M 26.925 228.14 \r\nL 361.725 228.14 \r\n\" style=\"fill:none;stroke:#000000;stroke-linecap:square;stroke-linejoin:miter;stroke-width:0.8;\"/>\r\n   </g>\r\n   <g id=\"patch_6\">\r\n    <path d=\"M 26.925 10.7 \r\nL 361.725 10.7 \r\n\" style=\"fill:none;stroke:#000000;stroke-linecap:square;stroke-linejoin:miter;stroke-width:0.8;\"/>\r\n   </g>\r\n  </g>\r\n </g>\r\n <defs>\r\n  <clipPath id=\"p805c718c2d\">\r\n   <rect height=\"217.44\" width=\"334.8\" x=\"26.925\" y=\"10.7\"/>\r\n  </clipPath>\r\n </defs>\r\n</svg>\r\n",
      "image/png": "[encoded data removed]"
     },
     "metadata": {
      "needs_background": "light"
     }
    }
   ],
   "source": [
    "ig = plt.figure()\n",
    "ax = plt.axes()\n",
    "\n",
    "x = np.linspace(0, 10, 1000)\n",
    "ax.plot(log_10, range(24))\n",
    "ax.plot(log, range(24),color= 'r')"
   ]
  },
  {
   "source": [
    "### COnstruccion de los enlaces"
   ],
   "cell_type": "markdown",
   "metadata": {}
  },
  {
   "cell_type": "code",
   "execution_count": 20,
   "metadata": {},
   "outputs": [],
   "source": [
    "temp = total_tokens + bigramas\n",
    "\n",
    "for i in hastag:\n",
    "    for a in temp:\n",
    "        freq_dict[a] += similar(a,i)\n"
   ]
  },
  {
   "cell_type": "code",
   "execution_count": 21,
   "metadata": {},
   "outputs": [
    {
     "output_type": "execute_result",
     "data": {
      "text/plain": "[&#39;arroz&#39;,\n &#39;chino&#39;,\n &#39;estilo&#39;,\n &#39;gusto&#39;,\n &#39;gourmet&#39;,\n &#39;disfruta&#39;,\n &#39;ricos&#39;,\n &#39;combos&#39;,\n &#39;elaborados&#39;,\n &#39;mejores&#39;,\n &#39;ingredientes&#39;,\n &#39;arroz chino&#39;,\n &#39;chino estilo&#39;,\n &#39;estilo gusto&#39;,\n &#39;gusto gourmet&#39;,\n &#39;gourmet disfruta&#39;,\n &#39;disfruta ricos&#39;,\n &#39;ricos combos&#39;,\n &#39;combos elaborados&#39;,\n &#39;elaborados mejores&#39;,\n &#39;mejores ingredientes&#39;,\n &#39;arroz chino&#39;,\n &#39;chino estilo&#39;,\n &#39;estilo gusto&#39;,\n &#39;gusto gourmet&#39;,\n &#39;gourmet disfruta&#39;,\n &#39;disfruta ricos&#39;,\n &#39;ricos combos&#39;,\n &#39;combos elaborados&#39;,\n &#39;elaborados mejores&#39;,\n &#39;mejores ingredientes&#39;]"
     },
     "metadata": {},
     "execution_count": 21
    }
   ],
   "source": [
    "temp"
   ]
  },
  {
   "cell_type": "code",
   "execution_count": 157,
   "metadata": {},
   "outputs": [
    {
     "output_type": "execute_result",
     "data": {
      "text/plain": "[&#39;Arroz chino&#39;,\n &#39;chino estilo&#39;,\n &#39;estilo Gusto&#39;,\n &#39;Gusto Gourmet&#39;,\n &#39;Gourmet disfruta&#39;,\n &#39;disfruta ricos&#39;,\n &#39;ricos combos&#39;,\n &#39;combos elaborados&#39;,\n &#39;elaborados mejores&#39;,\n &#39;mejores ingredientes&#39;]"
     },
     "metadata": {},
     "execution_count": 157
    }
   ],
   "source": [
    "bigramas"
   ]
  },
  {
   "cell_type": "code",
   "execution_count": 22,
   "metadata": {},
   "outputs": [
    {
     "output_type": "execute_result",
     "data": {
      "text/plain": "{&#39;arroz&#39;: 1.8014492753623188,\n &#39;chino&#39;: 1.8181159420289854,\n &#39;estilo&#39;: 1.5971428571428572,\n &#39;gusto&#39;: 1.8036231884057972,\n &#39;gourmet&#39;: 2.3348251748251747,\n &#39;disfruta&#39;: 1.6369379412857674,\n &#39;ricos&#39;: 1.4442028985507247,\n &#39;combos&#39;: 1.6923809523809523,\n &#39;elaborados&#39;: 1.6697536945812808,\n &#39;mejores&#39;: 1.5695104895104897,\n &#39;ingredientes&#39;: 1.746953405017921,\n &#39;arroz chino&#39;: 2.9536693191865604,\n &#39;chino estilo&#39;: 3.0611708482676225,\n &#39;estilo gusto&#39;: 2.2081242532855434,\n &#39;gusto gourmet&#39;: 3.887096774193548,\n &#39;gourmet disfruta&#39;: 3.402385470317159,\n &#39;disfruta ricos&#39;: 2.2736415882967607,\n &#39;ricos combos&#39;: 2.0833930704898447,\n &#39;combos elaborados&#39;: 2.5126984126984127,\n &#39;elaborados mejores&#39;: 2.5981435981435985,\n &#39;mejores ingredientes&#39;: 2.3819934451513394}"
     },
     "metadata": {},
     "execution_count": 22
    }
   ],
   "source": [
    "freq_dict"
   ]
  },
  {
   "cell_type": "code",
   "execution_count": 33,
   "metadata": {},
   "outputs": [],
   "source": [
    "def benford_preference(a):\n",
    "\n",
    "    for i in range(len(a)):\n",
    "        \n",
    "        c = (i + 1)/len(a)\n",
    "        \n",
    "        freq_dict[ a[i] ] *=  benford(c)\n"
   ]
  },
  {
   "cell_type": "code",
   "execution_count": 36,
   "metadata": {},
   "outputs": [
    {
     "output_type": "execute_result",
     "data": {
      "text/plain": "{&#39;arroz&#39;: 4.4764332836036,\n &#39;chino&#39;: 3.403153378149342,\n &#39;estilo&#39;: 2.4603107939698754,\n &#39;gusto&#39;: 2.3839494824028935,\n &#39;gourmet&#39;: 2.7157537928525923,\n &#39;disfruta&#39;: 1.7047953618052956,\n &#39;ricos&#39;: 1.363994193057838,\n &#39;combos&#39;: 1.463905187060663,\n &#39;elaborados&#39;: 1.333311175911211,\n &#39;mejores&#39;: 1.164478445112318,\n &#39;ingredientes&#39;: 1.2108958272577681,\n &#39;arroz chino&#39;: 7.082589697887035,\n &#39;chino estilo&#39;: 5.48488185430839,\n &#39;estilo gusto&#39;: 3.2378544450943987,\n &#39;gusto gourmet&#39;: 4.8696108936674785,\n &#39;gourmet disfruta&#39;: 3.7379024884762573,\n &#39;disfruta ricos&#39;: 2.2300541806655065,\n &#39;ricos combos&#39;: 1.8486013278883806,\n &#39;combos elaborados&#39;: 2.03762306709595,\n &#39;elaborados mejores&#39;: 1.9413703145558874,\n &#39;mejores ingredientes&#39;: 1.6510720406189217}"
     },
     "metadata": {},
     "execution_count": 36
    }
   ],
   "source": [
    "freq_dict"
   ]
  },
  {
   "cell_type": "code",
   "execution_count": 35,
   "metadata": {},
   "outputs": [],
   "source": [
    "benford_preference(bigramas)"
   ]
  },
  {
   "cell_type": "code",
   "execution_count": 28,
   "metadata": {},
   "outputs": [
    {
     "output_type": "execute_result",
     "data": {
      "text/plain": "[&#39;arroz&#39;,\n &#39;chino&#39;,\n &#39;estilo&#39;,\n &#39;gusto&#39;,\n &#39;gourmet&#39;,\n &#39;disfruta&#39;,\n &#39;ricos&#39;,\n &#39;combos&#39;,\n &#39;elaborados&#39;,\n &#39;mejores&#39;,\n &#39;ingredientes&#39;]"
     },
     "metadata": {},
     "execution_count": 28
    }
   ],
   "source": [
    "tokens"
   ]
  },
  {
   "cell_type": "code",
   "execution_count": 51,
   "metadata": {},
   "outputs": [
    {
     "output_type": "execute_result",
     "data": {
      "text/plain": "[(&#39;arroz chino&#39;, 7.082589697887035),\n (&#39;chino estilo&#39;, 5.48488185430839),\n (&#39;gusto gourmet&#39;, 4.8696108936674785),\n (&#39;arroz&#39;, 4.4764332836036),\n (&#39;gourmet disfruta&#39;, 3.7379024884762573),\n (&#39;chino&#39;, 3.403153378149342),\n (&#39;estilo gusto&#39;, 3.2378544450943987),\n (&#39;gourmet&#39;, 2.7157537928525923),\n (&#39;estilo&#39;, 2.4603107939698754),\n (&#39;gusto&#39;, 2.3839494824028935),\n (&#39;disfruta ricos&#39;, 2.2300541806655065),\n (&#39;combos elaborados&#39;, 2.03762306709595),\n (&#39;elaborados mejores&#39;, 1.9413703145558874),\n (&#39;ricos combos&#39;, 1.8486013278883806),\n (&#39;disfruta&#39;, 1.7047953618052956),\n (&#39;mejores ingredientes&#39;, 1.6510720406189217),\n (&#39;combos&#39;, 1.463905187060663),\n (&#39;ricos&#39;, 1.363994193057838),\n (&#39;elaborados&#39;, 1.333311175911211),\n (&#39;ingredientes&#39;, 1.2108958272577681),\n (&#39;mejores&#39;, 1.164478445112318)]"
     },
     "metadata": {},
     "execution_count": 51
    }
   ],
   "source": [
    "sorted(freq_dict.items(), key=lambda x: x[1], reverse=True)"
   ]
  },
  {
   "cell_type": "code",
   "execution_count": 53,
   "metadata": {},
   "outputs": [
    {
     "output_type": "execute_result",
     "data": {
      "text/plain": "&#39;arroz chino&#39;"
     },
     "metadata": {},
     "execution_count": 53
    }
   ],
   "source": [
    "max(freq_dict, key=freq_dict.get )"
   ]
  },
  {
   "source": [
    "# Funcion para obtener el nombre del plato"
   ],
   "cell_type": "markdown",
   "metadata": {}
  },
  {
   "cell_type": "code",
   "execution_count": null,
   "metadata": {},
   "outputs": [],
   "source": [
    "def name_plate(content_list):\n",
    "\n",
    "    # Main Func to find \"plate's names\"\n",
    "\n",
    "    for i in content_list:\n",
    "\n",
    "        tokens, hastag, bigramas = part_content( i )\n",
    "\n",
    "        "
   ]
  }
 ]
}