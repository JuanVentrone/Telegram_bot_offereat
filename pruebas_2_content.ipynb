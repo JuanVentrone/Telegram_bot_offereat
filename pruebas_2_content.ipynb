{
 "metadata": {
  "language_info": {
   "codemirror_mode": {
    "name": "ipython",
    "version": 3
   },
   "file_extension": ".py",
   "mimetype": "text/x-python",
   "name": "python",
   "nbconvert_exporter": "python",
   "pygments_lexer": "ipython3",
   "version": "3.7.3-final"
  },
  "orig_nbformat": 2,
  "kernelspec": {
   "name": "Python 3.7.3 64-bit ('Anaconda3': conda)",
   "display_name": "Python 3.7.3 64-bit ('Anaconda3': conda)",
   "metadata": {
    "interpreter": {
     "hash": "5b5eafffc98448ba74364d3e784907eb4436678064263856722b7b046d45f62e"
    }
   }
  }
 },
 "nbformat": 4,
 "nbformat_minor": 2,
 "cells": [
  {
   "cell_type": "code",
   "execution_count": 2,
   "metadata": {},
   "outputs": [],
   "source": [
    "import pandas as pd\n",
    "import numpy as np\n",
    "import nltk \n",
    "import matplotlib.pyplot as plt"
   ]
  },
  {
   "cell_type": "code",
   "execution_count": 1,
   "metadata": {},
   "outputs": [],
   "source": [
    "import re"
   ]
  },
  {
   "source": [
    "## Medida de riqueza lexica en un texto: \n",
    "$$ R_l = \\frac{\\text{total de palabras únicas}}{\\text{total de palabras}} = \\frac{\\text{longitud del vocabulario}}{\\text{longitud del texto}}$$ "
   ],
   "cell_type": "markdown",
   "metadata": {}
  },
  {
   "source": [
    "pattern = r'''(?x)                  # Flag para iniciar el modo verbose\n",
    "              (?:[A-Z]\\.)+            # Hace match con abreviaciones como U.S.A.\n",
    "              | \\w+(?:-\\w+)*         # Hace match con palabras que pueden tener un guión interno\n",
    "              | \\$?\\d+(?:\\.\\d+)?%?  # Hace match con dinero o porcentajes como $15.5 o 100%\n",
    "              | \\.\\.\\.              # Hace match con puntos suspensivos\n",
    "              | [][.,;\"'?():-_`]    # Hace match con signos de puntuación\n",
    "'''"
   ],
   "cell_type": "code",
   "metadata": {},
   "execution_count": 3,
   "outputs": []
  },
  {
   "source": [
    "datos = pd.read_csv(\"ig_scrapper/database/uni data/data_finito.csv\")"
   ],
   "cell_type": "code",
   "metadata": {},
   "execution_count": 4,
   "outputs": []
  },
  {
   "cell_type": "code",
   "execution_count": 5,
   "metadata": {},
   "outputs": [],
   "source": [
    "data = datos.copy(deep=True)"
   ]
  },
  {
   "cell_type": "code",
   "execution_count": 30,
   "metadata": {},
   "outputs": [],
   "source": [
    "token =  nltk.regexp_tokenize(data['content'][274],pattern)"
   ]
  },
  {
   "cell_type": "code",
   "execution_count": 6,
   "metadata": {},
   "outputs": [
    {
     "output_type": "execute_result",
     "data": {
      "text/plain": "                timestamp             user name                user url  \\\n0    18 de agosto de 2020      clubhouseexpress      /clubhouseexpress/   \n1    18 de agosto de 2020      clubhouseexpress      /clubhouseexpress/   \n2    18 de agosto de 2020      clubhouseexpress      /clubhouseexpress/   \n3    18 de agosto de 2020      clubhouseexpress      /clubhouseexpress/   \n4    18 de agosto de 2020      clubhouseexpress      /clubhouseexpress/   \n..                    ...                   ...                     ...   \n530  28 de agosto de 2020        fratellos.vzla        /fratellos.vzla/   \n531  28 de agosto de 2020          telepizza041          /telepizza041/   \n532  28 de agosto de 2020          telepizza041          /telepizza041/   \n533  28 de agosto de 2020  escueladeparrilleros  /escueladeparrilleros/   \n534  28 de agosto de 2020        condulzura.val        /condulzura.val/   \n\n                                               img url  \\\n0    https://scontent-mia3-2.cdninstagram.com/v/t51...   \n1    https://scontent-mia3-1.cdninstagram.com/v/t51...   \n2    https://scontent-mia3-2.cdninstagram.com/v/t51...   \n3    https://scontent-mia3-2.cdninstagram.com/v/t51...   \n4    https://scontent-mia3-1.cdninstagram.com/v/t51...   \n..                                                 ...   \n530  https://scontent-mia3-2.cdninstagram.com/v/t51...   \n531  https://scontent-mia3-1.cdninstagram.com/v/t51...   \n532  https://scontent-mia3-2.cdninstagram.com/v/t51...   \n533  https://scontent-mia3-1.cdninstagram.com/v/t51...   \n534  https://scontent-mia3-1.cdninstagram.com/v/t51...   \n\n                                               content  \\\n0    [&#39;Empezamos la semana de la mejor manera y que...   \n1    No puedes dejar de probar el único Club House ...   \n2    🌴Club House Los Roques🌴\\n⠀⠀⠀⠀⠀⠀⠀⠀⠀⠀⠀⠀⠀⠀⠀⠀⠀⠀⠀⠀⠀...   \n3    ⛰️ Bandeja Caracas ⛰️ \\n⠀⠀⠀⠀⠀⠀⠀⠀⠀⠀⠀⠀⠀⠀⠀⠀⠀⠀⠀⠀⠀⠀...   \n4                                                  NaN   \n..                                                 ...   \n530                                                NaN   \n531  [&#39;#pizza #foodvalencia #pizzavalencia #Telepiz...   \n532  ¡La felicidad viene en una caja cuadrada y en ...   \n533  [&#39;¡Allá nos vemos!.Reposted from @delimarketva...   \n534  [&#39;La mejor parte del postre es cuando lo compa...   \n\n                             telefono          price  \n0                       0424-437.0329             []  \n1                       0424-437.0329             []  \n2                       0424-437.0329             []  \n3                       0424-437.0329             []  \n4                       0424-437.0329            NaN  \n..                                ...            ...  \n530  [&#39;0424 4369291&#39;, &#39;0424 4273837&#39;]            NaN  \n531                    0414-420.55.99             []  \n532                    0414-420.55.99             []  \n533                      0424-4192918  [&#39;$10&#39;, &#39;$7&#39;]  \n534                               NaN             []  \n\n[535 rows x 7 columns]",
      "text/html": "<div>\n<style scoped>\n    .dataframe tbody tr th:only-of-type {\n        vertical-align: middle;\n    }\n\n    .dataframe tbody tr th {\n        vertical-align: top;\n    }\n\n    .dataframe thead th {\n        text-align: right;\n    }\n</style>\n<table border=\"1\" class=\"dataframe\">\n  <thead>\n    <tr style=\"text-align: right;\">\n      <th></th>\n      <th>timestamp</th>\n      <th>user name</th>\n      <th>user url</th>\n      <th>img url</th>\n      <th>content</th>\n      <th>telefono</th>\n      <th>price</th>\n    </tr>\n  </thead>\n  <tbody>\n    <tr>\n      <th>0</th>\n      <td>18 de agosto de 2020</td>\n      <td>clubhouseexpress</td>\n      <td>/clubhouseexpress/</td>\n      <td>https://scontent-mia3-2.cdninstagram.com/v/t51...</td>\n      <td>['Empezamos la semana de la mejor manera y que...</td>\n      <td>0424-437.0329</td>\n      <td>[]</td>\n    </tr>\n    <tr>\n      <th>1</th>\n      <td>18 de agosto de 2020</td>\n      <td>clubhouseexpress</td>\n      <td>/clubhouseexpress/</td>\n      <td>https://scontent-mia3-1.cdninstagram.com/v/t51...</td>\n      <td>No puedes dejar de probar el único Club House ...</td>\n      <td>0424-437.0329</td>\n      <td>[]</td>\n    </tr>\n    <tr>\n      <th>2</th>\n      <td>18 de agosto de 2020</td>\n      <td>clubhouseexpress</td>\n      <td>/clubhouseexpress/</td>\n      <td>https://scontent-mia3-2.cdninstagram.com/v/t51...</td>\n      <td>🌴Club House Los Roques🌴\\n⠀⠀⠀⠀⠀⠀⠀⠀⠀⠀⠀⠀⠀⠀⠀⠀⠀⠀⠀⠀⠀...</td>\n      <td>0424-437.0329</td>\n      <td>[]</td>\n    </tr>\n    <tr>\n      <th>3</th>\n      <td>18 de agosto de 2020</td>\n      <td>clubhouseexpress</td>\n      <td>/clubhouseexpress/</td>\n      <td>https://scontent-mia3-2.cdninstagram.com/v/t51...</td>\n      <td>⛰️ Bandeja Caracas ⛰️ \\n⠀⠀⠀⠀⠀⠀⠀⠀⠀⠀⠀⠀⠀⠀⠀⠀⠀⠀⠀⠀⠀⠀...</td>\n      <td>0424-437.0329</td>\n      <td>[]</td>\n    </tr>\n    <tr>\n      <th>4</th>\n      <td>18 de agosto de 2020</td>\n      <td>clubhouseexpress</td>\n      <td>/clubhouseexpress/</td>\n      <td>https://scontent-mia3-1.cdninstagram.com/v/t51...</td>\n      <td>NaN</td>\n      <td>0424-437.0329</td>\n      <td>NaN</td>\n    </tr>\n    <tr>\n      <th>...</th>\n      <td>...</td>\n      <td>...</td>\n      <td>...</td>\n      <td>...</td>\n      <td>...</td>\n      <td>...</td>\n      <td>...</td>\n    </tr>\n    <tr>\n      <th>530</th>\n      <td>28 de agosto de 2020</td>\n      <td>fratellos.vzla</td>\n      <td>/fratellos.vzla/</td>\n      <td>https://scontent-mia3-2.cdninstagram.com/v/t51...</td>\n      <td>NaN</td>\n      <td>['0424 4369291', '0424 4273837']</td>\n      <td>NaN</td>\n    </tr>\n    <tr>\n      <th>531</th>\n      <td>28 de agosto de 2020</td>\n      <td>telepizza041</td>\n      <td>/telepizza041/</td>\n      <td>https://scontent-mia3-1.cdninstagram.com/v/t51...</td>\n      <td>['#pizza #foodvalencia #pizzavalencia #Telepiz...</td>\n      <td>0414-420.55.99</td>\n      <td>[]</td>\n    </tr>\n    <tr>\n      <th>532</th>\n      <td>28 de agosto de 2020</td>\n      <td>telepizza041</td>\n      <td>/telepizza041/</td>\n      <td>https://scontent-mia3-2.cdninstagram.com/v/t51...</td>\n      <td>¡La felicidad viene en una caja cuadrada y en ...</td>\n      <td>0414-420.55.99</td>\n      <td>[]</td>\n    </tr>\n    <tr>\n      <th>533</th>\n      <td>28 de agosto de 2020</td>\n      <td>escueladeparrilleros</td>\n      <td>/escueladeparrilleros/</td>\n      <td>https://scontent-mia3-1.cdninstagram.com/v/t51...</td>\n      <td>['¡Allá nos vemos!.Reposted from @delimarketva...</td>\n      <td>0424-4192918</td>\n      <td>['$10', '$7']</td>\n    </tr>\n    <tr>\n      <th>534</th>\n      <td>28 de agosto de 2020</td>\n      <td>condulzura.val</td>\n      <td>/condulzura.val/</td>\n      <td>https://scontent-mia3-1.cdninstagram.com/v/t51...</td>\n      <td>['La mejor parte del postre es cuando lo compa...</td>\n      <td>NaN</td>\n      <td>[]</td>\n    </tr>\n  </tbody>\n</table>\n<p>535 rows × 7 columns</p>\n</div>"
     },
     "metadata": {},
     "execution_count": 6
    }
   ],
   "source": [
    "data.drop( data.columns[data.columns.str.contains('unnamed', case = False )], axis = 1, inplace = True )\n",
    "data"
   ]
  },
  {
   "cell_type": "code",
   "execution_count": 10,
   "metadata": {},
   "outputs": [],
   "source": [
    "re_patron = re.compile(r'[#]\\w+')"
   ]
  },
  {
   "cell_type": "code",
   "execution_count": 8,
   "metadata": {},
   "outputs": [
    {
     "output_type": "execute_result",
     "data": {
      "text/plain": "'Tenemos los mejores contornos tradicionales, esos que no pueden faltar en la mesa de un Venezolano🇻🇪son perfecto para hacerte más fácil el trabajo en la cocina 👏🏼\\nContamos con:\\n•Caraotas \\n•Carne Mechada\\n•Pollo Mechado\\n•Asado Negro \\n•Cazón \\nY muchos más \\n📲Contáctanos +58 424-4967669\\n.\\n.\\n#follow #followforfollow #likeforlike #follow4followback #venezuelanfood #desayunocriollo #desayunovenezonalo #desayuno #criollo #comidavenezolana #venezuelanfood #comida #food #breakfast #valenciavenezuela #venezuela #valencia #delivery #deliveryvalencia #pollomechado #arepas #tacos #caraotasnegras #aguacate #areparellena #rellenodearepa #carnemechada #talentovenezolano #hechoencasa #ricoysaludable'"
     },
     "metadata": {},
     "execution_count": 8
    }
   ],
   "source": [
    "data['content'][12]"
   ]
  },
  {
   "cell_type": "code",
   "execution_count": 14,
   "metadata": {},
   "outputs": [
    {
     "output_type": "execute_result",
     "data": {
      "text/plain": "['#gustogourmetburguer', '#arrozchinovalencia', '#valenciagourmet']"
     },
     "metadata": {},
     "execution_count": 14
    }
   ],
   "source": [
    "re_patron.findall(data['content'][103])"
   ]
  },
  {
   "cell_type": "code",
   "execution_count": 16,
   "metadata": {},
   "outputs": [],
   "source": [
    "token = ['#gustogourmetburguer', '#arrozchinovalencia', '#valenciagourmet']"
   ]
  },
  {
   "cell_type": "code",
   "execution_count": 18,
   "metadata": {},
   "outputs": [
    {
     "output_type": "execute_result",
     "data": {
      "text/plain": "'gustogourmetburguer'"
     },
     "metadata": {},
     "execution_count": 18
    }
   ],
   "source": [
    "token[0].replace('#','')"
   ]
  },
  {
   "cell_type": "code",
   "execution_count": 19,
   "metadata": {},
   "outputs": [],
   "source": [
    "new_token = [i.replace('#','') for i in token]"
   ]
  },
  {
   "cell_type": "code",
   "execution_count": 20,
   "metadata": {},
   "outputs": [
    {
     "output_type": "execute_result",
     "data": {
      "text/plain": "['gustogourmetburguer', 'arrozchinovalencia', 'valenciagourmet']"
     },
     "metadata": {},
     "execution_count": 20
    }
   ],
   "source": [
    "new_token"
   ]
  },
  {
   "cell_type": "code",
   "execution_count": 42,
   "metadata": {},
   "outputs": [],
   "source": [
    "content_token_list = nltk.regexp_tokenize(data['content'][12],pattern)"
   ]
  },
  {
   "cell_type": "code",
   "execution_count": 47,
   "metadata": {},
   "outputs": [
    {
     "output_type": "execute_result",
     "data": {
      "text/plain": "'Arroz chino al estilo \"Gusto Gourmet\" disfruta de nuestros ricos combos elaborados con los mejores ingredientes #gustogourmetburguer #arrozchinovalencia #valenciagourmet'"
     },
     "metadata": {},
     "execution_count": 47
    }
   ],
   "source": [
    "data['content'][103]"
   ]
  },
  {
   "cell_type": "code",
   "execution_count": 49,
   "metadata": {},
   "outputs": [],
   "source": [
    "for i in new_token:\n",
    "    if i in content_token_list: content_token_list.remove(i)"
   ]
  },
  {
   "source": [
    "## Creando una funcion filtro"
   ],
   "cell_type": "markdown",
   "metadata": {}
  },
  {
   "cell_type": "code",
   "execution_count": 11,
   "metadata": {},
   "outputs": [],
   "source": [
    "def find_food(content):\n",
    "\n",
    "    lista_h = re_patron.findall( content )\n",
    "    lista_h = [i.replace('#','') for i in lista_h]\n",
    "    tokens =  nltk.regexp_tokenize( content, pattern )\n",
    "    \n",
    "    for i in lista_h:\n",
    "        if i in tokens: tokens.remove(i)\n",
    "        \n",
    "    return tokens, lista_h\n",
    "\n",
    "\n"
   ]
  },
  {
   "cell_type": "code",
   "execution_count": 53,
   "metadata": {
    "tags": []
   },
   "outputs": [
    {
     "output_type": "stream",
     "name": "stdout",
     "text": "socio\n"
    }
   ],
   "source": [
    "cuenta = [ print('socio') for i in range(3) if i == 1]"
   ]
  },
  {
   "cell_type": "code",
   "execution_count": 55,
   "metadata": {},
   "outputs": [],
   "source": [
    "token = find_food(data['content'][103])"
   ]
  },
  {
   "cell_type": "code",
   "execution_count": 56,
   "metadata": {},
   "outputs": [
    {
     "output_type": "execute_result",
     "data": {
      "text/plain": "[]"
     },
     "metadata": {},
     "execution_count": 56
    }
   ],
   "source": [
    "token"
   ]
  },
  {
   "cell_type": "code",
   "execution_count": 57,
   "metadata": {},
   "outputs": [],
   "source": [
    "lista_h = re_patron.findall( data['content'][103] )\n"
   ]
  },
  {
   "cell_type": "code",
   "execution_count": 58,
   "metadata": {},
   "outputs": [],
   "source": [
    "tokens =  nltk.regexp_tokenize( data['content'][103], pattern )\n",
    "    \n"
   ]
  },
  {
   "cell_type": "code",
   "execution_count": 60,
   "metadata": {},
   "outputs": [],
   "source": [
    "lista_h = [i.replace('#','') for i in lista_h]"
   ]
  },
  {
   "cell_type": "code",
   "execution_count": 61,
   "metadata": {},
   "outputs": [
    {
     "output_type": "execute_result",
     "data": {
      "text/plain": "['gustogourmetburguer', 'arrozchinovalencia', 'valenciagourmet']"
     },
     "metadata": {},
     "execution_count": 61
    }
   ],
   "source": [
    "lista_h"
   ]
  },
  {
   "cell_type": "code",
   "execution_count": 69,
   "metadata": {},
   "outputs": [
    {
     "output_type": "execute_result",
     "data": {
      "text/plain": "[]"
     },
     "metadata": {},
     "execution_count": 69
    }
   ],
   "source": [
    "[tokens.remove(i) for i in lista_h if i in tokens]"
   ]
  },
  {
   "cell_type": "code",
   "execution_count": 67,
   "metadata": {},
   "outputs": [
    {
     "output_type": "execute_result",
     "data": {
      "text/plain": "['Arroz',\n 'chino',\n 'al',\n 'estilo',\n '\"',\n 'Gusto',\n 'Gourmet',\n '\"',\n 'disfruta',\n 'de',\n 'nuestros',\n 'ricos',\n 'combos',\n 'elaborados',\n 'con',\n 'los',\n 'mejores',\n 'ingredientes']"
     },
     "metadata": {},
     "execution_count": 67
    }
   ],
   "source": [
    "tokens"
   ]
  },
  {
   "cell_type": "code",
   "execution_count": 77,
   "metadata": {},
   "outputs": [],
   "source": [
    "content_token, lista_h = find_food(data['content'][103])"
   ]
  },
  {
   "cell_type": "code",
   "execution_count": 79,
   "metadata": {},
   "outputs": [
    {
     "output_type": "execute_result",
     "data": {
      "text/plain": "['gustogourmetburguer', 'arrozchinovalencia', 'valenciagourmet']"
     },
     "metadata": {},
     "execution_count": 79
    }
   ],
   "source": [
    "lista_h"
   ]
  },
  {
   "cell_type": "code",
   "execution_count": 9,
   "metadata": {},
   "outputs": [],
   "source": [
    "from nltk.corpus import stopwords"
   ]
  },
  {
   "cell_type": "code",
   "execution_count": 10,
   "metadata": {},
   "outputs": [],
   "source": [
    "stopwords =  stopwords.words('spanish')"
   ]
  },
  {
   "cell_type": "code",
   "execution_count": 84,
   "metadata": {
    "tags": []
   },
   "outputs": [
    {
     "output_type": "stream",
     "name": "stderr",
     "text": "[nltk_data] Downloading package stopwords to\n[nltk_data]     C:\\Users\\jvent\\AppData\\Roaming\\nltk_data...\n[nltk_data]   Unzipping corpora\\stopwords.zip.\n"
    },
    {
     "output_type": "execute_result",
     "data": {
      "text/plain": "True"
     },
     "metadata": {},
     "execution_count": 84
    }
   ],
   "source": [
    "nltk.download('stopwords')"
   ]
  },
  {
   "cell_type": "code",
   "execution_count": 87,
   "metadata": {},
   "outputs": [],
   "source": [
    "for i in stopwords:\n",
    "    if i in tokens: tokens.remove(i)"
   ]
  },
  {
   "cell_type": "code",
   "execution_count": 98,
   "metadata": {},
   "outputs": [],
   "source": [
    " new_tokens = [i for i in tokens if len(i)>1]"
   ]
  },
  {
   "cell_type": "code",
   "execution_count": 94,
   "metadata": {},
   "outputs": [],
   "source": [
    "tokens = ['Arroz',\n",
    " 'chino',\n",
    " 'estilo',\n",
    " '\"',\n",
    " 'Gusto',\n",
    " 'Gourmet',\n",
    " '\"',\n",
    " 'disfruta',\n",
    " 'ricos',\n",
    " 'combos',\n",
    " 'elaborados',\n",
    " 'mejores',\n",
    " 'ingredientes']"
   ]
  },
  {
   "cell_type": "code",
   "execution_count": 99,
   "metadata": {},
   "outputs": [
    {
     "output_type": "execute_result",
     "data": {
      "text/plain": "['Arroz',\n 'chino',\n 'estilo',\n 'Gusto',\n 'Gourmet',\n 'disfruta',\n 'ricos',\n 'combos',\n 'elaborados',\n 'mejores',\n 'ingredientes']"
     },
     "metadata": {},
     "execution_count": 99
    }
   ],
   "source": [
    "new_tokens"
   ]
  },
  {
   "source": [
    "bigramas para adicionar!"
   ],
   "cell_type": "markdown",
   "metadata": {}
  },
  {
   "cell_type": "code",
   "execution_count": 116,
   "metadata": {},
   "outputs": [],
   "source": [
    "bigrama_list = list(nltk.bigrams(new_tokens))"
   ]
  },
  {
   "cell_type": "code",
   "execution_count": 106,
   "metadata": {},
   "outputs": [],
   "source": [
    "freq = nltk.FreqDist(nltk.bigrams(new_tokens))"
   ]
  },
  {
   "cell_type": "code",
   "execution_count": 115,
   "metadata": {},
   "outputs": [
    {
     "output_type": "execute_result",
     "data": {
      "text/plain": "['Arroz',\n 'chino',\n 'estilo',\n 'Gusto',\n 'Gourmet',\n 'disfruta',\n 'ricos',\n 'combos',\n 'elaborados',\n 'mejores',\n 'ingredientes']"
     },
     "metadata": {},
     "execution_count": 115
    }
   ],
   "source": [
    "new_tokens"
   ]
  },
  {
   "cell_type": "code",
   "execution_count": 119,
   "metadata": {},
   "outputs": [],
   "source": [
    "bigramas = [i[0] + i[1] for i in bigrama_list]    "
   ]
  },
  {
   "cell_type": "code",
   "execution_count": 120,
   "metadata": {},
   "outputs": [
    {
     "output_type": "execute_result",
     "data": {
      "text/plain": "['Arrozchino',\n 'chinoestilo',\n 'estiloGusto',\n 'GustoGourmet',\n 'Gourmetdisfruta',\n 'disfrutaricos',\n 'ricoscombos',\n 'comboselaborados',\n 'elaboradosmejores',\n 'mejoresingredientes']"
     },
     "metadata": {},
     "execution_count": 120
    }
   ],
   "source": [
    "bigramas"
   ]
  },
  {
   "cell_type": "code",
   "execution_count": 123,
   "metadata": {},
   "outputs": [],
   "source": [
    "total_tokens = new_tokens+bigramas+new_token"
   ]
  },
  {
   "cell_type": "code",
   "execution_count": 126,
   "metadata": {},
   "outputs": [
    {
     "output_type": "execute_result",
     "data": {
      "text/plain": "[('Arroz', 1),\n ('chino', 1),\n ('estilo', 1),\n ('Gusto', 1),\n ('Gourmet', 1),\n ('disfruta', 1),\n ('ricos', 1),\n ('combos', 1),\n ('elaborados', 1),\n ('mejores', 1)]"
     },
     "metadata": {},
     "execution_count": 126
    }
   ],
   "source": [
    "freq_total = nltk.FreqDist(total_tokens)\n",
    "freq_total.most_common(10)"
   ]
  },
  {
   "cell_type": "code",
   "execution_count": 129,
   "metadata": {},
   "outputs": [
    {
     "output_type": "execute_result",
     "data": {
      "text/plain": "['Arroz',\n 'chino',\n 'estilo',\n 'Gusto',\n 'Gourmet',\n 'disfruta',\n 'ricos',\n 'combos',\n 'elaborados',\n 'mejores',\n 'ingredientes',\n 'Arrozchino',\n 'chinoestilo',\n 'estiloGusto',\n 'GustoGourmet',\n 'Gourmetdisfruta',\n 'disfrutaricos',\n 'ricoscombos',\n 'comboselaborados',\n 'elaboradosmejores',\n 'mejoresingredientes',\n 'gustogourmetburguer',\n 'arrozchinovalencia',\n 'valenciagourmet']"
     },
     "metadata": {},
     "execution_count": 129
    }
   ],
   "source": [
    "total_tokens"
   ]
  },
  {
   "cell_type": "code",
   "execution_count": 3,
   "metadata": {
    "tags": []
   },
   "outputs": [
    {
     "output_type": "stream",
     "name": "stderr",
     "text": "[nltk_data] Downloading package omw to\n[nltk_data]     C:\\Users\\jvent\\AppData\\Roaming\\nltk_data...\n[nltk_data]   Package omw is already up-to-date!\n"
    }
   ],
   "source": [
    "nltk.download('omw')\n",
    "from nltk.corpus import wordnet as wn"
   ]
  },
  {
   "cell_type": "code",
   "execution_count": null,
   "metadata": {},
   "outputs": [],
   "source": [
    "nltk.download('wordnet')"
   ]
  },
  {
   "cell_type": "code",
   "execution_count": 4,
   "metadata": {},
   "outputs": [],
   "source": [
    "ss = wn.synsets('comida', lang='spa')"
   ]
  },
  {
   "cell_type": "code",
   "execution_count": 5,
   "metadata": {},
   "outputs": [
    {
     "output_type": "execute_result",
     "data": {
      "text/plain": "[Synset(&#39;food.n.01&#39;),\n Synset(&#39;lunching.n.01&#39;),\n Synset(&#39;food.n.02&#39;),\n Synset(&#39;fare.n.04&#39;),\n Synset(&#39;foodstuff.n.02&#39;),\n Synset(&#39;nutriment.n.01&#39;),\n Synset(&#39;meal.n.01&#39;),\n Synset(&#39;lunch.n.01&#39;),\n Synset(&#39;dinner.n.01&#39;),\n Synset(&#39;feed.n.01&#39;)]"
     },
     "metadata": {},
     "execution_count": 5
    }
   ],
   "source": [
    "ss"
   ]
  },
  {
   "cell_type": "code",
   "execution_count": 6,
   "metadata": {},
   "outputs": [],
   "source": [
    "comida = 'arroz'\n",
    "food = 'almuerzo'"
   ]
  },
  {
   "cell_type": "code",
   "execution_count": 9,
   "metadata": {},
   "outputs": [
    {
     "output_type": "execute_result",
     "data": {
      "text/plain": "0.07692307692307693"
     },
     "metadata": {},
     "execution_count": 9
    }
   ],
   "source": [
    "ss2[0].path_similarity(ss1[0])"
   ]
  },
  {
   "cell_type": "code",
   "execution_count": 8,
   "metadata": {},
   "outputs": [],
   "source": [
    "ss = wn.synsets(comida, lang='spa')\n",
    "ss1 = wn.synsets(food, lang='spa')\n",
    "ss2 = wn.synsets('arroz', lang='spa')"
   ]
  },
  {
   "cell_type": "code",
   "execution_count": 10,
   "metadata": {},
   "outputs": [],
   "source": [
    "gourmet = wn.synsets('gourmet', lang='spa')\n",
    "comida = wn.synsets('comida', lang='spa')"
   ]
  },
  {
   "cell_type": "code",
   "execution_count": 14,
   "metadata": {},
   "outputs": [
    {
     "output_type": "error",
     "ename": "IndexError",
     "evalue": "list index out of range",
     "traceback": [
      "\u001b[1;31m---------------------------------------------------------------------------\u001b[0m",
      "\u001b[1;31mIndexError\u001b[0m                                Traceback (most recent call last)",
      "\u001b[1;32m&lt;ipython-input-14-b6d304f4a3f3&gt;\u001b[0m in \u001b[0;36m&lt;module&gt;\u001b[1;34m\u001b[0m\n\u001b[1;32m----&gt; 1\u001b[1;33m \u001b[0mcomida\u001b[0m\u001b[1;33m[\u001b[0m\u001b[1;36m0\u001b[0m\u001b[1;33m]\u001b[0m\u001b[1;33m.\u001b[0m\u001b[0mpath_similarity\u001b[0m\u001b[1;33m(\u001b[0m\u001b[0marroz\u001b[0m\u001b[1;33m[\u001b[0m\u001b[1;36m0\u001b[0m\u001b[1;33m]\u001b[0m\u001b[1;33m)\u001b[0m\u001b[1;33m\u001b[0m\u001b[1;33m\u001b[0m\u001b[0m\n\u001b[0m",
      "\u001b[1;31mIndexError\u001b[0m: list index out of range"
     ]
    }
   ],
   "source": [
    "comida[0].path_similarity(arroz[0])"
   ]
  },
  {
   "cell_type": "code",
   "execution_count": 16,
   "metadata": {},
   "outputs": [
    {
     "output_type": "execute_result",
     "data": {
      "text/plain": "[]"
     },
     "metadata": {},
     "execution_count": 16
    }
   ],
   "source": [
    "arroz = wn.synsets('empanadas', lang='spa')\n",
    "arroz"
   ]
  },
  {
   "cell_type": "code",
   "execution_count": null,
   "metadata": {},
   "outputs": [],
   "source": []
  },
  {
   "cell_type": "code",
   "execution_count": null,
   "metadata": {},
   "outputs": [],
   "source": []
  }
 ]
}